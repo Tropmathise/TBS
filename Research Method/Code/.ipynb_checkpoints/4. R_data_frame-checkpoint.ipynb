{
 "cells": [
  {
   "cell_type": "markdown",
   "id": "675f808b",
   "metadata": {},
   "source": [
    "### 4. Data frame\n",
    "\n",
    "**Data frame** is an object to efficiently handle data in a tabular form, where each row corresponds to an observation and each column to a variable. The **data frame** object provides column labeling as well as flexible indexing capabilities for the rows of the data set — similar to an Excel spreadsheet. Let's create a **data frame** object using **data.frame()** (https://stat.ethz.ch/R-manual/R-devel/library/base/html/data.frame.html) function:"
   ]
  },
  {
   "cell_type": "code",
   "execution_count": 5,
   "id": "184de16c",
   "metadata": {
    "scrolled": true
   },
   "outputs": [
    {
     "data": {
      "text/html": [
       "<table>\n",
       "<thead><tr><th></th><th scope=col>Integers</th><th scope=col>Double</th></tr></thead>\n",
       "<tbody>\n",
       "\t<tr><th scope=row>a</th><td>6  </td><td>6.5</td></tr>\n",
       "\t<tr><th scope=row>b</th><td>7  </td><td>7.5</td></tr>\n",
       "\t<tr><th scope=row>c</th><td>8  </td><td>8.5</td></tr>\n",
       "\t<tr><th scope=row>d</th><td>9  </td><td>9.5</td></tr>\n",
       "</tbody>\n",
       "</table>\n"
      ],
      "text/latex": [
       "\\begin{tabular}{r|ll}\n",
       "  & Integers & Double\\\\\n",
       "\\hline\n",
       "\ta & 6   & 6.5\\\\\n",
       "\tb & 7   & 7.5\\\\\n",
       "\tc & 8   & 8.5\\\\\n",
       "\td & 9   & 9.5\\\\\n",
       "\\end{tabular}\n"
      ],
      "text/markdown": [
       "\n",
       "| <!--/--> | Integers | Double |\n",
       "|---|---|---|\n",
       "| a | 6   | 6.5 |\n",
       "| b | 7   | 7.5 |\n",
       "| c | 8   | 8.5 |\n",
       "| d | 9   | 9.5 |\n",
       "\n"
      ],
      "text/plain": [
       "  Integers Double\n",
       "a 6        6.5   \n",
       "b 7        7.5   \n",
       "c 8        8.5   \n",
       "d 9        9.5   "
      ]
     },
     "metadata": {},
     "output_type": "display_data"
    }
   ],
   "source": [
    "df = data.frame(Integers=6:9, Double=6:9+0.5, row.names=c('a','b', 'c', 'd'))\n",
    "df"
   ]
  },
  {
   "cell_type": "code",
   "execution_count": null,
   "id": "b9000d48",
   "metadata": {},
   "outputs": [],
   "source": [
    "class(df)"
   ]
  },
  {
   "cell_type": "markdown",
   "id": "4206afb2",
   "metadata": {},
   "source": [
    "This simple example already shows some major features of the **data frame** class when it comes to storing data:\n",
    "\n",
    "* **Data**: data itself can be provided in different shapes and types (**list**, **vector** and **matrix**);\n",
    "* **Labels**: data is organized in columns, which can have custom names;\n",
    "* **Index**: there is an index that can take on different formats (e.g., numbers, strings, time information).\n",
    "\n",
    "!!!Working with a **DataFrame** object is convenient and efficient, compared to regular **ndarray** objects, which are more specialized and more restricted when it comes to enlarging an existing object. At the same time, **DataFrame** objects are computationally as efficient as **ndarray** objects. The following are simple examples showing how typical operations and attributes on a **DataFrame** object work:"
   ]
  },
  {
   "cell_type": "code",
   "execution_count": null,
   "id": "7cd3e23c",
   "metadata": {},
   "outputs": [],
   "source": [
    "print(   row.names(df)   )"
   ]
  },
  {
   "cell_type": "code",
   "execution_count": null,
   "id": "a4329f17",
   "metadata": {},
   "outputs": [],
   "source": [
    "print(   names(df)   )"
   ]
  },
  {
   "cell_type": "code",
   "execution_count": null,
   "id": "bc63818e",
   "metadata": {},
   "outputs": [],
   "source": [
    "df['c',]"
   ]
  },
  {
   "cell_type": "code",
   "execution_count": null,
   "id": "4136a55d",
   "metadata": {},
   "outputs": [],
   "source": [
    "df[c('a', 'b'),]"
   ]
  },
  {
   "cell_type": "code",
   "execution_count": null,
   "id": "5ec4fc57",
   "metadata": {},
   "outputs": [],
   "source": [
    "df[1:3,]"
   ]
  },
  {
   "cell_type": "code",
   "execution_count": null,
   "id": "dd1795c3",
   "metadata": {},
   "outputs": [],
   "source": [
    "df[c(2, 1),]"
   ]
  },
  {
   "cell_type": "code",
   "execution_count": null,
   "id": "a5761466",
   "metadata": {},
   "outputs": [],
   "source": [
    "print(   df$Integers   )"
   ]
  },
  {
   "cell_type": "markdown",
   "id": "eb911a46",
   "metadata": {},
   "source": [
    "You can apply almost any function to be performed on the values in the **data frame**:"
   ]
  },
  {
   "cell_type": "code",
   "execution_count": null,
   "id": "2cb49e66",
   "metadata": {},
   "outputs": [],
   "source": [
    "sqrt(df)"
   ]
  },
  {
   "cell_type": "code",
   "execution_count": null,
   "id": "0fe7fb36",
   "metadata": {},
   "outputs": [],
   "source": [
    "df ^ 2"
   ]
  },
  {
   "cell_type": "markdown",
   "id": "b781e627",
   "metadata": {},
   "source": [
    "Enlarging the **data frame** object in both dimensions is possible using **cbind()** and **rbind()** (https://stat.ethz.ch/R-manual/R-devel/library/base/html/cbind.html) functions:"
   ]
  },
  {
   "cell_type": "code",
   "execution_count": null,
   "id": "e0dc6eab",
   "metadata": {},
   "outputs": [],
   "source": [
    "df = cbind(df, Names=c('John', 'Tom', 'Sarrah', 'Kyle'), stringsAsFactors=FALSE)\n",
    "df"
   ]
  },
  {
   "cell_type": "markdown",
   "id": "a2d3e9fc",
   "metadata": {},
   "source": [
    "You can define a new column directly:"
   ]
  },
  {
   "cell_type": "code",
   "execution_count": null,
   "id": "529a2bc4",
   "metadata": {
    "scrolled": true
   },
   "outputs": [],
   "source": [
    "df$Cities = c('Paris', 'London', 'Tokyo', 'Los Angeles')\n",
    "df"
   ]
  },
  {
   "cell_type": "code",
   "execution_count": null,
   "id": "bdcaa2eb",
   "metadata": {},
   "outputs": [],
   "source": [
    "df = rbind(df, e=list(10, 10.5, 'Peter', 'Mumbai'))\n",
    "df"
   ]
  },
  {
   "cell_type": "markdown",
   "id": "b8808da5",
   "metadata": {
    "scrolled": false
   },
   "source": [
    "You can also add a new row by creating a new **data frame** object:"
   ]
  },
  {
   "cell_type": "code",
   "execution_count": null,
   "id": "a611a7db",
   "metadata": {},
   "outputs": [],
   "source": [
    "new_row = data.frame(Integers=11, Double=11.5, Names='Nick', Cities='New York', row.names='f')\n",
    "df = rbind(df, new_row)\n",
    "df"
   ]
  },
  {
   "cell_type": "markdown",
   "id": "61bce6b6",
   "metadata": {},
   "source": [
    "Column and row sums and means can be calculated using (https://stat.ethz.ch/R-manual/R-devel/library/base/html/colSums.html):"
   ]
  },
  {
   "cell_type": "code",
   "execution_count": null,
   "id": "e8a634a3",
   "metadata": {},
   "outputs": [],
   "source": [
    "colSums(   df[c('Integers', 'Double')]   )"
   ]
  },
  {
   "cell_type": "code",
   "execution_count": null,
   "id": "279754c9",
   "metadata": {
    "scrolled": false
   },
   "outputs": [],
   "source": [
    "rowMeans(   df[c('Integers', 'Double')]   )"
   ]
  },
  {
   "cell_type": "markdown",
   "id": "99b663e4",
   "metadata": {},
   "source": [
    "**_Looping through rows and columns of a data frame._** For this you will need **rownames()** and **colnames()** (https://stat.ethz.ch/R-manual/R-devel/library/base/html/colnames.html) functions:"
   ]
  },
  {
   "cell_type": "code",
   "execution_count": null,
   "id": "4a460379",
   "metadata": {},
   "outputs": [],
   "source": [
    "for (row in rownames(df)){\n",
    "    print(   df[row,]   )\n",
    "}"
   ]
  },
  {
   "cell_type": "code",
   "execution_count": null,
   "id": "0df087c6",
   "metadata": {},
   "outputs": [],
   "source": [
    "for (column in colnames(df)){\n",
    "    print(   df[column]   )\n",
    "}"
   ]
  },
  {
   "cell_type": "markdown",
   "id": "6dc287ff",
   "metadata": {},
   "source": [
    "**_Deleting rows and columns._** Columns in R **data frame** are deleted or kept using **subset()** (https://stat.ethz.ch/R-manual/R-devel/library/base/html/subset.html) function:"
   ]
  },
  {
   "cell_type": "code",
   "execution_count": null,
   "id": "fb419a4e",
   "metadata": {},
   "outputs": [],
   "source": [
    "df"
   ]
  },
  {
   "cell_type": "markdown",
   "id": "a95e7492",
   "metadata": {},
   "source": [
    "Keep _'Integer'_ and _'Double'_ columns:"
   ]
  },
  {
   "cell_type": "code",
   "execution_count": null,
   "id": "dff64d22",
   "metadata": {
    "scrolled": true
   },
   "outputs": [],
   "source": [
    "df_1 = subset(df, select=c('Integers', 'Double'))\n",
    "df_1"
   ]
  },
  {
   "cell_type": "markdown",
   "id": "c6734a3c",
   "metadata": {},
   "source": [
    "Delete _'Cities'_ column. Note that inside **subset()** (https://stat.ethz.ch/R-manual/R-devel/library/base/html/subset.html) function column names go without _'quotes'_:"
   ]
  },
  {
   "cell_type": "code",
   "execution_count": null,
   "id": "372414f8",
   "metadata": {
    "scrolled": true
   },
   "outputs": [],
   "source": [
    "df_2 = subset(df, select=-Cities)\n",
    "df_2"
   ]
  },
  {
   "cell_type": "markdown",
   "id": "7cb67931",
   "metadata": {},
   "source": [
    "You cannot actually delete a row in R **data frame**, but you can access the **data frame** without some rows specified:"
   ]
  },
  {
   "cell_type": "code",
   "execution_count": null,
   "id": "d0383b54",
   "metadata": {
    "scrolled": true
   },
   "outputs": [],
   "source": [
    "df_3 = df[c(1,4,5),]\n",
    "df_3"
   ]
  },
  {
   "cell_type": "code",
   "execution_count": null,
   "id": "07501d9d",
   "metadata": {},
   "outputs": [],
   "source": [
    "df_3 = df[-(2:4),]\n",
    "df_3"
   ]
  },
  {
   "cell_type": "markdown",
   "id": "ad8307b8",
   "metadata": {},
   "source": [
    "It becomes a bit more complicated when dealing with row names of a **data frame**:"
   ]
  },
  {
   "cell_type": "code",
   "execution_count": null,
   "id": "327043b7",
   "metadata": {},
   "outputs": [],
   "source": [
    "df_4 = df[(row.names(df) %in% c('a','b','d')),]\n",
    "df_4"
   ]
  },
  {
   "cell_type": "code",
   "execution_count": null,
   "id": "45705066",
   "metadata": {},
   "outputs": [],
   "source": [
    "df_5 = df[!(row.names(df) %in% c('e','f')),]\n",
    "df_5"
   ]
  },
  {
   "cell_type": "markdown",
   "id": "f4faacb8",
   "metadata": {},
   "source": [
    "You can select rows based on certain criteria:"
   ]
  },
  {
   "cell_type": "code",
   "execution_count": null,
   "id": "5961b28f",
   "metadata": {},
   "outputs": [],
   "source": [
    "df_6 = df[df['Integers'] > 7,]\n",
    "df_6"
   ]
  },
  {
   "cell_type": "markdown",
   "id": "72a1b43a",
   "metadata": {},
   "source": [
    "To delete rows with missing values, let's first create some missing data:"
   ]
  },
  {
   "cell_type": "code",
   "execution_count": null,
   "id": "3328413c",
   "metadata": {},
   "outputs": [],
   "source": [
    "df['f',] = list(NA, NA, NA, NA)\n",
    "df['e', 'Names'] = NA\n",
    "df"
   ]
  },
  {
   "cell_type": "markdown",
   "id": "61869c7f",
   "metadata": {},
   "source": [
    "**Na.omit()** (https://stat.ethz.ch/R-manual/R-devel/library/stats/html/na.fail.html) function deletes the rows with at least one missing value:"
   ]
  },
  {
   "cell_type": "code",
   "execution_count": null,
   "id": "6bf4944f",
   "metadata": {},
   "outputs": [],
   "source": [
    "df_7 = na.omit(df)\n",
    "df_7"
   ]
  },
  {
   "cell_type": "markdown",
   "id": "a46602b7",
   "metadata": {},
   "source": [
    "Deleting only rows that have all the columns missing is a bit more complicated:"
   ]
  },
  {
   "cell_type": "code",
   "execution_count": null,
   "id": "2108926a",
   "metadata": {
    "scrolled": true
   },
   "outputs": [],
   "source": [
    "df_8 = df[rowSums(is.na(df)) != ncol(df),]\n",
    "df_8"
   ]
  },
  {
   "cell_type": "markdown",
   "id": "a9b84e1a",
   "metadata": {},
   "source": [
    "You can delete rows if a specific column has a missing value:"
   ]
  },
  {
   "cell_type": "code",
   "execution_count": null,
   "id": "44eeace4",
   "metadata": {},
   "outputs": [],
   "source": [
    "df_9 = df[!is.na(   df['Cities']   ),]\n",
    "df_9"
   ]
  },
  {
   "cell_type": "markdown",
   "id": "9ac259c5",
   "metadata": {},
   "source": [
    "**_Creating random DataFrame object._** The following example is based on an **matrix** object with standard normally distributed random numbers, obtained using **rnorm()** (https://stat.ethz.ch/R-manual/R-devel/library/stats/html/Normal.html) function:"
   ]
  },
  {
   "cell_type": "code",
   "execution_count": null,
   "id": "340a9a1a",
   "metadata": {},
   "outputs": [],
   "source": [
    "set.seed(6)\n",
    "data = matrix(rnorm(40, 0, 1), nrow=10)\n",
    "print(data)"
   ]
  },
  {
   "cell_type": "markdown",
   "id": "4dd9ec46",
   "metadata": {},
   "source": [
    "Although one can construct **data frame** objects more directly (as seen before), using a **matrix** is also a good choice since R will retain the basic structure and will only add index values and column names:"
   ]
  },
  {
   "cell_type": "code",
   "execution_count": null,
   "id": "4edf0e76",
   "metadata": {},
   "outputs": [],
   "source": [
    "df_10 = data.frame(data)\n",
    "df_10"
   ]
  },
  {
   "cell_type": "markdown",
   "id": "9904ff4f",
   "metadata": {},
   "source": [
    "**Data frame** column names can be defined directly by assigning a **vector** object with the right number of elements. This illustrates that one can define/change the attributes of the **data frame** object easily:"
   ]
  },
  {
   "cell_type": "code",
   "execution_count": null,
   "id": "d259da30",
   "metadata": {},
   "outputs": [],
   "source": [
    "colnames(df_10) = c('Col1', 'Col2', 'Col3', 'Col4')\n",
    "df_10"
   ]
  },
  {
   "cell_type": "markdown",
   "id": "c876971f",
   "metadata": {},
   "source": [
    "To work with financial time series data efficiently, one must be able to handle time indices well. For example, assume that our ten data entries in the four columns correspond to month-end data, beginning in December 2019. A **Date** object is generated with the **seq()** (https://stat.ethz.ch/R-manual/R-devel/library/base/html/seq.Date.html) function as follows. _Notice that to create end of the month dates, you have to start with the next day and deduct 1 day_:"
   ]
  },
  {
   "cell_type": "code",
   "execution_count": null,
   "id": "4212c934",
   "metadata": {},
   "outputs": [],
   "source": [
    "dates = seq(as.Date(\"2020-01-01\"), by = \"month\", length.out=10)-1\n",
    "print(dates)"
   ]
  },
  {
   "cell_type": "markdown",
   "id": "412613b0",
   "metadata": {},
   "source": [
    "The following code assigns the just created **Date** object as the relevant index object, making a time series of the original data set:"
   ]
  },
  {
   "cell_type": "code",
   "execution_count": null,
   "id": "f94c982b",
   "metadata": {},
   "outputs": [],
   "source": [
    "row.names(df_10) = dates\n",
    "df_10"
   ]
  },
  {
   "cell_type": "markdown",
   "id": "4f09aa9e",
   "metadata": {},
   "source": [
    "Many useful functions can be applied to a **data frame** object. Consider the **dim()** (https://stat.ethz.ch/R-manual/R-devel/library/base/html/dim.html), **head()** (https://stat.ethz.ch/R-manual/R-devel/library/utils/html/head.html) and **summary()** (https://stat.ethz.ch/R-manual/R-devel/library/base/html/summary.html) functions:"
   ]
  },
  {
   "cell_type": "code",
   "execution_count": null,
   "id": "44162921",
   "metadata": {},
   "outputs": [],
   "source": [
    "dim(df_10)"
   ]
  },
  {
   "cell_type": "code",
   "execution_count": null,
   "id": "d2e2fb5b",
   "metadata": {
    "scrolled": true
   },
   "outputs": [],
   "source": [
    "head(df_10)"
   ]
  },
  {
   "cell_type": "code",
   "execution_count": null,
   "id": "2e685402",
   "metadata": {},
   "outputs": [],
   "source": [
    "summary(df_10)"
   ]
  },
  {
   "cell_type": "markdown",
   "id": "c9d65941",
   "metadata": {},
   "source": [
    "In addition, one can easily get the column-wise or row-wise sums, means, and cumulative sums as shown below using **apply()** (https://stat.ethz.ch/R-manual/R-devel/library/base/html/apply.html) functione:"
   ]
  },
  {
   "cell_type": "code",
   "execution_count": null,
   "id": "60996246",
   "metadata": {
    "scrolled": false
   },
   "outputs": [],
   "source": [
    "apply(df_10, 2, sum)"
   ]
  },
  {
   "cell_type": "code",
   "execution_count": null,
   "id": "28ff8601",
   "metadata": {},
   "outputs": [],
   "source": [
    "apply(df_10, 1, sum)"
   ]
  },
  {
   "cell_type": "code",
   "execution_count": null,
   "id": "8e2479d7",
   "metadata": {},
   "outputs": [],
   "source": [
    "apply(df_10, 2, mean)"
   ]
  },
  {
   "cell_type": "code",
   "execution_count": null,
   "id": "69f3300f",
   "metadata": {},
   "outputs": [],
   "source": [
    "apply(df_10, 2, sd)"
   ]
  },
  {
   "cell_type": "code",
   "execution_count": null,
   "id": "18a2d328",
   "metadata": {},
   "outputs": [],
   "source": [
    "apply(df_10, 2, cumsum)"
   ]
  },
  {
   "cell_type": "code",
   "execution_count": null,
   "id": "cfebf21b",
   "metadata": {},
   "outputs": [],
   "source": [
    "apply(df_10, 1, cumsum)"
   ]
  },
  {
   "cell_type": "markdown",
   "id": "b8719ade",
   "metadata": {},
   "source": [
    "When working with **data frames** in R, make sure to handle **NaN** cases before performing mathematical operations - this way you can also work with incomplete data sets as if they were complete in a number of cases:"
   ]
  },
  {
   "cell_type": "code",
   "execution_count": null,
   "id": "aa3d42f7",
   "metadata": {},
   "outputs": [],
   "source": [
    "log(df_10)"
   ]
  },
  {
   "cell_type": "markdown",
   "id": "25d46139",
   "metadata": {},
   "source": [
    "Since it is impossible to calcualte log() of a negative number, we receive **NaN** in many cases:"
   ]
  },
  {
   "cell_type": "code",
   "execution_count": null,
   "id": "d91f6210",
   "metadata": {
    "scrolled": true
   },
   "outputs": [],
   "source": [
    "apply(   log(df_10), 2, sum   )"
   ]
  },
  {
   "cell_type": "markdown",
   "id": "cf1944fc",
   "metadata": {},
   "source": [
    "R will ignore **NaN** cases if you pass **na.rm=TRUE** argument inside the **apply()** (https://stat.ethz.ch/R-manual/R-devel/library/base/html/apply.html) function:"
   ]
  },
  {
   "cell_type": "code",
   "execution_count": null,
   "id": "afba3b95",
   "metadata": {},
   "outputs": [],
   "source": [
    "apply(   log(df_10), 2, sum, na.rm=TRUE   )"
   ]
  },
  {
   "cell_type": "markdown",
   "id": "a4992c6c",
   "metadata": {},
   "source": [
    "To recap different ways we can perform calculations on **pandas** **DataFrame**, look at the following:"
   ]
  },
  {
   "cell_type": "code",
   "execution_count": null,
   "id": "90dea652",
   "metadata": {},
   "outputs": [],
   "source": [
    "head(   exp(df_10)   )"
   ]
  },
  {
   "cell_type": "code",
   "execution_count": null,
   "id": "6279cddf",
   "metadata": {},
   "outputs": [],
   "source": [
    "head(   apply(df_10, 2, exp)   )"
   ]
  },
  {
   "cell_type": "markdown",
   "id": "fd11dd44",
   "metadata": {},
   "source": [
    "**_Basic plotting._** Plotting of data (to be discussed later) is only one line of code away using **plot()** (https://stat.ethz.ch/R-manual/R-devel/library/graphics/html/plot.default.html) function:"
   ]
  },
  {
   "cell_type": "code",
   "execution_count": null,
   "id": "c17c45ae",
   "metadata": {
    "scrolled": true
   },
   "outputs": [],
   "source": [
    "df"
   ]
  },
  {
   "cell_type": "code",
   "execution_count": null,
   "id": "76bb52e8",
   "metadata": {},
   "outputs": [],
   "source": [
    "#The line below sets the size of the plot\n",
    "options(repr.plot.width=3, repr.plot.height=3)\n",
    "\n",
    "plot(df$Integers)"
   ]
  },
  {
   "cell_type": "code",
   "execution_count": null,
   "id": "55f58294",
   "metadata": {
    "scrolled": true
   },
   "outputs": [],
   "source": [
    "plot(df$Integers, df$Double, type='h')"
   ]
  },
  {
   "cell_type": "code",
   "execution_count": null,
   "id": "834c2812",
   "metadata": {},
   "outputs": [],
   "source": [
    "plot()"
   ]
  },
  {
   "cell_type": "code",
   "execution_count": null,
   "id": "9cdda481",
   "metadata": {},
   "outputs": [],
   "source": [
    "plot(df$Integers, df$Double,\n",
    "     type='b',\n",
    "     main=\"A basic plot\",\n",
    "     xlab=\"Integer\",\n",
    "     ylab=\"Double\")"
   ]
  },
  {
   "cell_type": "markdown",
   "id": "465e6176",
   "metadata": {},
   "source": [
    "**_Data grouping._** You can split the data into subsets and compute summary statistics for each using **aggregate()** (https://stat.ethz.ch/R-manual/R-devel/library/stats/html/aggregate.html) function. But first, you need to create a new variable to group by:"
   ]
  },
  {
   "cell_type": "code",
   "execution_count": null,
   "id": "8847be25",
   "metadata": {},
   "outputs": [],
   "source": [
    "df"
   ]
  },
  {
   "cell_type": "code",
   "execution_count": null,
   "id": "0e6ad1dc",
   "metadata": {},
   "outputs": [],
   "source": [
    "df['Continent'] = c('Europe', 'Europe', 'Asia', 'America', 'Asia', 'Other')\n",
    "df"
   ]
  },
  {
   "cell_type": "markdown",
   "id": "9e90b7a0",
   "metadata": {},
   "source": [
    "The code below groups by the **Continent** column and outputs statistics for the single groups:"
   ]
  },
  {
   "cell_type": "code",
   "execution_count": null,
   "id": "ed60d0a2",
   "metadata": {},
   "outputs": [],
   "source": [
    "aggregate(   df[c('Integers', 'Double')], by=list(df$Continent), FUN=sum, na.rm=TRUE  )"
   ]
  },
  {
   "cell_type": "markdown",
   "id": "ef63ac6e",
   "metadata": {},
   "source": [
    "You can also group by more than one variable. For illustration purposes, let's create a new column called **Order**:"
   ]
  },
  {
   "cell_type": "code",
   "execution_count": null,
   "id": "b6fd0b81",
   "metadata": {},
   "outputs": [],
   "source": [
    "df['Order'] = c(1, 2, 1, 2, 1, 2)\n",
    "df"
   ]
  },
  {
   "cell_type": "markdown",
   "id": "41a28e83",
   "metadata": {},
   "source": [
    "Let's group by **Continent** and **Order** and calculate averages across the groups:"
   ]
  },
  {
   "cell_type": "code",
   "execution_count": null,
   "id": "87b33a89",
   "metadata": {},
   "outputs": [],
   "source": [
    "aggregate(   df[c('Integers', 'Double')], by=list(df$Continent, df$Order), FUN=mean, na.rm=TRUE  )"
   ]
  },
  {
   "cell_type": "markdown",
   "id": "21c05491",
   "metadata": {},
   "source": [
    "**_Combining data frame objects_**. The following examples walk you through different approaches to combine two simple data sets in the form of **data frame** objects. The two simple data sets are:"
   ]
  },
  {
   "cell_type": "code",
   "execution_count": null,
   "id": "13ed2663",
   "metadata": {
    "scrolled": true
   },
   "outputs": [],
   "source": [
    "df_11 = data.frame(One=c(50, 60, 70, 80), row.names=c('a', 'b', 'c', 'd'))\n",
    "df_11"
   ]
  },
  {
   "cell_type": "code",
   "execution_count": null,
   "id": "a3f62c14",
   "metadata": {
    "scrolled": true
   },
   "outputs": [],
   "source": [
    "df_12 = data.frame(Two=c(60, 55, 25), row.names=c('f', 'b', 'd'))\n",
    "df_12"
   ]
  },
  {
   "cell_type": "markdown",
   "id": "e49c6d2c",
   "metadata": {},
   "source": [
    "**Date frames** can be combined using **merge()** (https://stat.ethz.ch/R-manual/R-devel/library/base/html/merge.html) function. The arguments **by.x** and **by.y** specifiy the columns used for merging (0 means index):"
   ]
  },
  {
   "cell_type": "code",
   "execution_count": null,
   "id": "e806db82",
   "metadata": {},
   "outputs": [],
   "source": [
    "merge(df_11, df_12, by.x=0, by.y=0)"
   ]
  },
  {
   "cell_type": "code",
   "execution_count": null,
   "id": "63823160",
   "metadata": {
    "scrolled": false
   },
   "outputs": [],
   "source": [
    "merge(df_11, df_12, by.x=0, by.y=0, all=TRUE)"
   ]
  },
  {
   "cell_type": "code",
   "execution_count": null,
   "id": "cc93e9a8",
   "metadata": {},
   "outputs": [],
   "source": [
    "merge(df_11, df_12, by.x=0, by.y=0, all.x=TRUE)"
   ]
  },
  {
   "cell_type": "code",
   "execution_count": null,
   "id": "cd9cc7bb",
   "metadata": {
    "scrolled": true
   },
   "outputs": [],
   "source": [
    "merge(df_11, df_12, by.x=0, by.y=0, all.y=TRUE)"
   ]
  },
  {
   "cell_type": "markdown",
   "id": "065a107a",
   "metadata": {},
   "source": [
    "If you merge the column **One** from _df_11_ with column **Two** from _df_12_, you will get only one value, because only number 60 is common between these two columns:"
   ]
  },
  {
   "cell_type": "code",
   "execution_count": null,
   "id": "311ac53e",
   "metadata": {},
   "outputs": [],
   "source": [
    "merge(df_11, df_12, by.x='One', by.y='Two')"
   ]
  },
  {
   "cell_type": "markdown",
   "id": "a5f81809",
   "metadata": {},
   "source": [
    "**_Exercises._**"
   ]
  },
  {
   "cell_type": "markdown",
   "id": "60e7dfca",
   "metadata": {},
   "source": [
    "Exercise 1. Given the expected return vector and variance-covariance matrix, generate 5 years of return data for 3 stocks, starting September 2015. Create a **data frame** with proper column and row labels."
   ]
  },
  {
   "cell_type": "code",
   "execution_count": null,
   "id": "493c84cf",
   "metadata": {},
   "outputs": [],
   "source": [
    "ret = c(0.02518719, 0.02427579, 0.02552088)\n",
    "cov = c(0.00493731, 0.00306012, 0.00263865,\n",
    "        0.00306012, 0.00655305, 0.00341754,\n",
    "        0.00263865, 0.00341754, 0.0040089)\n",
    "\n",
    "cov = matrix(cov, nrow=3)"
   ]
  },
  {
   "cell_type": "markdown",
   "id": "45e73b6d",
   "metadata": {},
   "source": [
    "Exercise 2. Using the **DataFrame** from previous exercise, display the main statistics (average return, standard deviation etc.)."
   ]
  },
  {
   "cell_type": "code",
   "execution_count": null,
   "id": "d55b90a1",
   "metadata": {},
   "outputs": [],
   "source": []
  }
 ],
 "metadata": {
  "kernelspec": {
   "display_name": "R",
   "language": "R",
   "name": "ir"
  },
  "language_info": {
   "codemirror_mode": "r",
   "file_extension": ".r",
   "mimetype": "text/x-r-source",
   "name": "R",
   "pygments_lexer": "r",
   "version": "3.6.1"
  }
 },
 "nbformat": 4,
 "nbformat_minor": 5
}
