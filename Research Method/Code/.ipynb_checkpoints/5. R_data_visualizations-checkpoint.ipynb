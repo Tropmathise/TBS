{
 "cells": [
  {
   "cell_type": "markdown",
   "id": "3d8dc687",
   "metadata": {},
   "source": [
    "### 5. Data visualizations\n",
    "\n",
    "Plotting in R is implemented using **plot()** (https://stat.ethz.ch/R-manual/R-devel/library/graphics/html/plot.default.html) function. You can provide either both **x** and **y** values, or just **y** values, in which case the **x** values will just start with 1. Consider the following code:"
   ]
  },
  {
   "cell_type": "code",
   "execution_count": 1,
   "id": "8b23a703",
   "metadata": {
    "scrolled": false
   },
   "outputs": [
    {
     "data": {
      "image/png": "[encoded data removed]",
      "text/plain": [
       "plot without title"
      ]
     },
     "metadata": {},
     "output_type": "display_data"
    }
   ],
   "source": [
    "#The line below sets the size of the plot\n",
    "options(repr.plot.width=6, repr.plot.height=4)\n",
    "\n",
    "set.seed(1)\n",
    "y = rnorm(20, 0, 1)\n",
    "plot(y)"
   ]
  },
  {
   "cell_type": "markdown",
   "id": "3f5a409b",
   "metadata": {},
   "source": [
    "By default, **plot()** (https://stat.ethz.ch/R-manual/R-devel/library/graphics/html/plot.default.html) function implements a scatterplot, even if discrete data points are provided. The plotting of discrete points is accomplished by choosing a different **type** option. Moreover, in the following, the x-axis goes from 101 to 120:"
   ]
  },
  {
   "cell_type": "code",
   "execution_count": null,
   "id": "a87c26e0",
   "metadata": {
    "scrolled": false
   },
   "outputs": [],
   "source": [
    "x = seq(101, 120)\n",
    "plot(x, y, type='l')"
   ]
  },
  {
   "cell_type": "markdown",
   "id": "1ddb844a",
   "metadata": {},
   "source": [
    "You can pass a function output as argument in the **plot()** (https://stat.ethz.ch/R-manual/R-devel/library/graphics/html/plot.default.html) function. For example, the **cumsum()** (https://stat.ethz.ch/R-manual/R-devel/library/base/html/cumsum.html) function will give cumulative sum of the data, which, when plotted, looks like this:"
   ]
  },
  {
   "cell_type": "code",
   "execution_count": null,
   "id": "ee659244",
   "metadata": {},
   "outputs": [],
   "source": [
    "plot(cumsum(y), type='l')"
   ]
  },
  {
   "cell_type": "markdown",
   "id": "a633e0fa",
   "metadata": {},
   "source": [
    "You can customize many parameters with the **plot()** (https://stat.ethz.ch/R-manual/R-devel/library/graphics/html/plot.default.html) function, such as axis names and ranges, graph title, type of the plot and more:"
   ]
  },
  {
   "cell_type": "code",
   "execution_count": null,
   "id": "abc9d318",
   "metadata": {
    "scrolled": false
   },
   "outputs": [],
   "source": [
    "plot(cumsum(y),\n",
    "     type='l',\n",
    "     main=\"Title of the plot\",\n",
    "     xlab=\"x-axis\",\n",
    "     ylab=\"y-axis\")"
   ]
  },
  {
   "cell_type": "code",
   "execution_count": null,
   "id": "952794a9",
   "metadata": {
    "scrolled": false
   },
   "outputs": [],
   "source": [
    "plot(cumsum(y),\n",
    "     type='l',\n",
    "     main=\"Title of the plot\",\n",
    "     xlab=\"x-axis\",\n",
    "     ylab=\"y-axis\",\n",
    "     xlim=c(-5,25),\n",
    "     #For the ylim below. If y1 > y2, the y-axis is reversed\n",
    "     ylim=c(5,-2),\n",
    "     col='blue')"
   ]
  },
  {
   "cell_type": "markdown",
   "id": "210ccb7c",
   "metadata": {},
   "source": [
    "You can add grid lines to the plot using **grid** (https://stat.ethz.ch/R-manual/R-devel/library/graphics/html/grid.html) function and a line using **abline()** (https://www.rdocumentation.org/packages/graphics/versions/3.6.2/topics/abline) function:"
   ]
  },
  {
   "cell_type": "code",
   "execution_count": null,
   "id": "12e6ced5",
   "metadata": {},
   "outputs": [],
   "source": [
    "plot(cumsum(y),\n",
    "     type='l',\n",
    "     main=\"Title of the plot\",\n",
    "     xlab=\"x-axis\",\n",
    "     ylab=\"y-axis\",\n",
    "     xlim=c(-5,25),\n",
    "     #For the ylim below. If y1 > y2, the y-axis is reversed\n",
    "     ylim=c(5,-2),\n",
    "     col='blue')\n",
    "grid()\n",
    "abline(0.5, 0, col='red')"
   ]
  },
  {
   "cell_type": "markdown",
   "id": "b9186cb0",
   "metadata": {},
   "source": [
    "With the help of **par()** (https://stat.ethz.ch/R-manual/R-patched/library/graphics/html/par.html) function, you can plot typical label overlays (red points) and a (blue) line with width of 2:"
   ]
  },
  {
   "cell_type": "code",
   "execution_count": null,
   "id": "edd44f1f",
   "metadata": {},
   "outputs": [],
   "source": [
    "plot(cumsum(y), type='l', col='blue', lwd=2)\n",
    "par(new=TRUE)\n",
    "plot(cumsum(y), type='p', col='red', pch=16)"
   ]
  },
  {
   "cell_type": "markdown",
   "id": "ae9b1ccc",
   "metadata": {},
   "source": [
    "Any color abbreviation can be combined with any style character. In this way, one can make sure that different data sets are easily distinguished. Various color and shape codes can be found here: https://r-coder.com/plot-r/.\n",
    "\n",
    "The following code generates a two-dimensional sample data set as a **matrix** object of shape 20×2 with standard normally distributed pseudo-random numbers. On this **matrix**, the cumulative sum of the sample data along axis 2 is calculated:"
   ]
  },
  {
   "cell_type": "code",
   "execution_count": null,
   "id": "a92215b7",
   "metadata": {
    "scrolled": false
   },
   "outputs": [],
   "source": [
    "set.seed(2)\n",
    "z = matrix(rnorm(40), ncol=2)\n",
    "z = apply(   z, 2, cumsum   )\n",
    "print(z)"
   ]
  },
  {
   "cell_type": "markdown",
   "id": "d9365e2e",
   "metadata": {},
   "source": [
    "Plotting more than one dataset, will result in R displaying axes for each dataset:"
   ]
  },
  {
   "cell_type": "code",
   "execution_count": null,
   "id": "b35e6278",
   "metadata": {},
   "outputs": [],
   "source": [
    "plot(z[,1], col='blue', type='l', lwd=2)\n",
    "par(new=TRUE)\n",
    "plot(z[,1], col='red', pch=16)\n",
    "par(new=TRUE)\n",
    "plot(z[,2], col='orange', type='l', lwd=2)\n",
    "par(new=TRUE)\n",
    "plot(z[,2], col='red', pch=16, lwd=2)"
   ]
  },
  {
   "cell_type": "markdown",
   "id": "9b21d1b2",
   "metadata": {},
   "source": [
    "Let's keep the axes of only one dataset and display axis labels and the title of the plot. In addition, insert a legend using **legend()** (https://stat.ethz.ch/R-manual/R-devel/library/graphics/html/legend.html) function:"
   ]
  },
  {
   "cell_type": "code",
   "execution_count": null,
   "id": "3bfc1ae4",
   "metadata": {},
   "outputs": [],
   "source": [
    "plot(z[,1], col='blue', type='l', lwd=2, axes=FALSE, ann=FALSE)\n",
    "par(new=TRUE)\n",
    "plot(z[,1], col='red', pch=16, axes=FALSE, ann=FALSE)\n",
    "par(new=TRUE)\n",
    "plot(z[,2], col='orange', type='l', lwd=2, axes=FALSE, ann=FALSE)\n",
    "par(new=TRUE)\n",
    "plot(z[,2], col='red', pch=16, lwd=2, main='A simple plot', xlab='x-axis', ylab='y-axis')\n",
    "\n",
    "legend(x='bottom', legend=c('blue', 'orange'), col=c('blue', 'orange'), cex=0.8, text.font=6, lwd=2)"
   ]
  },
  {
   "cell_type": "markdown",
   "id": "303eba68",
   "metadata": {},
   "source": [
    "When two datasets differ in scale, R still display both plots, but automatically applies the second axis. You can display the second axis with the help of **axis()** (https://stat.ethz.ch/R-manual/R-devel/library/graphics/html/axis.html) and **mtext()** (https://stat.ethz.ch/R-manual/R-devel/library/graphics/html/mtext.html) functions:"
   ]
  },
  {
   "cell_type": "code",
   "execution_count": null,
   "id": "9ede5014",
   "metadata": {},
   "outputs": [],
   "source": [
    "#Scale the second column 100 times\n",
    "z[,2] = z[,2] * 100\n",
    "\n",
    "plot(z[,1], col='blue', type='l', lwd=2, axes=FALSE, ann=FALSE)\n",
    "axis(side=4)\n",
    "mtext('Blue', side=4)\n",
    "par(new=TRUE)\n",
    "plot(z[,1], col='red', pch=16, axes=FALSE, ann=FALSE)\n",
    "par(new=TRUE)\n",
    "plot(z[,2], col='orange', type='l', lwd=2, axes=FALSE, ann=FALSE)\n",
    "par(new=TRUE)\n",
    "plot(z[,2], col='red', pch=16, lwd=2, main='A simple plot', xlab='x-axis', ylab='Orange')"
   ]
  },
  {
   "cell_type": "markdown",
   "id": "3b2125fb",
   "metadata": {},
   "source": [
    "Next, consider the case of two separate subplots. This option gives even more freedom to handle the two data sets. The placing of subplots in an R plot is accomplished by the use of a **par()** (https://stat.ethz.ch/R-manual/R-patched/library/graphics/html/par.html) function, that takes as arguments the number of rows and columns for the plots:"
   ]
  },
  {
   "cell_type": "code",
   "execution_count": null,
   "id": "4227b824",
   "metadata": {},
   "outputs": [],
   "source": [
    "#The line below sets the size of the plot\n",
    "options(repr.plot.width=6, repr.plot.height=7)\n",
    "\n",
    "#2 rows, 1 column\n",
    "par(mfrow=c(2,1))\n",
    "\n",
    "#First plot\n",
    "plot(z[,1], col='blue', type='l', lwd=2, axes=FALSE, ann=FALSE)\n",
    "par(new=TRUE)\n",
    "plot(z[,1], col='red', pch=16, main='A plot', xlab='x-axis', ylab='Blue')\n",
    "\n",
    "#Second plot\n",
    "plot(z[,2], col='orange', type='l', lwd=2, axes=FALSE, ann=FALSE)\n",
    "par(new=TRUE)\n",
    "plot(z[,2], col='red', pch=16, lwd=2, main='Another plot', xlab='x-axis', ylab='Orange')"
   ]
  },
  {
   "cell_type": "markdown",
   "id": "e18899fb",
   "metadata": {},
   "source": [
    "Sometimes, it might be necessary or desired to choose two different plot types to visualize such data. With the subplot approach one has the freedom to combine different kinds of plots that R offers. The following plot combines a line/point plot with a barplot (https://stat.ethz.ch/R-manual/R-devel/library/graphics/html/barplot.html):"
   ]
  },
  {
   "cell_type": "code",
   "execution_count": null,
   "id": "65574b0e",
   "metadata": {},
   "outputs": [],
   "source": [
    "#The line below sets the size of the plot\n",
    "options(repr.plot.width=7, repr.plot.height=4)\n",
    "\n",
    "#1 row, 2 columns\n",
    "par(mfrow=c(1,2))\n",
    "\n",
    "#First plot\n",
    "plot(z[,1], col='blue', type='l', lwd=2, axes=FALSE, ann=FALSE)\n",
    "par(new=TRUE)\n",
    "plot(z[,1], col='red', pch=16, main='A plot', xlab='x-axis', ylab='Blue')\n",
    "\n",
    "#Second plot\n",
    "barplot(z[,2], col='orange', main='A bar plot', xlab='x-axis', ylab='Orange', names.arg=1:length(z[,2]))"
   ]
  },
  {
   "cell_type": "markdown",
   "id": "f9d3fa33",
   "metadata": {},
   "source": [
    "#### 5.1. Some alternative visualization approaches \n",
    "\n",
    "##### 5.1.1. Scatterplot\n",
    "\n",
    "The first is the scatter plot, where the values of one data set serve as the **_x_** values for the other data set. Such a plot type is used, for example, for plotting the returns of one financial time series against those of another one. This example uses a new two-dimensional data set with some more data:"
   ]
  },
  {
   "cell_type": "code",
   "execution_count": null,
   "id": "db30697e",
   "metadata": {},
   "outputs": [],
   "source": [
    "set.seed(3)\n",
    "y = matrix(   rnorm(2000), ncol=2   )\n",
    "print(   head(y)   )"
   ]
  },
  {
   "cell_type": "code",
   "execution_count": null,
   "id": "22a19f1c",
   "metadata": {},
   "outputs": [],
   "source": [
    "plot(y[,1], y[,2], main='Scatterplot', xlab='First column', ylab='Second column', pch=16, col='red')"
   ]
  },
  {
   "cell_type": "markdown",
   "id": "fb03f87a",
   "metadata": {},
   "source": [
    "The **plot()** (https://stat.ethz.ch/R-manual/R-devel/library/graphics/html/plot.default.html) function, for example, allows the addition of a third dimension, which can be visualized through different colors. The following code generates a third dataset with random integers between 1 and 10:"
   ]
  },
  {
   "cell_type": "code",
   "execution_count": null,
   "id": "f111db51",
   "metadata": {},
   "outputs": [],
   "source": [
    "set.seed(4)\n",
    "z = sample(   1:10, nrow(y), replace=TRUE   )\n",
    "print(   head(z)   )"
   ]
  },
  {
   "cell_type": "code",
   "execution_count": null,
   "id": "93ef125e",
   "metadata": {},
   "outputs": [],
   "source": [
    "plot(y[,1], y[,2], main='Scatterplot', xlab='First column', ylab='Second column', pch=16, col=rainbow(10)[z])"
   ]
  },
  {
   "cell_type": "markdown",
   "id": "44a3c018",
   "metadata": {},
   "source": [
    "##### 5.1.2. Histogram\n",
    "\n",
    "Another type of plot, the histogram, is also often used in the context of financial returns. **Hist()** (https://stat.ethz.ch/R-manual/R-devel/library/graphics/html/hist.html) displays the frequency values of the data:"
   ]
  },
  {
   "cell_type": "code",
   "execution_count": null,
   "id": "f9647324",
   "metadata": {
    "scrolled": false
   },
   "outputs": [],
   "source": [
    "hist(y[,1], breaks=25, col='blue', xlab='value', main='Histogram')"
   ]
  },
  {
   "cell_type": "markdown",
   "id": "3131cb88",
   "metadata": {},
   "source": [
    "##### 5.1.3. Boxplot\n",
    "\n",
    "Another useful plot type is the boxplot. Similar to the histogram, the boxplot allows both a concise overview of the characteristics of a data set and easy comparison of multiple data sets. Such a plot for our data set using **boxplot()** (https://stat.ethz.ch/R-manual/R-devel/library/graphics/html/boxplot.html) function:"
   ]
  },
  {
   "cell_type": "code",
   "execution_count": null,
   "id": "5b5ccf04",
   "metadata": {},
   "outputs": [],
   "source": [
    "boxplot(y, col=c('red', 'blue'), xlab='Datasets', ylab='Values', main='Boxplot', names=c('1st', '2nd'))"
   ]
  },
  {
   "cell_type": "markdown",
   "id": "d32297e1",
   "metadata": {},
   "source": [
    "**_Exercises._**"
   ]
  },
  {
   "cell_type": "markdown",
   "id": "f9e1ec69",
   "metadata": {},
   "source": [
    "Exercise 1. The **stock** **DataFrame** contains data on stock price and trading volume. Plot stock price (line) and volume (bar) on the same plot, using 2 y axes."
   ]
  },
  {
   "cell_type": "code",
   "execution_count": null,
   "id": "8b94346f",
   "metadata": {},
   "outputs": [],
   "source": [
    "ret = 0.02427579\n",
    "var = 0.00655305\n",
    "S_0 = 171.45\n",
    "periods = 60\n",
    "\n",
    "set.seed(2)\n",
    "returns = rnorm(periods, ret, sqrt(var))\n",
    "volume = round(   (runif(periods) * 5000 + 5000)   )\n",
    "\n",
    "stock_price = round(cumprod(returns + 1) * S_0, 2)\n",
    "data = cbind(stock_price, volume)\n",
    "\n",
    "dates = seq(as.Date(\"2015-12-01\"), by = \"month\", length.out=periods)\n",
    "stock = data.frame(data)\n",
    "rownames(stock) = dates\n",
    "\n",
    "#Your code starts here\n",
    "barplot(stock$volume, col='green', axes=FALSE, ann=FALSE)\n",
    "axis(side=4)\n",
    "mtext('Volume (shares)', side=4)\n",
    "par(new=TRUE)\n",
    "plot(stock$stock_price, col='red', type='l', xaxt='n', xlab='Date', ylab='Price ($)', main='Price and volume data')\n",
    "axis(side=1, at=1:60, labels=row.names(stock), las=1)"
   ]
  }
 ],
 "metadata": {
  "kernelspec": {
   "display_name": "R",
   "language": "R",
   "name": "ir"
  },
  "language_info": {
   "codemirror_mode": "r",
   "file_extension": ".r",
   "mimetype": "text/x-r-source",
   "name": "R",
   "pygments_lexer": "r",
   "version": "3.6.1"
  }
 },
 "nbformat": 4,
 "nbformat_minor": 5
}
