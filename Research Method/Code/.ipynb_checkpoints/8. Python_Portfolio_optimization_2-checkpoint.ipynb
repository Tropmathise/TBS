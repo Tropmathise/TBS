{
 "cells": [
  {
   "cell_type": "markdown",
   "metadata": {},
   "source": [
    "### 8.\tPortfolio optimization\n",
    "\n",
    "Modern portfolio theory (MPT) can be considered one of the biggest successes of statistics in finance. Starting in the early 1950s with the work of pioneer Harry Markowitz, this theory began to replace people’s reliance on judgment and experience with rigorous mathematical and statistical methods when it comes to the investment of money in financial markets. In that sense, it is maybe the first real quantitative model and approach in finance. For illustration, let's download financial data:"
   ]
  },
  {
   "cell_type": "code",
   "execution_count": 1,
   "metadata": {},
   "outputs": [
    {
     "name": "stdout",
     "output_type": "stream",
     "text": [
      "[*********************100%***********************]  4 of 4 completed\n"
     ]
    },
    {
     "data": {
      "text/html": [
       "<div>\n",
       "<style scoped>\n",
       "    .dataframe tbody tr th:only-of-type {\n",
       "        vertical-align: middle;\n",
       "    }\n",
       "\n",
       "    .dataframe tbody tr th {\n",
       "        vertical-align: top;\n",
       "    }\n",
       "\n",
       "    .dataframe thead th {\n",
       "        text-align: right;\n",
       "    }\n",
       "</style>\n",
       "<table border=\"1\" class=\"dataframe\">\n",
       "  <thead>\n",
       "    <tr style=\"text-align: right;\">\n",
       "      <th></th>\n",
       "      <th>AAPL</th>\n",
       "      <th>GLD</th>\n",
       "      <th>MSFT</th>\n",
       "      <th>SPY</th>\n",
       "    </tr>\n",
       "    <tr>\n",
       "      <th>Date</th>\n",
       "      <th></th>\n",
       "      <th></th>\n",
       "      <th></th>\n",
       "      <th></th>\n",
       "    </tr>\n",
       "  </thead>\n",
       "  <tbody>\n",
       "    <tr>\n",
       "      <th>2016-11-30</th>\n",
       "      <td>NaN</td>\n",
       "      <td>NaN</td>\n",
       "      <td>NaN</td>\n",
       "      <td>NaN</td>\n",
       "    </tr>\n",
       "    <tr>\n",
       "      <th>2016-12-01</th>\n",
       "      <td>-0.009363</td>\n",
       "      <td>-0.001881</td>\n",
       "      <td>-0.017747</td>\n",
       "      <td>-0.003682</td>\n",
       "    </tr>\n",
       "    <tr>\n",
       "      <th>2016-12-02</th>\n",
       "      <td>0.003738</td>\n",
       "      <td>0.005365</td>\n",
       "      <td>0.000844</td>\n",
       "      <td>0.000501</td>\n",
       "    </tr>\n",
       "    <tr>\n",
       "      <th>2016-12-05</th>\n",
       "      <td>-0.007214</td>\n",
       "      <td>-0.005365</td>\n",
       "      <td>0.016239</td>\n",
       "      <td>0.005991</td>\n",
       "    </tr>\n",
       "    <tr>\n",
       "      <th>2016-12-06</th>\n",
       "      <td>0.007669</td>\n",
       "      <td>-0.000987</td>\n",
       "      <td>-0.004494</td>\n",
       "      <td>0.003162</td>\n",
       "    </tr>\n",
       "    <tr>\n",
       "      <th>...</th>\n",
       "      <td>...</td>\n",
       "      <td>...</td>\n",
       "      <td>...</td>\n",
       "      <td>...</td>\n",
       "    </tr>\n",
       "    <tr>\n",
       "      <th>2019-12-23</th>\n",
       "      <td>0.016187</td>\n",
       "      <td>0.003077</td>\n",
       "      <td>0.000000</td>\n",
       "      <td>0.001527</td>\n",
       "    </tr>\n",
       "    <tr>\n",
       "      <th>2019-12-24</th>\n",
       "      <td>0.000950</td>\n",
       "      <td>0.009388</td>\n",
       "      <td>-0.000191</td>\n",
       "      <td>0.000031</td>\n",
       "    </tr>\n",
       "    <tr>\n",
       "      <th>2019-12-26</th>\n",
       "      <td>0.019646</td>\n",
       "      <td>0.007827</td>\n",
       "      <td>0.008163</td>\n",
       "      <td>0.005309</td>\n",
       "    </tr>\n",
       "    <tr>\n",
       "      <th>2019-12-27</th>\n",
       "      <td>-0.000380</td>\n",
       "      <td>-0.000351</td>\n",
       "      <td>0.001826</td>\n",
       "      <td>-0.000248</td>\n",
       "    </tr>\n",
       "    <tr>\n",
       "      <th>2019-12-30</th>\n",
       "      <td>0.005918</td>\n",
       "      <td>0.002106</td>\n",
       "      <td>-0.008656</td>\n",
       "      <td>-0.005528</td>\n",
       "    </tr>\n",
       "  </tbody>\n",
       "</table>\n",
       "<p>775 rows × 4 columns</p>\n",
       "</div>"
      ],
      "text/plain": [
       "                AAPL       GLD      MSFT       SPY\n",
       "Date                                              \n",
       "2016-11-30       NaN       NaN       NaN       NaN\n",
       "2016-12-01 -0.009363 -0.001881 -0.017747 -0.003682\n",
       "2016-12-02  0.003738  0.005365  0.000844  0.000501\n",
       "2016-12-05 -0.007214 -0.005365  0.016239  0.005991\n",
       "2016-12-06  0.007669 -0.000987 -0.004494  0.003162\n",
       "...              ...       ...       ...       ...\n",
       "2019-12-23  0.016187  0.003077  0.000000  0.001527\n",
       "2019-12-24  0.000950  0.009388 -0.000191  0.000031\n",
       "2019-12-26  0.019646  0.007827  0.008163  0.005309\n",
       "2019-12-27 -0.000380 -0.000351  0.001826 -0.000248\n",
       "2019-12-30  0.005918  0.002106 -0.008656 -0.005528\n",
       "\n",
       "[775 rows x 4 columns]"
      ]
     },
     "execution_count": 1,
     "metadata": {},
     "output_type": "execute_result"
    }
   ],
   "source": [
    "import numpy as np\n",
    "import pandas as pd\n",
    "import matplotlib.pyplot as plt\n",
    "import yfinance as yf\n",
    "\n",
    "data = yf.download('SPY AAPL MSFT GLD', start = '2016-12-01', end = '2019-12-31', period = '1d')\n",
    "data = data['Adj Close']\n",
    "\n",
    "rets = np.log(data / data.shift(1))\n",
    "rets"
   ]
  },
  {
   "cell_type": "markdown",
   "metadata": {},
   "source": [
    "Of paramount interest to investors is what risk-return profiles are possible for a given set of financial instruments, and their statistical characteristics. The following implements a Monte Carlo simulation to generate random portfolio weight vectors. For every simulated allocation, the code records the resulting expected portfolio return and variance. To simplify the code, two functions **portfolio_ret()** and **portfolio_vol()** are defined:"
   ]
  },
  {
   "cell_type": "code",
   "execution_count": 2,
   "metadata": {},
   "outputs": [
    {
     "data": {
      "text/plain": [
       "array([0.16556517, 0.26964677, 0.19778606, ..., 0.28346341, 0.2549798 ,\n",
       "       0.17216522])"
      ]
     },
     "execution_count": 2,
     "metadata": {},
     "output_type": "execute_result"
    }
   ],
   "source": [
    "def portfolio_ret(weights):\n",
    "    return np.dot(rets.mean(), weights) * 252\n",
    "\n",
    "def portfolio_vol(weights):\n",
    "    return np.sqrt(np.dot(weights.T, np.dot(rets.cov(), weights)) * 252)\n",
    "\n",
    "portfolio_rets = []\n",
    "portfolio_vols = []\n",
    "\n",
    "for p in range (2500):\n",
    "    np.random.seed(p + 1)\n",
    "    weights = np.random.rand(rets.shape[1])\n",
    "    weights /= np.sum(weights)\n",
    "    \n",
    "    portfolio_rets.append(portfolio_ret(weights))\n",
    "    portfolio_vols.append(portfolio_vol(weights))\n",
    "    \n",
    "portfolio_rets = np.array(portfolio_rets)\n",
    "portfolio_vols = np.array(portfolio_vols)\n",
    "\n",
    "portfolio_rets"
   ]
  },
  {
   "cell_type": "code",
   "execution_count": 3,
   "metadata": {},
   "outputs": [
    {
     "data": {
      "text/plain": [
       "array([0.0991404 , 0.17363576, 0.11556573, ..., 0.16624329, 0.1821238 ,\n",
       "       0.10155629])"
      ]
     },
     "execution_count": 3,
     "metadata": {},
     "output_type": "execute_result"
    }
   ],
   "source": [
    "portfolio_vols"
   ]
  },
  {
   "cell_type": "markdown",
   "metadata": {},
   "source": [
    "The following illustrates the results of the Monte Carlo simulation graphically. In addition, it provides results for the Sharpe ratio, defined as $SR = \\frac{(\\mu_p − r_f)}{σ_p}$, i.e., the excess expected return of the portfolio over the risk-free rate $r_f$ divided by the expected standard deviation of the portfolio. For simplicity, $r_f = 0$ is assumed."
   ]
  },
  {
   "cell_type": "code",
   "execution_count": 4,
   "metadata": {},
   "outputs": [
    {
     "data": {
      "text/plain": [
       "<matplotlib.colorbar.Colorbar at 0x27fb3c4aeb0>"
      ]
     },
     "execution_count": 4,
     "metadata": {},
     "output_type": "execute_result"
    },
    {
     "data": {
      "image/png": "[encoded data removed]",
      "text/plain": [
       "<Figure size 720x432 with 2 Axes>"
      ]
     },
     "metadata": {
      "needs_background": "light"
     },
     "output_type": "display_data"
    }
   ],
   "source": [
    "plt.figure(figsize=(10, 6))\n",
    "plt.scatter(portfolio_vols,\n",
    "            portfolio_rets,\n",
    "            c=portfolio_rets / portfolio_vols,\n",
    "            marker='o',\n",
    "            cmap='coolwarm')\n",
    "plt.xlabel('Expected volatility')\n",
    "plt.ylabel('Expected return')\n",
    "plt.colorbar(label='Sharpe ratio')"
   ]
  },
  {
   "cell_type": "markdown",
   "metadata": {},
   "source": [
    "It is clear by inspection that not all weight distributions perform well when measured in terms of mean and volatility. For example, for a fixed risk level of, say, 14%, there are multiple portfolios that all show different returns. As an investor, one is generally interested in the maximum return given a fixed risk level or the minimum risk given a fixed return expectation. This set of portfolios then makes up the so-called _efficient frontier_. \n",
    "\n",
    "**_The maximization of the Sharpe ratio_**. Formally, the negative value of the Sharpe ratio is minimized to derive the maximum value and the optimal portfolio composition. The constraint is that all weights add up to 1. This can be formulated as follows using the conventions of the **.minimize()** (https://docs.scipy.org/doc/scipy/reference/generated/scipy.optimize.minimize.html#scipy.optimize.minimize) function from **scipy.optimize** sub-package. The weights are also bound to be between 0 and 1. These values are provided to the minimization function as a tuple of tuples.\n",
    "\n",
    "The only input that is missing for the optimization function is a starting parameter list (initial guess for the weights vector). An equal distribution of weights will do:"
   ]
  },
  {
   "cell_type": "code",
   "execution_count": 5,
   "metadata": {},
   "outputs": [
    {
     "data": {
      "text/plain": [
       "((0, 1), (0, 1), (0, 1), (0, 1))"
      ]
     },
     "execution_count": 5,
     "metadata": {},
     "output_type": "execute_result"
    }
   ],
   "source": [
    "import scipy.optimize as sco\n",
    "\n",
    "def min_sharpe(weights):\n",
    "    return -portfolio_ret(weights) / portfolio_vol(weights)\n",
    "\n",
    "cons = ({'type': 'eq',\n",
    "         'fun': lambda x: np.sum(x) - 1})\n",
    "\n",
    "bnds = tuple((0, 1) for x in range(rets.shape[1]))\n",
    "bnds"
   ]
  },
  {
   "cell_type": "code",
   "execution_count": 6,
   "metadata": {},
   "outputs": [
    {
     "data": {
      "text/plain": [
       "array([0.25, 0.25, 0.25, 0.25])"
      ]
     },
     "execution_count": 6,
     "metadata": {},
     "output_type": "execute_result"
    }
   ],
   "source": [
    "equal_w = np.array(rets.shape[1] * [1 / rets.shape[1]])\n",
    "equal_w"
   ]
  },
  {
   "cell_type": "code",
   "execution_count": 7,
   "metadata": {},
   "outputs": [
    {
     "data": {
      "text/plain": [
       "-1.688573285984086"
      ]
     },
     "execution_count": 7,
     "metadata": {},
     "output_type": "execute_result"
    }
   ],
   "source": [
    "min_sharpe(equal_w)"
   ]
  },
  {
   "cell_type": "markdown",
   "metadata": {},
   "source": [
    "Calling the function returns optimal parameter values. The results are stored in an object called **optimal**. The main interest lies in getting the optimal portfolio composition. One can access the results object by providing the key of interest, **x** in this case:"
   ]
  },
  {
   "cell_type": "code",
   "execution_count": 8,
   "metadata": {},
   "outputs": [
    {
     "data": {
      "text/plain": [
       "     fun: -1.8703124674804814\n",
       "     jac: array([-0.00202066,  0.00096202, -0.00046343,  0.24543427])\n",
       " message: 'Optimization terminated successfully'\n",
       "    nfev: 36\n",
       "     nit: 7\n",
       "    njev: 7\n",
       "  status: 0\n",
       " success: True\n",
       "       x: array([0.17742738, 0.5189452 , 0.30362742, 0.        ])"
      ]
     },
     "execution_count": 8,
     "metadata": {},
     "output_type": "execute_result"
    }
   ],
   "source": [
    "optimal = sco.minimize(min_sharpe,\n",
    "                       equal_w,\n",
    "                       method='SLSQP',\n",
    "                       bounds=bnds,\n",
    "                       constraints=cons)\n",
    "optimal"
   ]
  },
  {
   "cell_type": "code",
   "execution_count": 9,
   "metadata": {},
   "outputs": [
    {
     "data": {
      "text/plain": [
       "array([0.177, 0.519, 0.304, 0.   ])"
      ]
     },
     "execution_count": 9,
     "metadata": {},
     "output_type": "execute_result"
    }
   ],
   "source": [
    "optimal['x'].round(3)"
   ]
  },
  {
   "cell_type": "code",
   "execution_count": 10,
   "metadata": {},
   "outputs": [
    {
     "data": {
      "text/plain": [
       "0.2"
      ]
     },
     "execution_count": 10,
     "metadata": {},
     "output_type": "execute_result"
    }
   ],
   "source": [
    "portfolio_ret(optimal['x']).round(3)"
   ]
  },
  {
   "cell_type": "code",
   "execution_count": 11,
   "metadata": {},
   "outputs": [
    {
     "data": {
      "text/plain": [
       "0.107"
      ]
     },
     "execution_count": 11,
     "metadata": {},
     "output_type": "execute_result"
    }
   ],
   "source": [
    "portfolio_vol(optimal['x']).round(3)"
   ]
  },
  {
   "cell_type": "code",
   "execution_count": 12,
   "metadata": {},
   "outputs": [
    {
     "data": {
      "text/plain": [
       "1.8703124674804814"
      ]
     },
     "execution_count": 12,
     "metadata": {},
     "output_type": "execute_result"
    }
   ],
   "source": [
    "portfolio_ret(optimal['x']) / portfolio_vol(optimal['x'])"
   ]
  },
  {
   "cell_type": "markdown",
   "metadata": {},
   "source": [
    "**_The minimization of the variance of the portfolio_**. This is the same as minimizing the volatility:"
   ]
  },
  {
   "cell_type": "code",
   "execution_count": 13,
   "metadata": {},
   "outputs": [
    {
     "data": {
      "text/plain": [
       "     fun: 0.07500228759103629\n",
       "     jac: array([0.09663879, 0.07521465, 0.10839807, 0.07470238])\n",
       " message: 'Optimization terminated successfully'\n",
       "    nfev: 35\n",
       "     nit: 7\n",
       "    njev: 7\n",
       "  status: 0\n",
       " success: True\n",
       "       x: array([1.12757026e-17, 5.85448989e-01, 0.00000000e+00, 4.14551011e-01])"
      ]
     },
     "execution_count": 13,
     "metadata": {},
     "output_type": "execute_result"
    }
   ],
   "source": [
    "optivol = sco.minimize(portfolio_vol,\n",
    "                       equal_w,\n",
    "                       method='SLSQP',\n",
    "                       bounds=bnds,\n",
    "                       constraints=cons)\n",
    "optivol"
   ]
  },
  {
   "cell_type": "code",
   "execution_count": 14,
   "metadata": {},
   "outputs": [
    {
     "data": {
      "text/plain": [
       "array([0.   , 0.585, 0.   , 0.415])"
      ]
     },
     "execution_count": 14,
     "metadata": {},
     "output_type": "execute_result"
    }
   ],
   "source": [
    "optivol['x'].round(3)"
   ]
  },
  {
   "cell_type": "code",
   "execution_count": 15,
   "metadata": {},
   "outputs": [
    {
     "data": {
      "text/plain": [
       "0.106"
      ]
     },
     "execution_count": 15,
     "metadata": {},
     "output_type": "execute_result"
    }
   ],
   "source": [
    "portfolio_ret(optivol['x']).round(3)"
   ]
  },
  {
   "cell_type": "code",
   "execution_count": 16,
   "metadata": {},
   "outputs": [
    {
     "data": {
      "text/plain": [
       "0.075"
      ]
     },
     "execution_count": 16,
     "metadata": {},
     "output_type": "execute_result"
    }
   ],
   "source": [
    "portfolio_vol(optivol['x']).round(3)"
   ]
  },
  {
   "cell_type": "code",
   "execution_count": 17,
   "metadata": {},
   "outputs": [
    {
     "data": {
      "text/plain": [
       "1.4101567280572138"
      ]
     },
     "execution_count": 17,
     "metadata": {},
     "output_type": "execute_result"
    }
   ],
   "source": [
    "portfolio_ret(optivol['x']) / portfolio_vol(optivol['x'])"
   ]
  },
  {
   "cell_type": "markdown",
   "metadata": {},
   "source": [
    "This portfolio leads to the so-called minimum volatility or minimum variance portfolio.\n",
    "\n",
    "The derivation of all optimal portfolios — i.e., all portfolios with minimum volatility for a given target return level (or all portfolios with maximum return for a given risk level) — is similar to the previous optimizations. The only difference is that one has to iterate over multiple starting conditions.\n",
    "\n",
    "The approach taken is to fix a target return level and to derive for each such level those portfolio weights that lead to the minimum volatility value. For the optimization, this leads to two conditions: one for the target return level, **target_ret**, and one for the sum of the portfolio weights as before. The boundary values for each parameter stay the same. When iterating over different target return levels, one condition for the minimization changes. That is why the constraints dictionary is updated during every loop:"
   ]
  },
  {
   "cell_type": "code",
   "execution_count": 18,
   "metadata": {
    "scrolled": true
   },
   "outputs": [
    {
     "data": {
      "text/plain": [
       "array([0.07673743, 0.07500323, 0.07584667, 0.07707757, 0.078469  ,\n",
       "       0.08000976, 0.08169134, 0.08350496, 0.0854425 , 0.08749577,\n",
       "       0.08965544, 0.09191507, 0.09426789, 0.09670676, 0.09922496,\n",
       "       0.10191591, 0.10485141, 0.10801137, 0.11137669, 0.11493188,\n",
       "       0.11865287, 0.12253058, 0.12654971, 0.13069586, 0.13495835,\n",
       "       0.13932615])"
      ]
     },
     "execution_count": 18,
     "metadata": {},
     "output_type": "execute_result"
    }
   ],
   "source": [
    "cons = ({'type': 'eq',\n",
    "         'fun': lambda x: portfolio_ret(x) - target_ret},\n",
    "        {'type': 'eq',\n",
    "         'fun': lambda x: np.sum(x) - 1})\n",
    "\n",
    "bnds = tuple((0, 1) for x in weights)\n",
    "target_rets = np.linspace(0.1, 0.25, 26)\n",
    "target_vols = []\n",
    "\n",
    "for target_ret in target_rets:\n",
    "    res = sco.minimize(portfolio_vol,\n",
    "                       equal_w,\n",
    "                       method='SLSQP',\n",
    "                       bounds=bnds,\n",
    "                       constraints=cons)\n",
    "    target_vols.append(res['fun'])\n",
    "\n",
    "target_vols = np.array(target_vols)\n",
    "target_vols"
   ]
  },
  {
   "cell_type": "markdown",
   "metadata": {},
   "source": [
    "The following shows the optimization results. Crosses indicate the optimal portfolios given a certain target return; the dots are, as before, the random portfolios. In addition, the figure shows two larger stars: one for the minimum volatility portfolio (the leftmost portfolio) and one for the portfolio with the maximum Sharpe ratio:"
   ]
  },
  {
   "cell_type": "code",
   "execution_count": 19,
   "metadata": {},
   "outputs": [
    {
     "data": {
      "text/plain": [
       "<matplotlib.colorbar.Colorbar at 0x27fb4db8f40>"
      ]
     },
     "execution_count": 19,
     "metadata": {},
     "output_type": "execute_result"
    },
    {
     "data": {
      "image/png": "[encoded data removed]",
      "text/plain": [
       "<Figure size 720x432 with 2 Axes>"
      ]
     },
     "metadata": {
      "needs_background": "light"
     },
     "output_type": "display_data"
    }
   ],
   "source": [
    "plt.figure(figsize=(10, 6))\n",
    "plt.scatter(portfolio_vols, portfolio_rets,\n",
    "            c=portfolio_rets / portfolio_vols,\n",
    "            marker='.',\n",
    "            alpha=0.8,\n",
    "            cmap='coolwarm')\n",
    "plt.plot(target_vols, target_rets,\n",
    "         'b',\n",
    "         lw=4.0)\n",
    "plt.plot(portfolio_vol(optimal['x']), portfolio_ret(optimal['x']),\n",
    "         'y*',\n",
    "         markersize=15.0)\n",
    "plt.plot(portfolio_vol(optivol['x']), portfolio_ret(optivol['x']),\n",
    "         'r*',\n",
    "         markersize=15.0)\n",
    "plt.xlabel('Expected volatility')\n",
    "plt.ylabel('Expected return')\n",
    "plt.colorbar(label='Sharpe ratio')"
   ]
  },
  {
   "cell_type": "markdown",
   "metadata": {},
   "source": [
    "The _efficient frontier_ is comprised of all optimal portfolios with a higher return than the absolute minimum variance portfolio. These portfolios dominate all other portfolios in terms of expected returns given a certain risk level.\n",
    "\n",
    "In addition to risky financial instruments like stocks or commodities, there is one universal, riskless investment opportunity available: cash or cash accounts. In an idealized world, money held in a cash account with a large bank can be considered riskless (e.g., through public deposit insurance schemes). The downside is that such a riskless investment generally yields only a small return, sometimes close to zero.\n",
    "\n",
    "However, taking into account such a riskless asset, enhances the efficient investment opportunity set for investors considerably. The basic idea is that investors first determine an efficient portfolio of risky assets and then add the riskless asset to the mix. By adjusting the proportion of the investor’s wealth to be invested in the riskless asset it is possible to achieve any risk-return profile that lies on the straight line (in the risk-return space) between the riskless asset and the efficient portfolio.\n",
    "\n",
    "Which efficient portfolio (out of the many options) is to be taken to invest in optimally? It is the one portfolio where the tangent line of the efficient frontier goes exactly through the risk-return point of the riskless portfolio. For example, consider a riskless interest rate of $r_f = $0.01. The portfolio is to be found on the efficient frontier for which the tangent goes through the point $(\\sigma_f, r_f) = $(0, 0.01) in risk-return space.\n",
    "\n",
    "For the calculations to follow, a functional approximation and the first derivative for the efficient frontier are used. _Cubic splines_ interpolation provides such a differentiable functional approximation, using **.splrep()** (https://docs.scipy.org/doc/scipy/reference/generated/scipy.interpolate.splrep.html#scipy.interpolate.splrep) and **.splev()** (https://docs.scipy.org/doc/scipy/reference/generated/scipy.interpolate.splev.html#scipy.interpolate.splev) functions from **scipy.interpolate** (https://docs.scipy.org/doc/scipy/reference/interpolate.html) sub-package. For the spline interpolation, only portfolios from the efficient frontier are used. Via this numerical approach it is possible to define a continuously differentiable function **f(x)** for the efficient frontier and the respective first derivative function **df(x)**:"
   ]
  },
  {
   "cell_type": "code",
   "execution_count": 20,
   "metadata": {},
   "outputs": [
    {
     "data": {
      "text/plain": [
       "(array([0.07500323, 0.07500323, 0.07500323, 0.07500323, 0.07707757,\n",
       "        0.078469  , 0.08000976, 0.08169134, 0.08350496, 0.0854425 ,\n",
       "        0.08749577, 0.08965544, 0.09191507, 0.09426789, 0.09670676,\n",
       "        0.09922496, 0.10191591, 0.10485141, 0.10801137, 0.11137669,\n",
       "        0.11493188, 0.11865287, 0.12253058, 0.12654971, 0.13069586,\n",
       "        0.13932615, 0.13932615, 0.13932615, 0.13932615]),\n",
       " array([0.106     , 0.11194836, 0.11698781, 0.124345  , 0.13024766,\n",
       "        0.13622917, 0.14219616, 0.14817387, 0.15415043, 0.16013573,\n",
       "        0.16612024, 0.17211014, 0.17808531, 0.18420646, 0.19026876,\n",
       "        0.19621661, 0.20218827, 0.20816472, 0.21413472, 0.22012435,\n",
       "        0.22610688, 0.23209297, 0.24018809, 0.24609134, 0.25      ,\n",
       "        0.        , 0.        , 0.        , 0.        ]),\n",
       " 3)"
      ]
     },
     "execution_count": 20,
     "metadata": {},
     "output_type": "execute_result"
    }
   ],
   "source": [
    "import scipy.interpolate as sci\n",
    "\n",
    "index = np.argmin(target_vols)\n",
    "t_vols = target_vols[index:]\n",
    "t_rets = target_rets[index:]\n",
    "\n",
    "tck = sci.splrep(t_vols, t_rets)\n",
    "\n",
    "def f(x):\n",
    "    return sci.splev(x, tck, der=0)\n",
    "         \n",
    "def df(x):\n",
    "    return sci.splev(x, tck, der=1)\n",
    "\n",
    "tck"
   ]
  },
  {
   "cell_type": "markdown",
   "metadata": {},
   "source": [
    "What is now to be derived is a linear function $t(x) = a + b⋅x$ representing the line that passes through the riskless asset in risk-return space and that is tangent to the efficient frontier. Mathematical conditions for _capital market line_ describes all three conditions that the function $t(x)$ needs to satisfy.\n",
    "\n",
    "Since there is no closed formula for the efficient frontier or the first derivative of it, one has to solve the system of equations in mathematical conditions for _capital market line_ numerically. Define a Python function **equations()** that returns the values of all three equations given the parameter set $p = (a, b, x)$.\n",
    "\n",
    "The function **.fsolve()** (https://docs.scipy.org/doc/scipy/reference/generated/scipy.optimize.fsolve.html) from **scipy.optimize** sub-package is capable of solving such a system of equations. In addition to the function **equations()**, an initial parameterization is provided. Note that success or failure of the optimization might depend on the initial parameterization, which therefore has to be chosen carefully — generally by a combination of educated guesses with trial and error:"
   ]
  },
  {
   "cell_type": "code",
   "execution_count": 21,
   "metadata": {},
   "outputs": [
    {
     "data": {
      "text/plain": [
       "array([0.01      , 1.77807964, 0.10981374])"
      ]
     },
     "execution_count": 21,
     "metadata": {},
     "output_type": "execute_result"
    }
   ],
   "source": [
    "def equations(p, rf=0.01):\n",
    "    equation_1 = rf - p[0]\n",
    "    equation_2 = rf + p[1] * p[2] - f(p[2])\n",
    "    equation_3 = p[1] - df(p[2])\n",
    "    return equation_1, equation_2, equation_3\n",
    "\n",
    "opt = sco.fsolve(equations, [0.01, 2, 0.1])  \n",
    "opt"
   ]
  },
  {
   "cell_type": "code",
   "execution_count": 22,
   "metadata": {},
   "outputs": [
    {
     "data": {
      "text/plain": [
       "array([ 0.,  0., -0.])"
      ]
     },
     "execution_count": 22,
     "metadata": {},
     "output_type": "execute_result"
    }
   ],
   "source": [
    "np.round(equations(opt), 6)"
   ]
  },
  {
   "cell_type": "markdown",
   "metadata": {},
   "source": [
    "The following presents the results graphically: the star represents the optimal portfolio from the efficient frontier for which the tangent line passes through the riskless asset point (0, $r_f = $0.01):"
   ]
  },
  {
   "cell_type": "code",
   "execution_count": 23,
   "metadata": {},
   "outputs": [
    {
     "data": {
      "text/plain": [
       "<matplotlib.colorbar.Colorbar at 0x27fb4f16850>"
      ]
     },
     "execution_count": 23,
     "metadata": {},
     "output_type": "execute_result"
    },
    {
     "data": {
      "image/png": "[encoded data removed]",
      "text/plain": [
       "<Figure size 720x432 with 2 Axes>"
      ]
     },
     "metadata": {
      "needs_background": "light"
     },
     "output_type": "display_data"
    }
   ],
   "source": [
    "plt.figure(figsize=(10, 6))\n",
    "plt.scatter(portfolio_vols, portfolio_rets,\n",
    "            c=(portfolio_rets - 0.01) / portfolio_vols,\n",
    "            marker='.',\n",
    "            cmap='coolwarm')\n",
    "plt.plot(t_vols, t_rets,\n",
    "         'b',\n",
    "         lw=4.0)\n",
    "cx = np.linspace(0.0, 0.3, 61)\n",
    "plt.plot(cx, opt[0] + opt[1] * cx,\n",
    "         'r',\n",
    "         lw=1.5)\n",
    "plt.plot(opt[2], f(opt[2]),\n",
    "         'y*',\n",
    "         markersize=15.0)\n",
    "plt.grid(True)\n",
    "plt.axhline(0,\n",
    "            color='k',\n",
    "            ls='--',\n",
    "            lw=2.0)\n",
    "plt.axvline(0,\n",
    "            color='k',\n",
    "            ls='--',\n",
    "            lw=2.0)\n",
    "plt.xlabel('Expected volatility')\n",
    "plt.ylabel('Expected return')\n",
    "plt.xlim([-0.025, 0.225])\n",
    "plt.ylim([-0.025, 0.3])\n",
    "plt.colorbar(label='Sharpe ratio')"
   ]
  },
  {
   "cell_type": "markdown",
   "metadata": {},
   "source": [
    "The portfolio weights of the optimal (tangent) portfolio are as follows:"
   ]
  },
  {
   "cell_type": "code",
   "execution_count": 24,
   "metadata": {},
   "outputs": [
    {
     "data": {
      "text/plain": [
       "     fun: 0.10981419197320683\n",
       "     jac: array([0.18031987, 0.03905393, 0.18029704, 0.09259895])\n",
       " message: 'Optimization terminated successfully'\n",
       "    nfev: 35\n",
       "     nit: 7\n",
       "    njev: 7\n",
       "  status: 0\n",
       " success: True\n",
       "       x: array([0.18347556, 0.49904759, 0.31747685, 0.        ])"
      ]
     },
     "execution_count": 24,
     "metadata": {},
     "output_type": "execute_result"
    }
   ],
   "source": [
    "cons = ({'type': 'eq',\n",
    "         'fun': lambda x:  portfolio_ret(x) - f(opt[2])},\n",
    "        {'type': 'eq',\n",
    "         'fun': lambda x:  np.sum(x) - 1})\n",
    "\n",
    "result = sco.minimize(portfolio_vol,\n",
    "                      equal_w,\n",
    "                      method='SLSQP',\n",
    "                      bounds=bnds,\n",
    "                      constraints=cons)\n",
    "result"
   ]
  },
  {
   "cell_type": "code",
   "execution_count": 25,
   "metadata": {},
   "outputs": [
    {
     "data": {
      "text/plain": [
       "array([0.183, 0.499, 0.317, 0.   ])"
      ]
     },
     "execution_count": 25,
     "metadata": {},
     "output_type": "execute_result"
    }
   ],
   "source": [
    "result['x'].round(3)"
   ]
  },
  {
   "cell_type": "code",
   "execution_count": 26,
   "metadata": {},
   "outputs": [
    {
     "data": {
      "text/plain": [
       "0.20525757151106086"
      ]
     },
     "execution_count": 26,
     "metadata": {},
     "output_type": "execute_result"
    }
   ],
   "source": [
    "portfolio_ret(result['x'])"
   ]
  },
  {
   "cell_type": "code",
   "execution_count": 27,
   "metadata": {},
   "outputs": [
    {
     "data": {
      "text/plain": [
       "0.10981419197320683"
      ]
     },
     "execution_count": 27,
     "metadata": {},
     "output_type": "execute_result"
    }
   ],
   "source": [
    "portfolio_vol(result['x'])"
   ]
  },
  {
   "cell_type": "code",
   "execution_count": 28,
   "metadata": {},
   "outputs": [
    {
     "data": {
      "text/plain": [
       "1.869135198491839"
      ]
     },
     "execution_count": 28,
     "metadata": {},
     "output_type": "execute_result"
    }
   ],
   "source": [
    "portfolio_ret(result['x']) / portfolio_vol(result['x'])"
   ]
  },
  {
   "cell_type": "markdown",
   "metadata": {},
   "source": [
    "**_Exercises._**"
   ]
  },
  {
   "cell_type": "markdown",
   "metadata": {},
   "source": [
    "Exercise 1. Obtain an efficient frontier for the following stocks, but allow for short sales (weights between -1 and 1). Plot the standard (long only) efficient frontier and compare the two. What do you notice?"
   ]
  },
  {
   "cell_type": "code",
   "execution_count": 29,
   "metadata": {
    "scrolled": true
   },
   "outputs": [
    {
     "name": "stdout",
     "output_type": "stream",
     "text": [
      "[*********************100%***********************]  9 of 9 completed\n"
     ]
    },
    {
     "data": {
      "text/html": [
       "<div>\n",
       "<style scoped>\n",
       "    .dataframe tbody tr th:only-of-type {\n",
       "        vertical-align: middle;\n",
       "    }\n",
       "\n",
       "    .dataframe tbody tr th {\n",
       "        vertical-align: top;\n",
       "    }\n",
       "\n",
       "    .dataframe thead th {\n",
       "        text-align: right;\n",
       "    }\n",
       "</style>\n",
       "<table border=\"1\" class=\"dataframe\">\n",
       "  <thead>\n",
       "    <tr style=\"text-align: right;\">\n",
       "      <th></th>\n",
       "      <th>AAPL</th>\n",
       "      <th>BAC</th>\n",
       "      <th>CVX</th>\n",
       "      <th>MMM</th>\n",
       "      <th>MSFT</th>\n",
       "      <th>NFLX</th>\n",
       "      <th>TSLA</th>\n",
       "      <th>UAL</th>\n",
       "      <th>XOM</th>\n",
       "    </tr>\n",
       "    <tr>\n",
       "      <th>Date</th>\n",
       "      <th></th>\n",
       "      <th></th>\n",
       "      <th></th>\n",
       "      <th></th>\n",
       "      <th></th>\n",
       "      <th></th>\n",
       "      <th></th>\n",
       "      <th></th>\n",
       "      <th></th>\n",
       "    </tr>\n",
       "  </thead>\n",
       "  <tbody>\n",
       "    <tr>\n",
       "      <th>2015-12-31</th>\n",
       "      <td>NaN</td>\n",
       "      <td>NaN</td>\n",
       "      <td>NaN</td>\n",
       "      <td>NaN</td>\n",
       "      <td>NaN</td>\n",
       "      <td>NaN</td>\n",
       "      <td>NaN</td>\n",
       "      <td>NaN</td>\n",
       "      <td>NaN</td>\n",
       "    </tr>\n",
       "    <tr>\n",
       "      <th>2016-01-31</th>\n",
       "      <td>-0.078224</td>\n",
       "      <td>-0.174155</td>\n",
       "      <td>-0.039568</td>\n",
       "      <td>0.002387</td>\n",
       "      <td>-0.007054</td>\n",
       "      <td>-0.219478</td>\n",
       "      <td>-0.227361</td>\n",
       "      <td>-0.171283</td>\n",
       "      <td>-0.001284</td>\n",
       "    </tr>\n",
       "    <tr>\n",
       "      <th>2016-02-29</th>\n",
       "      <td>-0.001288</td>\n",
       "      <td>-0.121681</td>\n",
       "      <td>-0.023066</td>\n",
       "      <td>0.045337</td>\n",
       "      <td>-0.072344</td>\n",
       "      <td>0.016951</td>\n",
       "      <td>0.003811</td>\n",
       "      <td>0.170585</td>\n",
       "      <td>0.038151</td>\n",
       "    </tr>\n",
       "    <tr>\n",
       "      <th>2016-03-31</th>\n",
       "      <td>0.119746</td>\n",
       "      <td>0.080641</td>\n",
       "      <td>0.133951</td>\n",
       "      <td>0.060358</td>\n",
       "      <td>0.082036</td>\n",
       "      <td>0.090227</td>\n",
       "      <td>0.179948</td>\n",
       "      <td>0.044406</td>\n",
       "      <td>0.042024</td>\n",
       "    </tr>\n",
       "    <tr>\n",
       "      <th>2016-04-30</th>\n",
       "      <td>-0.150731</td>\n",
       "      <td>0.074108</td>\n",
       "      <td>0.068658</td>\n",
       "      <td>0.004491</td>\n",
       "      <td>-0.102087</td>\n",
       "      <td>-0.127082</td>\n",
       "      <td>0.046722</td>\n",
       "      <td>-0.267506</td>\n",
       "      <td>0.055948</td>\n",
       "    </tr>\n",
       "  </tbody>\n",
       "</table>\n",
       "</div>"
      ],
      "text/plain": [
       "                AAPL       BAC       CVX       MMM      MSFT      NFLX  \\\n",
       "Date                                                                     \n",
       "2015-12-31       NaN       NaN       NaN       NaN       NaN       NaN   \n",
       "2016-01-31 -0.078224 -0.174155 -0.039568  0.002387 -0.007054 -0.219478   \n",
       "2016-02-29 -0.001288 -0.121681 -0.023066  0.045337 -0.072344  0.016951   \n",
       "2016-03-31  0.119746  0.080641  0.133951  0.060358  0.082036  0.090227   \n",
       "2016-04-30 -0.150731  0.074108  0.068658  0.004491 -0.102087 -0.127082   \n",
       "\n",
       "                TSLA       UAL       XOM  \n",
       "Date                                      \n",
       "2015-12-31       NaN       NaN       NaN  \n",
       "2016-01-31 -0.227361 -0.171283 -0.001284  \n",
       "2016-02-29  0.003811  0.170585  0.038151  \n",
       "2016-03-31  0.179948  0.044406  0.042024  \n",
       "2016-04-30  0.046722 -0.267506  0.055948  "
      ]
     },
     "execution_count": 29,
     "metadata": {},
     "output_type": "execute_result"
    }
   ],
   "source": [
    "import numpy as np\n",
    "import pandas as pd\n",
    "import matplotlib.pyplot as plt\n",
    "import scipy.optimize as sco\n",
    "import yfinance as yf\n",
    "\n",
    "data = yf.download('TSLA AAPL MSFT AAPL NFLX BAC UAL MMM CVX XOM', start = '2016-01-01', end = '2019-12-31', period = '1d')\n",
    "data = data['Adj Close'].resample('1m').last()\n",
    "\n",
    "rets = np.log(data / data.shift(1))\n",
    "rets.head()"
   ]
  },
  {
   "cell_type": "code",
   "execution_count": 30,
   "metadata": {
    "scrolled": false
   },
   "outputs": [
    {
     "data": {
      "text/plain": [
       "<matplotlib.legend.Legend at 0x27fb60c4be0>"
      ]
     },
     "execution_count": 30,
     "metadata": {},
     "output_type": "execute_result"
    },
    {
     "data": {
      "image/png": "[encoded data removed]",
      "text/plain": [
       "<Figure size 720x432 with 1 Axes>"
      ]
     },
     "metadata": {
      "needs_background": "light"
     },
     "output_type": "display_data"
    }
   ],
   "source": [
    "def portfolio_ret(weights):\n",
    "    return np.dot(rets.mean(), weights) * 12\n",
    "\n",
    "def portfolio_vol(weights):\n",
    "    return np.sqrt(np.dot(weights.T, np.dot(rets.cov(), weights)) * 12)\n",
    "\n",
    "cons = ({'type': 'eq',\n",
    "         'fun': lambda x: portfolio_ret(x) - target_ret},\n",
    "        {'type': 'eq',\n",
    "         'fun': lambda x: np.sum(x) - 1})  \n",
    "\n",
    "bnds = tuple((0, 1) for x in range(rets.shape[1]))\n",
    "target_rets = np.linspace(0.1, 0.25, 26)\n",
    "target_vols_old = []\n",
    "\n",
    "for target_ret in target_rets:\n",
    "    res = sco.minimize(portfolio_vol,\n",
    "                       [0] * rets.shape[1],\n",
    "                       method='SLSQP',\n",
    "                       bounds=bnds,\n",
    "                       constraints=cons)\n",
    "    target_vols_old.append(res['fun'])\n",
    "target_vols_old = np.array(target_vols_old)\n",
    "\n",
    "cons = ({'type': 'eq',\n",
    "         'fun': lambda x: portfolio_ret(x) - target_ret},\n",
    "        {'type': 'eq',\n",
    "         'fun': lambda x: np.sum(x) - 1})  \n",
    "\n",
    "bnds = tuple((-1, 1) for x in range(rets.shape[1]))\n",
    "target_rets = np.linspace(0.1, 0.25, 26)\n",
    "target_vols_new = []\n",
    "\n",
    "for target_ret in target_rets:\n",
    "    res = sco.minimize(portfolio_vol,\n",
    "                       [0] * rets.shape[1],\n",
    "                       method='SLSQP',\n",
    "                       bounds=bnds,\n",
    "                       constraints=cons)\n",
    "    target_vols_new.append(res['fun'])\n",
    "\n",
    "target_vols_new = np.array(target_vols_new)\n",
    "target_vols_new\n",
    "\n",
    "plt.figure(figsize=(10, 6))\n",
    "plt.plot(target_vols_old, target_rets,\n",
    "         'b',\n",
    "         lw=4.0,\n",
    "         label='Long only')\n",
    "plt.plot(target_vols_new, target_rets,\n",
    "         'r',\n",
    "         lw=4.0,\n",
    "         label='Shorting allowed')\n",
    "plt.xlabel('Expected volatility')\n",
    "plt.ylabel('Expected return')\n",
    "plt.legend(loc=0)"
   ]
  },
  {
   "cell_type": "markdown",
   "metadata": {},
   "source": [
    "Exercise 2. Plot efficient frontier, where you maximize expected returns, given volatility."
   ]
  },
  {
   "cell_type": "code",
   "execution_count": 31,
   "metadata": {},
   "outputs": [
    {
     "data": {
      "text/plain": [
       "Text(0, 0.5, 'Expected return')"
      ]
     },
     "execution_count": 31,
     "metadata": {},
     "output_type": "execute_result"
    },
    {
     "data": {
      "image/png": "[encoded data removed]",
      "text/plain": [
       "<Figure size 720x432 with 1 Axes>"
      ]
     },
     "metadata": {
      "needs_background": "light"
     },
     "output_type": "display_data"
    }
   ],
   "source": [
    "def portfolio_ret(weights):\n",
    "    return -np.dot(rets.mean(), weights) * 12\n",
    "\n",
    "def portfolio_vol(weights):\n",
    "    return np.sqrt(np.dot(weights.T, np.dot(rets.cov(), weights)) * 12)\n",
    "\n",
    "cons = ({'type': 'eq',\n",
    "         'fun': lambda x: portfolio_vol(x) - target_vol},\n",
    "        {'type': 'eq',\n",
    "         'fun': lambda x: np.sum(x) - 1})  \n",
    "\n",
    "bnds = tuple((0, 1) for x in range(rets.shape[1]))\n",
    "target_vols = np.linspace(0.128, 0.15, 30)\n",
    "target_rets = []\n",
    "\n",
    "for target_vol in target_vols:\n",
    "    res = sco.minimize(portfolio_ret,\n",
    "                       [0.1] * rets.shape[1],\n",
    "                       method='SLSQP',\n",
    "                       bounds=bnds,\n",
    "                       constraints=cons)\n",
    "    target_rets.append(-res['fun'])\n",
    "target_rets = np.array(target_rets)\n",
    "\n",
    "plt.figure(figsize=(10, 6))\n",
    "plt.plot(target_vols, target_rets,\n",
    "         'b',\n",
    "         lw=4.0)\n",
    "plt.xlabel('Expected volatility')\n",
    "plt.ylabel('Expected return')"
   ]
  }
 ],
 "metadata": {
  "kernelspec": {
   "display_name": "Python 3",
   "language": "python",
   "name": "python3"
  },
  "language_info": {
   "codemirror_mode": {
    "name": "ipython",
    "version": 3
   },
   "file_extension": ".py",
   "mimetype": "text/x-python",
   "name": "python",
   "nbconvert_exporter": "python",
   "pygments_lexer": "ipython3",
   "version": "3.8.8"
  }
 },
 "nbformat": 4,
 "nbformat_minor": 4
}
