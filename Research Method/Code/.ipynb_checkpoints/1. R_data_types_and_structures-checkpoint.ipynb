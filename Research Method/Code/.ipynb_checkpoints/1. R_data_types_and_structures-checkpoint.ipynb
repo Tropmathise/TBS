{
 "cells": [
  {
   "cell_type": "markdown",
   "id": "ab8c2523",
   "metadata": {},
   "source": [
    "### 1. Data types and structures"
   ]
  },
  {
   "cell_type": "markdown",
   "id": "48e83a20",
   "metadata": {},
   "source": [
    "#### 1.1. Basic data types\n",
    "\n",
    "R is a _dynamically typed_ language, which means that the R interpreter infers the type of an object at runtime.\n",
    "\n",
    "##### 1.1.1. Integer\n",
    "\n",
    "**Integer** is a number that can be written without a fractional component. You can declare an **integer** by appending an L suffix. To assign a value to a variable, type the name of a variable followed by an assignment operator (__<-__ or **_=_**) followoed by the value:"
   ]
  },
  {
   "cell_type": "code",
   "execution_count": 9,
   "id": "3a78c267",
   "metadata": {},
   "outputs": [
    {
     "data": {
      "text/html": [
       "5"
      ],
      "text/latex": [
       "5"
      ],
      "text/markdown": [
       "5"
      ],
      "text/plain": [
       "[1] 5"
      ]
     },
     "metadata": {},
     "output_type": "display_data"
    }
   ],
   "source": [
    "var_int_1 <- 5L\n",
    "var_int_1"
   ]
  },
  {
   "cell_type": "code",
   "execution_count": 27,
   "id": "0bd92e12",
   "metadata": {},
   "outputs": [
    {
     "data": {
      "text/html": [
       "6"
      ],
      "text/latex": [
       "6"
      ],
      "text/markdown": [
       "6"
      ],
      "text/plain": [
       "[1] 6"
      ]
     },
     "metadata": {},
     "output_type": "display_data"
    },
    {
     "data": {
      "text/html": [
       "'double'"
      ],
      "text/latex": [
       "'double'"
      ],
      "text/markdown": [
       "'double'"
      ],
      "text/plain": [
       "[1] \"double\""
      ]
     },
     "metadata": {},
     "output_type": "display_data"
    }
   ],
   "source": [
    "var_int_1 = 6\n",
    "var_int_1\n",
    "typeof(var_int_1)"
   ]
  },
  {
   "cell_type": "markdown",
   "id": "1f173a7b",
   "metadata": {},
   "source": [
    "**_Artithmetic Operators_**. You are already familiar with these, since they come from basic mathematics. The arithmetic operators are:\n",
    "\n",
    "* addition (+);\n",
    "* subtraction (-);\n",
    "* multiplication (*);\n",
    "* division (/);\n",
    "* exponent (^ or **);\n",
    "* floor division (%/%);\n",
    "* modulus division (%%). \n",
    "\n",
    "The first five operators are straightforward. The 6th, floor division operator (%/%), returns a number without a fractional component, and the final, modulus division operator (%%), returns the remainder of division:"
   ]
  },
  {
   "cell_type": "code",
   "execution_count": null,
   "id": "f5a1c5ed",
   "metadata": {
    "scrolled": true
   },
   "outputs": [],
   "source": [
    "2 + 1"
   ]
  },
  {
   "cell_type": "code",
   "execution_count": null,
   "id": "f702ffce",
   "metadata": {},
   "outputs": [],
   "source": [
    "2 - 1"
   ]
  },
  {
   "cell_type": "code",
   "execution_count": null,
   "id": "a4ac60ba",
   "metadata": {},
   "outputs": [],
   "source": [
    "2 * 2"
   ]
  },
  {
   "cell_type": "code",
   "execution_count": null,
   "id": "2069f405",
   "metadata": {},
   "outputs": [],
   "source": [
    "1 / 2"
   ]
  },
  {
   "cell_type": "code",
   "execution_count": null,
   "id": "55a75755",
   "metadata": {},
   "outputs": [],
   "source": [
    "2 ^ 3"
   ]
  },
  {
   "cell_type": "code",
   "execution_count": null,
   "id": "b05530d2",
   "metadata": {},
   "outputs": [],
   "source": [
    "2 ** 3"
   ]
  },
  {
   "cell_type": "code",
   "execution_count": 17,
   "id": "1e07e652",
   "metadata": {},
   "outputs": [
    {
     "data": {
      "text/html": [
       "2"
      ],
      "text/latex": [
       "2"
      ],
      "text/markdown": [
       "2"
      ],
      "text/plain": [
       "[1] 2"
      ]
     },
     "metadata": {},
     "output_type": "display_data"
    }
   ],
   "source": [
    "5 %/% 2"
   ]
  },
  {
   "cell_type": "code",
   "execution_count": 12,
   "id": "532f1010",
   "metadata": {},
   "outputs": [
    {
     "data": {
      "text/html": [
       "1"
      ],
      "text/latex": [
       "1"
      ],
      "text/markdown": [
       "1"
      ],
      "text/plain": [
       "[1] 1"
      ]
     },
     "metadata": {},
     "output_type": "display_data"
    }
   ],
   "source": [
    "5 %% 2"
   ]
  },
  {
   "cell_type": "code",
   "execution_count": 13,
   "id": "192e2370",
   "metadata": {},
   "outputs": [
    {
     "data": {
      "text/html": [
       "5"
      ],
      "text/latex": [
       "5"
      ],
      "text/markdown": [
       "5"
      ],
      "text/plain": [
       "[1] 5"
      ]
     },
     "metadata": {},
     "output_type": "display_data"
    }
   ],
   "source": [
    "(5 %/% 2) * 2 + (5 %% 2)"
   ]
  },
  {
   "cell_type": "markdown",
   "id": "11bf23e8",
   "metadata": {},
   "source": [
    "If you want to increase the value of variable **var_int_1** by 10, you have to write **var_int_1 = var_int_1 + 10**, because R does not have **+=** operator."
   ]
  },
  {
   "cell_type": "code",
   "execution_count": 22,
   "id": "11b83634",
   "metadata": {},
   "outputs": [
    {
     "data": {
      "text/html": [
       "16"
      ],
      "text/latex": [
       "16"
      ],
      "text/markdown": [
       "16"
      ],
      "text/plain": [
       "[1] 16"
      ]
     },
     "metadata": {},
     "output_type": "display_data"
    }
   ],
   "source": [
    "var_int_1 = var_int_1 + 10L\n",
    "var_int_1"
   ]
  },
  {
   "cell_type": "markdown",
   "id": "be87d241",
   "metadata": {},
   "source": [
    "The built-in function **typeof()** (https://stat.ethz.ch/R-manual/R-devel/library/base/html/typeof.html) provides type information for all objects, both built-in and newly created ones."
   ]
  },
  {
   "cell_type": "code",
   "execution_count": 23,
   "id": "2a7154ac",
   "metadata": {},
   "outputs": [
    {
     "data": {
      "text/html": [
       "'integer'"
      ],
      "text/latex": [
       "'integer'"
      ],
      "text/markdown": [
       "'integer'"
      ],
      "text/plain": [
       "[1] \"integer\""
      ]
     },
     "metadata": {},
     "output_type": "display_data"
    }
   ],
   "source": [
    "typeof(var_int_1)"
   ]
  },
  {
   "cell_type": "code",
   "execution_count": null,
   "id": "45fa94f4",
   "metadata": {},
   "outputs": [],
   "source": [
    "typeof(1 / 2)"
   ]
  },
  {
   "cell_type": "markdown",
   "id": "52c77f1b",
   "metadata": {},
   "source": [
    "##### 1.1.2. Double\n",
    "\n",
    "The previous expression gives rise to the next basic data type, the **double** object. A default number in R is **double**, unless specifically declared as an **integer**:"
   ]
  },
  {
   "cell_type": "code",
   "execution_count": 28,
   "id": "c1ec4be3",
   "metadata": {},
   "outputs": [
    {
     "data": {
      "text/html": [
       "'double'"
      ],
      "text/latex": [
       "'double'"
      ],
      "text/markdown": [
       "'double'"
      ],
      "text/plain": [
       "[1] \"double\""
      ]
     },
     "metadata": {},
     "output_type": "display_data"
    }
   ],
   "source": [
    "var_double_1 = 1\n",
    "typeof(var_double_1)"
   ]
  },
  {
   "cell_type": "code",
   "execution_count": 29,
   "id": "a6325559",
   "metadata": {
    "scrolled": true
   },
   "outputs": [
    {
     "data": {
      "text/html": [
       "2"
      ],
      "text/latex": [
       "2"
      ],
      "text/markdown": [
       "2"
      ],
      "text/plain": [
       "[1] 2"
      ]
     },
     "metadata": {},
     "output_type": "display_data"
    }
   ],
   "source": [
    "var_double_1 + 1.0"
   ]
  },
  {
   "cell_type": "markdown",
   "id": "17d6d464",
   "metadata": {},
   "source": [
    "**_Comparison operators_**. You can use _comparison_ operators to compare the values of variables. They will always return a logical (see next cell) value. There are six _comparison_ operators:\n",
    "\n",
    "* Equal (==). Not the same as the assignment operator (=);\n",
    "* Not equal (!=);\n",
    "* Greater than (>);\n",
    "* Less than (<);\n",
    "* Greater than or equal (>=);\n",
    "* Less than or equal (<=)."
   ]
  },
  {
   "cell_type": "markdown",
   "id": "01e7a194",
   "metadata": {},
   "source": [
    "##### 1.1.3. Logical\n",
    "\n",
    "**Logical** object is a binary data type, meaning it can take only 2 values, **TRUE** or **FALSE**. The following code shows R’s _comparison operators_ applied to numbers, with the resulting **logical** objects:"
   ]
  },
  {
   "cell_type": "code",
   "execution_count": null,
   "id": "4ee053f2",
   "metadata": {},
   "outputs": [],
   "source": [
    "2 == 1"
   ]
  },
  {
   "cell_type": "code",
   "execution_count": null,
   "id": "dff62704",
   "metadata": {},
   "outputs": [],
   "source": [
    "2 != 1"
   ]
  },
  {
   "cell_type": "code",
   "execution_count": null,
   "id": "6aef331a",
   "metadata": {},
   "outputs": [],
   "source": [
    "2 > 1"
   ]
  },
  {
   "cell_type": "code",
   "execution_count": null,
   "id": "6cbc3be7",
   "metadata": {},
   "outputs": [],
   "source": [
    "2 < 1"
   ]
  },
  {
   "cell_type": "code",
   "execution_count": null,
   "id": "bd0049fa",
   "metadata": {},
   "outputs": [],
   "source": [
    "2 >= 1"
   ]
  },
  {
   "cell_type": "code",
   "execution_count": null,
   "id": "fda57f61",
   "metadata": {},
   "outputs": [],
   "source": [
    "2 <= 1"
   ]
  },
  {
   "cell_type": "code",
   "execution_count": null,
   "id": "95e1cce0",
   "metadata": {},
   "outputs": [],
   "source": [
    "typeof(2 > 1)"
   ]
  },
  {
   "cell_type": "code",
   "execution_count": 30,
   "id": "c880a204",
   "metadata": {},
   "outputs": [
    {
     "data": {
      "text/html": [
       "'logical'"
      ],
      "text/latex": [
       "'logical'"
      ],
      "text/markdown": [
       "'logical'"
      ],
      "text/plain": [
       "[1] \"logical\""
      ]
     },
     "metadata": {},
     "output_type": "display_data"
    }
   ],
   "source": [
    "typeof(FALSE)"
   ]
  },
  {
   "cell_type": "markdown",
   "id": "0666daf7",
   "metadata": {},
   "source": [
    "**_Logical Operators_**. A _logical operator_ is a symbol or word used to connect two or more expressions. _Logical operators_ are applied to **logical** objects, which in turn yields another **logical** object. The operators are: \n",
    "\n",
    "* **&** - will return **TRUE** if both operands are **TRUE**;\n",
    "* **|** - will return **TRUE** if at least one operand is **TRUE**;\n",
    "* **!** - will return **TRUE** if the operand is **FALSE** and vice-versa."
   ]
  },
  {
   "cell_type": "code",
   "execution_count": 31,
   "id": "7c64cb82",
   "metadata": {},
   "outputs": [
    {
     "data": {
      "text/html": [
       "TRUE"
      ],
      "text/latex": [
       "TRUE"
      ],
      "text/markdown": [
       "TRUE"
      ],
      "text/plain": [
       "[1] TRUE"
      ]
     },
     "metadata": {},
     "output_type": "display_data"
    }
   ],
   "source": [
    "TRUE & TRUE"
   ]
  },
  {
   "cell_type": "code",
   "execution_count": 32,
   "id": "501ee8e3",
   "metadata": {},
   "outputs": [
    {
     "data": {
      "text/html": [
       "FALSE"
      ],
      "text/latex": [
       "FALSE"
      ],
      "text/markdown": [
       "FALSE"
      ],
      "text/plain": [
       "[1] FALSE"
      ]
     },
     "metadata": {},
     "output_type": "display_data"
    }
   ],
   "source": [
    "TRUE & FALSE"
   ]
  },
  {
   "cell_type": "code",
   "execution_count": 33,
   "id": "c4f54a42",
   "metadata": {},
   "outputs": [
    {
     "data": {
      "text/html": [
       "FALSE"
      ],
      "text/latex": [
       "FALSE"
      ],
      "text/markdown": [
       "FALSE"
      ],
      "text/plain": [
       "[1] FALSE"
      ]
     },
     "metadata": {},
     "output_type": "display_data"
    }
   ],
   "source": [
    "FALSE & FALSE"
   ]
  },
  {
   "cell_type": "code",
   "execution_count": 34,
   "id": "9dc5626a",
   "metadata": {},
   "outputs": [
    {
     "data": {
      "text/html": [
       "TRUE"
      ],
      "text/latex": [
       "TRUE"
      ],
      "text/markdown": [
       "TRUE"
      ],
      "text/plain": [
       "[1] TRUE"
      ]
     },
     "metadata": {},
     "output_type": "display_data"
    }
   ],
   "source": [
    "TRUE | TRUE"
   ]
  },
  {
   "cell_type": "code",
   "execution_count": 35,
   "id": "2537508a",
   "metadata": {},
   "outputs": [
    {
     "data": {
      "text/html": [
       "TRUE"
      ],
      "text/latex": [
       "TRUE"
      ],
      "text/markdown": [
       "TRUE"
      ],
      "text/plain": [
       "[1] TRUE"
      ]
     },
     "metadata": {},
     "output_type": "display_data"
    }
   ],
   "source": [
    "TRUE | FALSE"
   ]
  },
  {
   "cell_type": "code",
   "execution_count": 36,
   "id": "c66b3b10",
   "metadata": {},
   "outputs": [
    {
     "data": {
      "text/html": [
       "FALSE"
      ],
      "text/latex": [
       "FALSE"
      ],
      "text/markdown": [
       "FALSE"
      ],
      "text/plain": [
       "[1] FALSE"
      ]
     },
     "metadata": {},
     "output_type": "display_data"
    }
   ],
   "source": [
    "FALSE | FALSE"
   ]
  },
  {
   "cell_type": "code",
   "execution_count": 37,
   "id": "22c2d838",
   "metadata": {},
   "outputs": [
    {
     "data": {
      "text/html": [
       "FALSE"
      ],
      "text/latex": [
       "FALSE"
      ],
      "text/markdown": [
       "FALSE"
      ],
      "text/plain": [
       "[1] FALSE"
      ]
     },
     "metadata": {},
     "output_type": "display_data"
    }
   ],
   "source": [
    "!TRUE"
   ]
  },
  {
   "cell_type": "code",
   "execution_count": 38,
   "id": "af39c829",
   "metadata": {},
   "outputs": [
    {
     "data": {
      "text/html": [
       "TRUE"
      ],
      "text/latex": [
       "TRUE"
      ],
      "text/markdown": [
       "TRUE"
      ],
      "text/plain": [
       "[1] TRUE"
      ]
     },
     "metadata": {},
     "output_type": "display_data"
    }
   ],
   "source": [
    "!FALSE"
   ]
  },
  {
   "cell_type": "markdown",
   "id": "cfa66a65",
   "metadata": {},
   "source": [
    "Of course, both types of operators (_comparison_ and _logical_) are often combined:"
   ]
  },
  {
   "cell_type": "code",
   "execution_count": 39,
   "id": "5cd006a1",
   "metadata": {},
   "outputs": [
    {
     "data": {
      "text/html": [
       "FALSE"
      ],
      "text/latex": [
       "FALSE"
      ],
      "text/markdown": [
       "FALSE"
      ],
      "text/plain": [
       "[1] FALSE"
      ]
     },
     "metadata": {},
     "output_type": "display_data"
    }
   ],
   "source": [
    "(2 > 1) & (3 > 4)"
   ]
  },
  {
   "cell_type": "code",
   "execution_count": 40,
   "id": "e0304b3e",
   "metadata": {},
   "outputs": [
    {
     "data": {
      "text/html": [
       "TRUE"
      ],
      "text/latex": [
       "TRUE"
      ],
      "text/markdown": [
       "TRUE"
      ],
      "text/plain": [
       "[1] TRUE"
      ]
     },
     "metadata": {},
     "output_type": "display_data"
    }
   ],
   "source": [
    "(2 == 1) | (3 != 4)"
   ]
  },
  {
   "cell_type": "code",
   "execution_count": 41,
   "id": "bf72e856",
   "metadata": {},
   "outputs": [
    {
     "data": {
      "text/html": [
       "TRUE"
      ],
      "text/latex": [
       "TRUE"
      ],
      "text/markdown": [
       "TRUE"
      ],
      "text/plain": [
       "[1] TRUE"
      ]
     },
     "metadata": {},
     "output_type": "display_data"
    }
   ],
   "source": [
    "!(2 != 2)"
   ]
  },
  {
   "cell_type": "code",
   "execution_count": 42,
   "id": "dcf08dcb",
   "metadata": {},
   "outputs": [
    {
     "data": {
      "text/html": [
       "FALSE"
      ],
      "text/latex": [
       "FALSE"
      ],
      "text/markdown": [
       "FALSE"
      ],
      "text/plain": [
       "[1] FALSE"
      ]
     },
     "metadata": {},
     "output_type": "display_data"
    }
   ],
   "source": [
    "(!(2 != 2)) & (3 == 1)"
   ]
  },
  {
   "cell_type": "markdown",
   "id": "e66d1bd0",
   "metadata": {},
   "source": [
    "One major application is to control the code flow via other R keywords, such as **if** or **while** (to be discussed later):"
   ]
  },
  {
   "cell_type": "code",
   "execution_count": 43,
   "id": "3005f65d",
   "metadata": {},
   "outputs": [
    {
     "name": "stdout",
     "output_type": "stream",
     "text": [
      "[1] \"Condition True\"\n"
     ]
    }
   ],
   "source": [
    "if (2 > 1){\n",
    "    print('Condition True')\n",
    "    }"
   ]
  },
  {
   "cell_type": "code",
   "execution_count": 44,
   "id": "0d43da1f",
   "metadata": {},
   "outputs": [
    {
     "name": "stdout",
     "output_type": "stream",
     "text": [
      "[1] \"Condition true, i = 0\"\n",
      "[1] \"Condition true, i = 1\"\n",
      "[1] \"Condition true, i = 2\"\n"
     ]
    }
   ],
   "source": [
    "var_double_2 = 0  \n",
    "while (var_double_2 < 3){\n",
    "    print(   paste('Condition true, i =', var_double_2)   )  \n",
    "    var_double_2 = var_double_2 + 1\n",
    "    }"
   ]
  },
  {
   "cell_type": "markdown",
   "id": "49760303",
   "metadata": {},
   "source": [
    "Numerically, R attaches a value of 0 to **FALSE** and a value of 1 to **TRUE**, when transforming **logical** value to an **integer** using **as.integer()** (https://stat.ethz.ch/R-manual/R-devel/library/base/html/integer.html) function or to a **double** using **as.double()** (https://stat.ethz.ch/R-manual/R-devel/library/base/html/double.html) function. When transforming number to **logical** objects via the **as.logical()** (https://stat.ethz.ch/R-manual/R-devel/library/base/html/logical.html) function, a 0 gives **FALSE** while all other numbers give **TRUE**:"
   ]
  },
  {
   "cell_type": "code",
   "execution_count": 45,
   "id": "af0d4ce6",
   "metadata": {},
   "outputs": [
    {
     "data": {
      "text/html": [
       "1"
      ],
      "text/latex": [
       "1"
      ],
      "text/markdown": [
       "1"
      ],
      "text/plain": [
       "[1] 1"
      ]
     },
     "metadata": {},
     "output_type": "display_data"
    }
   ],
   "source": [
    "as.integer(TRUE)"
   ]
  },
  {
   "cell_type": "code",
   "execution_count": 46,
   "id": "08e5de38",
   "metadata": {},
   "outputs": [
    {
     "data": {
      "text/html": [
       "0"
      ],
      "text/latex": [
       "0"
      ],
      "text/markdown": [
       "0"
      ],
      "text/plain": [
       "[1] 0"
      ]
     },
     "metadata": {},
     "output_type": "display_data"
    }
   ],
   "source": [
    "as.integer(FALSE)"
   ]
  },
  {
   "cell_type": "code",
   "execution_count": 47,
   "id": "3248e686",
   "metadata": {},
   "outputs": [
    {
     "data": {
      "text/html": [
       "1"
      ],
      "text/latex": [
       "1"
      ],
      "text/markdown": [
       "1"
      ],
      "text/plain": [
       "[1] 1"
      ]
     },
     "metadata": {},
     "output_type": "display_data"
    }
   ],
   "source": [
    "as.double(TRUE)"
   ]
  },
  {
   "cell_type": "code",
   "execution_count": 48,
   "id": "848f99af",
   "metadata": {},
   "outputs": [
    {
     "data": {
      "text/html": [
       "0"
      ],
      "text/latex": [
       "0"
      ],
      "text/markdown": [
       "0"
      ],
      "text/plain": [
       "[1] 0"
      ]
     },
     "metadata": {},
     "output_type": "display_data"
    }
   ],
   "source": [
    "as.double(FALSE)"
   ]
  },
  {
   "cell_type": "code",
   "execution_count": 49,
   "id": "b20e28ff",
   "metadata": {},
   "outputs": [
    {
     "data": {
      "text/html": [
       "FALSE"
      ],
      "text/latex": [
       "FALSE"
      ],
      "text/markdown": [
       "FALSE"
      ],
      "text/plain": [
       "[1] FALSE"
      ]
     },
     "metadata": {},
     "output_type": "display_data"
    }
   ],
   "source": [
    "as.logical(0)"
   ]
  },
  {
   "cell_type": "code",
   "execution_count": 50,
   "id": "a4dc2614",
   "metadata": {},
   "outputs": [
    {
     "data": {
      "text/html": [
       "TRUE"
      ],
      "text/latex": [
       "TRUE"
      ],
      "text/markdown": [
       "TRUE"
      ],
      "text/plain": [
       "[1] TRUE"
      ]
     },
     "metadata": {},
     "output_type": "display_data"
    }
   ],
   "source": [
    "as.logical(1)"
   ]
  },
  {
   "cell_type": "code",
   "execution_count": 51,
   "id": "c8c42873",
   "metadata": {},
   "outputs": [
    {
     "data": {
      "text/html": [
       "TRUE"
      ],
      "text/latex": [
       "TRUE"
      ],
      "text/markdown": [
       "TRUE"
      ],
      "text/plain": [
       "[1] TRUE"
      ]
     },
     "metadata": {},
     "output_type": "display_data"
    }
   ],
   "source": [
    "as.logical(10.5)"
   ]
  },
  {
   "cell_type": "code",
   "execution_count": 52,
   "id": "deb5e969",
   "metadata": {},
   "outputs": [
    {
     "data": {
      "text/html": [
       "TRUE"
      ],
      "text/latex": [
       "TRUE"
      ],
      "text/markdown": [
       "TRUE"
      ],
      "text/plain": [
       "[1] TRUE"
      ]
     },
     "metadata": {},
     "output_type": "display_data"
    }
   ],
   "source": [
    "as.logical(-2)"
   ]
  },
  {
   "cell_type": "markdown",
   "id": "1791efcf",
   "metadata": {},
   "source": [
    "##### 1.1.4. Character\n",
    "\n",
    "The basic data type to represent text in R is **character**. A **character** object is generally defined by single ('text') or double (\"text\") quotation marks or by converting another object using the **as.character()** (https://stat.ethz.ch/R-manual/R-devel/library/base/html/character.html) function:"
   ]
  },
  {
   "cell_type": "code",
   "execution_count": 53,
   "id": "72a0ce41",
   "metadata": {
    "scrolled": true
   },
   "outputs": [
    {
     "data": {
      "text/html": [
       "'this is a character object'"
      ],
      "text/latex": [
       "'this is a character object'"
      ],
      "text/markdown": [
       "'this is a character object'"
      ],
      "text/plain": [
       "[1] \"this is a character object\""
      ]
     },
     "metadata": {},
     "output_type": "display_data"
    }
   ],
   "source": [
    "var_char_1 = 'this is a character object'\n",
    "var_char_1"
   ]
  },
  {
   "cell_type": "code",
   "execution_count": 54,
   "id": "73a70226",
   "metadata": {},
   "outputs": [
    {
     "data": {
      "text/html": [
       "'1000'"
      ],
      "text/latex": [
       "'1000'"
      ],
      "text/markdown": [
       "'1000'"
      ],
      "text/plain": [
       "[1] \"1000\""
      ]
     },
     "metadata": {},
     "output_type": "display_data"
    }
   ],
   "source": [
    "var_int_2 = 1000\n",
    "var_char_2 = as.character(var_int_2)\n",
    "var_char_2"
   ]
  },
  {
   "cell_type": "code",
   "execution_count": 55,
   "id": "7244774c",
   "metadata": {},
   "outputs": [
    {
     "data": {
      "text/html": [
       "'character'"
      ],
      "text/latex": [
       "'character'"
      ],
      "text/markdown": [
       "'character'"
      ],
      "text/plain": [
       "[1] \"character\""
      ]
     },
     "metadata": {},
     "output_type": "display_data"
    }
   ],
   "source": [
    "typeof(var_char_2)"
   ]
  },
  {
   "cell_type": "markdown",
   "id": "cb3a56a7",
   "metadata": {},
   "source": [
    "Sometimes it is useful to use **print()** (https://stat.ethz.ch/R-manual/R-devel/library/base/html/print.html) function to display objects:"
   ]
  },
  {
   "cell_type": "code",
   "execution_count": 57,
   "id": "9c0806fc",
   "metadata": {},
   "outputs": [
    {
     "name": "stdout",
     "output_type": "stream",
     "text": [
      "[1] \"1000\"\n"
     ]
    },
    {
     "data": {
      "text/html": [
       "'1000'"
      ],
      "text/latex": [
       "'1000'"
      ],
      "text/markdown": [
       "'1000'"
      ],
      "text/plain": [
       "[1] \"1000\""
      ]
     },
     "metadata": {},
     "output_type": "display_data"
    }
   ],
   "source": [
    "print(var_char_2)\n",
    "var_char_2"
   ]
  },
  {
   "cell_type": "code",
   "execution_count": 58,
   "id": "8e65122f",
   "metadata": {},
   "outputs": [
    {
     "name": "stdout",
     "output_type": "stream",
     "text": [
      "[1] 1000\n"
     ]
    }
   ],
   "source": [
    "print(var_char_2, quote=FALSE)"
   ]
  },
  {
   "cell_type": "markdown",
   "id": "7b6cefcb",
   "metadata": {},
   "source": [
    "Since objects in R do not have methods, you have to use functions instead. You can, for example, capitalize all the letters in this object using **toupper()** (https://stat.ethz.ch/R-manual/R-devel/library/base/html/chartr.html) function:"
   ]
  },
  {
   "cell_type": "code",
   "execution_count": 59,
   "id": "a6e2fcd5",
   "metadata": {},
   "outputs": [
    {
     "data": {
      "text/html": [
       "'THIS IS A CHARACTER OBJECT'"
      ],
      "text/latex": [
       "'THIS IS A CHARACTER OBJECT'"
      ],
      "text/markdown": [
       "'THIS IS A CHARACTER OBJECT'"
      ],
      "text/plain": [
       "[1] \"THIS IS A CHARACTER OBJECT\""
      ]
     },
     "metadata": {},
     "output_type": "display_data"
    }
   ],
   "source": [
    "toupper(var_char_1)"
   ]
  },
  {
   "cell_type": "markdown",
   "id": "b0cd4e0d",
   "metadata": {},
   "source": [
    "Or you can split it into its single-word components using **strsplit()** (https://stat.ethz.ch/R-manual/R-devel/library/base/html/strsplit.html) function to get a **list** object of all the words (more on **list** objects later):"
   ]
  },
  {
   "cell_type": "code",
   "execution_count": 60,
   "id": "b4e6108d",
   "metadata": {},
   "outputs": [
    {
     "name": "stdout",
     "output_type": "stream",
     "text": [
      "[[1]]\n",
      "[1] \"this\"      \"is\"        \"a\"         \"character\" \"object\"   \n",
      "\n"
     ]
    }
   ],
   "source": [
    "print(   strsplit(var_char_1, \" \")   )"
   ]
  },
  {
   "cell_type": "code",
   "execution_count": 61,
   "id": "0b82fb55",
   "metadata": {},
   "outputs": [
    {
     "name": "stdout",
     "output_type": "stream",
     "text": [
      "[[1]]\n",
      "[1] \"thi\"                 \" i\"                  \" a character object\"\n",
      "\n"
     ]
    }
   ],
   "source": [
    "print(   strsplit(var_char_1, \"s\")   )"
   ]
  },
  {
   "cell_type": "code",
   "execution_count": 62,
   "id": "1dcd2e9a",
   "metadata": {},
   "outputs": [
    {
     "data": {
      "text/html": [
       "'list'"
      ],
      "text/latex": [
       "'list'"
      ],
      "text/markdown": [
       "'list'"
      ],
      "text/plain": [
       "[1] \"list\""
      ]
     },
     "metadata": {},
     "output_type": "display_data"
    }
   ],
   "source": [
    "typeof(   strsplit(var_char_1, \"s\")   )"
   ]
  },
  {
   "cell_type": "markdown",
   "id": "8a316062",
   "metadata": {},
   "source": [
    "This example illustrates that functions can be used inside other functions. In this case **strsplit()** (https://stat.ethz.ch/R-manual/R-devel/library/base/html/strsplit.html) function is used inside **typeof()** (https://stat.ethz.ch/R-manual/R-devel/library/base/html/typeof.html) function.\n",
    "\n",
    "Let's get back to **character** objects. You can also search for a word using **regexpr()** (https://stat.ethz.ch/R-manual/R-devel/library/base/html/grep.html) function and get the position (starting with 1) of the first letter of the word (position in R is also called an _index_):"
   ]
  },
  {
   "cell_type": "code",
   "execution_count": 63,
   "id": "82900638",
   "metadata": {},
   "outputs": [
    {
     "data": {
      "text/html": [
       "11"
      ],
      "text/latex": [
       "11"
      ],
      "text/markdown": [
       "11"
      ],
      "text/plain": [
       "[1] 11\n",
       "attr(,\"match.length\")\n",
       "[1] 9\n",
       "attr(,\"index.type\")\n",
       "[1] \"chars\"\n",
       "attr(,\"useBytes\")\n",
       "[1] TRUE"
      ]
     },
     "metadata": {},
     "output_type": "display_data"
    }
   ],
   "source": [
    "regexpr('character', var_char_1)"
   ]
  },
  {
   "cell_type": "markdown",
   "id": "1d3f67d7",
   "metadata": {},
   "source": [
    "If the word is not in the **character** object, the method returns -1:"
   ]
  },
  {
   "cell_type": "code",
   "execution_count": 64,
   "id": "4a6f6e7c",
   "metadata": {},
   "outputs": [
    {
     "data": {
      "text/html": [
       "-1"
      ],
      "text/latex": [
       "-1"
      ],
      "text/markdown": [
       "-1"
      ],
      "text/plain": [
       "[1] -1\n",
       "attr(,\"match.length\")\n",
       "[1] -1\n",
       "attr(,\"index.type\")\n",
       "[1] \"chars\"\n",
       "attr(,\"useBytes\")\n",
       "[1] TRUE"
      ]
     },
     "metadata": {},
     "output_type": "display_data"
    }
   ],
   "source": [
    "regexpr('Python', var_char_1)"
   ]
  },
  {
   "cell_type": "markdown",
   "id": "6bc7cfdf",
   "metadata": {},
   "source": [
    "You can also view any portion of a **character** object using **substr()** (https://stat.ethz.ch/R-manual/R-devel/library/base/html/substr.html) function by providing starting and ending indices:"
   ]
  },
  {
   "cell_type": "code",
   "execution_count": 66,
   "id": "0ddb05be",
   "metadata": {},
   "outputs": [
    {
     "data": {
      "text/html": [
       "'this i'"
      ],
      "text/latex": [
       "'this i'"
      ],
      "text/markdown": [
       "'this i'"
      ],
      "text/plain": [
       "[1] \"this i\""
      ]
     },
     "metadata": {},
     "output_type": "display_data"
    }
   ],
   "source": [
    "substr(var_char_1, 1, 6)"
   ]
  },
  {
   "cell_type": "markdown",
   "id": "e7750a3b",
   "metadata": {},
   "source": [
    "Or you can choose only one symbol:"
   ]
  },
  {
   "cell_type": "code",
   "execution_count": 67,
   "id": "aa436a22",
   "metadata": {},
   "outputs": [
    {
     "data": {
      "text/html": [
       "'h'"
      ],
      "text/latex": [
       "'h'"
      ],
      "text/markdown": [
       "'h'"
      ],
      "text/plain": [
       "[1] \"h\""
      ]
     },
     "metadata": {},
     "output_type": "display_data"
    }
   ],
   "source": [
    "substr(var_char_1, 12, 12)"
   ]
  },
  {
   "cell_type": "markdown",
   "id": "8d03b53e",
   "metadata": {},
   "source": [
    "In R **character** objects can't be sliced using square brackets, but **list** objects can, so the discussion on slicing will be relegated to the section about lists.\n",
    "The length of a **character** object can be found using **nchar()** (https://stat.ethz.ch/R-manual/R-devel/library/base/html/nchar.html) function:"
   ]
  },
  {
   "cell_type": "code",
   "execution_count": 68,
   "id": "eeb775cd",
   "metadata": {},
   "outputs": [
    {
     "data": {
      "text/html": [
       "26"
      ],
      "text/latex": [
       "26"
      ],
      "text/markdown": [
       "26"
      ],
      "text/plain": [
       "[1] 26"
      ]
     },
     "metadata": {},
     "output_type": "display_data"
    }
   ],
   "source": [
    "nchar(var_char_1)"
   ]
  },
  {
   "cell_type": "markdown",
   "id": "99468c50",
   "metadata": {},
   "source": [
    "Replacing characters is easily accomplished with the **gsub()** (https://stat.ethz.ch/R-manual/R-devel/library/base/html/grep.html) function:"
   ]
  },
  {
   "cell_type": "code",
   "execution_count": 69,
   "id": "e2a13560",
   "metadata": {},
   "outputs": [
    {
     "data": {
      "text/html": [
       "'this | is | a | character | object'"
      ],
      "text/latex": [
       "'this \\textbar{} is \\textbar{} a \\textbar{} character \\textbar{} object'"
      ],
      "text/markdown": [
       "'this | is | a | character | object'"
      ],
      "text/plain": [
       "[1] \"this | is | a | character | object\""
      ]
     },
     "metadata": {},
     "output_type": "display_data"
    }
   ],
   "source": [
    "gsub(\" \", \" | \", var_char_1)"
   ]
  },
  {
   "cell_type": "markdown",
   "id": "eea251c4",
   "metadata": {},
   "source": [
    "The stripping of whitespaces can be done using **trimws()** (https://stat.ethz.ch/R-manual/R-devel/library/base/html/trimws.html) function:"
   ]
  },
  {
   "cell_type": "code",
   "execution_count": 70,
   "id": "789ad20b",
   "metadata": {},
   "outputs": [
    {
     "data": {
      "text/html": [
       "'This is R!'"
      ],
      "text/latex": [
       "'This is R!'"
      ],
      "text/markdown": [
       "'This is R!'"
      ],
      "text/plain": [
       "[1] \"This is R!\""
      ]
     },
     "metadata": {},
     "output_type": "display_data"
    }
   ],
   "source": [
    "var_char_3 = '   This is R! '\n",
    "trimws(var_char_3)"
   ]
  },
  {
   "cell_type": "markdown",
   "id": "d0275bdd",
   "metadata": {},
   "source": [
    "You can print strings and variables together using **paste()** (https://stat.ethz.ch/R-manual/R-devel/library/base/html/paste.html), **cat()** (https://stat.ethz.ch/R-manual/R-devel/library/base/html/cat.html) or **message()** (https://stat.ethz.ch/R-manual/R-devel/library/base/html/message.html) functions:"
   ]
  },
  {
   "cell_type": "code",
   "execution_count": 73,
   "id": "51a765bb",
   "metadata": {},
   "outputs": [
    {
     "data": {
      "text/html": [
       "'One and a half 1.5'"
      ],
      "text/latex": [
       "'One and a half 1.5'"
      ],
      "text/markdown": [
       "'One and a half 1.5'"
      ],
      "text/plain": [
       "[1] \"One and a half 1.5\""
      ]
     },
     "metadata": {},
     "output_type": "display_data"
    }
   ],
   "source": [
    "var_double_3 = 1.5\n",
    "paste('One and a half', var_double_3)"
   ]
  },
  {
   "cell_type": "code",
   "execution_count": 74,
   "id": "3e811a8c",
   "metadata": {},
   "outputs": [
    {
     "name": "stdout",
     "output_type": "stream",
     "text": [
      "1.5 one and a half. Two and a half 2.5"
     ]
    }
   ],
   "source": [
    "cat(var_double_3, 'one and a half. Two and a half', (var_double_3 + 1))"
   ]
  },
  {
   "cell_type": "code",
   "execution_count": 75,
   "id": "37ac8fe1",
   "metadata": {},
   "outputs": [
    {
     "name": "stderr",
     "output_type": "stream",
     "text": [
      "1.5 one and a half.\n"
     ]
    }
   ],
   "source": [
    "message(var_double_3, ' one and a half.')"
   ]
  },
  {
   "cell_type": "markdown",
   "id": "317d70f4",
   "metadata": {},
   "source": [
    "String replacements are particularly useful in the context of multiple printing operations where the printed data is updated, for instance, during a **while** loop:"
   ]
  },
  {
   "cell_type": "code",
   "execution_count": 76,
   "id": "7a8c3c74",
   "metadata": {
    "scrolled": true
   },
   "outputs": [
    {
     "name": "stdout",
     "output_type": "stream",
     "text": [
      "[1] \"Condition true, i =  0\"\n",
      "[1] \"Condition true, i =  1\"\n",
      "[1] \"Condition true, i =  2\"\n"
     ]
    }
   ],
   "source": [
    "var_double_4 = 0\n",
    "\n",
    "while (var_double_4 < 3){\n",
    "    print(paste('Condition true, i = ', var_double_4))\n",
    "    var_double_4 = var_double_4 + 1\n",
    "}"
   ]
  },
  {
   "cell_type": "markdown",
   "id": "a2cef222",
   "metadata": {},
   "source": [
    "##### 1.1.5. Complex\n",
    "\n",
    "In R there is another data type, **complex** object, but we will not be talking about it here:"
   ]
  },
  {
   "cell_type": "code",
   "execution_count": 77,
   "id": "bc01abc9",
   "metadata": {},
   "outputs": [
    {
     "data": {
      "text/html": [
       "'complex'"
      ],
      "text/latex": [
       "'complex'"
      ],
      "text/markdown": [
       "'complex'"
      ],
      "text/plain": [
       "[1] \"complex\""
      ]
     },
     "metadata": {},
     "output_type": "display_data"
    }
   ],
   "source": [
    "var_complex_1 = 1+4i\n",
    "typeof(var_complex_1)"
   ]
  },
  {
   "cell_type": "markdown",
   "id": "f3e4aa79",
   "metadata": {},
   "source": [
    "**_Exercises:_**"
   ]
  },
  {
   "cell_type": "markdown",
   "id": "318e125e",
   "metadata": {},
   "source": [
    "Exercise 1. What values of **var_int** will return **FALSE** in the following expression?"
   ]
  },
  {
   "cell_type": "code",
   "execution_count": 78,
   "id": "e87a37fa",
   "metadata": {},
   "outputs": [
    {
     "data": {
      "text/html": [
       "TRUE"
      ],
      "text/latex": [
       "TRUE"
      ],
      "text/markdown": [
       "TRUE"
      ],
      "text/plain": [
       "[1] TRUE"
      ]
     },
     "metadata": {},
     "output_type": "display_data"
    }
   ],
   "source": [
    "var_int = 5\n",
    "((5 != 4) & (2 <= 1)) | (!(1 == var_int) & (8 >= 8))"
   ]
  },
  {
   "cell_type": "markdown",
   "id": "2f1d766d",
   "metadata": {},
   "source": [
    "Exercise 2. Remove all occurences of 'th' from a sentence 'this is another character object'."
   ]
  },
  {
   "cell_type": "code",
   "execution_count": 79,
   "id": "5ec73d89",
   "metadata": {},
   "outputs": [
    {
     "name": "stdout",
     "output_type": "stream",
     "text": [
      "[1] \"is is anoer character object\"\n"
     ]
    }
   ],
   "source": [
    "text = 'this is another character object'\n",
    "print(gsub('th',\"\",text))"
   ]
  },
  {
   "cell_type": "markdown",
   "id": "45bc9384",
   "metadata": {},
   "source": [
    "Exercise 3. Transform a number 56789 into 78 without using any arithmetic operators."
   ]
  },
  {
   "cell_type": "code",
   "execution_count": 80,
   "id": "3d8da089",
   "metadata": {},
   "outputs": [
    {
     "data": {
      "text/html": [
       "78"
      ],
      "text/latex": [
       "78"
      ],
      "text/markdown": [
       "78"
      ],
      "text/plain": [
       "[1] 78"
      ]
     },
     "metadata": {},
     "output_type": "display_data"
    }
   ],
   "source": [
    "nb=56789\n",
    "as.integer(substr(as.character(nb),3,4))"
   ]
  },
  {
   "cell_type": "markdown",
   "id": "e3678f3b",
   "metadata": {},
   "source": [
    "#### 1.2. Basic data structures\n",
    "\n",
    "Data structures are objects that contain a number of other objects. R’s base data structures can be organised by their dimensionality (1-d, 2-d, or n-d) and whether they’re homogeneous (all elements of the same type) or heterogeneous (elements can be of different types). This gives rise to the five data types:\n",
    "\n",
    "| Dimensions | Homogeneous | Hetergeneous |\n",
    "| --- | --- | --- |\n",
    "| 1-d | Vector | List |\n",
    "| 2-d | Matrix | Data frame |\n",
    "| n-d | Array | - |\n",
    "\n",
    "Note that R has no 0-dimensional, or scalar types: individual numbers or strings, which you might think would be scalars, are actually **vectors** of length one.\n",
    "\n",
    "##### 1.2.1. Vector\n",
    "\n",
    "A **vector** is the most common and basic data structure in R and is pretty much the workhorse of R. A **vector** is a collection of elements of the same type: **character**, **logical**, **integer** or **double**.\n",
    "\n",
    "You can create an empty **vector** with **vector()** (https://stat.ethz.ch/R-manual/R-devel/library/base/html/vector.html) function. By default the mode is **logical**, but you can use direct constructors such as **character()** (https://stat.ethz.ch/R-manual/R-devel/library/base/html/character.html), **double()** (https://stat.ethz.ch/R-manual/R-devel/library/base/html/double.html) etc."
   ]
  },
  {
   "cell_type": "code",
   "execution_count": 1,
   "id": "03efebdf",
   "metadata": {},
   "outputs": [
    {
     "name": "stdout",
     "output_type": "stream",
     "text": [
      "logical(0)\n"
     ]
    }
   ],
   "source": [
    "var_vector_1 = vector()\n",
    "print(var_vector_1)"
   ]
  },
  {
   "cell_type": "code",
   "execution_count": 2,
   "id": "3467f11c",
   "metadata": {},
   "outputs": [
    {
     "name": "stdout",
     "output_type": "stream",
     "text": [
      "[1] \"\" \"\" \"\" \"\" \"\"\n"
     ]
    }
   ],
   "source": [
    "var_vector_2 = vector('character', length=5)\n",
    "print(var_vector_2)"
   ]
  },
  {
   "cell_type": "code",
   "execution_count": 3,
   "id": "1da6d1c9",
   "metadata": {},
   "outputs": [
    {
     "name": "stdout",
     "output_type": "stream",
     "text": [
      "[1] 0 0 0 0 0\n"
     ]
    }
   ],
   "source": [
    "var_vector_3 = double(5)\n",
    "print(var_vector_3)"
   ]
  },
  {
   "cell_type": "markdown",
   "id": "19689ab7",
   "metadata": {},
   "source": [
    "You can insert, change or add **vector** elements by referring to those elements using square brackets **[...]**:"
   ]
  },
  {
   "cell_type": "code",
   "execution_count": 7,
   "id": "065499df",
   "metadata": {},
   "outputs": [
    {
     "name": "stdout",
     "output_type": "stream",
     "text": [
      "[1] 0 1 0 0 0\n"
     ]
    }
   ],
   "source": [
    "var_vector_3[2] = 1\n",
    "print(var_vector_3)"
   ]
  },
  {
   "cell_type": "code",
   "execution_count": 8,
   "id": "8ffad3b4",
   "metadata": {},
   "outputs": [
    {
     "name": "stdout",
     "output_type": "stream",
     "text": [
      "[1] 0 1 0 0 0 9\n"
     ]
    }
   ],
   "source": [
    "var_vector_3[6] = 9\n",
    "print(var_vector_3)"
   ]
  },
  {
   "cell_type": "code",
   "execution_count": 9,
   "id": "e8b2c13e",
   "metadata": {},
   "outputs": [
    {
     "name": "stdout",
     "output_type": "stream",
     "text": [
      "[1]  0  1  0  0  0 10\n"
     ]
    }
   ],
   "source": [
    "var_vector_3[6] = var_vector_3[6] + 1\n",
    "print(var_vector_3)"
   ]
  },
  {
   "cell_type": "markdown",
   "id": "b9f85c3b",
   "metadata": {},
   "source": [
    "You can also create **vectors** by directly specifying their content using **c()** (https://stat.ethz.ch/R-manual/R-devel/library/base/html/c.html) function. R will then guess the appropriate mode of storage for the **vector**:"
   ]
  },
  {
   "cell_type": "code",
   "execution_count": 10,
   "id": "3fa39850",
   "metadata": {},
   "outputs": [
    {
     "name": "stdout",
     "output_type": "stream",
     "text": [
      "[1] 1 2 3 4\n"
     ]
    }
   ],
   "source": [
    "var_vector_4 = c(1, 2, 3, 4)\n",
    "print(var_vector_4)"
   ]
  },
  {
   "cell_type": "code",
   "execution_count": 11,
   "id": "4e5cdc8e",
   "metadata": {},
   "outputs": [
    {
     "data": {
      "text/html": [
       "'double'"
      ],
      "text/latex": [
       "'double'"
      ],
      "text/markdown": [
       "'double'"
      ],
      "text/plain": [
       "[1] \"double\""
      ]
     },
     "metadata": {},
     "output_type": "display_data"
    }
   ],
   "source": [
    "typeof(var_vector_4)"
   ]
  },
  {
   "cell_type": "markdown",
   "id": "610723fe",
   "metadata": {},
   "source": [
    "You can create **vectors** as a sequence of numbers using **seq()** (https://stat.ethz.ch/R-manual/R-devel/library/base/html/seq.html) function:"
   ]
  },
  {
   "cell_type": "code",
   "execution_count": 12,
   "id": "6d1a8270",
   "metadata": {},
   "outputs": [
    {
     "name": "stdout",
     "output_type": "stream",
     "text": [
      " [1]  1  2  3  4  5  6  7  8  9 10\n"
     ]
    }
   ],
   "source": [
    "var_vector_5 = seq(10)\n",
    "print(var_vector_5)"
   ]
  },
  {
   "cell_type": "code",
   "execution_count": 13,
   "id": "d9ad8abf",
   "metadata": {},
   "outputs": [
    {
     "name": "stdout",
     "output_type": "stream",
     "text": [
      " [1]  5.0  5.5  6.0  6.5  7.0  7.5  8.0  8.5  9.0  9.5 10.0\n"
     ]
    }
   ],
   "source": [
    "var_vector_6 = seq(from=5, to=10, by=0.5)\n",
    "print(var_vector_6)"
   ]
  },
  {
   "cell_type": "code",
   "execution_count": 14,
   "id": "6de1e545",
   "metadata": {},
   "outputs": [
    {
     "name": "stdout",
     "output_type": "stream",
     "text": [
      "[1]  5  6  7  8  9 10\n"
     ]
    }
   ],
   "source": [
    "var_vector_7 = 5:10\n",
    "print(var_vector_7)"
   ]
  },
  {
   "cell_type": "markdown",
   "id": "c07dadf8",
   "metadata": {},
   "source": [
    "Using quoted text will create a **vector** of type **character**:"
   ]
  },
  {
   "cell_type": "code",
   "execution_count": 15,
   "id": "1b591641",
   "metadata": {},
   "outputs": [
    {
     "name": "stdout",
     "output_type": "stream",
     "text": [
      "[1] \"John\"  \"Peter\" \"Tom\"  \n"
     ]
    }
   ],
   "source": [
    "var_vector_8 = c('John', 'Peter', 'Tom')\n",
    "print(var_vector_8)"
   ]
  },
  {
   "cell_type": "code",
   "execution_count": 16,
   "id": "60b80ad1",
   "metadata": {},
   "outputs": [
    {
     "data": {
      "text/html": [
       "'character'"
      ],
      "text/latex": [
       "'character'"
      ],
      "text/markdown": [
       "'character'"
      ],
      "text/plain": [
       "[1] \"character\""
      ]
     },
     "metadata": {},
     "output_type": "display_data"
    }
   ],
   "source": [
    "typeof(var_vector_8)"
   ]
  },
  {
   "cell_type": "markdown",
   "id": "e371d807",
   "metadata": {},
   "source": [
    "The functions **length()** (https://stat.ethz.ch/R-manual/R-devel/library/base/html/length.html) and **str()** (https://stat.ethz.ch/R-manual/R-devel/library/utils/html/str.html) provide useful information about your **vectors** and R objects in general."
   ]
  },
  {
   "cell_type": "code",
   "execution_count": 17,
   "id": "ff556f53",
   "metadata": {},
   "outputs": [
    {
     "data": {
      "text/html": [
       "3"
      ],
      "text/latex": [
       "3"
      ],
      "text/markdown": [
       "3"
      ],
      "text/plain": [
       "[1] 3"
      ]
     },
     "metadata": {},
     "output_type": "display_data"
    }
   ],
   "source": [
    "length(var_vector_8)"
   ]
  },
  {
   "cell_type": "code",
   "execution_count": 19,
   "id": "ab6e96d2",
   "metadata": {},
   "outputs": [
    {
     "name": "stdout",
     "output_type": "stream",
     "text": [
      " chr [1:3] \"John\" \"Peter\" \"Tom\"\n",
      "[1] \"John\"\n"
     ]
    }
   ],
   "source": [
    "str(var_vector_8)"
   ]
  },
  {
   "cell_type": "markdown",
   "id": "c43f6267",
   "metadata": {},
   "source": [
    "The function **c()** (https://stat.ethz.ch/R-manual/R-devel/library/base/html/c.html) can also be used to add elements to a **vector**:"
   ]
  },
  {
   "cell_type": "code",
   "execution_count": 20,
   "id": "845e3778",
   "metadata": {},
   "outputs": [
    {
     "name": "stdout",
     "output_type": "stream",
     "text": [
      "[1] \"John\"  \"Peter\" \"Tom\"   \"Roman\"\n"
     ]
    }
   ],
   "source": [
    "var_vector_9 = c(var_vector_8, 'Roman')\n",
    "print(var_vector_9)"
   ]
  },
  {
   "cell_type": "code",
   "execution_count": 21,
   "id": "d62bf830",
   "metadata": {},
   "outputs": [
    {
     "name": "stdout",
     "output_type": "stream",
     "text": [
      "[1] \"Martin\" \"John\"   \"Peter\"  \"Tom\"    \"Roman\" \n"
     ]
    }
   ],
   "source": [
    "var_vector_10 = c('Martin', var_vector_9)\n",
    "print(var_vector_10)"
   ]
  },
  {
   "cell_type": "markdown",
   "id": "565003c1",
   "metadata": {},
   "source": [
    "You can see that **vectors** are always flat, even if you nest **c()** (https://stat.ethz.ch/R-manual/R-devel/library/base/html/c.html):"
   ]
  },
  {
   "cell_type": "code",
   "execution_count": 22,
   "id": "b2c7d7a6",
   "metadata": {},
   "outputs": [
    {
     "name": "stdout",
     "output_type": "stream",
     "text": [
      "[1] 1 2 3 4\n"
     ]
    }
   ],
   "source": [
    "var_vector_11 = c(1, c(2, c(3, 4)))\n",
    "print(var_vector_11)"
   ]
  },
  {
   "cell_type": "markdown",
   "id": "bec19654",
   "metadata": {},
   "source": [
    "If mixing types inside a **vector**, R will create a resulting **vector** with a mode that can most easily accommodate all the elements it contains. This conversion between modes of storage is called _coercion_. When R converts the mode of storage based on its content, it is referred to as _implicit coercion_. For instance:"
   ]
  },
  {
   "cell_type": "code",
   "execution_count": 23,
   "id": "3eb01af9",
   "metadata": {},
   "outputs": [
    {
     "name": "stdout",
     "output_type": "stream",
     "text": [
      "[1] \"100\"     \"hundred\"\n"
     ]
    }
   ],
   "source": [
    "var_vector_12 = c(100, 'hundred')\n",
    "print(var_vector_12)"
   ]
  },
  {
   "cell_type": "code",
   "execution_count": 24,
   "id": "26f1e8cc",
   "metadata": {},
   "outputs": [
    {
     "data": {
      "text/html": [
       "'character'"
      ],
      "text/latex": [
       "'character'"
      ],
      "text/markdown": [
       "'character'"
      ],
      "text/plain": [
       "[1] \"character\""
      ]
     },
     "metadata": {},
     "output_type": "display_data"
    }
   ],
   "source": [
    "typeof(var_vector_12)"
   ]
  },
  {
   "cell_type": "code",
   "execution_count": 25,
   "id": "7c0cb4bc",
   "metadata": {},
   "outputs": [
    {
     "name": "stdout",
     "output_type": "stream",
     "text": [
      "[1] 1 2\n"
     ]
    }
   ],
   "source": [
    "var_vector_13 = c(TRUE, 2)\n",
    "print(var_vector_13)"
   ]
  },
  {
   "cell_type": "markdown",
   "id": "f734dbe0",
   "metadata": {},
   "source": [
    "You can perform arithmetic operations on **vectors** and between them:"
   ]
  },
  {
   "cell_type": "code",
   "execution_count": 27,
   "id": "b3e079d8",
   "metadata": {},
   "outputs": [
    {
     "name": "stdout",
     "output_type": "stream",
     "text": [
      "[1]  1  4  9 16 25\n"
     ]
    }
   ],
   "source": [
    "var_vector_14 = 1:5\n",
    "print(   var_vector_14 ^ 2   )"
   ]
  },
  {
   "cell_type": "code",
   "execution_count": 28,
   "id": "1f28c2b9",
   "metadata": {},
   "outputs": [
    {
     "name": "stdout",
     "output_type": "stream",
     "text": [
      "[1]  2  4  6  8 10\n"
     ]
    }
   ],
   "source": [
    "print(   var_vector_14 + var_vector_14   )"
   ]
  },
  {
   "cell_type": "markdown",
   "id": "9585f4d7",
   "metadata": {},
   "source": [
    "Note: **vectors** will be discussed in more detail in section 3.\n",
    "\n",
    "##### 1.2.2. Matrix\n",
    "\n",
    "In R a **matrix** is an extension of a **vector**. It is not a separate type of object but simply a **vector** with dimensions - with the number of rows and columns. As with **vectors**, the elements of a **matrix** must be of the same data type. **Matrix** can be created using **matrix()** (https://stat.ethz.ch/R-manual/R-devel/library/base/html/matrix.html) function:"
   ]
  },
  {
   "cell_type": "code",
   "execution_count": 29,
   "id": "f337ce9f",
   "metadata": {},
   "outputs": [
    {
     "name": "stdout",
     "output_type": "stream",
     "text": [
      "     [,1] [,2] [,3]\n",
      "[1,]   NA   NA   NA\n",
      "[2,]   NA   NA   NA\n",
      "[3,]   NA   NA   NA\n"
     ]
    }
   ],
   "source": [
    "var_matrix_1 = matrix(nrow=3, ncol=3)\n",
    "print(var_matrix_1)"
   ]
  },
  {
   "cell_type": "markdown",
   "id": "af1c35c1",
   "metadata": {},
   "source": [
    "You can check or set the dimensions of a **matrix** using **dim()** (https://stat.ethz.ch/R-manual/R-devel/library/base/html/dim.html) function:"
   ]
  },
  {
   "cell_type": "code",
   "execution_count": 33,
   "id": "c1a8ce6d",
   "metadata": {
    "scrolled": true
   },
   "outputs": [
    {
     "name": "stdout",
     "output_type": "stream",
     "text": [
      "     [,1] [,2] [,3] [,4]\n",
      "[1,]    1    4    7   10\n",
      "[2,]    2    5    8   11\n",
      "[3,]    3    6    9   12\n"
     ]
    }
   ],
   "source": [
    "var_matrix_2 = 1:12\n",
    "dim(var_matrix_2) = c(3, 4)\n",
    "print(var_matrix_2)"
   ]
  },
  {
   "cell_type": "markdown",
   "id": "5d29da75",
   "metadata": {},
   "source": [
    "As you can see, in R **matrices** are filled column-wise. Another way to create a **matrix** is to enter the data and dimensions right away:"
   ]
  },
  {
   "cell_type": "code",
   "execution_count": 35,
   "id": "c1500098",
   "metadata": {},
   "outputs": [
    {
     "name": "stdout",
     "output_type": "stream",
     "text": [
      "     [,1] [,2]\n",
      "[1,]    1    5\n",
      "[2,]    2    6\n",
      "[3,]    3    7\n",
      "[4,]    4    8\n"
     ]
    }
   ],
   "source": [
    "var_matrix_3 = matrix(1:8, nrow=4, ncol=2)\n",
    "print(var_matrix_3)"
   ]
  },
  {
   "cell_type": "markdown",
   "id": "3a19fcb9",
   "metadata": {},
   "source": [
    "You can choose or change a value or a **vector** by referring to it using square brackets **[...]**:"
   ]
  },
  {
   "cell_type": "code",
   "execution_count": 37,
   "id": "ca28e1cd",
   "metadata": {},
   "outputs": [
    {
     "name": "stdout",
     "output_type": "stream",
     "text": [
      "     [,1] [,2]\n",
      "[1,]    1   10\n",
      "[2,]    2   10\n",
      "[3,]    3    7\n",
      "[4,]    4    8\n"
     ]
    }
   ],
   "source": [
    "var_matrix_3[1, 2] = 10\n",
    "print(var_matrix_3)"
   ]
  },
  {
   "cell_type": "code",
   "execution_count": 38,
   "id": "24271a75",
   "metadata": {},
   "outputs": [
    {
     "name": "stdout",
     "output_type": "stream",
     "text": [
      "     [,1] [,2]\n",
      "[1,]    1   10\n",
      "[2,]    2   10\n",
      "[3,]    3    7\n",
      "[4,]   20   40\n"
     ]
    }
   ],
   "source": [
    "var_matrix_3[4,] = c(20, 40)\n",
    "print(var_matrix_3)"
   ]
  },
  {
   "cell_type": "code",
   "execution_count": 39,
   "id": "c5c6845a",
   "metadata": {
    "scrolled": true
   },
   "outputs": [
    {
     "name": "stdout",
     "output_type": "stream",
     "text": [
      "     [,1] [,2]\n",
      "[1,]    1   20\n",
      "[2,]    2   20\n",
      "[3,]    3   14\n",
      "[4,]   20   80\n"
     ]
    }
   ],
   "source": [
    "var_matrix_3[,2] = var_matrix_3[,2] * 2\n",
    "print(var_matrix_3)"
   ]
  },
  {
   "cell_type": "markdown",
   "id": "b1427c60",
   "metadata": {},
   "source": [
    "You can transpose a **matrix** using **t()** (https://stat.ethz.ch/R-manual/R-devel/library/base/html/t.html) function:"
   ]
  },
  {
   "cell_type": "code",
   "execution_count": 40,
   "id": "c463812a",
   "metadata": {
    "scrolled": true
   },
   "outputs": [
    {
     "name": "stdout",
     "output_type": "stream",
     "text": [
      "     [,1] [,2] [,3] [,4]\n",
      "[1,]    1    2    3   20\n",
      "[2,]   20   20   14   80\n"
     ]
    }
   ],
   "source": [
    "print(   t(var_matrix_3)   )"
   ]
  },
  {
   "cell_type": "markdown",
   "id": "eba293c1",
   "metadata": {},
   "source": [
    "You can perform arithmetic opertions on **matrices** and between them:"
   ]
  },
  {
   "cell_type": "code",
   "execution_count": 41,
   "id": "e14fc3f5",
   "metadata": {
    "scrolled": true
   },
   "outputs": [
    {
     "name": "stdout",
     "output_type": "stream",
     "text": [
      "     [,1] [,2] [,3]\n",
      "[1,]    1   16   49\n",
      "[2,]    4   25   64\n",
      "[3,]    9   36   81\n"
     ]
    }
   ],
   "source": [
    "var_matrix_4 = matrix(1:9, nrow = 3)\n",
    "print(   var_matrix_4 ^ 2   )"
   ]
  },
  {
   "cell_type": "code",
   "execution_count": 42,
   "id": "0640197a",
   "metadata": {},
   "outputs": [
    {
     "name": "stdout",
     "output_type": "stream",
     "text": [
      "     [,1] [,2] [,3]\n",
      "[1,]    2    8   14\n",
      "[2,]    4   10   16\n",
      "[3,]    6   12   18\n"
     ]
    }
   ],
   "source": [
    "print(   var_matrix_4 + var_matrix_4   )"
   ]
  },
  {
   "cell_type": "markdown",
   "id": "ea991f27",
   "metadata": {},
   "source": [
    "Note: **matrices** will be discussed in more detail in section 3.\n",
    "\n",
    "A **vector** or a **matrix** can only contain elements of the same type. Another object, a **list**, can contain various types.\n",
    "\n",
    "##### 1.2.3. List\n",
    "\n",
    "In R **lists** act as containers. Unlike **vectors**, the contents of a **list** are not restricted to a single mode and can encompass any mixture of data types. Create **lists** using **list()** (https://stat.ethz.ch/R-manual/R-devel/library/base/html/list.html) functon:"
   ]
  },
  {
   "cell_type": "code",
   "execution_count": 43,
   "id": "eff6202c",
   "metadata": {},
   "outputs": [
    {
     "name": "stdout",
     "output_type": "stream",
     "text": [
      "[[1]]\n",
      "[1] 1 2 3\n",
      "\n",
      "[[2]]\n",
      "[1] \"hi\"\n",
      "\n",
      "[[3]]\n",
      "[1]  TRUE FALSE\n",
      "\n",
      "[[4]]\n",
      "[1]  0.5 -1.9\n",
      "\n"
     ]
    }
   ],
   "source": [
    "var_list_1 = list(1:3, \"hi\", c(TRUE, FALSE), c(0.5, -1.9))\n",
    "print(var_list_1)"
   ]
  },
  {
   "cell_type": "code",
   "execution_count": 44,
   "id": "3f57086f",
   "metadata": {},
   "outputs": [
    {
     "name": "stdout",
     "output_type": "stream",
     "text": [
      "List of 4\n",
      " $ : int [1:3] 1 2 3\n",
      " $ : chr \"hi\"\n",
      " $ : logi [1:2] TRUE FALSE\n",
      " $ : num [1:2] 0.5 -1.9\n"
     ]
    }
   ],
   "source": [
    "str(var_list_1)"
   ]
  },
  {
   "cell_type": "code",
   "execution_count": 45,
   "id": "b714a086",
   "metadata": {},
   "outputs": [
    {
     "data": {
      "text/html": [
       "'list'"
      ],
      "text/latex": [
       "'list'"
      ],
      "text/markdown": [
       "'list'"
      ],
      "text/plain": [
       "[1] \"list\""
      ]
     },
     "metadata": {},
     "output_type": "display_data"
    }
   ],
   "source": [
    "typeof(var_list_1)"
   ]
  },
  {
   "cell_type": "markdown",
   "id": "234a02d0",
   "metadata": {},
   "source": [
    "**Lists** are sometimes called recursive **vectors**, because a **list** can contain other **lists**. This makes them fundamentally different from **vectors**:"
   ]
  },
  {
   "cell_type": "code",
   "execution_count": 46,
   "id": "ba87f815",
   "metadata": {},
   "outputs": [
    {
     "name": "stdout",
     "output_type": "stream",
     "text": [
      "[[1]]\n",
      "[1] 1\n",
      "\n",
      "[[2]]\n",
      "[[2]][[1]]\n",
      "[1] 2\n",
      "\n",
      "[[2]][[2]]\n",
      "[[2]][[2]][[1]]\n",
      "[1] 3\n",
      "\n",
      "\n",
      "\n"
     ]
    }
   ],
   "source": [
    "var_list_2 = list(1, list(2, list(3)))\n",
    "print(var_list_2)"
   ]
  },
  {
   "cell_type": "code",
   "execution_count": 48,
   "id": "cf9c36e1",
   "metadata": {},
   "outputs": [
    {
     "name": "stdout",
     "output_type": "stream",
     "text": [
      "List of 2\n",
      " $ : num 1\n",
      " $ :List of 2\n",
      "  ..$ : num 2\n",
      "  ..$ :List of 1\n",
      "  .. ..$ : num 3\n"
     ]
    }
   ],
   "source": [
    "str(var_list_2)"
   ]
  },
  {
   "cell_type": "markdown",
   "id": "3793f7e7",
   "metadata": {},
   "source": [
    "**c()** (https://stat.ethz.ch/R-manual/R-devel/library/base/html/c.html) will combine several **lists** into one. Compare the results of **list()** (https://stat.ethz.ch/R-manual/R-devel/library/base/html/list.html) and **c()**:"
   ]
  },
  {
   "cell_type": "code",
   "execution_count": 50,
   "id": "e33999da",
   "metadata": {},
   "outputs": [
    {
     "name": "stdout",
     "output_type": "stream",
     "text": [
      "[[1]]\n",
      "[[1]][[1]]\n",
      "[1] 1\n",
      "\n",
      "[[1]][[2]]\n",
      "[1] 2\n",
      "\n",
      "\n",
      "[[2]]\n",
      "[1] 3 4\n",
      "\n",
      "List of 2\n",
      " $ :List of 2\n",
      "  ..$ : num 1\n",
      "  ..$ : num 2\n",
      " $ : num [1:2] 3 4\n"
     ]
    }
   ],
   "source": [
    "var_list_3 = list(list(1, 2), c(3, 4))\n",
    "print(var_list_3)\n",
    "str(var_list_3)"
   ]
  },
  {
   "cell_type": "code",
   "execution_count": 52,
   "id": "f34f97ec",
   "metadata": {
    "scrolled": true
   },
   "outputs": [
    {
     "name": "stdout",
     "output_type": "stream",
     "text": [
      "[[1]]\n",
      "[1] 1\n",
      "\n",
      "[[2]]\n",
      "[1] 2\n",
      "\n",
      "[[3]]\n",
      "[1] 3\n",
      "\n",
      "[[4]]\n",
      "[1] 4\n",
      "\n",
      "List of 4\n",
      " $ : num 1\n",
      " $ : num 2\n",
      " $ : num 3\n",
      " $ : num 4\n"
     ]
    }
   ],
   "source": [
    "var_list_4 = c(list(1, 2), c(3, 4))\n",
    "print(var_list_4)\n",
    "str(var_list_4)"
   ]
  },
  {
   "cell_type": "markdown",
   "id": "f62b2c01",
   "metadata": {},
   "source": [
    "You can turn a **list** into a **vector** with **unlist()** (https://stat.ethz.ch/R-manual/R-patched/library/base/html/unlist.html) function. If the elements of a **list** have different types, **unlist()** uses the same coercion rules as **c()** (https://stat.ethz.ch/R-manual/R-devel/library/base/html/c.html):"
   ]
  },
  {
   "cell_type": "code",
   "execution_count": 54,
   "id": "142ec7cd",
   "metadata": {},
   "outputs": [
    {
     "name": "stdout",
     "output_type": "stream",
     "text": [
      "[1] 1 2 3 4\n",
      " num [1:4] 1 2 3 4\n"
     ]
    }
   ],
   "source": [
    "var_list_5 = unlist(var_list_3)\n",
    "print(var_list_5)\n",
    "str(var_list_5)"
   ]
  },
  {
   "cell_type": "markdown",
   "id": "f65c0a88",
   "metadata": {},
   "source": [
    "You can choose elements from a **list** using double square brackets **[[...]]**:"
   ]
  },
  {
   "cell_type": "code",
   "execution_count": 55,
   "id": "9d9152bb",
   "metadata": {},
   "outputs": [
    {
     "name": "stdout",
     "output_type": "stream",
     "text": [
      "[[1]]\n",
      "[1] 1 2 3\n",
      "\n",
      "[[2]]\n",
      "[1] \"hi\"\n",
      "\n",
      "[[3]]\n",
      "[1]  TRUE FALSE\n",
      "\n",
      "[[4]]\n",
      "[1]  0.5 -1.9\n",
      "\n"
     ]
    }
   ],
   "source": [
    "print(var_list_1)"
   ]
  },
  {
   "cell_type": "code",
   "execution_count": 56,
   "id": "bce9683c",
   "metadata": {
    "scrolled": true
   },
   "outputs": [
    {
     "name": "stdout",
     "output_type": "stream",
     "text": [
      "[1] 1 2 3\n"
     ]
    }
   ],
   "source": [
    "print(   var_list_1[[1]]   )"
   ]
  },
  {
   "cell_type": "code",
   "execution_count": 57,
   "id": "731a9731",
   "metadata": {},
   "outputs": [
    {
     "name": "stdout",
     "output_type": "stream",
     "text": [
      "[1] TRUE\n"
     ]
    }
   ],
   "source": [
    "print(   var_list_1[[3]][1]   )"
   ]
  },
  {
   "cell_type": "code",
   "execution_count": 58,
   "id": "828e2bb7",
   "metadata": {},
   "outputs": [
    {
     "name": "stdout",
     "output_type": "stream",
     "text": [
      "[[1]]\n",
      "[1] 1 2 3\n",
      "\n",
      "[[2]]\n",
      "[1]  TRUE FALSE\n",
      "\n"
     ]
    }
   ],
   "source": [
    "print(   var_list_1[c(1, 3)]   )"
   ]
  },
  {
   "cell_type": "code",
   "execution_count": 59,
   "id": "7204475d",
   "metadata": {},
   "outputs": [
    {
     "name": "stdout",
     "output_type": "stream",
     "text": [
      "[[1]]\n",
      "[1] \"hi\"\n",
      "\n",
      "[[2]]\n",
      "[1]  TRUE FALSE\n",
      "\n",
      "[[3]]\n",
      "[1]  0.5 -1.9\n",
      "\n"
     ]
    }
   ],
   "source": [
    "print(   var_list_1[2:4]   )"
   ]
  },
  {
   "cell_type": "markdown",
   "id": "e4f99950",
   "metadata": {},
   "source": [
    "You can add, remove or change elements in a **list**:"
   ]
  },
  {
   "cell_type": "code",
   "execution_count": 60,
   "id": "a5cc2e39",
   "metadata": {
    "scrolled": true
   },
   "outputs": [
    {
     "name": "stdout",
     "output_type": "stream",
     "text": [
      "[[1]]\n",
      "[1] 1 2 3\n",
      "\n",
      "[[2]]\n",
      "[1] \"hi\"\n",
      "\n",
      "[[3]]\n",
      "[1]  0.5 -1.9\n",
      "\n"
     ]
    }
   ],
   "source": [
    "var_list_1[[3]] = NULL\n",
    "print(var_list_1)"
   ]
  },
  {
   "cell_type": "code",
   "execution_count": 61,
   "id": "4e371dc0",
   "metadata": {},
   "outputs": [
    {
     "name": "stdout",
     "output_type": "stream",
     "text": [
      "[[1]]\n",
      "[1] 1 2 3\n",
      "\n",
      "[[2]]\n",
      "[1] \"hi\"\n",
      "\n",
      "[[3]]\n",
      "[1]  1.5 -1.9\n",
      "\n",
      "[[4]]\n",
      "     [,1] [,2]\n",
      "[1,]    1    4\n",
      "[2,]    2    5\n",
      "[3,]    3    6\n",
      "\n"
     ]
    }
   ],
   "source": [
    "var_list_1[[4]] = matrix(1:6, nrow=3)\n",
    "var_list_1[[3]][1] = 1.5\n",
    "print(var_list_1)"
   ]
  },
  {
   "cell_type": "markdown",
   "id": "c09f59ee",
   "metadata": {},
   "source": [
    "You can also remove an element by providing an index with a negative sign:"
   ]
  },
  {
   "cell_type": "code",
   "execution_count": 62,
   "id": "45296486",
   "metadata": {},
   "outputs": [
    {
     "name": "stdout",
     "output_type": "stream",
     "text": [
      "[[1]]\n",
      "[1] 1 2 3\n",
      "\n",
      "[[2]]\n",
      "[1]  1.5 -1.9\n",
      "\n",
      "[[3]]\n",
      "     [,1] [,2]\n",
      "[1,]    1    4\n",
      "[2,]    2    5\n",
      "[3,]    3    6\n",
      "\n"
     ]
    }
   ],
   "source": [
    "var_list_6 = var_list_1[-2]\n",
    "print(var_list_6)"
   ]
  },
  {
   "cell_type": "markdown",
   "id": "23ff9585",
   "metadata": {},
   "source": [
    "You can name the elements of a **list** using **names()** (https://stat.ethz.ch/R-manual/R-devel/library/base/html/names.html) function:"
   ]
  },
  {
   "cell_type": "code",
   "execution_count": 63,
   "id": "1ba52af4",
   "metadata": {},
   "outputs": [
    {
     "name": "stdout",
     "output_type": "stream",
     "text": [
      "$integer\n",
      "[1] 1 2 3\n",
      "\n",
      "$char\n",
      "[1] \"hi\"\n",
      "\n",
      "$double\n",
      "[1]  1.5 -1.9\n",
      "\n",
      "$matrix\n",
      "     [,1] [,2]\n",
      "[1,]    1    4\n",
      "[2,]    2    5\n",
      "[3,]    3    6\n",
      "\n"
     ]
    }
   ],
   "source": [
    "names(var_list_1) = c('integer', 'char', 'double', 'matrix')\n",
    "print(var_list_1)"
   ]
  },
  {
   "cell_type": "code",
   "execution_count": 64,
   "id": "eb41eb47",
   "metadata": {
    "scrolled": true
   },
   "outputs": [
    {
     "name": "stdout",
     "output_type": "stream",
     "text": [
      "     [,1] [,2]\n",
      "[1,]    1    4\n",
      "[2,]    2    5\n",
      "[3,]    3    6\n"
     ]
    }
   ],
   "source": [
    "print(   var_list_1$matrix   )"
   ]
  },
  {
   "cell_type": "markdown",
   "id": "4d97eab1",
   "metadata": {},
   "source": [
    "Another data structure in R that can encompass a mixture of datatypes is the **data frame**.\n",
    "\n",
    "##### 1.2.4. Data frame\n",
    "\n",
    "A **data frame** is a very important data type in R. It’s very useful for most tabular data and for statistics. A **data frame** is a special type of a **list** where every element of the **list** has same length (i.e. **data frame** is a _rectangular_ **list**). **Data frames** are usually imported, but can also be created by hand using **data.frame()** (https://stat.ethz.ch/R-manual/R-devel/library/base/html/data.frame.html) function:"
   ]
  },
  {
   "cell_type": "code",
   "execution_count": 65,
   "id": "6cbd1492",
   "metadata": {
    "scrolled": true
   },
   "outputs": [
    {
     "data": {
      "text/html": [
       "<table>\n",
       "<thead><tr><th scope=col>Letter</th><th scope=col>First</th><th scope=col>Second</th></tr></thead>\n",
       "<tbody>\n",
       "\t<tr><td>a </td><td>0 </td><td>10</td></tr>\n",
       "\t<tr><td>b </td><td>1 </td><td>11</td></tr>\n",
       "\t<tr><td>c </td><td>2 </td><td>12</td></tr>\n",
       "\t<tr><td>d </td><td>3 </td><td>13</td></tr>\n",
       "\t<tr><td>e </td><td>4 </td><td>14</td></tr>\n",
       "\t<tr><td>f </td><td>5 </td><td>15</td></tr>\n",
       "\t<tr><td>g </td><td>6 </td><td>16</td></tr>\n",
       "\t<tr><td>h </td><td>7 </td><td>17</td></tr>\n",
       "\t<tr><td>i </td><td>8 </td><td>18</td></tr>\n",
       "\t<tr><td>j </td><td>9 </td><td>19</td></tr>\n",
       "</tbody>\n",
       "</table>\n"
      ],
      "text/latex": [
       "\\begin{tabular}{r|lll}\n",
       " Letter & First & Second\\\\\n",
       "\\hline\n",
       "\t a  & 0  & 10\\\\\n",
       "\t b  & 1  & 11\\\\\n",
       "\t c  & 2  & 12\\\\\n",
       "\t d  & 3  & 13\\\\\n",
       "\t e  & 4  & 14\\\\\n",
       "\t f  & 5  & 15\\\\\n",
       "\t g  & 6  & 16\\\\\n",
       "\t h  & 7  & 17\\\\\n",
       "\t i  & 8  & 18\\\\\n",
       "\t j  & 9  & 19\\\\\n",
       "\\end{tabular}\n"
      ],
      "text/markdown": [
       "\n",
       "| Letter | First | Second |\n",
       "|---|---|---|\n",
       "| a  | 0  | 10 |\n",
       "| b  | 1  | 11 |\n",
       "| c  | 2  | 12 |\n",
       "| d  | 3  | 13 |\n",
       "| e  | 4  | 14 |\n",
       "| f  | 5  | 15 |\n",
       "| g  | 6  | 16 |\n",
       "| h  | 7  | 17 |\n",
       "| i  | 8  | 18 |\n",
       "| j  | 9  | 19 |\n",
       "\n"
      ],
      "text/plain": [
       "   Letter First Second\n",
       "1  a      0     10    \n",
       "2  b      1     11    \n",
       "3  c      2     12    \n",
       "4  d      3     13    \n",
       "5  e      4     14    \n",
       "6  f      5     15    \n",
       "7  g      6     16    \n",
       "8  h      7     17    \n",
       "9  i      8     18    \n",
       "10 j      9     19    "
      ]
     },
     "metadata": {},
     "output_type": "display_data"
    }
   ],
   "source": [
    "var_data_1 = data.frame(Letter=letters[1:10], First=0:9, Second=10:19)\n",
    "var_data_1"
   ]
  },
  {
   "cell_type": "markdown",
   "id": "69e1677c",
   "metadata": {},
   "source": [
    "Because **data frames** are rectangular, elements of a **data frame** can be referenced by specifying the row and the column _index_ in single square brackets **[...]**:"
   ]
  },
  {
   "cell_type": "code",
   "execution_count": 66,
   "id": "33a65ac6",
   "metadata": {},
   "outputs": [
    {
     "data": {
      "text/html": [
       "14"
      ],
      "text/latex": [
       "14"
      ],
      "text/markdown": [
       "14"
      ],
      "text/plain": [
       "[1] 14"
      ]
     },
     "metadata": {},
     "output_type": "display_data"
    }
   ],
   "source": [
    "var_data_1[5, 3]"
   ]
  },
  {
   "cell_type": "markdown",
   "id": "567a35b0",
   "metadata": {},
   "source": [
    "As **data frames** are also **lists**, it is possible to refer to columns (which are elements of such **list**) using the **list** notation:"
   ]
  },
  {
   "cell_type": "code",
   "execution_count": 69,
   "id": "74efba92",
   "metadata": {},
   "outputs": [
    {
     "name": "stdout",
     "output_type": "stream",
     "text": [
      " [1] 0 1 2 3 4 5 6 7 8 9\n"
     ]
    }
   ],
   "source": [
    "print(   var_data_1[[2]]   )"
   ]
  },
  {
   "cell_type": "code",
   "execution_count": 70,
   "id": "5b58bd63",
   "metadata": {},
   "outputs": [
    {
     "name": "stdout",
     "output_type": "stream",
     "text": [
      " [1] 0 1 2 3 4 5 6 7 8 9\n"
     ]
    }
   ],
   "source": [
    "print(   var_data_1[['First']]   )"
   ]
  },
  {
   "cell_type": "code",
   "execution_count": 71,
   "id": "5596fd46",
   "metadata": {},
   "outputs": [
    {
     "name": "stdout",
     "output_type": "stream",
     "text": [
      " [1] 10 11 12 13 14 15 16 17 18 19\n"
     ]
    }
   ],
   "source": [
    "print(   var_data_1$Second   )"
   ]
  },
  {
   "cell_type": "markdown",
   "id": "81e468a6",
   "metadata": {},
   "source": [
    "Note: **data frames** will be discussed in more detail in section 4.\n",
    "\n",
    "Finally, in R **for** loop can loop over a **list**, a **vector** a **matrix** and even a **data frame**:"
   ]
  },
  {
   "cell_type": "code",
   "execution_count": 72,
   "id": "c4f6ff0f",
   "metadata": {},
   "outputs": [
    {
     "name": "stdout",
     "output_type": "stream",
     "text": [
      "[1] 1\n",
      "[1] 3\n",
      "[1] 8\n"
     ]
    }
   ],
   "source": [
    "for (i in c(1,3,8)) print(i)"
   ]
  },
  {
   "cell_type": "code",
   "execution_count": 74,
   "id": "011e73a9",
   "metadata": {},
   "outputs": [
    {
     "name": "stdout",
     "output_type": "stream",
     "text": [
      "[1] 1\n",
      "[1] 2\n",
      "[1] 3\n",
      "[1] 4\n",
      "[1] 5\n",
      "[1] 6\n",
      "[1] 7\n",
      "[1] 8\n",
      "[1] 9\n"
     ]
    }
   ],
   "source": [
    "var_matrix_5 = matrix(1:9, nrow=3, ncol=3)\n",
    "for (i in var_matrix_5) print(i)"
   ]
  },
  {
   "cell_type": "code",
   "execution_count": 75,
   "id": "313b8531",
   "metadata": {},
   "outputs": [
    {
     "name": "stdout",
     "output_type": "stream",
     "text": [
      "[1] \"Hello\"\n",
      "[1] TRUE\n",
      "[1] 10\n",
      "     [,1] [,2] [,3]\n",
      "[1,]    1    4    7\n",
      "[2,]    2    5    8\n",
      "[3,]    3    6    9\n"
     ]
    }
   ],
   "source": [
    "var_list_7 = list('Hello', TRUE, 10, var_matrix_5)\n",
    "for (i in var_list_7) print(i)"
   ]
  },
  {
   "cell_type": "code",
   "execution_count": 76,
   "id": "9700c9df",
   "metadata": {
    "scrolled": true
   },
   "outputs": [
    {
     "name": "stdout",
     "output_type": "stream",
     "text": [
      " [1] a b c d e f g h i j\n",
      "Levels: a b c d e f g h i j\n",
      " [1] 0 1 2 3 4 5 6 7 8 9\n",
      " [1] 10 11 12 13 14 15 16 17 18 19\n"
     ]
    }
   ],
   "source": [
    "for (i in var_data_1) print(i)"
   ]
  },
  {
   "cell_type": "markdown",
   "id": "69b9cd58",
   "metadata": {},
   "source": [
    "Note: **for** loops will be discussed in more detail in section 2."
   ]
  },
  {
   "cell_type": "markdown",
   "id": "213fce9e",
   "metadata": {},
   "source": [
    "**_Exercises:_**"
   ]
  },
  {
   "cell_type": "markdown",
   "id": "293265a9",
   "metadata": {},
   "source": [
    "Exercise 4. Using **for** loop, print the following numbers: 225, 169, 121, 81, 49, 25, 9, 1, 1, 9."
   ]
  },
  {
   "cell_type": "code",
   "execution_count": 80,
   "id": "7a7fd864",
   "metadata": {},
   "outputs": [
    {
     "name": "stdout",
     "output_type": "stream",
     "text": [
      "[1] 225\n",
      "[1] 169\n",
      "[1] 121\n",
      "[1] 81\n",
      "[1] 49\n",
      "[1] 25\n",
      "[1] 9\n",
      "[1] 1\n",
      "[1] 1\n",
      "[1] 9\n"
     ]
    }
   ],
   "source": [
    "for (i in seq(15,-3,-2) )\n",
    "print(i**2)"
   ]
  },
  {
   "cell_type": "markdown",
   "id": "abc1d4e0",
   "metadata": {},
   "source": [
    "Exercise 5. Create a **list** containing numbers from exercise 5."
   ]
  },
  {
   "cell_type": "code",
   "execution_count": 82,
   "id": "96109e21",
   "metadata": {},
   "outputs": [
    {
     "name": "stdout",
     "output_type": "stream",
     "text": [
      "[[1]]\n",
      " [1] 225 169 121  81  49  25   9   1   1   9\n",
      "\n"
     ]
    }
   ],
   "source": [
    "print(list(seq(15,-3,-2)**2))"
   ]
  },
  {
   "cell_type": "markdown",
   "id": "3d454c37",
   "metadata": {},
   "source": [
    "Exercise 6. Create a **list** with your name, age and country of origin. Introduce yourself:"
   ]
  },
  {
   "cell_type": "code",
   "execution_count": 87,
   "id": "41fa23be",
   "metadata": {},
   "outputs": [
    {
     "name": "stdout",
     "output_type": "stream",
     "text": [
      "$Name\n",
      "[1] \"Thomas SADURNI\"\n",
      "\n",
      "$Age\n",
      "[1] \"22\"\n",
      "\n",
      "$Country\n",
      "[1] \"France\"\n",
      "\n",
      "My name is Thomas SADURNI I am 22 and I am from France"
     ]
    }
   ],
   "source": [
    "my_info = list('Thomas SADURNI','22', 'France')\n",
    "names(my_info) = c('Name','Age','Country')\n",
    "print(my_info)\n",
    "cat('My name is', my_info$Name,'I am',my_info$Age, 'and I am from', my_info$Country)"
   ]
  },
  {
   "cell_type": "markdown",
   "id": "b38b4903",
   "metadata": {},
   "source": [
    "Exercise 7. You and your friend hold following stock portfolios. Display only the stocks that you both hold in common. Use **set** (https://stat.ethz.ch/R-manual/R-devel/library/base/html/sets.html) operations."
   ]
  },
  {
   "cell_type": "code",
   "execution_count": 88,
   "id": "ad482e26",
   "metadata": {},
   "outputs": [
    {
     "name": "stdout",
     "output_type": "stream",
     "text": [
      "[1] \"GE\"   \"TSLA\"\n"
     ]
    }
   ],
   "source": [
    "your_stocks = c('AAPL', 'GE', 'TSLA', 'UAL', 'BAC')\n",
    "friends_stocks = c('FB', 'MSFT', 'AAL', 'TSLA', 'GE')\n",
    "\n",
    "print(intersect(your_stocks,friends_stocks))"
   ]
  },
  {
   "cell_type": "markdown",
   "id": "12c3ac08",
   "metadata": {},
   "source": [
    "Exercise 8. Display a **list** containing element by element product of (5, 6, 7) and (2, 0.5, 3) **vector** objects."
   ]
  },
  {
   "cell_type": "code",
   "execution_count": 92,
   "id": "f3ba000e",
   "metadata": {
    "scrolled": false
   },
   "outputs": [
    {
     "name": "stdout",
     "output_type": "stream",
     "text": [
      "[[1]]\n",
      "[1] 10  3 21\n",
      "\n"
     ]
    }
   ],
   "source": [
    "var_1 = 5:7\n",
    "var_2 = c(2, 0.5, 3)\n",
    "print(list(var_1*var_2))\n",
    "\n",
    "var_1 %*% var_2"
   ]
  }
 ],
 "metadata": {
  "kernelspec": {
   "display_name": "R",
   "language": "R",
   "name": "ir"
  },
  "language_info": {
   "codemirror_mode": "r",
   "file_extension": ".r",
   "mimetype": "text/x-r-source",
   "name": "R",
   "pygments_lexer": "r",
   "version": "3.6.1"
  }
 },
 "nbformat": 4,
 "nbformat_minor": 5
}
