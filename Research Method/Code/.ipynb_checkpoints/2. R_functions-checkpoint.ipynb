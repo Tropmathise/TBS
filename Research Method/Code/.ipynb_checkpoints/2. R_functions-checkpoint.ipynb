{
 "cells": [
  {
   "cell_type": "markdown",
   "id": "96b9d36b",
   "metadata": {},
   "source": [
    "### 2. Functions\n",
    "\n",
    "Functions in R are similar to mathematical functions, such as $y = f(x)$, where $x$ is an input, $y$ is an output and $f(x)$ is the process that transforms one variable into another. In R a function is defined using a function name, assignment operator (**<-** or **=**) **function** keyword, inputs (parameters) in brackets, the process itself and, finally, a **return()** (https://stat.ethz.ch/R-manual/R-devel/library/base/html/function.html) or **print()** (https://stat.ethz.ch/R-manual/R-devel/library/base/html/print.html) function. For example, a function $y = f(x) = x^2$ looks like this:"
   ]
  },
  {
   "cell_type": "code",
   "execution_count": 1,
   "id": "3da42503",
   "metadata": {},
   "outputs": [],
   "source": [
    "f = function(x){\n",
    "    y = x ** 2\n",
    "    return(y)\n",
    "}"
   ]
  },
  {
   "cell_type": "markdown",
   "id": "44ad5903",
   "metadata": {},
   "source": [
    "If there are no explicit returns from a function, the value of the last evaluated expression is returned automatically:"
   ]
  },
  {
   "cell_type": "markdown",
   "id": "9e823ef8",
   "metadata": {},
   "source": [
    "Alternatively, if a function is simple, it can be defined even more compactly, without using the **return()** (https://stat.ethz.ch/R-manual/R-devel/library/base/html/function.html) function:"
   ]
  },
  {
   "cell_type": "code",
   "execution_count": 2,
   "id": "4c8a4d8e",
   "metadata": {},
   "outputs": [],
   "source": [
    "f = function(x){\n",
    "    x ** 2\n",
    "}"
   ]
  },
  {
   "cell_type": "markdown",
   "id": "1a80d197",
   "metadata": {},
   "source": [
    "To call a function, use the function name (**f** in this case), followed by brackets with the necessary inputs (arguments):"
   ]
  },
  {
   "cell_type": "code",
   "execution_count": 3,
   "id": "9987b1b1",
   "metadata": {},
   "outputs": [
    {
     "data": {
      "text/html": [
       "4"
      ],
      "text/latex": [
       "4"
      ],
      "text/markdown": [
       "4"
      ],
      "text/plain": [
       "[1] 4"
      ]
     },
     "metadata": {},
     "output_type": "display_data"
    }
   ],
   "source": [
    "f(2)"
   ]
  },
  {
   "cell_type": "markdown",
   "id": "2aeebca3",
   "metadata": {},
   "source": [
    "**_Arguments or parameters?_** From a function's perspective:\n",
    "* A parameter is the variable listed inside the brackets in the function definition;\n",
    "* An argument is the value that is sent to the function when it is called."
   ]
  },
  {
   "cell_type": "markdown",
   "id": "651d02d8",
   "metadata": {},
   "source": [
    "Function can require more than one argument. For example, a function $z = g(x,y) = x^2 + 2y$ looks like this:"
   ]
  },
  {
   "cell_type": "code",
   "execution_count": 4,
   "id": "a4304540",
   "metadata": {},
   "outputs": [
    {
     "data": {
      "text/html": [
       "10"
      ],
      "text/latex": [
       "10"
      ],
      "text/markdown": [
       "10"
      ],
      "text/plain": [
       "[1] 10"
      ]
     },
     "metadata": {},
     "output_type": "display_data"
    }
   ],
   "source": [
    "g = function(x,y){\n",
    "    z = x ** 2 + 2 * y\n",
    "    return(z)\n",
    "}\n",
    "\n",
    "g(2,3)"
   ]
  },
  {
   "cell_type": "markdown",
   "id": "4b233cb5",
   "metadata": {},
   "source": [
    "**_Default parameter value_**. If you call a function without an argument, it uses the default value:"
   ]
  },
  {
   "cell_type": "code",
   "execution_count": 7,
   "id": "dcc669c0",
   "metadata": {},
   "outputs": [
    {
     "name": "stdout",
     "output_type": "stream",
     "text": [
      "[1] \"I live in  Paris\"\n"
     ]
    }
   ],
   "source": [
    "me = function(city='Toulouse'){\n",
    "    print(   paste('I live in ', city)   )\n",
    "}\n",
    "\n",
    "me('Paris')"
   ]
  },
  {
   "cell_type": "code",
   "execution_count": 8,
   "id": "f1b37a20",
   "metadata": {},
   "outputs": [
    {
     "name": "stdout",
     "output_type": "stream",
     "text": [
      "[1] \"I live in  Toulouse\"\n"
     ]
    }
   ],
   "source": [
    "me()"
   ]
  },
  {
   "cell_type": "markdown",
   "id": "5057fa26",
   "metadata": {},
   "source": [
    "Simple one-line functions can be expressed in a compact form. Its syntax is:\n",
    "\n",
    "**function(arguments) expression**"
   ]
  },
  {
   "cell_type": "code",
   "execution_count": 9,
   "id": "e01be652",
   "metadata": {},
   "outputs": [
    {
     "data": {
      "text/html": [
       "3"
      ],
      "text/latex": [
       "3"
      ],
      "text/markdown": [
       "3"
      ],
      "text/plain": [
       "[1] 3"
      ]
     },
     "metadata": {},
     "output_type": "display_data"
    }
   ],
   "source": [
    "func = function(x,y) x + y\n",
    "func(1, 2)"
   ]
  },
  {
   "cell_type": "markdown",
   "id": "71282662",
   "metadata": {},
   "source": [
    "The **g(x,y)** function from above would look like this:"
   ]
  },
  {
   "cell_type": "code",
   "execution_count": 10,
   "id": "7545f98e",
   "metadata": {},
   "outputs": [
    {
     "data": {
      "text/html": [
       "10"
      ],
      "text/latex": [
       "10"
      ],
      "text/markdown": [
       "10"
      ],
      "text/plain": [
       "[1] 10"
      ]
     },
     "metadata": {},
     "output_type": "display_data"
    }
   ],
   "source": [
    "gunc = function(x,y) x ** 2 + 2 * y\n",
    "gunc(2, 3)"
   ]
  },
  {
   "cell_type": "markdown",
   "id": "3c531d3a",
   "metadata": {},
   "source": [
    "**_Anonymous function_** in R can have many arguments, as well as many expressions. Its syntax is:\n",
    "\n",
    "**(   function(arguments){expression1; expression2}   )(argument values)**"
   ]
  },
  {
   "cell_type": "code",
   "execution_count": 11,
   "id": "87b3c306",
   "metadata": {},
   "outputs": [
    {
     "data": {
      "text/html": [
       "36"
      ],
      "text/latex": [
       "36"
      ],
      "text/markdown": [
       "36"
      ],
      "text/plain": [
       "[1] 36"
      ]
     },
     "metadata": {},
     "output_type": "display_data"
    }
   ],
   "source": [
    "(   function(x,y){z = x^2 + y^2; x + y + z}   )(5, 2)"
   ]
  },
  {
   "cell_type": "markdown",
   "id": "1de74a6c",
   "metadata": {},
   "source": [
    "**_Passing a vector or a matrix as an argument_**. Sicne R was designed to work with **vectors** and **matrices**, you can send send these data structures into a function as argument, and the function will be applied to each element:"
   ]
  },
  {
   "cell_type": "code",
   "execution_count": 12,
   "id": "76a3b19b",
   "metadata": {},
   "outputs": [
    {
     "name": "stdout",
     "output_type": "stream",
     "text": [
      "[1]  1  4  9 16 25\n"
     ]
    }
   ],
   "source": [
    "print(   f(1:5)   )"
   ]
  },
  {
   "cell_type": "code",
   "execution_count": 13,
   "id": "e9e77114",
   "metadata": {},
   "outputs": [
    {
     "name": "stdout",
     "output_type": "stream",
     "text": [
      "     [,1] [,2] [,3]\n",
      "[1,]    1   16   49\n",
      "[2,]    4   25   64\n",
      "[3,]    9   36   81\n"
     ]
    }
   ],
   "source": [
    "arg = matrix(1:9, nrow=3)\n",
    "print(   f(arg)   )"
   ]
  },
  {
   "cell_type": "markdown",
   "id": "8556ce71",
   "metadata": {},
   "source": [
    "In R functions can even take **lists** and **data frames** as arguments:"
   ]
  },
  {
   "cell_type": "code",
   "execution_count": 14,
   "id": "2a82737b",
   "metadata": {},
   "outputs": [
    {
     "name": "stdout",
     "output_type": "stream",
     "text": [
      "[[1]]\n",
      "[1] \"Hello\"\n",
      "\n",
      "[[2]]\n",
      "[1] TRUE\n",
      "\n",
      "[[3]]\n",
      "[1] 10\n",
      "\n",
      "[[4]]\n",
      "     [,1] [,2] [,3]\n",
      "[1,]    1    4    7\n",
      "[2,]    2    5    8\n",
      "[3,]    3    6    9\n",
      "\n"
     ]
    }
   ],
   "source": [
    "var_list = list('Hello', TRUE, 10, arg)\n",
    "disp = function(x) print(x)\n",
    "disp(var_list)"
   ]
  },
  {
   "cell_type": "code",
   "execution_count": 15,
   "id": "6b4f9647",
   "metadata": {},
   "outputs": [
    {
     "data": {
      "text/html": [
       "<table>\n",
       "<thead><tr><th scope=col>Letter</th><th scope=col>First</th><th scope=col>Second</th></tr></thead>\n",
       "<tbody>\n",
       "\t<tr><td>a </td><td>0 </td><td>10</td></tr>\n",
       "\t<tr><td>b </td><td>1 </td><td>11</td></tr>\n",
       "\t<tr><td>c </td><td>2 </td><td>12</td></tr>\n",
       "\t<tr><td>d </td><td>3 </td><td>13</td></tr>\n",
       "\t<tr><td>e </td><td>4 </td><td>14</td></tr>\n",
       "\t<tr><td>f </td><td>5 </td><td>15</td></tr>\n",
       "\t<tr><td>g </td><td>6 </td><td>16</td></tr>\n",
       "\t<tr><td>h </td><td>7 </td><td>17</td></tr>\n",
       "\t<tr><td>i </td><td>8 </td><td>18</td></tr>\n",
       "\t<tr><td>j </td><td>9 </td><td>19</td></tr>\n",
       "</tbody>\n",
       "</table>\n"
      ],
      "text/latex": [
       "\\begin{tabular}{r|lll}\n",
       " Letter & First & Second\\\\\n",
       "\\hline\n",
       "\t a  & 0  & 10\\\\\n",
       "\t b  & 1  & 11\\\\\n",
       "\t c  & 2  & 12\\\\\n",
       "\t d  & 3  & 13\\\\\n",
       "\t e  & 4  & 14\\\\\n",
       "\t f  & 5  & 15\\\\\n",
       "\t g  & 6  & 16\\\\\n",
       "\t h  & 7  & 17\\\\\n",
       "\t i  & 8  & 18\\\\\n",
       "\t j  & 9  & 19\\\\\n",
       "\\end{tabular}\n"
      ],
      "text/markdown": [
       "\n",
       "| Letter | First | Second |\n",
       "|---|---|---|\n",
       "| a  | 0  | 10 |\n",
       "| b  | 1  | 11 |\n",
       "| c  | 2  | 12 |\n",
       "| d  | 3  | 13 |\n",
       "| e  | 4  | 14 |\n",
       "| f  | 5  | 15 |\n",
       "| g  | 6  | 16 |\n",
       "| h  | 7  | 17 |\n",
       "| i  | 8  | 18 |\n",
       "| j  | 9  | 19 |\n",
       "\n"
      ],
      "text/plain": [
       "   Letter First Second\n",
       "1  a      0     10    \n",
       "2  b      1     11    \n",
       "3  c      2     12    \n",
       "4  d      3     13    \n",
       "5  e      4     14    \n",
       "6  f      5     15    \n",
       "7  g      6     16    \n",
       "8  h      7     17    \n",
       "9  i      8     18    \n",
       "10 j      9     19    "
      ]
     },
     "metadata": {},
     "output_type": "display_data"
    }
   ],
   "source": [
    "var_data = data.frame(Letter=letters[1:10], First=0:9, Second=10:19)\n",
    "var_data"
   ]
  },
  {
   "cell_type": "markdown",
   "id": "32b46734",
   "metadata": {},
   "source": [
    "**_Control structures_**. The _control strutures_ (https://stat.ethz.ch/R-manual/R-devel/library/base/html/Control.html), as the name implies, are used to control the flow of the code, i.e. analyses variables and chooses a direction in which to go based on given parameters. We are going to look into **if**, **for** and **while** structures.\n",
    "\n",
    "**_If statement._** The most well known conditional control elements are **if**,  **else if** and **else**. This structure checks whether a condition is true and 'acts' accordingly. There can be zero or more **else if** parts, and the **else** part is optional. Their use is comparable to other languages. Let's see this structure in action:"
   ]
  },
  {
   "cell_type": "code",
   "execution_count": 16,
   "id": "3c0ea604",
   "metadata": {},
   "outputs": [
    {
     "name": "stdout",
     "output_type": "stream",
     "text": [
      "[1] \"Zero\"\n"
     ]
    }
   ],
   "source": [
    "number = 0\n",
    "if (number > 0) print('Positive') else if (number < 0) print('Negative') else print('Zero')"
   ]
  },
  {
   "cell_type": "code",
   "execution_count": 17,
   "id": "77af5710",
   "metadata": {},
   "outputs": [
    {
     "name": "stdout",
     "output_type": "stream",
     "text": [
      "[1] \"Negative\"\n"
     ]
    }
   ],
   "source": [
    "number = -1\n",
    "if (number > 0){\n",
    "    print('Positive')\n",
    "}else if (number < 0){\n",
    "    print('Negative')\n",
    "}else{\n",
    "    print('Zero')\n",
    "}"
   ]
  },
  {
   "cell_type": "markdown",
   "id": "21e5a7f0",
   "metadata": {},
   "source": [
    "It can also have only 2 statemnts:"
   ]
  },
  {
   "cell_type": "code",
   "execution_count": 18,
   "id": "f2f5ed02",
   "metadata": {
    "scrolled": false
   },
   "outputs": [
    {
     "name": "stdout",
     "output_type": "stream",
     "text": [
      "[1] \"Even\"\n"
     ]
    }
   ],
   "source": [
    "number = 2\n",
    "if (number %% 2 == 0){\n",
    "    print('Even')\n",
    "}else{\n",
    "    print('Odd')\n",
    "}"
   ]
  },
  {
   "cell_type": "markdown",
   "id": "2488736e",
   "metadata": {},
   "source": [
    "**If** statements can be nested inside other **if** statements:"
   ]
  },
  {
   "cell_type": "code",
   "execution_count": 19,
   "id": "7553dfdb",
   "metadata": {},
   "outputs": [
    {
     "name": "stdout",
     "output_type": "stream",
     "text": [
      "[1] \"Positive and odd\"\n"
     ]
    }
   ],
   "source": [
    "number = 3\n",
    "if (number > 0){\n",
    "    if (number %% 2 == 0){\n",
    "        print('Positive and even')\n",
    "    }else{\n",
    "        print('Positive and odd')\n",
    "    } \n",
    "}else if (number < 0){\n",
    "    if (number %% 2 == 0){\n",
    "        print('Negative and even')\n",
    "    }else{\n",
    "        print('Negative and odd')\n",
    "    }\n",
    "}else{\n",
    "    if (number %% 2 == 0){\n",
    "        print('Positive and even')\n",
    "    }else{\n",
    "        print('Positive and odd')\n",
    "    }\n",
    "}"
   ]
  },
  {
   "cell_type": "markdown",
   "id": "a3e448b1",
   "metadata": {},
   "source": [
    "**_For statement_**. We have seen in the previous section that **for** loop in R can loop over any data structure. We have also seen a simple **for** loop, consisting of one expression, however, it can have a more structured expression:"
   ]
  },
  {
   "cell_type": "code",
   "execution_count": 20,
   "id": "8395832d",
   "metadata": {
    "scrolled": true
   },
   "outputs": [
    {
     "name": "stdout",
     "output_type": "stream",
     "text": [
      "[1] 1\n",
      "[1] 2\n",
      "[1] 3\n",
      "[1] 4\n",
      "[1] 5\n"
     ]
    }
   ],
   "source": [
    "for (i in 1:5){\n",
    "    print(i)\n",
    "}"
   ]
  },
  {
   "cell_type": "markdown",
   "id": "7023e4ab",
   "metadata": {},
   "source": [
    "It is very useful when we have a complex structure, for example, nested **if** statements:"
   ]
  },
  {
   "cell_type": "code",
   "execution_count": 21,
   "id": "765d2e13",
   "metadata": {
    "scrolled": true
   },
   "outputs": [
    {
     "name": "stdout",
     "output_type": "stream",
     "text": [
      "[1] \"-3  is negative.\"\n",
      "[1] \"-2  is negative.\"\n",
      "[1] \"-1  is negative.\"\n",
      "[1] \"0  is zero.\"\n",
      "[1] \"1  is positive.\"\n",
      "[1] \"2  is positive.\"\n",
      "[1] \"3  is positive.\"\n",
      "[1] \"4  is positive.\"\n"
     ]
    }
   ],
   "source": [
    "for (i in -3:4){\n",
    "    if (i > 0){\n",
    "        print(   paste(i, ' is positive.')   )\n",
    "    }else if (i < 0){\n",
    "        print(   paste(i, ' is negative.')   )\n",
    "    }else{\n",
    "        print(   paste(i, ' is zero.')   )\n",
    "    }\n",
    "}"
   ]
  },
  {
   "cell_type": "markdown",
   "id": "fbc5ac59",
   "metadata": {},
   "source": [
    "Or even nested **for** loops:"
   ]
  },
  {
   "cell_type": "code",
   "execution_count": 22,
   "id": "e6460150",
   "metadata": {},
   "outputs": [
    {
     "name": "stdout",
     "output_type": "stream",
     "text": [
      "[1] 4\n",
      "[1] 5\n",
      "[1] 6\n",
      "[1] 8\n",
      "[1] 10\n",
      "[1] 12\n",
      "[1] 12\n",
      "[1] 15\n",
      "[1] 18\n"
     ]
    }
   ],
   "source": [
    "for (i in 1:3){\n",
    "    for (j in 4:6){\n",
    "        print(i * j)\n",
    "    }\n",
    "}"
   ]
  },
  {
   "cell_type": "markdown",
   "id": "8c18f228",
   "metadata": {},
   "source": [
    "**_While statement._** The **while** statement is used for repeated execution as long as an expression is true. In the following example the program will keep printing numbers, until it reaches 10 (initial value has to be given):"
   ]
  },
  {
   "cell_type": "code",
   "execution_count": 23,
   "id": "30d1ea80",
   "metadata": {
    "scrolled": true
   },
   "outputs": [
    {
     "name": "stdout",
     "output_type": "stream",
     "text": [
      "[1] 0\n",
      "[1] 1\n",
      "[1] 2\n",
      "[1] 3\n",
      "[1] 4\n",
      "[1] 5\n",
      "[1] 6\n",
      "[1] 7\n",
      "[1] 8\n",
      "[1] 9\n"
     ]
    }
   ],
   "source": [
    "number = 0\n",
    "while (number < 10){\n",
    "    print(number)\n",
    "    number = number + 1\n",
    "}"
   ]
  },
  {
   "cell_type": "markdown",
   "id": "d66f8f6e",
   "metadata": {},
   "source": [
    "In the following, numbers up to a multiple of 7 will be printed:"
   ]
  },
  {
   "cell_type": "code",
   "execution_count": 24,
   "id": "df5db674",
   "metadata": {
    "scrolled": true
   },
   "outputs": [
    {
     "name": "stdout",
     "output_type": "stream",
     "text": [
      "[1] 1\n",
      "[1] 2\n",
      "[1] 3\n",
      "[1] 4\n",
      "[1] 5\n",
      "[1] 6\n"
     ]
    }
   ],
   "source": [
    "number = 1\n",
    "while (number %% 7 != 0){\n",
    "    print(number)\n",
    "    number = number + 1\n",
    "}"
   ]
  },
  {
   "cell_type": "markdown",
   "id": "813970e4",
   "metadata": {},
   "source": [
    "**While** loops can also be nested:"
   ]
  },
  {
   "cell_type": "code",
   "execution_count": 25,
   "id": "f2c73a4c",
   "metadata": {},
   "outputs": [
    {
     "name": "stdout",
     "output_type": "stream",
     "text": [
      "[1] 4\n",
      "[1] 3\n",
      "[1] 2\n",
      "[1] 1\n",
      "[1] 5\n",
      "[1] 4\n",
      "[1] 3\n",
      "[1] 2\n",
      "[1] 6\n",
      "[1] 5\n",
      "[1] 4\n",
      "[1] 3\n"
     ]
    }
   ],
   "source": [
    "number_1 = 0\n",
    "while (number_1 < 3){\n",
    "    number_2 = 4\n",
    "    while (number_2 > 0){\n",
    "        print(number_1 + number_2)\n",
    "        number_2 = number_2 - 1\n",
    "    }\n",
    "    number_1 = number_1 + 1\n",
    "}"
   ]
  },
  {
   "cell_type": "markdown",
   "id": "b51326de",
   "metadata": {},
   "source": [
    "**_Exercises_.**"
   ]
  },
  {
   "cell_type": "markdown",
   "id": "7fcb6158",
   "metadata": {},
   "source": [
    "Exercise 1. Write a function that takes any number as an input and returns an integer without a fraction part. For example, 5.8 will return 5; 6 will return 6."
   ]
  },
  {
   "cell_type": "code",
   "execution_count": 27,
   "id": "74a89d28",
   "metadata": {},
   "outputs": [
    {
     "data": {
      "text/html": [
       "6"
      ],
      "text/latex": [
       "6"
      ],
      "text/markdown": [
       "6"
      ],
      "text/plain": [
       "[1] 6"
      ]
     },
     "metadata": {},
     "output_type": "display_data"
    }
   ],
   "source": [
    "floor = function(x) as.integer(x)\n",
    "floor(6.5)"
   ]
  },
  {
   "cell_type": "markdown",
   "id": "79922560",
   "metadata": {},
   "source": [
    "Exercise 2. Write a function that takes any number as an input and returns the smallest integer that is not smaller than the input. For example, 5.8 will return 6; 6 will return 6."
   ]
  },
  {
   "cell_type": "code",
   "execution_count": 33,
   "id": "f49a8421",
   "metadata": {
    "scrolled": true
   },
   "outputs": [
    {
     "data": {
      "text/html": [
       "7"
      ],
      "text/latex": [
       "7"
      ],
      "text/markdown": [
       "7"
      ],
      "text/plain": [
       "[1] 7"
      ]
     },
     "metadata": {},
     "output_type": "display_data"
    }
   ],
   "source": [
    "round = function(x) if (x-floor(x)>=0.5) floor(x)+1 else floor(x)\n",
    "round(6.8)"
   ]
  },
  {
   "cell_type": "markdown",
   "id": "d224db0a",
   "metadata": {},
   "source": [
    "Exercise 3. Rewrite functions from exercises 1 and 2 using anonymous function notation."
   ]
  },
  {
   "cell_type": "code",
   "execution_count": null,
   "id": "9857664c",
   "metadata": {},
   "outputs": [],
   "source": []
  }
 ],
 "metadata": {
  "kernelspec": {
   "display_name": "R",
   "language": "R",
   "name": "ir"
  },
  "language_info": {
   "codemirror_mode": "r",
   "file_extension": ".r",
   "mimetype": "text/x-r-source",
   "name": "R",
   "pygments_lexer": "r",
   "version": "3.6.1"
  }
 },
 "nbformat": 4,
 "nbformat_minor": 5
}
