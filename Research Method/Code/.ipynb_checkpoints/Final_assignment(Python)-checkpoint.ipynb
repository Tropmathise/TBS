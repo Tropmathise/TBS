{
 "cells": [
  {
   "cell_type": "markdown",
   "id": "665bf38a",
   "metadata": {},
   "source": [
    "### Final assignment\n",
    "\n",
    "In this exercise you are going to create a number of functions to evaluate investment projects."
   ]
  },
  {
   "cell_type": "markdown",
   "id": "f8dd38c7",
   "metadata": {},
   "source": [
    "**1.** Create a function that takes a list of cash flows, cost of capital (expressed in annual terms) and a number of payments per year as parameters and returns **NPV** (net present value) of the project."
   ]
  },
  {
   "cell_type": "code",
   "execution_count": 137,
   "id": "13da262d",
   "metadata": {},
   "outputs": [
    {
     "name": "stdout",
     "output_type": "stream",
     "text": [
      "my npv: 80.44487636324374\n",
      "122.53467776629407\n"
     ]
    }
   ],
   "source": [
    "import numpy as np\n",
    "def my_NPV(cf, wacc, nb_years=1):\n",
    "    i=0\n",
    "    res=[]\n",
    "    for cflow in cf:\n",
    "        res.extend([cflow/((1+wacc)**(i))])\n",
    "        i=i+1\n",
    "    return sum(res)\n",
    "\n",
    "print('my npv: ' + str(my_NPV([-1000, 300, 400, 500],0.05,3)))\n",
    "\n",
    "def NPV(cf,coc, p=1):\n",
    "    cf=np.array(cf)\n",
    "    return np.dot(cf, (1/(1+coc) ** (1/p)) ** np.arange(len(cf)))\n",
    "\n",
    "print(NPV([-1000, 300, 400, 500],0.05))"
   ]
  },
  {
   "cell_type": "markdown",
   "id": "ddd52b15",
   "metadata": {},
   "source": [
    "**2.** Create a function that takes a list of cash flows and a number of payments per year and returns a plot showing NPV as a function of the discount rate."
   ]
  },
  {
   "cell_type": "code",
   "execution_count": 108,
   "id": "deac1eca",
   "metadata": {},
   "outputs": [
    {
     "data": {
      "image/png": "[encoded data removed]",
      "text/plain": [
       "<Figure size 432x288 with 1 Axes>"
      ]
     },
     "metadata": {
      "needs_background": "light"
     },
     "output_type": "display_data"
    }
   ],
   "source": [
    "import matplotlib.pyplot as plt\n",
    "\n",
    "def NPV_graph(cf, p=1):\n",
    "    x_val=np.arange(0,0.205,0.005)\n",
    "    y_val=[NPV(cf,x,p) for x in x_val]\n",
    "    plt.axhline(y=0,color='r')\n",
    "    plt.plot(x_val, y_val)\n",
    "    plt.title('NPV=f(coc)')\n",
    "    plt.ylabel('NPV')\n",
    "    plt.xlabel('COC')\n",
    "    plt.grid()\n",
    "    plt.show()\n",
    "    \n",
    "cf = [-2000,300,400,500,600,700]\n",
    "NPV_graph(cf)"
   ]
  },
  {
   "cell_type": "markdown",
   "id": "66894134",
   "metadata": {},
   "source": [
    "**3.** Create a function that takes a list of cash flows and a number of payments per year as parameters and returns **IRR** (internal rate of return) of the project."
   ]
  },
  {
   "cell_type": "code",
   "execution_count": 110,
   "id": "a8278f2d",
   "metadata": {},
   "outputs": [
    {
     "name": "stdout",
     "output_type": "stream",
     "text": [
      "-1023.91\n",
      "0.015\n"
     ]
    }
   ],
   "source": [
    "def IRR(cf, p=1):\n",
    "    eps=0.00001\n",
    "    rate =0 \n",
    "    npv=NPV(cf, rate,1)\n",
    "    i = 0\n",
    "    factor = 10\n",
    "    if npv > eps:\n",
    "        while abs(npv)>eps:\n",
    "            while ((-1)** i) * npv >0:\n",
    "                rate += ((-1)** i) / (factor ** (i +1))\n",
    "                npv = NPV(cf, rate,1)\n",
    "            i += 1\n",
    "    elif npv < -eps:\n",
    "        while abs(npv)>eps:\n",
    "            while ((-1)** (i+1))*npv > 0:\n",
    "                rate += ((-1)** (i+1))/(factor ** (i+1))\n",
    "                npv = NPV(cf, rate, 1)\n",
    "            i+=1\n",
    "    return rate\n",
    "\n",
    "cf = [-1023.91,20,20,20,20,1020]\n",
    "print(round(IRR(cf),3))\n"
   ]
  },
  {
   "cell_type": "markdown",
   "id": "af2d7206",
   "metadata": {},
   "source": [
    "**4.** Create a function that takes a list of cash flows, cost of capital (expressed in annual terms) and a number of payments per year as parameters and returns **DPB** (discounted payback) of the project."
   ]
  },
  {
   "cell_type": "code",
   "execution_count": 164,
   "id": "0ad52752",
   "metadata": {},
   "outputs": [
    {
     "name": "stdout",
     "output_type": "stream",
     "text": [
      "[300, 400, 500, 600, 700]\n",
      "2\n",
      "6\n"
     ]
    }
   ],
   "source": [
    "def my_DPB(cf, wacc,p=1):\n",
    "    i=1\n",
    "    if NPV(cf, wacc, p)<0:\n",
    "        i = 'NPV is negative ' + str(NPV(cf, wacc, p))\n",
    "        return i\n",
    "    else :\n",
    "        res=[]\n",
    "        somme=cf[0]\n",
    "        for cflow in cf[1:]:\n",
    "            if somme < 0:\n",
    "                res.extend([cflow/((1+wacc)**(i))])\n",
    "                somme=sum(res)\n",
    "                i=i+1\n",
    "            else :\n",
    "                return i\n",
    "\n",
    "\n",
    "def DPB(cf, wacc,p=1):\n",
    "    pos=0\n",
    "    if NPV(cf, wacc, p) < 0:\n",
    "        pos= 'NPV is negative ' + str(NPV(cf, wacc, p))\n",
    "    else : \n",
    "        pos = 1\n",
    "        cum_npv = cf[0]\n",
    "        while cum_npv < 0:\n",
    "            cum_npv+=cf[pos]/(1+wacc)**pos\n",
    "            pos+= 1 \n",
    "    return pos\n",
    "\n",
    "cf = [-2000,300,400,500,600,700]\n",
    "print(my_DPB(cf, 0.05))\n",
    "print(DPB(cf, 0.05))"
   ]
  },
  {
   "cell_type": "markdown",
   "id": "d582e748",
   "metadata": {},
   "source": [
    "**5.** Create an empty **DataFrame** and write a function that takes the **DataFrame**, a list of cash flows, the cost of capital and the number of payments per year and adds a new row, containing NPV, IRR and DPB of a project to the **DataFrame** and returns the updated **DataFrame**."
   ]
  },
  {
   "cell_type": "code",
   "execution_count": null,
   "id": "c4aa19bd",
   "metadata": {},
   "outputs": [],
   "source": []
  }
 ],
 "metadata": {
  "kernelspec": {
   "display_name": "Python 3",
   "language": "python",
   "name": "python3"
  },
  "language_info": {
   "codemirror_mode": {
    "name": "ipython",
    "version": 3
   },
   "file_extension": ".py",
   "mimetype": "text/x-python",
   "name": "python",
   "nbconvert_exporter": "python",
   "pygments_lexer": "ipython3",
   "version": "3.8.8"
  }
 },
 "nbformat": 4,
 "nbformat_minor": 5
}
