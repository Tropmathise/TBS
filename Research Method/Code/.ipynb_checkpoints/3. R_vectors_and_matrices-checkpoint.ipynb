{
 "cells": [
  {
   "cell_type": "markdown",
   "id": "d3049d29",
   "metadata": {},
   "source": [
    "### 3. Vectors and matrices\n",
    "\n",
    "Scientific and financial applications generally have a need for high-performing operations on special data structures. One of the most important data structures in this regard is the **array**. Arrays structure other objects of the _same data type_ in rows and columns.\n",
    "\n",
    "Even though the concept generalizes to all data types, for the moment we are going to focus on numbers. A one-dimensional array then represents, mathematically speaking, a **vector** of real numbers, represented by **double** objects. It then consists of a _single_ row or column of elements. In a more common case, an array represents an _i×j_ **matrix** of elements. This concept generalizes to _i×j×k_ cubes of elements in three dimensions as well as to general n-dimensional arrays of shape _i×j×k×l…_\n",
    "\n",
    "R can handle **vectors** and **matrices** without any additional packages installed. The basic handling of instances of this class is again best illustrated by examples. One way to create a **vector** is using **c()** (https://stat.ethz.ch/R-manual/R-devel/library/base/html/c.html) function:"
   ]
  },
  {
   "cell_type": "code",
   "execution_count": 1,
   "id": "bdc8f6df",
   "metadata": {},
   "outputs": [
    {
     "name": "stdout",
     "output_type": "stream",
     "text": [
      "[1] 0.25 0.50 0.75 1.00 1.25\n"
     ]
    }
   ],
   "source": [
    "h = c(0.25, 0.5, 0.75, 1.0, 1.25)\n",
    "print(h)"
   ]
  },
  {
   "cell_type": "code",
   "execution_count": 2,
   "id": "06688a0b",
   "metadata": {},
   "outputs": [
    {
     "data": {
      "text/html": [
       "TRUE"
      ],
      "text/latex": [
       "TRUE"
      ],
      "text/markdown": [
       "TRUE"
      ],
      "text/plain": [
       "[1] TRUE"
      ]
     },
     "metadata": {},
     "output_type": "display_data"
    }
   ],
   "source": [
    "is.vector(h)"
   ]
  },
  {
   "cell_type": "code",
   "execution_count": 3,
   "id": "f6440767",
   "metadata": {},
   "outputs": [
    {
     "name": "stdout",
     "output_type": "stream",
     "text": [
      "[1] \"a\" \"b\" \"c\"\n"
     ]
    }
   ],
   "source": [
    "h = c('a', 'b', 'c')\n",
    "print(h)"
   ]
  },
  {
   "cell_type": "markdown",
   "id": "b5cd6a44",
   "metadata": {},
   "source": [
    "A useful function to generate ranges is **seq()** (https://stat.ethz.ch/R-manual/R-devel/library/base/html/seq.html) function:"
   ]
  },
  {
   "cell_type": "code",
   "execution_count": 4,
   "id": "11d7cdd2",
   "metadata": {},
   "outputs": [
    {
     "name": "stdout",
     "output_type": "stream",
     "text": [
      " [1]  2  4  6  8 10 12 14 16 18 20\n"
     ]
    }
   ],
   "source": [
    "i = seq(2, 20, 2)\n",
    "print(i)"
   ]
  },
  {
   "cell_type": "code",
   "execution_count": 9,
   "id": "8046bf70",
   "metadata": {},
   "outputs": [
    {
     "name": "stdout",
     "output_type": "stream",
     "text": [
      " [1]  5  6  7  8  9 10 11 12 13 14 15\n"
     ]
    }
   ],
   "source": [
    "i = seq(5, 15, length=11)\n",
    "print(i)"
   ]
  },
  {
   "cell_type": "code",
   "execution_count": 16,
   "id": "0cdf0110",
   "metadata": {},
   "outputs": [
    {
     "name": "stdout",
     "output_type": "stream",
     "text": [
      "[1] 1 2 3 4 5 6 7 8\n"
     ]
    }
   ],
   "source": [
    "j = seq(8)\n",
    "print(j)"
   ]
  },
  {
   "cell_type": "code",
   "execution_count": 11,
   "id": "66a2bab1",
   "metadata": {},
   "outputs": [
    {
     "name": "stdout",
     "output_type": "stream",
     "text": [
      "[1] 5 6 7 8\n"
     ]
    }
   ],
   "source": [
    "print(   j[5:length(j)]   )"
   ]
  },
  {
   "cell_type": "code",
   "execution_count": 12,
   "id": "9e349635",
   "metadata": {},
   "outputs": [
    {
     "name": "stdout",
     "output_type": "stream",
     "text": [
      "[1] 5 6 7 8\n"
     ]
    }
   ],
   "source": [
    "print(   j[-(1:4)]   )"
   ]
  },
  {
   "cell_type": "code",
   "execution_count": 13,
   "id": "d71b06da",
   "metadata": {},
   "outputs": [
    {
     "name": "stdout",
     "output_type": "stream",
     "text": [
      "[1] 1 2 3\n"
     ]
    }
   ],
   "source": [
    "print(   j[1:3]   )"
   ]
  },
  {
   "cell_type": "code",
   "execution_count": 19,
   "id": "34509b3a",
   "metadata": {},
   "outputs": [
    {
     "name": "stdout",
     "output_type": "stream",
     "text": [
      "[1] 1 2 3\n"
     ]
    }
   ],
   "source": [
    "print(   j[c(1,2,3)]   )"
   ]
  },
  {
   "cell_type": "markdown",
   "id": "e0cead94",
   "metadata": {},
   "source": [
    "Any mathematical function can applied to **vector** (https://stat.ethz.ch/R-manual/R-devel/library/base/html/groupGeneric.html). For instance:"
   ]
  },
  {
   "cell_type": "code",
   "execution_count": 20,
   "id": "539e7914",
   "metadata": {},
   "outputs": [
    {
     "data": {
      "text/html": [
       "36"
      ],
      "text/latex": [
       "36"
      ],
      "text/markdown": [
       "36"
      ],
      "text/plain": [
       "[1] 36"
      ]
     },
     "metadata": {},
     "output_type": "display_data"
    }
   ],
   "source": [
    "sum(j)"
   ]
  },
  {
   "cell_type": "code",
   "execution_count": 21,
   "id": "8a4e6f44",
   "metadata": {},
   "outputs": [
    {
     "data": {
      "text/html": [
       "2.44948974278318"
      ],
      "text/latex": [
       "2.44948974278318"
      ],
      "text/markdown": [
       "2.44948974278318"
      ],
      "text/plain": [
       "[1] 2.44949"
      ]
     },
     "metadata": {},
     "output_type": "display_data"
    }
   ],
   "source": [
    "sd(j)"
   ]
  },
  {
   "cell_type": "code",
   "execution_count": 22,
   "id": "0a8cc311",
   "metadata": {},
   "outputs": [
    {
     "name": "stdout",
     "output_type": "stream",
     "text": [
      "[1]  1  3  6 10 15 21 28 36\n"
     ]
    }
   ],
   "source": [
    "print(   cumsum(j)   )"
   ]
  },
  {
   "cell_type": "code",
   "execution_count": 23,
   "id": "b90b1373",
   "metadata": {},
   "outputs": [
    {
     "name": "stdout",
     "output_type": "stream",
     "text": [
      "[1]    2.718282    7.389056   20.085537   54.598150  148.413159  403.428793\n",
      "[7] 1096.633158 2980.957987\n"
     ]
    }
   ],
   "source": [
    "print(   exp(j)   )"
   ]
  },
  {
   "cell_type": "code",
   "execution_count": 24,
   "id": "5d2e17ef",
   "metadata": {},
   "outputs": [
    {
     "name": "stdout",
     "output_type": "stream",
     "text": [
      "[1] 1.000000 1.414214 1.732051 2.000000 2.236068 2.449490 2.645751 2.828427\n"
     ]
    }
   ],
   "source": [
    "print(   sqrt(j)   )"
   ]
  },
  {
   "cell_type": "code",
   "execution_count": 25,
   "id": "ae605172",
   "metadata": {},
   "outputs": [
    {
     "data": {
      "text/html": [
       "2"
      ],
      "text/latex": [
       "2"
      ],
      "text/markdown": [
       "2"
      ],
      "text/plain": [
       "[1] 2"
      ]
     },
     "metadata": {},
     "output_type": "display_data"
    }
   ],
   "source": [
    "sqrt(4)"
   ]
  },
  {
   "cell_type": "markdown",
   "id": "b0687af9",
   "metadata": {},
   "source": [
    "Also mathematical operations can be performed on **vectors**:"
   ]
  },
  {
   "cell_type": "code",
   "execution_count": 26,
   "id": "ec259896",
   "metadata": {},
   "outputs": [
    {
     "name": "stdout",
     "output_type": "stream",
     "text": [
      "[1] 1 2 3 4 5 6 7 8\n"
     ]
    }
   ],
   "source": [
    "l = seq(8)\n",
    "print(l)"
   ]
  },
  {
   "cell_type": "code",
   "execution_count": 27,
   "id": "155e4ee4",
   "metadata": {},
   "outputs": [
    {
     "name": "stdout",
     "output_type": "stream",
     "text": [
      "[1]  2  4  6  8 10 12 14 16\n"
     ]
    }
   ],
   "source": [
    "print(2 * l)"
   ]
  },
  {
   "cell_type": "code",
   "execution_count": 28,
   "id": "1fa538e2",
   "metadata": {},
   "outputs": [
    {
     "name": "stdout",
     "output_type": "stream",
     "text": [
      "[1]  1  4  9 16 25 36 49 64\n"
     ]
    }
   ],
   "source": [
    "print(l ^ 2)"
   ]
  },
  {
   "cell_type": "code",
   "execution_count": 29,
   "id": "5907da33",
   "metadata": {},
   "outputs": [
    {
     "name": "stdout",
     "output_type": "stream",
     "text": [
      "[1]   2   4   8  16  32  64 128 256\n"
     ]
    }
   ],
   "source": [
    "print(2 ^ l)"
   ]
  },
  {
   "cell_type": "code",
   "execution_count": 30,
   "id": "ae013dc7",
   "metadata": {},
   "outputs": [
    {
     "name": "stdout",
     "output_type": "stream",
     "text": [
      "[1]        1        4       27      256     3125    46656   823543 16777216\n"
     ]
    }
   ],
   "source": [
    "print(l ^ l)"
   ]
  },
  {
   "cell_type": "markdown",
   "id": "d28fd3f7",
   "metadata": {},
   "source": [
    "By adding another dimension to **vector**, you will create a **matrix**. The indexing system requires providing both dimensions:"
   ]
  },
  {
   "cell_type": "code",
   "execution_count": 38,
   "id": "1f0eca13",
   "metadata": {},
   "outputs": [
    {
     "name": "stdout",
     "output_type": "stream",
     "text": [
      "     [,1] [,2] [,3] [,4] [,5] [,6] [,7] [,8]\n",
      "[1,]    1    3    5    7    2    6   10   14\n",
      "[2,]    2    4    6    8    4    8   12   16\n"
     ]
    }
   ],
   "source": [
    "m = matrix(   c(l, l * 2), nrow=2   )\n",
    "print(m)"
   ]
  },
  {
   "cell_type": "code",
   "execution_count": 36,
   "id": "fabc609a",
   "metadata": {},
   "outputs": [
    {
     "name": "stdout",
     "output_type": "stream",
     "text": [
      "[1]  1  3  5  7  2  6 10 14\n"
     ]
    }
   ],
   "source": [
    "print(   m[1,]   )"
   ]
  },
  {
   "cell_type": "code",
   "execution_count": 37,
   "id": "491c6a3d",
   "metadata": {},
   "outputs": [
    {
     "name": "stdout",
     "output_type": "stream",
     "text": [
      "[1] 3\n"
     ]
    }
   ],
   "source": [
    "print(   m[1, 2]   )"
   ]
  },
  {
   "cell_type": "code",
   "execution_count": 39,
   "id": "488a50c3",
   "metadata": {},
   "outputs": [
    {
     "name": "stdout",
     "output_type": "stream",
     "text": [
      "[1] 6 8\n"
     ]
    }
   ],
   "source": [
    "print(   m[, 6]   )"
   ]
  },
  {
   "cell_type": "code",
   "execution_count": 40,
   "id": "a2c9ae17",
   "metadata": {},
   "outputs": [
    {
     "name": "stdout",
     "output_type": "stream",
     "text": [
      "[1] 5 7 2\n"
     ]
    }
   ],
   "source": [
    "print(   m[1, 3:5]   )"
   ]
  },
  {
   "cell_type": "code",
   "execution_count": 41,
   "id": "8d1a285a",
   "metadata": {},
   "outputs": [
    {
     "data": {
      "text/html": [
       "108"
      ],
      "text/latex": [
       "108"
      ],
      "text/markdown": [
       "108"
      ],
      "text/plain": [
       "[1] 108"
      ]
     },
     "metadata": {},
     "output_type": "display_data"
    }
   ],
   "source": [
    "sum(m)"
   ]
  },
  {
   "cell_type": "code",
   "execution_count": 42,
   "id": "537cd4f2",
   "metadata": {},
   "outputs": [
    {
     "name": "stdout",
     "output_type": "stream",
     "text": [
      "[1]  3  7 11 15  6 14 22 30\n"
     ]
    }
   ],
   "source": [
    "print(   colSums(m)   )"
   ]
  },
  {
   "cell_type": "code",
   "execution_count": 43,
   "id": "71213108",
   "metadata": {},
   "outputs": [
    {
     "name": "stdout",
     "output_type": "stream",
     "text": [
      "[1] 48 60\n"
     ]
    }
   ],
   "source": [
    "print(   rowSums(m)   )"
   ]
  },
  {
   "cell_type": "markdown",
   "id": "ecfcfbe0",
   "metadata": {},
   "source": [
    "Using **matrix()** (https://stat.ethz.ch/R-manual/R-devel/library/base/html/matrix.html) function, you can create **matrices** populated with ones or zeros:"
   ]
  },
  {
   "cell_type": "code",
   "execution_count": 44,
   "id": "beacde64",
   "metadata": {},
   "outputs": [
    {
     "name": "stdout",
     "output_type": "stream",
     "text": [
      "     [,1] [,2] [,3]\n",
      "[1,]    0    0    0\n",
      "[2,]    0    0    0\n"
     ]
    }
   ],
   "source": [
    "n = matrix(0, nrow=2, ncol=3)\n",
    "print(n)"
   ]
  },
  {
   "cell_type": "markdown",
   "id": "c2e43d75",
   "metadata": {},
   "source": [
    "More than 2-dimensional structures can be created using **array()** (https://stat.ethz.ch/R-manual/R-devel/library/base/html/array.html) function:"
   ]
  },
  {
   "cell_type": "code",
   "execution_count": 47,
   "id": "07b94354",
   "metadata": {},
   "outputs": [
    {
     "name": "stdout",
     "output_type": "stream",
     "text": [
      ", , 1\n",
      "\n",
      "     [,1] [,2] [,3]\n",
      "[1,]    1    1    1\n",
      "[2,]    1    1    1\n",
      "[3,]    1    1    1\n",
      "[4,]    1    1    1\n",
      "\n",
      ", , 2\n",
      "\n",
      "     [,1] [,2] [,3]\n",
      "[1,]    1    1    1\n",
      "[2,]    1    1    1\n",
      "[3,]    1    1    1\n",
      "[4,]    1    1    1\n",
      "\n"
     ]
    }
   ],
   "source": [
    "o = array(1, dim=c(4, 3, 2))\n",
    "print(o)"
   ]
  },
  {
   "cell_type": "code",
   "execution_count": 48,
   "id": "f182fb43",
   "metadata": {},
   "outputs": [
    {
     "name": "stdout",
     "output_type": "stream",
     "text": [
      "     [,1] [,2] [,3]\n",
      "[1,]    0    0    0\n",
      "[2,]    0    0    0\n"
     ]
    }
   ],
   "source": [
    "p = as.matrix(n)\n",
    "print(p)"
   ]
  },
  {
   "cell_type": "code",
   "execution_count": 49,
   "id": "62cfd817",
   "metadata": {},
   "outputs": [
    {
     "name": "stdout",
     "output_type": "stream",
     "text": [
      "     [,1] [,2] [,3] [,4] [,5]\n",
      "[1,]    1    0    0    0    0\n",
      "[2,]    0    1    0    0    0\n",
      "[3,]    0    0    1    0    0\n",
      "[4,]    0    0    0    1    0\n",
      "[5,]    0    0    0    0    1\n"
     ]
    }
   ],
   "source": [
    "r = diag(5)\n",
    "print(r)"
   ]
  },
  {
   "cell_type": "markdown",
   "id": "c661f9d4",
   "metadata": {},
   "source": [
    "Dimensions of any data structure can be found or assigned using **dim()** (https://stat.ethz.ch/R-manual/R-devel/library/base/html/dim.html) function:"
   ]
  },
  {
   "cell_type": "code",
   "execution_count": 50,
   "id": "d3a59bf4",
   "metadata": {},
   "outputs": [
    {
     "name": "stdout",
     "output_type": "stream",
     "text": [
      "[1] 5 5\n"
     ]
    }
   ],
   "source": [
    "print(   dim(r)   )"
   ]
  },
  {
   "cell_type": "code",
   "execution_count": 51,
   "id": "c28672c2",
   "metadata": {},
   "outputs": [
    {
     "name": "stdout",
     "output_type": "stream",
     "text": [
      "[1] 4 3 2\n"
     ]
    }
   ],
   "source": [
    "print(   dim(o)   )"
   ]
  },
  {
   "cell_type": "code",
   "execution_count": 52,
   "id": "285fefac",
   "metadata": {},
   "outputs": [
    {
     "name": "stdout",
     "output_type": "stream",
     "text": [
      "     [,1] [,2] [,3] [,4] [,5]\n",
      "[1,]    1    4    7   10   13\n",
      "[2,]    2    5    8   11   14\n",
      "[3,]    3    6    9   12   15\n"
     ]
    }
   ],
   "source": [
    "v = seq(15)\n",
    "dim(v) = c(3,5)\n",
    "print(v)"
   ]
  },
  {
   "cell_type": "code",
   "execution_count": 53,
   "id": "bba90555",
   "metadata": {},
   "outputs": [
    {
     "name": "stdout",
     "output_type": "stream",
     "text": [
      "     [,1] [,2] [,3]\n",
      "[1,]    1    6   11\n",
      "[2,]    2    7   12\n",
      "[3,]    3    8   13\n",
      "[4,]    4    9   14\n",
      "[5,]    5   10   15\n"
     ]
    }
   ],
   "source": [
    "w = matrix(v, 5, 3)\n",
    "print(w)"
   ]
  },
  {
   "cell_type": "code",
   "execution_count": 54,
   "id": "03e7cfc4",
   "metadata": {},
   "outputs": [
    {
     "name": "stdout",
     "output_type": "stream",
     "text": [
      "     [,1] [,2] [,3] [,4] [,5]\n",
      "[1,]    1    2    3    4    5\n",
      "[2,]    6    7    8    9   10\n",
      "[3,]   11   12   13   14   15\n"
     ]
    }
   ],
   "source": [
    "print(   t(w)   )"
   ]
  },
  {
   "cell_type": "markdown",
   "id": "7ef7c09b",
   "metadata": {},
   "source": [
    "Stacking is a special operation that allows the horizontal or vertical combination of two **vectors** or **matrices** using **cbind()** and **rbind()** (https://stat.ethz.ch/R-manual/R-devel/library/base/html/cbind.html) functions respectively. However, the size of the \"connecting\" dimension must be the same:"
   ]
  },
  {
   "cell_type": "code",
   "execution_count": 55,
   "id": "1b8f9a92",
   "metadata": {},
   "outputs": [
    {
     "name": "stdout",
     "output_type": "stream",
     "text": [
      "     [,1] [,2] [,3] [,4] [,5] [,6]\n",
      "[1,]    1    6   11    1   36  121\n",
      "[2,]    2    7   12    4   49  144\n",
      "[3,]    3    8   13    9   64  169\n",
      "[4,]    4    9   14   16   81  196\n",
      "[5,]    5   10   15   25  100  225\n"
     ]
    }
   ],
   "source": [
    "print(   cbind(w, w ^ 2)   )"
   ]
  },
  {
   "cell_type": "code",
   "execution_count": 56,
   "id": "5e0bbf92",
   "metadata": {},
   "outputs": [
    {
     "name": "stdout",
     "output_type": "stream",
     "text": [
      "      [,1] [,2] [,3]\n",
      " [1,]    1    6   11\n",
      " [2,]    2    7   12\n",
      " [3,]    3    8   13\n",
      " [4,]    4    9   14\n",
      " [5,]    5   10   15\n",
      " [6,]    2   12   22\n",
      " [7,]    4   14   24\n",
      " [8,]    6   16   26\n",
      " [9,]    8   18   28\n",
      "[10,]   10   20   30\n"
     ]
    }
   ],
   "source": [
    "print(   rbind(w, w * 2)   )"
   ]
  },
  {
   "cell_type": "markdown",
   "id": "b51bdc5f",
   "metadata": {},
   "source": [
    "You can flatten a **matrix** or an n-dimensional **array** using **as.vector()** (https://stat.ethz.ch/R-manual/R-devel/library/base/html/vector.html) function:"
   ]
  },
  {
   "cell_type": "code",
   "execution_count": 57,
   "id": "ba9f80cd",
   "metadata": {},
   "outputs": [
    {
     "name": "stdout",
     "output_type": "stream",
     "text": [
      "     [,1] [,2] [,3]\n",
      "[1,]    1    6   11\n",
      "[2,]    2    7   12\n",
      "[3,]    3    8   13\n",
      "[4,]    4    9   14\n",
      "[5,]    5   10   15\n"
     ]
    }
   ],
   "source": [
    "print(w)"
   ]
  },
  {
   "cell_type": "code",
   "execution_count": 58,
   "id": "776d86ff",
   "metadata": {},
   "outputs": [
    {
     "name": "stdout",
     "output_type": "stream",
     "text": [
      " [1]  1  2  3  4  5  6  7  8  9 10 11 12 13 14 15\n"
     ]
    }
   ],
   "source": [
    "print(   as.vector(w)   )"
   ]
  },
  {
   "cell_type": "code",
   "execution_count": 59,
   "id": "49eb410c",
   "metadata": {},
   "outputs": [
    {
     "name": "stdout",
     "output_type": "stream",
     "text": [
      " [1]  1  6 11  2  7 12  3  8 13  4  9 14  5 10 15\n"
     ]
    }
   ],
   "source": [
    "print(   as.vector(t(w))   )"
   ]
  },
  {
   "cell_type": "markdown",
   "id": "e3863530",
   "metadata": {},
   "source": [
    "Comparison and logical operations in general work on **vectors** and **matrices** the same way, element-wise, as on standard R data types. Evaluating conditions returns a **logical** object:"
   ]
  },
  {
   "cell_type": "code",
   "execution_count": 60,
   "id": "2b509855",
   "metadata": {},
   "outputs": [
    {
     "name": "stdout",
     "output_type": "stream",
     "text": [
      "      [,1]  [,2] [,3]\n",
      "[1,] FALSE FALSE TRUE\n",
      "[2,] FALSE FALSE TRUE\n",
      "[3,] FALSE FALSE TRUE\n",
      "[4,] FALSE  TRUE TRUE\n",
      "[5,] FALSE  TRUE TRUE\n"
     ]
    }
   ],
   "source": [
    "print(w > 8)"
   ]
  },
  {
   "cell_type": "code",
   "execution_count": 61,
   "id": "6e258500",
   "metadata": {},
   "outputs": [
    {
     "name": "stdout",
     "output_type": "stream",
     "text": [
      "     [,1]  [,2]  [,3]\n",
      "[1,] TRUE  TRUE FALSE\n",
      "[2,] TRUE  TRUE FALSE\n",
      "[3,] TRUE FALSE FALSE\n",
      "[4,] TRUE FALSE FALSE\n",
      "[5,] TRUE FALSE FALSE\n"
     ]
    }
   ],
   "source": [
    "print(w <= 7)"
   ]
  },
  {
   "cell_type": "code",
   "execution_count": 62,
   "id": "6e2068bd",
   "metadata": {},
   "outputs": [
    {
     "name": "stdout",
     "output_type": "stream",
     "text": [
      "      [,1]  [,2]  [,3]\n",
      "[1,] FALSE FALSE FALSE\n",
      "[2,] FALSE FALSE FALSE\n",
      "[3,] FALSE FALSE FALSE\n",
      "[4,] FALSE FALSE FALSE\n",
      "[5,]  TRUE FALSE FALSE\n"
     ]
    }
   ],
   "source": [
    "print(w == 5)"
   ]
  },
  {
   "cell_type": "code",
   "execution_count": 68,
   "id": "47c76f13",
   "metadata": {},
   "outputs": [
    {
     "name": "stdout",
     "output_type": "stream",
     "text": [
      "     [,1] [,2] [,3]\n",
      "[1,]    0    0    0\n",
      "[2,]    0    0    0\n",
      "[3,]    0    0    0\n",
      "[4,]    0    0    0\n",
      "[5,]    1    0    0\n"
     ]
    }
   ],
   "source": [
    "print(   (w == 5) * 1   )"
   ]
  },
  {
   "cell_type": "code",
   "execution_count": 71,
   "id": "e3813124",
   "metadata": {},
   "outputs": [
    {
     "name": "stdout",
     "output_type": "stream",
     "text": [
      "     [,1] [,2] [,3]\n",
      "[1,]    0    1    1\n",
      "[2,]    0    1    1\n",
      "[3,]    0    1    0\n",
      "[4,]    0    1    0\n",
      "[5,]    1    1    0\n"
     ]
    }
   ],
   "source": [
    "print(   ((w > 4) & (w <= 12)) *1   )"
   ]
  },
  {
   "cell_type": "markdown",
   "id": "9a2caa5b",
   "metadata": {},
   "source": [
    "Such boolean arrays can be used for indexing and data selection. Notice that the following operations flatten the data:"
   ]
  },
  {
   "cell_type": "code",
   "execution_count": 73,
   "id": "c7e2c5b9",
   "metadata": {},
   "outputs": [
    {
     "name": "stdout",
     "output_type": "stream",
     "text": [
      "     [,1] [,2] [,3]\n",
      "[1,]    1    6   11\n",
      "[2,]    2    7   12\n",
      "[3,]    3    8   13\n",
      "[4,]    4    9   14\n",
      "[5,]    5   10   15\n"
     ]
    }
   ],
   "source": [
    "print(w)"
   ]
  },
  {
   "cell_type": "code",
   "execution_count": 74,
   "id": "fb731c74",
   "metadata": {},
   "outputs": [
    {
     "name": "stdout",
     "output_type": "stream",
     "text": [
      "[1]  9 10 11 12 13 14 15\n"
     ]
    }
   ],
   "source": [
    "print(   w[w > 8]   )"
   ]
  },
  {
   "cell_type": "code",
   "execution_count": 75,
   "id": "90ef465e",
   "metadata": {},
   "outputs": [
    {
     "name": "stdout",
     "output_type": "stream",
     "text": [
      "[1]  5  6  7  8  9 10 11 12\n"
     ]
    }
   ],
   "source": [
    "print(   w[(w > 4) & (w <= 12)]   )"
   ]
  },
  {
   "cell_type": "code",
   "execution_count": 76,
   "id": "8ab30e1e",
   "metadata": {},
   "outputs": [
    {
     "name": "stdout",
     "output_type": "stream",
     "text": [
      "[1]  1  2  3 12 13 14 15\n"
     ]
    }
   ],
   "source": [
    "print(   w[(w < 4) | (w >= 12)]   )"
   ]
  },
  {
   "cell_type": "markdown",
   "id": "bdbb73b3",
   "metadata": {},
   "source": [
    "Another powerful tool is the **ifelse()** (https://stat.ethz.ch/R-manual/R-devel/library/base/html/ifelse.html) function which allows the definition of operations depending on whether a condition is **True** or **False**:"
   ]
  },
  {
   "cell_type": "code",
   "execution_count": 83,
   "id": "44f3a2a9",
   "metadata": {},
   "outputs": [
    {
     "name": "stdout",
     "output_type": "stream",
     "text": [
      "     [,1] [,2] [,3]\n",
      "[1,]    0    0    1\n",
      "[2,]    0    0    1\n",
      "[3,]    0    1    1\n",
      "[4,]    0    1    1\n",
      "[5,]    0    1    1\n"
     ]
    }
   ],
   "source": [
    "print(   (ifelse(w > 7, 1, 0))   )"
   ]
  },
  {
   "cell_type": "code",
   "execution_count": 84,
   "id": "8ced5785",
   "metadata": {},
   "outputs": [
    {
     "name": "stdout",
     "output_type": "stream",
     "text": [
      "     [,1]   [,2]   [,3]  \n",
      "[1,] \"odd\"  \"even\" \"odd\" \n",
      "[2,] \"even\" \"odd\"  \"even\"\n",
      "[3,] \"odd\"  \"even\" \"odd\" \n",
      "[4,] \"even\" \"odd\"  \"even\"\n",
      "[5,] \"odd\"  \"even\" \"odd\" \n"
     ]
    }
   ],
   "source": [
    "print(   ifelse(w %% 2 == 0, 'even', 'odd')   )"
   ]
  },
  {
   "cell_type": "code",
   "execution_count": 85,
   "id": "e987da5f",
   "metadata": {},
   "outputs": [
    {
     "name": "stdout",
     "output_type": "stream",
     "text": [
      "     [,1] [,2] [,3]\n",
      "[1,]    2 12.0  5.5\n",
      "[2,]    4 14.0  6.0\n",
      "[3,]    6  4.0  6.5\n",
      "[4,]    8  4.5  7.0\n",
      "[5,]   10  5.0  7.5\n"
     ]
    }
   ],
   "source": [
    "print(   ifelse(w <= 7, w * 2, w / 2)   )"
   ]
  },
  {
   "cell_type": "markdown",
   "id": "c36e2331",
   "metadata": {},
   "source": [
    "Simple mathematical operations, such as calculating the sum over all elements, can be implemented on **vectors** and **matrices** directly. For example, one can add two **matrices** element-wise as follows:"
   ]
  },
  {
   "cell_type": "code",
   "execution_count": 86,
   "id": "85c46062",
   "metadata": {},
   "outputs": [
    {
     "name": "stdout",
     "output_type": "stream",
     "text": [
      "     [,1] [,2] [,3]\n",
      "[1,]    1    5    9\n",
      "[2,]    2    6   10\n",
      "[3,]    3    7   11\n",
      "[4,]    4    8   12\n"
     ]
    }
   ],
   "source": [
    "y = matrix(seq(12), nrow=4)\n",
    "z = y * 0.5  \n",
    "print(y)"
   ]
  },
  {
   "cell_type": "code",
   "execution_count": 87,
   "id": "5192610a",
   "metadata": {},
   "outputs": [
    {
     "name": "stdout",
     "output_type": "stream",
     "text": [
      "     [,1] [,2] [,3]\n",
      "[1,]  0.5  2.5  4.5\n",
      "[2,]  1.0  3.0  5.0\n",
      "[3,]  1.5  3.5  5.5\n",
      "[4,]  2.0  4.0  6.0\n"
     ]
    }
   ],
   "source": [
    "print(z)"
   ]
  },
  {
   "cell_type": "code",
   "execution_count": 88,
   "id": "0b0d5f14",
   "metadata": {},
   "outputs": [
    {
     "name": "stdout",
     "output_type": "stream",
     "text": [
      "     [,1] [,2] [,3]\n",
      "[1,]  1.5  7.5 13.5\n",
      "[2,]  3.0  9.0 15.0\n",
      "[3,]  4.5 10.5 16.5\n",
      "[4,]  6.0 12.0 18.0\n"
     ]
    }
   ],
   "source": [
    "print(y + z)"
   ]
  },
  {
   "cell_type": "markdown",
   "id": "aa12a395",
   "metadata": {},
   "source": [
    "R also supports what is called _broadcasting_. This allows to combine objects of different shape within a single operation. Previous examples have already made use of this. Consider the following examples:"
   ]
  },
  {
   "cell_type": "code",
   "execution_count": 89,
   "id": "d1b79532",
   "metadata": {},
   "outputs": [
    {
     "name": "stdout",
     "output_type": "stream",
     "text": [
      "     [,1] [,2] [,3]\n",
      "[1,]    4    8   12\n",
      "[2,]    5    9   13\n",
      "[3,]    6   10   14\n",
      "[4,]    7   11   15\n"
     ]
    }
   ],
   "source": [
    "print(y + 3)"
   ]
  },
  {
   "cell_type": "code",
   "execution_count": 90,
   "id": "26e8abf8",
   "metadata": {},
   "outputs": [
    {
     "name": "stdout",
     "output_type": "stream",
     "text": [
      "     [,1] [,2] [,3]\n",
      "[1,]    2   10   18\n",
      "[2,]    4   12   20\n",
      "[3,]    6   14   22\n",
      "[4,]    8   16   24\n"
     ]
    }
   ],
   "source": [
    "print(2 * y)"
   ]
  },
  {
   "cell_type": "code",
   "execution_count": 91,
   "id": "dcc234c2",
   "metadata": {},
   "outputs": [
    {
     "name": "stdout",
     "output_type": "stream",
     "text": [
      "     [,1] [,2] [,3]\n",
      "[1,]    5   13   21\n",
      "[2,]    7   15   23\n",
      "[3,]    9   17   25\n",
      "[4,]   11   19   27\n"
     ]
    }
   ],
   "source": [
    "print(2 * y + 3)"
   ]
  },
  {
   "cell_type": "markdown",
   "id": "5f7b7d09",
   "metadata": {},
   "source": [
    "You can also add **vectors** to **matrices**:"
   ]
  },
  {
   "cell_type": "code",
   "execution_count": 92,
   "id": "3debc829",
   "metadata": {},
   "outputs": [
    {
     "name": "stdout",
     "output_type": "stream",
     "text": [
      "     [,1] [,2] [,3]\n",
      "[1,]  0.5  2.5  4.5\n",
      "[2,]  1.0  3.0  5.0\n",
      "[3,]  1.5  3.5  5.5\n",
      "[4,]  2.0  4.0  6.0\n"
     ]
    }
   ],
   "source": [
    "print(z)"
   ]
  },
  {
   "cell_type": "code",
   "execution_count": 104,
   "id": "033dbbbe",
   "metadata": {},
   "outputs": [
    {
     "name": "stdout",
     "output_type": "stream",
     "text": [
      "[1] 0.5 1.0 1.5 2.0\n"
     ]
    }
   ],
   "source": [
    "print(   z[,1]   )"
   ]
  },
  {
   "cell_type": "code",
   "execution_count": 96,
   "id": "bf9fe1e1",
   "metadata": {},
   "outputs": [
    {
     "name": "stdout",
     "output_type": "stream",
     "text": [
      "     [,1] [,2] [,3]\n",
      "[1,]    1    5    9\n",
      "[2,]    2    6   10\n",
      "[3,]    3    7   11\n",
      "[4,]    4    8   12\n"
     ]
    }
   ],
   "source": [
    "print(y)"
   ]
  },
  {
   "cell_type": "code",
   "execution_count": 106,
   "id": "dd83b99b",
   "metadata": {},
   "outputs": [
    {
     "name": "stdout",
     "output_type": "stream",
     "text": [
      "     [,1] [,2] [,3]\n",
      "[1,]  1.5  5.5  9.5\n",
      "[2,]  3.0  7.0 11.0\n",
      "[3,]  4.5  8.5 12.5\n",
      "[4,]  6.0 10.0 14.0\n"
     ]
    }
   ],
   "source": [
    "print(   y + z[,1]   )"
   ]
  },
  {
   "cell_type": "markdown",
   "id": "b5700280",
   "metadata": {},
   "source": [
    "As already discussed in section 2, R allows **vectors** and **matrices** as arguments for the functions:"
   ]
  },
  {
   "cell_type": "code",
   "execution_count": 107,
   "id": "cb5a306f",
   "metadata": {},
   "outputs": [
    {
     "data": {
      "text/html": [
       "11"
      ],
      "text/latex": [
       "11"
      ],
      "text/markdown": [
       "11"
      ],
      "text/plain": [
       "[1] 11"
      ]
     },
     "metadata": {},
     "output_type": "display_data"
    }
   ],
   "source": [
    "f = function(x) 3 * x + 5\n",
    "\n",
    "f(2)"
   ]
  },
  {
   "cell_type": "code",
   "execution_count": 108,
   "id": "6ceeeba4",
   "metadata": {},
   "outputs": [
    {
     "name": "stdout",
     "output_type": "stream",
     "text": [
      "     [,1] [,2] [,3]\n",
      "[1,]    8   20   32\n",
      "[2,]   11   23   35\n",
      "[3,]   14   26   38\n",
      "[4,]   17   29   41\n"
     ]
    }
   ],
   "source": [
    "print(   f(y)   )"
   ]
  },
  {
   "cell_type": "markdown",
   "id": "915a12db",
   "metadata": {},
   "source": [
    "You can perform **vector** and **matrix** multiplication by using _%*%_ operation (standard _*_ performs element by element multiplication). When performing **matrix** multiplication, make sure you have the correct dimensions:"
   ]
  },
  {
   "cell_type": "code",
   "execution_count": 109,
   "id": "1b42d67e",
   "metadata": {},
   "outputs": [
    {
     "name": "stdout",
     "output_type": "stream",
     "text": [
      "     [,1] [,2] [,3]\n",
      "[1,]    1    5    9\n",
      "[2,]    2    6   10\n",
      "[3,]    3    7   11\n",
      "[4,]    4    8   12\n"
     ]
    }
   ],
   "source": [
    "print(y)"
   ]
  },
  {
   "cell_type": "code",
   "execution_count": 110,
   "id": "936daa59",
   "metadata": {},
   "outputs": [
    {
     "name": "stdout",
     "output_type": "stream",
     "text": [
      "     [,1] [,2] [,3]\n",
      "[1,]  0.5  2.5  4.5\n",
      "[2,]  1.0  3.0  5.0\n",
      "[3,]  1.5  3.5  5.5\n",
      "[4,]  2.0  4.0  6.0\n"
     ]
    }
   ],
   "source": [
    "print(z)"
   ]
  },
  {
   "cell_type": "code",
   "execution_count": 111,
   "id": "25abba79",
   "metadata": {},
   "outputs": [
    {
     "name": "stdout",
     "output_type": "stream",
     "text": [
      "     [,1] [,2] [,3]\n",
      "[1,]  0.5 12.5 40.5\n",
      "[2,]  2.0 18.0 50.0\n",
      "[3,]  4.5 24.5 60.5\n",
      "[4,]  8.0 32.0 72.0\n"
     ]
    }
   ],
   "source": [
    "print(y * z)"
   ]
  },
  {
   "cell_type": "code",
   "execution_count": 114,
   "id": "6b23e605",
   "metadata": {},
   "outputs": [
    {
     "ename": "ERROR",
     "evalue": "Error in y %*% z: non-conformable arguments\n",
     "output_type": "error",
     "traceback": [
      "Error in y %*% z: non-conformable arguments\nTraceback:\n",
      "1. print(y %*% z)"
     ]
    }
   ],
   "source": [
    "print(   y %*% z   )"
   ]
  },
  {
   "cell_type": "code",
   "execution_count": 115,
   "id": "4c696405",
   "metadata": {},
   "outputs": [
    {
     "name": "stdout",
     "output_type": "stream",
     "text": [
      "     [,1] [,2]  [,3] [,4]\n",
      "[1,] 53.5   61  68.5   76\n",
      "[2,] 61.0   70  79.0   88\n",
      "[3,] 68.5   79  89.5  100\n",
      "[4,] 76.0   88 100.0  112\n"
     ]
    }
   ],
   "source": [
    "print(   y %*% t(z)   )"
   ]
  },
  {
   "cell_type": "code",
   "execution_count": 117,
   "id": "b116f0c4",
   "metadata": {},
   "outputs": [
    {
     "name": "stdout",
     "output_type": "stream",
     "text": [
      "     [,1]\n",
      "[1,]   15\n"
     ]
    }
   ],
   "source": [
    "print(   t(y[,1]) %*% z[,1]   )"
   ]
  },
  {
   "cell_type": "markdown",
   "id": "c2999924",
   "metadata": {},
   "source": [
    "**_Random number generation_**. R is very useful when one needs to generate random numbers (https://stat.ethz.ch/R-manual/R-devel/library/base/html/Random.html). Let's generate random integers using **sample()** (https://stat.ethz.ch/R-manual/R-devel/library/base/html/sample.html) function, which requires 3 parameters (note: **set.seed()** (https://stat.ethz.ch/R-manual/R-devel/library/base/html/Random.html) function is needed for replicability):"
   ]
  },
  {
   "cell_type": "code",
   "execution_count": 119,
   "id": "29e0e62f",
   "metadata": {},
   "outputs": [
    {
     "name": "stdout",
     "output_type": "stream",
     "text": [
      "  [1] 9 4 7 1 2 7 2 3 1 5 5 6 7 9 5 5 9 9 5 5 2 9 1 4 3 6 6 4 4 9 7 6 9 8 9 7 8\n",
      " [38] 6 7 3 6 8 2 2 6 6 1 3 3 8 6 7 6 8 7 1 4 8 9 9 7 4 7 6 1 5 6 1 9 7 7 3 6 2\n",
      " [75] 7 3 2 1 8 5 7 8 5 6 8 1 3 3 1 6 6 4 9 5 1 3 6 3 7 3\n"
     ]
    }
   ],
   "source": [
    "set.seed(1)\n",
    "numbers = sample(1:9, 100, replace=T)\n",
    "print(numbers)"
   ]
  },
  {
   "cell_type": "markdown",
   "id": "c5eeaa47",
   "metadata": {},
   "source": [
    "Next, the **runif()** (https://stat.ethz.ch/R-manual/R-devel/library/stats/html/Uniform.html) function returns random numbers from the open interval $[0, 1)$ with uniform distribution, in the shape provided as a parameter to the function. The return object is a **vector**:"
   ]
  },
  {
   "cell_type": "code",
   "execution_count": 120,
   "id": "0daf6868",
   "metadata": {},
   "outputs": [
    {
     "name": "stdout",
     "output_type": "stream",
     "text": [
      " [1] 0.1848823 0.7023740 0.5733263 0.1680519 0.9438393 0.9434750 0.1291590\n",
      " [8] 0.8334488 0.4680185 0.5499837\n"
     ]
    }
   ],
   "source": [
    "set.seed(2)\n",
    "print(   runif(10)   )"
   ]
  },
  {
   "cell_type": "markdown",
   "id": "893a6c0c",
   "metadata": {},
   "source": [
    "If you want to generate random numbers from the interval $[a, b) = [5, 10)$:"
   ]
  },
  {
   "cell_type": "code",
   "execution_count": 122,
   "id": "c6b79495",
   "metadata": {},
   "outputs": [
    {
     "name": "stdout",
     "output_type": "stream",
     "text": [
      " [1] 5.840208 9.037582 6.924712 6.638672 8.010503 8.021970 5.623167 6.473005\n",
      " [9] 7.888050 8.154896\n"
     ]
    }
   ],
   "source": [
    "a = 5\n",
    "b = 10\n",
    "set.seed(3)\n",
    "numbers = runif(10, a, b)\n",
    "print(numbers)"
   ]
  },
  {
   "cell_type": "code",
   "execution_count": 123,
   "id": "7a9e2c33",
   "metadata": {},
   "outputs": [
    {
     "name": "stdout",
     "output_type": "stream",
     "text": [
      "            [,1]       [,2]      [,3]      [,4]      [,5]\n",
      "[1,] 0.585800305 0.26042777 0.7546750 0.4551024 0.7145085\n",
      "[2,] 0.008945796 0.72440589 0.2860006 0.9710557 0.9966129\n",
      "[3,] 0.293739612 0.90609215 0.1000535 0.5839880 0.5062709\n",
      "[4,] 0.277374958 0.94904022 0.9540688 0.9622046 0.4899432\n",
      "[5,] 0.813574215 0.07314447 0.4156071 0.7617024 0.6491614\n"
     ]
    }
   ],
   "source": [
    "set.seed(4)\n",
    "numbers = matrix(runif(25), nrow=5)\n",
    "print(numbers)"
   ]
  },
  {
   "cell_type": "markdown",
   "id": "60b96812",
   "metadata": {},
   "source": [
    "Finally, **rnorm()** (https://stat.ethz.ch/R-manual/R-devel/library/stats/html/Normal.html)\n",
    "function generates numbers from a normal distribution with the specified parameters:"
   ]
  },
  {
   "cell_type": "code",
   "execution_count": 124,
   "id": "a67f0020",
   "metadata": {},
   "outputs": [
    {
     "name": "stdout",
     "output_type": "stream",
     "text": [
      "  [1]  -3.4085548  18.8435934  -7.5549186   5.7014277  22.1144087  -1.0290798\n",
      "  [7]   0.2783361  -1.3537131   2.1422637   6.3810822  17.2763034  -3.0177945\n",
      " [13]  -5.8039260   3.4246564  -5.7176004   3.6101386  -0.9731309 -16.8396676\n",
      " [19]   7.4081726   2.4064459  14.0051195  14.4186939  19.6796190  12.0676109\n",
      " [25]  13.1900893   2.0651815  19.1858907  19.9877383  -1.5708209  -3.5279544\n",
      " [31]   8.1591504  16.0969417  27.1546057  17.1710364  19.7922179  14.5157383\n",
      " [37]  -5.0953265 -15.0047274 -12.6218587   3.5739187  20.5006037  -3.0242318\n",
      " [43]   4.2542108  23.9566795   0.4343106  10.6222336  -3.8700851   0.3975542\n",
      " [49]  -2.2432849   4.3078884  19.6324856   6.8772610  15.2202286  -0.9183483\n",
      " [55]   3.8779934  -4.2495309  12.5330480   3.8739093   4.3590907   7.3327529\n",
      " [61]  -6.3658280  13.5483042  -0.7837042   9.9636154  -2.6005793   1.5861373\n",
      " [67] -16.0232912   1.9829772  -7.7238344   2.2033389   2.9590268   2.7438581\n",
      " [73]   8.4702845   5.3236784   9.1353129   3.4465152  14.7348539   6.2109014\n",
      " [79]   6.8917369  -0.6288507   9.9841617 -12.4230249  14.7552910   4.7591713\n",
      " [85]  11.7568448  -2.1030961  28.8723265   0.2656799   4.2422744  -0.2184006\n",
      " [91]  14.2604713  -5.6241117  10.5703387  14.0073058  14.8994568   8.8360809\n",
      " [97]   1.5341619  -0.4018925   3.1744441   4.4070035\n"
     ]
    }
   ],
   "source": [
    "set.seed(5)\n",
    "numbers = rnorm(100, 5, 10)\n",
    "print(numbers)"
   ]
  },
  {
   "cell_type": "markdown",
   "id": "1a8eca9e",
   "metadata": {},
   "source": [
    "**_Exercises._**"
   ]
  },
  {
   "cell_type": "markdown",
   "id": "59face28",
   "metadata": {},
   "source": [
    "Exercise 1. Create a 5 x 5 matrix containing numbers from 11 to 35 and select a bottom right 4 x 4 matrix."
   ]
  },
  {
   "cell_type": "code",
   "execution_count": 126,
   "id": "5cb3ab1f",
   "metadata": {
    "scrolled": true
   },
   "outputs": [
    {
     "name": "stdout",
     "output_type": "stream",
     "text": [
      "     [,1] [,2] [,3] [,4] [,5]\n",
      "[1,]   11   16   21   26   31\n",
      "[2,]   12   17   22   27   32\n",
      "[3,]   13   18   23   28   33\n",
      "[4,]   14   19   24   29   34\n",
      "[5,]   15   20   25   30   35\n"
     ]
    }
   ],
   "source": [
    "print(matrix(seq(11,35),5 ,5))"
   ]
  },
  {
   "cell_type": "markdown",
   "id": "90f8cf7e",
   "metadata": {},
   "source": [
    "Exercise 2. Create a 5 x 5 matrix containing randomly generated values from a uniform distribution from an interval $[5;10)$."
   ]
  },
  {
   "cell_type": "code",
   "execution_count": 142,
   "id": "865b33f0",
   "metadata": {},
   "outputs": [
    {
     "name": "stdout",
     "output_type": "stream",
     "text": [
      "         [,1]     [,2]     [,3]     [,4]     [,5]\n",
      "[1,] 8.443060 9.175334 6.081034 8.852642 6.312844\n",
      "[2,] 6.235296 9.752183 7.124451 6.842421 8.214529\n",
      "[3,] 6.629596 5.515150 8.812050 5.606676 6.658269\n",
      "[4,] 8.866952 7.920897 6.752400 9.238965 6.516482\n",
      "[5,] 9.552683 6.953641 7.522481 8.738930 7.361341\n"
     ]
    }
   ],
   "source": [
    "print(matrix(runif(5*5,5,10),5,5))"
   ]
  },
  {
   "cell_type": "markdown",
   "id": "14761eca",
   "metadata": {},
   "source": [
    "Exercise 3. Solve the system of equations (you may find useful: https://stat.ethz.ch/R-manual/R-devel/library/base/html/solve.html):\n",
    "\n",
    " 4x +  y + 2z - 3w = -6\n",
    " \n",
    "-3x + 3y -  z + 4w = 27\n",
    "\n",
    " -x + 2y + 5z +  w = 39\n",
    " \n",
    " 5x + 4y + 3z -  w = 23"
   ]
  },
  {
   "cell_type": "code",
   "execution_count": 165,
   "id": "b9aac4c5",
   "metadata": {},
   "outputs": [
    {
     "data": {
      "text/html": [
       "<table>\n",
       "<tbody>\n",
       "\t<tr><td>2</td></tr>\n",
       "\t<tr><td>1</td></tr>\n",
       "\t<tr><td>6</td></tr>\n",
       "\t<tr><td>9</td></tr>\n",
       "</tbody>\n",
       "</table>\n"
      ],
      "text/latex": [
       "\\begin{tabular}{l}\n",
       "\t 2\\\\\n",
       "\t 1\\\\\n",
       "\t 6\\\\\n",
       "\t 9\\\\\n",
       "\\end{tabular}\n"
      ],
      "text/markdown": [
       "\n",
       "| 2 |\n",
       "| 1 |\n",
       "| 6 |\n",
       "| 9 |\n",
       "\n"
      ],
      "text/plain": [
       "     [,1]\n",
       "[1,] 2   \n",
       "[2,] 1   \n",
       "[3,] 6   \n",
       "[4,] 9   "
      ]
     },
     "metadata": {},
     "output_type": "display_data"
    }
   ],
   "source": [
    "A=t(matrix(c(4,1,2,-3,-3,3,-1,4,-1,2,5,1,5,4,3,-1),4,4))\n",
    "B=matrix(c(-6,27,39,23))\n",
    "solve(A,B)"
   ]
  }
 ],
 "metadata": {
  "kernelspec": {
   "display_name": "R",
   "language": "R",
   "name": "ir"
  },
  "language_info": {
   "codemirror_mode": "r",
   "file_extension": ".r",
   "mimetype": "text/x-r-source",
   "name": "R",
   "pygments_lexer": "r",
   "version": "3.6.1"
  }
 },
 "nbformat": 4,
 "nbformat_minor": 5
}
