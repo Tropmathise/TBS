{
 "cells": [
  {
   "cell_type": "code",
   "execution_count": null,
   "id": "9883e791",
   "metadata": {},
   "outputs": [],
   "source": [
    "Your name: Sadurni Thomas "
   ]
  },
  {
   "cell_type": "markdown",
   "id": "665bf38a",
   "metadata": {},
   "source": [
    "### Final assignment\n",
    "\n",
    "In this exercise you are going to create a number of functions to evaluate investment projects."
   ]
  },
  {
   "cell_type": "markdown",
   "id": "f8dd38c7",
   "metadata": {},
   "source": [
    "**1.** Create a function that takes a list of cash flows, cost of capital (expressed in annual terms) and a number of payments per year as parameters and returns **NPV** (net present value) of the project."
   ]
  },
  {
   "cell_type": "code",
   "execution_count": 19,
   "id": "13da262d",
   "metadata": {},
   "outputs": [
    {
     "name": "stdout",
     "output_type": "stream",
     "text": [
      "[0 1 2 3]\n"
     ]
    },
    {
     "data": {
      "text/plain": [
       "80.44487636324368"
      ]
     },
     "execution_count": 19,
     "metadata": {},
     "output_type": "execute_result"
    }
   ],
   "source": [
    "import numpy as np\n",
    "\n",
    "def NPV(cf, coc, p=1):\n",
    "    cf = np.array(cf)\n",
    "    return np.dot(cf, (1 / (1 + coc) ** (1 / p)) ** np.arange(len(cf)))\n",
    "\n",
    "cf = [-1000, 300, 400, 500]\n",
    "print(np.arange(len(cf)))\n",
    "coc = 0.05\n",
    "NPV(cf, coc, p=1)"
   ]
  },
  {
   "cell_type": "markdown",
   "id": "ddd52b15",
   "metadata": {},
   "source": [
    "**2.** Create a function that takes a list of cash flows and a number of payments per year and returns a plot showing NPV as a function of the discount rate."
   ]
  },
  {
   "cell_type": "code",
   "execution_count": 7,
   "id": "deac1eca",
   "metadata": {},
   "outputs": [
    {
     "data": {
      "image/png": "[encoded data removed]",
      "text/plain": [
       "<Figure size 432x288 with 1 Axes>"
      ]
     },
     "metadata": {
      "needs_background": "light"
     },
     "output_type": "display_data"
    }
   ],
   "source": [
    "import matplotlib.pyplot as plt\n",
    "\n",
    "def NPV_graph(cf, p=1):\n",
    "    x_values = np.arange(0, 0.205, 0.005)\n",
    "    y_values = [NPV(cf, x, p) for x in x_values]\n",
    "\n",
    "    plt.axhline(y=0, color='r')\n",
    "    plt.plot(x_values, y_values)\n",
    "    plt.grid()\n",
    "    plt.title('NPV as a function of COC')\n",
    "    plt.ylabel('NPV')\n",
    "    plt.xlabel('COC')\n",
    "    plt.show()\n",
    "    \n",
    "cf = [-1000, 300, 400, 500]\n",
    "NPV_graph(cf)"
   ]
  },
  {
   "cell_type": "markdown",
   "id": "66894134",
   "metadata": {},
   "source": [
    "**3.** Create a function that takes a list of cash flows and a number of payments per year as parameters and returns **IRR** (internal rate of return) of the project."
   ]
  },
  {
   "cell_type": "code",
   "execution_count": 8,
   "id": "a8278f2d",
   "metadata": {},
   "outputs": [
    {
     "data": {
      "text/plain": [
       "0.015"
      ]
     },
     "execution_count": 8,
     "metadata": {},
     "output_type": "execute_result"
    }
   ],
   "source": [
    "def IRR(cf, p=1):\n",
    "    tolerance = 0.000001\n",
    "    rate = 0\n",
    "    npv = NPV(cf, rate, p)\n",
    "    iteration = 0\n",
    "    factor = 10\n",
    "    if npv > tolerance:\n",
    "        while npv > tolerance or npv < -tolerance:\n",
    "            while ((-1) ** iteration) * npv > 0:\n",
    "                rate += ((-1) ** iteration) / (factor ** (iteration + 1))\n",
    "                npv = NPV(cf, rate, 1)\n",
    "            iteration += 1\n",
    "    elif npv < -tolerance:\n",
    "        while npv > tolerance or npv < -tolerance:\n",
    "            while ((-1) ** (iteration + 1)) * npv > 0:\n",
    "                rate += ((-1) ** (iteration + 1)) / (factor ** (iteration + 1))\n",
    "                npv = NPV(cf, rate, 1)\n",
    "            iteration += 1\n",
    "    return (1 + rate) ** p - 1\n",
    "\n",
    "cf = [-1023.91, 20, 20, 20, 20, 1020]\n",
    "rf = round(IRR(cf), 3)\n",
    "rf"
   ]
  },
  {
   "cell_type": "markdown",
   "id": "af2d7206",
   "metadata": {},
   "source": [
    "**4.** Create a function that takes a list of cash flows, cost of capital (expressed in annual terms) and a number of payments per year as parameters and returns **DPB** (discounted payback) of the project."
   ]
  },
  {
   "cell_type": "code",
   "execution_count": 9,
   "id": "0ad52752",
   "metadata": {},
   "outputs": [
    {
     "data": {
      "text/plain": [
       "6"
      ]
     },
     "execution_count": 9,
     "metadata": {},
     "output_type": "execute_result"
    }
   ],
   "source": [
    "def DPB(cf, coc, p=1):\n",
    "    if NPV(cf, coc, p) < 0:\n",
    "        dpb = 'NA'\n",
    "    else:\n",
    "        cum_npv = cf[0]\n",
    "        position = 1\n",
    "        while cum_npv < 0:\n",
    "            cum_npv += cf[position] / (1 + coc) ** position\n",
    "            position += 1\n",
    "        dpb = position\n",
    "    return dpb\n",
    "    \n",
    "cf = [-2000, 300, 400, 500, 600, 700]\n",
    "DPB(cf, 0.05)"
   ]
  },
  {
   "cell_type": "markdown",
   "id": "d582e748",
   "metadata": {},
   "source": [
    "**5.** Create an empty **DataFrame** and write a function that takes the **DataFrame**, a list of cash flows, the cost of capital and the number of payments per year and adds a new row, containing COC, NPV, IRR and DPB of a project to the **DataFrame** and returns the updated **DataFrame**."
   ]
  },
  {
   "cell_type": "code",
   "execution_count": 51,
   "id": "c4aa19bd",
   "metadata": {},
   "outputs": [],
   "source": [
    "import pandas as pd\n",
    "\n",
    "projects = pd.DataFrame(columns=['Project_ID', 'COC', 'NPV', 'IRR', 'DPB'])\n",
    "\n",
    "def insert(projects, cf, coc, p=1):\n",
    "    \n",
    "    npv = round(NPV(cf, coc, p), 2)\n",
    "    irr = round(IRR(cf, p), 3)\n",
    "    dpb = DPB(cf, coc, p)\n",
    "    \n",
    "    if projects.empty:\n",
    "        project_id = 10001\n",
    "    else:\n",
    "        project_id = projects['Project_ID'].max() + 1\n",
    "        \n",
    "    new_row = {'Project_ID':project_id, 'COC':coc, 'NPV':npv, 'IRR':irr, 'DPB':dpb}\n",
    "    \n",
    "    projects = projects.append(pd.DataFrame([new_row]), ignore_index=True)\n",
    "    return projects"
   ]
  },
  {
   "cell_type": "code",
   "execution_count": 13,
   "id": "d879f3f3",
   "metadata": {},
   "outputs": [
    {
     "data": {
      "text/html": [
       "<div>\n",
       "<style scoped>\n",
       "    .dataframe tbody tr th:only-of-type {\n",
       "        vertical-align: middle;\n",
       "    }\n",
       "\n",
       "    .dataframe tbody tr th {\n",
       "        vertical-align: top;\n",
       "    }\n",
       "\n",
       "    .dataframe thead th {\n",
       "        text-align: right;\n",
       "    }\n",
       "</style>\n",
       "<table border=\"1\" class=\"dataframe\">\n",
       "  <thead>\n",
       "    <tr style=\"text-align: right;\">\n",
       "      <th></th>\n",
       "      <th>Project_ID</th>\n",
       "      <th>COC</th>\n",
       "      <th>NPV</th>\n",
       "      <th>IRR</th>\n",
       "      <th>DPB</th>\n",
       "    </tr>\n",
       "  </thead>\n",
       "  <tbody>\n",
       "    <tr>\n",
       "      <th>0</th>\n",
       "      <td>10001</td>\n",
       "      <td>0.05</td>\n",
       "      <td>122.53</td>\n",
       "      <td>0.069</td>\n",
       "      <td>6</td>\n",
       "    </tr>\n",
       "  </tbody>\n",
       "</table>\n",
       "</div>"
      ],
      "text/plain": [
       "  Project_ID   COC     NPV    IRR DPB\n",
       "0      10001  0.05  122.53  0.069   6"
      ]
     },
     "execution_count": 13,
     "metadata": {},
     "output_type": "execute_result"
    }
   ],
   "source": [
    "cf = [-2000, 300, 400, 500, 600, 700]\n",
    "coc = 0.05\n",
    "\n",
    "projects = insert(projects, cf, coc)\n",
    "projects"
   ]
  },
  {
   "cell_type": "code",
   "execution_count": 52,
   "id": "22d80ef6",
   "metadata": {
    "scrolled": false
   },
   "outputs": [
    {
     "data": {
      "text/html": [
       "<div>\n",
       "<style scoped>\n",
       "    .dataframe tbody tr th:only-of-type {\n",
       "        vertical-align: middle;\n",
       "    }\n",
       "\n",
       "    .dataframe tbody tr th {\n",
       "        vertical-align: top;\n",
       "    }\n",
       "\n",
       "    .dataframe thead th {\n",
       "        text-align: right;\n",
       "    }\n",
       "</style>\n",
       "<table border=\"1\" class=\"dataframe\">\n",
       "  <thead>\n",
       "    <tr style=\"text-align: right;\">\n",
       "      <th></th>\n",
       "      <th>Project_ID</th>\n",
       "      <th>COC</th>\n",
       "      <th>NPV</th>\n",
       "      <th>IRR</th>\n",
       "      <th>DPB</th>\n",
       "    </tr>\n",
       "  </thead>\n",
       "  <tbody>\n",
       "    <tr>\n",
       "      <th>0</th>\n",
       "      <td>10001</td>\n",
       "      <td>0.1</td>\n",
       "      <td>-21.04</td>\n",
       "      <td>0.089</td>\n",
       "      <td>NA</td>\n",
       "    </tr>\n",
       "  </tbody>\n",
       "</table>\n",
       "</div>"
      ],
      "text/plain": [
       "  Project_ID  COC    NPV    IRR DPB\n",
       "0      10001  0.1 -21.04  0.089  NA"
      ]
     },
     "execution_count": 52,
     "metadata": {},
     "output_type": "execute_result"
    }
   ],
   "source": [
    "cf = [-1000, 300, 400, 500]\n",
    "coc = 0.1\n",
    "\n",
    "projects = insert(projects, cf, coc)\n",
    "projects"
   ]
  },
  {
   "cell_type": "code",
   "execution_count": 53,
   "id": "c7b80574",
   "metadata": {
    "scrolled": false
   },
   "outputs": [
    {
     "data": {
      "text/html": [
       "<div>\n",
       "<style scoped>\n",
       "    .dataframe tbody tr th:only-of-type {\n",
       "        vertical-align: middle;\n",
       "    }\n",
       "\n",
       "    .dataframe tbody tr th {\n",
       "        vertical-align: top;\n",
       "    }\n",
       "\n",
       "    .dataframe thead th {\n",
       "        text-align: right;\n",
       "    }\n",
       "</style>\n",
       "<table border=\"1\" class=\"dataframe\">\n",
       "  <thead>\n",
       "    <tr style=\"text-align: right;\">\n",
       "      <th></th>\n",
       "      <th>Project_ID</th>\n",
       "      <th>COC</th>\n",
       "      <th>NPV</th>\n",
       "      <th>IRR</th>\n",
       "      <th>DPB</th>\n",
       "    </tr>\n",
       "  </thead>\n",
       "  <tbody>\n",
       "    <tr>\n",
       "      <th>0</th>\n",
       "      <td>10001</td>\n",
       "      <td>0.10</td>\n",
       "      <td>-21.04</td>\n",
       "      <td>0.089</td>\n",
       "      <td>NA</td>\n",
       "    </tr>\n",
       "    <tr>\n",
       "      <th>1</th>\n",
       "      <td>10002</td>\n",
       "      <td>0.01</td>\n",
       "      <td>24.62</td>\n",
       "      <td>0.015</td>\n",
       "      <td>6</td>\n",
       "    </tr>\n",
       "  </tbody>\n",
       "</table>\n",
       "</div>"
      ],
      "text/plain": [
       "  Project_ID   COC    NPV    IRR DPB\n",
       "0      10001  0.10 -21.04  0.089  NA\n",
       "1      10002  0.01  24.62  0.015   6"
      ]
     },
     "execution_count": 53,
     "metadata": {},
     "output_type": "execute_result"
    }
   ],
   "source": [
    "cf = [-1023.91, 20, 20, 20, 20, 1020]\n",
    "coc = 0.01\n",
    "\n",
    "projects = insert(projects, cf, coc)\n",
    "projects"
   ]
  },
  {
   "cell_type": "markdown",
   "id": "669f9cb7",
   "metadata": {},
   "source": [
    "### Questions\n",
    "\n",
    "Before answering the questions, run all the above code cells first.\n",
    "\n",
    "##### Question 1.\n",
    "In exercise 1 you have created a function that calculates NPV of a project. The function returns **np.dot(cf, (1 / (1 + coc) ** (1 / p)) ** np.arange(len(cf)))**, where **np.dot()** function (part of **NumPy** package) performs vector multiplication and **cf** is a list of cash flows. However, in R you can perform vector multiplication without additional packages: how would this line of code look like if you used R instead of Python, and **cf** was a vector insterad of a list? If you don't know how to write this line of code in R, explain below in your own words, considering the rules of vector multiplciation in R."
   ]
  },
  {
   "cell_type": "code",
   "execution_count": 20,
   "id": "e095315b",
   "metadata": {},
   "outputs": [
    {
     "ename": "SyntaxError",
     "evalue": "invalid syntax (<ipython-input-20-9fdf1db3856b>, line 2)",
     "output_type": "error",
     "traceback": [
      "\u001b[1;36m  File \u001b[1;32m\"<ipython-input-20-9fdf1db3856b>\"\u001b[1;36m, line \u001b[1;32m2\u001b[0m\n\u001b[1;33m    line = cf %*% ((1 / (1 + coc) ** (1 / p)) ** seq(0,length(cf)-1))\u001b[0m\n\u001b[1;37m               ^\u001b[0m\n\u001b[1;31mSyntaxError\u001b[0m\u001b[1;31m:\u001b[0m invalid syntax\n"
     ]
    }
   ],
   "source": [
    "# This line of code in R would be : \n",
    "line = cf %*% ((1 / (1 + coc) ** (1 / p)) ** seq(0,length(cf)-1))\n",
    "# The entire function would be :\n",
    "\n",
    "NPV = function(cf, coc, p){\n",
    "    cf = c(cf)\n",
    "    return (cf %*% ((1 / (1 + coc) ** (1 / p)) ** seq(0,length(cf)-1)))\n",
    "}"
   ]
  },
  {
   "cell_type": "markdown",
   "id": "55e0d9fc",
   "metadata": {},
   "source": [
    "###### Question 2.\n",
    "In exercise 2 you have created a function that plots NPV as a function of a discount rate (cost of capital in this case). What does this line of code do and why do you need it: **x_values = np.arange(0, 0.205, 0.005)**? Please answer below."
   ]
  },
  {
   "cell_type": "code",
   "execution_count": null,
   "id": "c727c0ee",
   "metadata": {},
   "outputs": [],
   "source": [
    "# It creates an array from 0 to 0.205 (0.205 not included) with a step of 0.005. \n",
    "# We need it to create the x-axis value for the graph\n"
   ]
  },
  {
   "cell_type": "markdown",
   "id": "8f34ae34",
   "metadata": {},
   "source": [
    "##### Question 3.\n",
    "In the code of the previous question replace **0.205** with **0.505** and implement the function with the following cash flows: **cf = [-500, 500, 500, 500, -1000, 100, -600, 400]** (already coded for you in the cell below). This stream of cash flows is called \"unconventional\", as the sign of cash flows changes more than once (for example, because of additional investments required during the course of the project, some cash flows become negative), and produces a non-monotonic graph of NPV, which crosses the x-axis twice, thus giving you 2 different values of IRR - for this reason you can't use IRR to evaluate an unconventional project. How would you test inside the IRR function from exercise 3 whether the project is unconventional? However, keep in mind that there is no right answer to this: even the built-in function **=IRR()** in excel doesn't test for this. Explain in your own words below or, if you can code it, please do so."
   ]
  },
  {
   "cell_type": "code",
   "execution_count": 45,
   "id": "22b15c75",
   "metadata": {},
   "outputs": [
    {
     "data": {
      "image/png": "[encoded data removed]",
      "text/plain": [
       "<Figure size 432x288 with 1 Axes>"
      ]
     },
     "metadata": {
      "needs_background": "light"
     },
     "output_type": "display_data"
    }
   ],
   "source": [
    "import matplotlib.pyplot as plt\n",
    "\n",
    "def NPV_graph(cf, p=1):\n",
    "    x_values = np.arange(0, 0.505, 0.005)\n",
    "    y_values = [NPV(cf, x, p) for x in x_values]\n",
    "    plt.axhline(y=0, color='r')\n",
    "    plt.plot(x_values, y_values)\n",
    "    plt.grid()\n",
    "    plt.title('NPV as a function of COC')\n",
    "    plt.ylabel('NPV')\n",
    "    plt.xlabel('COC')\n",
    "    plt.show()\n",
    "    \n",
    "cf = [-500, 500, 500, 500, -1000, 100, -600, 400]\n",
    "NPV_graph(cf)"
   ]
  },
  {
   "cell_type": "code",
   "execution_count": 43,
   "id": "31985ac2",
   "metadata": {},
   "outputs": [
    {
     "name": "stdout",
     "output_type": "stream",
     "text": [
      "Project is unconventional\n"
     ]
    }
   ],
   "source": [
    "# In this function, I check the number of times the y_values cross the x_axis\n",
    "def IRR2(cf, p=1):\n",
    "    x_values = np.arange(0, 0.505, 0.005)\n",
    "    y_values = [NPV(cf, x, p) for x in x_values]\n",
    "    nb_crossing = sum(1 for i in range(1,len(y_values)) if y_values[i-1]*y_values[i]<0)\n",
    "    if nb_crossing>1 : \n",
    "        print('Project is unconventional')\n",
    "    else :\n",
    "        rf = IRR(cf,p)\n",
    "        return round(rf,4)\n",
    "\n",
    "IRR2(cf)"
   ]
  },
  {
   "cell_type": "markdown",
   "id": "aea6bb9f",
   "metadata": {},
   "source": [
    "##### Question 4.\n",
    "This question relates to exercises 2 and 3. In the cell below add a line of code that plots a vertical line going through the point where the graph intersect the x-axis (where NPV=0). Use **plt.axvline()** function for this (please find the documentation for this function yourself so that you know what arguments to use)."
   ]
  },
  {
   "cell_type": "code",
   "execution_count": 50,
   "id": "76290b40",
   "metadata": {},
   "outputs": [
    {
     "data": {
      "image/png": "[encoded data removed]",
      "text/plain": [
       "<Figure size 432x288 with 1 Axes>"
      ]
     },
     "metadata": {
      "needs_background": "light"
     },
     "output_type": "display_data"
    }
   ],
   "source": [
    "import matplotlib.pyplot as plt\n",
    "\n",
    "def NPV_graph(cf, p=1):\n",
    "    x_values = np.arange(0, 0.205, 0.005)\n",
    "    y_values = [NPV(cf, x, p) for x in x_values]\n",
    "    r = round(IRR(cf,p),4)\n",
    "    plt.axvline(r,c='r')\n",
    "    plt.axhline(y=0, color='r')\n",
    "    plt.plot(x_values, y_values)\n",
    "    plt.grid()\n",
    "    plt.title('NPV as a function of COC')\n",
    "    plt.ylabel('NPV')\n",
    "    plt.xlabel('COC')\n",
    "    plt.show()\n",
    "    \n",
    "cf = [-1000, 300, 400, 500]\n",
    "NPV_graph(cf)"
   ]
  },
  {
   "cell_type": "markdown",
   "id": "26e3fa32",
   "metadata": {},
   "source": [
    "##### Question 5.\n",
    "What does the code below (from exercise 5) do:"
   ]
  },
  {
   "cell_type": "code",
   "execution_count": null,
   "id": "d170ebb0",
   "metadata": {},
   "outputs": [],
   "source": [
    "if projects.empty:\n",
    "    project_id = 10001\n",
    "else:\n",
    "    project_id = projects['Project_ID'].max() + 1"
   ]
  },
  {
   "cell_type": "code",
   "execution_count": null,
   "id": "e442404b",
   "metadata": {},
   "outputs": [],
   "source": [
    "# The code checks if the DataFrame is empty, and if it is, sets the id of the first project to 10001.\n",
    "# If the DataFrame is not empty, it searchs the maximum of the all the IDs and sets the new project's id to max + 1 "
   ]
  }
 ],
 "metadata": {
  "kernelspec": {
   "display_name": "Python 3",
   "language": "python",
   "name": "python3"
  },
  "language_info": {
   "codemirror_mode": {
    "name": "ipython",
    "version": 3
   },
   "file_extension": ".py",
   "mimetype": "text/x-python",
   "name": "python",
   "nbconvert_exporter": "python",
   "pygments_lexer": "ipython3",
   "version": "3.8.8"
  }
 },
 "nbformat": 4,
 "nbformat_minor": 5
}
