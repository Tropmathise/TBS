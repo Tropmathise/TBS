{
 "cells": [
  {
   "cell_type": "markdown",
   "metadata": {},
   "source": [
    "### Final project\n",
    "\n",
    "Each of you has been randomly assigned a list of stocks (tickers). Download 10 years of monthly stock price data for the first 10 stocks, starting January 2010. Only use the first 10 stocks: if there is no data available for a particular stock (or any other problem with the data), replace it with a stock out of the remaining 10.\n",
    "\n",
    "Your answers should be short and concise, but informative. Try to write robust code, i.e. try to automate as much as possible. Also, at least 80% of your code should be based on what we have learnt in class. The remaining 20% can be additional packages, functions etc.\n",
    "\n",
    "You will be graded based on:\n",
    "* Code efficiency and readability;\n",
    "* Financial knowledge;\n",
    "* Creative problem solving approach."
   ]
  },
  {
   "cell_type": "markdown",
   "metadata": {},
   "source": [
    "### Portfolio hedging using options\n",
    "\n",
    "##### 1. Calculate risk-free rate without using special packages. A risk-free bond, paying 4% annual coupon, matures in 5 years. It is trading at 1,069.69 USD and the next coupon is paid one year from today. Use this bond's yield as a risk-free rate for further calculations. If you can't calculate the rate, use 2% as the risk-free rate for further calculations."
   ]
  },
  {
   "cell_type": "code",
   "execution_count": null,
   "metadata": {},
   "outputs": [],
   "source": [
    "import numpy as np\n",
    "\n",
    "def NPV(cf, r, p):\n",
    "    cf = np.array(cf)\n",
    "    return np.dot(cf, (1 / (1 + r) ** (1 / p)) ** np.arange(len(cf)))\n",
    "\n",
    "def IRR(cf, p=1):\n",
    "    tolerance = 0.000001\n",
    "    rate = 0\n",
    "    npv = NPV(cf, rate, p)\n",
    "    iteration = 0\n",
    "    factor = 10\n",
    "    if npv > tolerance:\n",
    "        while npv > tolerance or npv < -tolerance:\n",
    "            while ((-1) ** iteration) * npv > 0:\n",
    "                rate += ((-1) ** iteration) / (factor ** (iteration + 1))\n",
    "                npv = NPV(cf, rate, 1)\n",
    "            iteration += 1\n",
    "    elif npv < -tolerance:\n",
    "        while npv > tolerance or npv < -tolerance:\n",
    "            while ((-1) ** (iteration + 1)) * npv > 0:\n",
    "                rate += ((-1) ** (iteration + 1)) / (factor ** (iteration + 1))\n",
    "                npv = NPV(cf, rate, 1)\n",
    "            iteration += 1\n",
    "    return (1 + rate) ** p - 1\n",
    "\n",
    "#Yield of a bond is similar to an IRR of a project\n",
    "cf = [-1069.69, 40, 40, 40, 40, 1040]\n",
    "rf = round(IRR(cf), 3)\n",
    "print('The risk-free rate is {}%.'.format(rf * 100))"
   ]
  },
  {
   "cell_type": "markdown",
   "metadata": {},
   "source": [
    "##### 2. Using the 10 stocks from before, plot the efficient frontier (no short selling) and draw the capital market line (line connecting risk-free rate and the maximum Sharpe ratio portfolio). Assume you want to invest  100,000 USD in a maximum Sharpe ratio portfolio. How much would you invest in each stock?"
   ]
  },
  {
   "cell_type": "code",
   "execution_count": null,
   "metadata": {
    "scrolled": true
   },
   "outputs": [],
   "source": [
    "import numpy as np\n",
    "import pandas as pd\n",
    "import matplotlib.pyplot as plt\n",
    "import scipy.optimize as sco\n",
    "import yfinance as yf\n",
    "\n",
    "data = yf.download('MMC WHR HON SRCL AFL SYY IBM EBAY COF KEY', start = '2010-01-01', end = '2019-12-31', period = '1d')\n",
    "data = data['Adj Close'].resample('1m').last()\n",
    "\n",
    "rets = np.log(data / data.shift(1))\n",
    "rets.describe()"
   ]
  },
  {
   "cell_type": "code",
   "execution_count": null,
   "metadata": {},
   "outputs": [],
   "source": [
    "#To draw the efficient frontier, I use max_ret for the upper bound of the frontier\n",
    "max_ret = rets.mean().max() * 12\n",
    "round(max_ret, 3)"
   ]
  },
  {
   "cell_type": "code",
   "execution_count": null,
   "metadata": {
    "scrolled": false
   },
   "outputs": [],
   "source": [
    "def portfolio_ret(weights):\n",
    "    return np.dot(rets.mean(), weights) * 12\n",
    "\n",
    "def portfolio_vol(weights):\n",
    "    return np.sqrt(np.dot(weights.T, np.dot(rets.cov(), weights)) * 12)\n",
    "\n",
    "cons = ({'type': 'eq',\n",
    "         'fun': lambda x: portfolio_ret(x) - target_ret},\n",
    "        {'type': 'eq',\n",
    "         'fun': lambda x: np.sum(x) - 1})  \n",
    "\n",
    "bnds = tuple((0, 1) for x in range(rets.shape[1]))\n",
    "\n",
    "#max_ret is the upper bound for target returns\n",
    "target_rets = np.linspace(0.1, round(max_ret, 3), 50)\n",
    "target_vols = []\n",
    "\n",
    "for target_ret in target_rets:\n",
    "    res = sco.minimize(portfolio_vol,\n",
    "                       [1 / rets.shape[1]] * rets.shape[1],\n",
    "                       method='SLSQP',\n",
    "                       bounds=bnds,\n",
    "                       constraints=cons)\n",
    "    target_vols.append(res['fun'])\n",
    "target_vols = np.array(target_vols)\n",
    "\n",
    "#Just the efficient frontier\n",
    "plt.figure(figsize=(10, 6))\n",
    "plt.grid(True)\n",
    "plt.plot(target_vols, target_rets,\n",
    "         'b')\n",
    "plt.xlabel('Volatility of returns')\n",
    "plt.ylabel('Expected returns')\n",
    "plt.title('Efficient frontier using 10 stocks')"
   ]
  },
  {
   "cell_type": "code",
   "execution_count": null,
   "metadata": {},
   "outputs": [],
   "source": [
    "#Obtain the optimal parameters to draw the capital market line\n",
    "import scipy.interpolate as sci\n",
    "\n",
    "index = np.argmin(target_vols)\n",
    "t_vols = target_vols[index:]\n",
    "t_rets = target_rets[index:]\n",
    "\n",
    "tck = sci.splrep(t_vols, t_rets)\n",
    "\n",
    "def f(x):\n",
    "    return sci.splev(x, tck, der=0)\n",
    "         \n",
    "def df(x):\n",
    "    return sci.splev(x, tck, der=1)\n",
    "\n",
    "def equations(p, rf=rf):\n",
    "    equation_1 = rf - p[0]\n",
    "    equation_2 = rf + p[1] * p[2] - f(p[2])\n",
    "    equation_3 = p[1] - df(p[2])\n",
    "    return equation_1, equation_2, equation_3\n",
    "\n",
    "opt = sco.fsolve(equations, [0.025, 1.2, 0.12])  \n",
    "print('Optimal parameters are: intercept={}, slope coefficient={} and the x-value at which Sharpe ratio is maximized={}.'\\\n",
    "     .format(round(opt[0], 3), round(opt[1], 3), round(opt[2], 3)))"
   ]
  },
  {
   "cell_type": "code",
   "execution_count": null,
   "metadata": {},
   "outputs": [],
   "source": [
    "#Draw the efficient frontier and the capital market line together\n",
    "plt.figure(figsize=(10, 6))\n",
    "plt.plot(t_vols, t_rets,\n",
    "         'b')\n",
    "cx = np.linspace(0.0, 0.15, 61)\n",
    "plt.plot(cx, opt[0] + opt[1] * cx,\n",
    "         'r')\n",
    "plt.plot(opt[2], f(opt[2]),\n",
    "         'y*',\n",
    "         markersize=15.0)\n",
    "plt.grid(True)\n",
    "plt.axhline(0,\n",
    "            color='k',\n",
    "            ls='--')\n",
    "plt.axvline(0,\n",
    "            color='k',\n",
    "            ls='--')\n",
    "plt.xlim([-0.01, 0.15])\n",
    "plt.ylim([-0.01, 0.2])\n",
    "\n",
    "plt.xlabel('Volatility of returns')\n",
    "plt.ylabel('Expected returns')\n",
    "plt.title('Efficient frontier and the capital market line using 10 stocks')"
   ]
  },
  {
   "cell_type": "code",
   "execution_count": null,
   "metadata": {},
   "outputs": [],
   "source": [
    "#Obtain the weights of the maximum Sharpe ratio portfolio\n",
    "def min_sharpe(weights):\n",
    "    #In the class we assumed that rf=0, but here we need to take it into consideration\n",
    "    #In the notebook on portfolio optimization you have the equation for Sharpe ratio\n",
    "    return -(portfolio_ret(weights) - rf) / portfolio_vol(weights)\n",
    "\n",
    "cons = ({'type': 'eq',\n",
    "         'fun': lambda x: np.sum(x) - 1})\n",
    "\n",
    "bnds = tuple((0, 1) for x in range(rets.shape[1]))\n",
    "\n",
    "optimal = sco.minimize(min_sharpe,\n",
    "                       [1 / rets.shape[1]] * rets.shape[1],\n",
    "                       method='SLSQP',\n",
    "                       bounds=bnds,\n",
    "                       constraints=cons)\n",
    "\n",
    "print('Maximum Sharpe ratio is {}.'.format(round(-optimal['fun'], 3)))"
   ]
  },
  {
   "cell_type": "code",
   "execution_count": null,
   "metadata": {},
   "outputs": [],
   "source": [
    "#One way to display the amount invested in each stock is through a bar chart\n",
    "opt_weights = optimal['x']\n",
    "\n",
    "plt.figure(figsize=(10,6))\n",
    "plt.grid(True)\n",
    "plt.bar(np.arange(len(opt_weights)), (opt_weights * 100000).round(2))\n",
    "plt.xticks(np.arange(len(opt_weights)), rets.columns)\n",
    "\n",
    "plt.xlabel('Stock ticker')\n",
    "plt.ylabel('Amount invested ($)')\n",
    "plt.title('Amount invested in each stock for the maximum Sharpe ratio')"
   ]
  },
  {
   "cell_type": "markdown",
   "metadata": {},
   "source": [
    "##### 3. You are worried that the highest weighted stock in your portfolio will go down in price soon, however, you want to keep it in your portfolio (at the last day of your sample) for 6 more months due to tax incentives. How can you use options to hedge your exposure to this stock (illustrate graphically)? How much will this hedging cost you (when calculating option price, think about what parameters you need and how to extract them from your data)?"
   ]
  },
  {
   "cell_type": "code",
   "execution_count": null,
   "metadata": {},
   "outputs": [],
   "source": [
    "#Identify the stock with the highest weight\n",
    "hw_stock = rets.columns[np.argmax(opt_weights)]\n",
    "print('Stock with the highest weight in the pottfolio is {}.'.format(hw_stock))"
   ]
  },
  {
   "cell_type": "code",
   "execution_count": null,
   "metadata": {},
   "outputs": [],
   "source": [
    "#The last closing price of the MMC stock\n",
    "S = round(data[hw_stock][-1], 2)\n",
    "S"
   ]
  },
  {
   "cell_type": "code",
   "execution_count": null,
   "metadata": {},
   "outputs": [],
   "source": [
    "#Chart the payoffs of the put option and the stock\n",
    "x_values = np.arange(0, 2*S, 0.01)\n",
    "\n",
    "plt.figure(figsize=(15, 6))\n",
    "plt.subplot(1,2,1)\n",
    "plt.grid(True)\n",
    "plt.plot(x_values, np.maximum(S-x_values, 0),\n",
    "         'r')\n",
    "plt.axhline(0,\n",
    "            color='k',\n",
    "            ls='--',\n",
    "            lw=1)\n",
    "plt.axvline(0,\n",
    "            color='k',\n",
    "            ls='--',\n",
    "            lw=1)\n",
    "plt.xlabel('Stock price at maturity')\n",
    "plt.ylabel('Payoff')\n",
    "plt.title('Put option')\n",
    "\n",
    "plt.subplot(1,2,2)\n",
    "plt.grid(True)\n",
    "plt.plot(x_values, x_values-S,\n",
    "         'b')\n",
    "plt.axhline(0,\n",
    "            color='k',\n",
    "            ls='--',\n",
    "            lw=1)\n",
    "plt.axvline(0,\n",
    "            color='k',\n",
    "            ls='--',\n",
    "            lw=1)\n",
    "plt.xlabel('Stock price at maturity')\n",
    "plt.title('Stock')"
   ]
  },
  {
   "cell_type": "code",
   "execution_count": null,
   "metadata": {},
   "outputs": [],
   "source": [
    "#Chart the payoffs of both instruments on one graph and a combined payoff of the two\n",
    "plt.figure(figsize=(15, 6))\n",
    "plt.subplot(1,2,1)\n",
    "plt.grid(True)\n",
    "plt.plot(x_values, np.maximum(S-x_values, 0),\n",
    "         'r')\n",
    "plt.plot(x_values, x_values-S,\n",
    "         'b')\n",
    "plt.axhline(0,\n",
    "            color='k',\n",
    "            ls='--',\n",
    "            lw=1)\n",
    "plt.axvline(0,\n",
    "            color='k',\n",
    "            ls='--',\n",
    "            lw=1)\n",
    "plt.xlabel('Stock price at maturity')\n",
    "plt.ylabel('Payoff')\n",
    "plt.title('Both instruments')\n",
    "\n",
    "plt.subplot(1,2,2)\n",
    "plt.grid(True)\n",
    "plt.plot(x_values, np.maximum(S-x_values, 0) + (x_values-S),\n",
    "         'g')\n",
    "plt.axhline(0,\n",
    "            color='k',\n",
    "            ls='--',\n",
    "            lw=1)\n",
    "plt.axvline(0,\n",
    "            color='k',\n",
    "            ls='--',\n",
    "            lw=1)\n",
    "plt.xlabel('Stock price at maturity')\n",
    "plt.title('Combined')"
   ]
  },
  {
   "cell_type": "code",
   "execution_count": null,
   "metadata": {},
   "outputs": [],
   "source": [
    "#Exposure is the amount (to be hedged) invested in MMC stock\n",
    "exposure = (opt_weights[np.argmax(opt_weights)] * 100000).round(2)\n",
    "exposure"
   ]
  },
  {
   "cell_type": "code",
   "execution_count": null,
   "metadata": {},
   "outputs": [],
   "source": [
    "#Because I know how long I want to keep my position (for 6 months), I will hedge using a European option\n",
    "def simulate(M, I):\n",
    "    #M: number of time intervals for discretization\n",
    "    #I: number of paths to be simulated\n",
    "    \n",
    "    np.random.seed(15)\n",
    "    simulated = np.random.standard_normal((M + 1, int(I / 2)))\n",
    "    simulated = np.concatenate((simulated, -simulated), axis=1)\n",
    "    simulated = (simulated - simulated.mean()) / simulated.std()\n",
    "    return simulated\n",
    "\n",
    "def euro_static(K, option='call'):\n",
    "    #K: strike price of the option\n",
    "\n",
    "    sim = simulate(0, I)\n",
    "    ST = S0 * np.exp((r - 0.5 * sigma ** 2) * T + sigma * np.sqrt(T) * sim)\n",
    "    if option == 'call':\n",
    "        hT = np.maximum(ST - K, 0)\n",
    "    else:\n",
    "        hT = np.maximum(K - ST, 0)\n",
    "    P0 = np.exp(-r * T) * np.mean(hT)\n",
    "    return P0\n",
    "\n",
    "S0 = exposure\n",
    "r = rf\n",
    "#I use 6 periods to calculate standard deviation, because I try to project for the 6 months period as well\n",
    "sigma = rets[hw_stock][-6:].std() * np.sqrt(12)\n",
    "T = 0.5\n",
    "I = 50000\n",
    "\n",
    "put_price = euro_static(K=S0, option='put')\n",
    "print('It will cost ${} to hedge exposure of {} stock for 6 months.'.format(round(put_price, 2), hw_stock))"
   ]
  },
  {
   "cell_type": "markdown",
   "metadata": {},
   "source": [
    "##### 4. Now suppose you decide to hedge your entire portfolio for the next 6 months. Luckily, your friend who works in an investment bank, offered to underwrite you an option on your entire portfolio. What is the fair price for this option (use covariance matrix to estimate variance of the portfolio)?"
   ]
  },
  {
   "cell_type": "code",
   "execution_count": null,
   "metadata": {},
   "outputs": [],
   "source": [
    "#Now I want to hedge the entire portfolio ($100,000) for the 6 months period\n",
    "S0 = 100000\n",
    "r = rf\n",
    "#Covariance matrix\n",
    "cov = rets[-6:].cov()\n",
    "sigma = np.sqrt(np.dot(opt_weights.T, np.dot(cov, opt_weights)) * 12)\n",
    "T = 0.5\n",
    "I = 50000\n",
    "\n",
    "put_price = euro_static(K=S0, option='put')\n",
    "print('It will cost ${} to hedge exposure of the entire portfolio for 6 months.'.format(round(put_price, 2)))"
   ]
  }
 ],
 "metadata": {
  "kernelspec": {
   "display_name": "Python 3",
   "language": "python",
   "name": "python3"
  },
  "language_info": {
   "codemirror_mode": {
    "name": "ipython",
    "version": 3
   },
   "file_extension": ".py",
   "mimetype": "text/x-python",
   "name": "python",
   "nbconvert_exporter": "python",
   "pygments_lexer": "ipython3",
   "version": "3.7.1"
  }
 },
 "nbformat": 4,
 "nbformat_minor": 2
}
