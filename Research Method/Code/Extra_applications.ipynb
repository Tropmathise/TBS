{
 "cells": [
  {
   "cell_type": "markdown",
   "id": "efcf6fe5",
   "metadata": {},
   "source": [
    "Exercise 1. Create a function that will take as parameters an initial investment, interest rate (annualized) and the investment horizon (in years), and will return the value of the investment at the end of the horizon."
   ]
  },
  {
   "cell_type": "code",
   "execution_count": null,
   "id": "e0639958",
   "metadata": {},
   "outputs": [],
   "source": []
  },
  {
   "cell_type": "markdown",
   "id": "8273a261",
   "metadata": {},
   "source": [
    "Exercise 2. Create a function to price a bond, given its coupon rate, face value, maturity and current interest rate. Coupons are paid once a year and the first coupon occurs one year from now."
   ]
  },
  {
   "cell_type": "code",
   "execution_count": null,
   "id": "d07662e8",
   "metadata": {},
   "outputs": [],
   "source": []
  },
  {
   "cell_type": "markdown",
   "id": "97bf08ad",
   "metadata": {},
   "source": [
    "Exercise 3. Create a function for bond valuation (like above), but add a parameter for number of coupon payments per year."
   ]
  },
  {
   "cell_type": "code",
   "execution_count": null,
   "id": "e43d484c",
   "metadata": {},
   "outputs": [],
   "source": []
  },
  {
   "cell_type": "markdown",
   "id": "3329d256",
   "metadata": {},
   "source": [
    "Exercise 4. Write a function that takes portfolio weights' vector as input and returns the Sharpe ratio of the portfolio, given the following expected return vector and variance-covariance matrix (from monthly data):"
   ]
  },
  {
   "cell_type": "code",
   "execution_count": null,
   "id": "ba35e63e",
   "metadata": {},
   "outputs": [],
   "source": [
    "import numpy as np\n",
    "\n",
    "ret = np.array([0.02518719, 0.02427579, 0.02552088])\n",
    "cov = np.array([[0.00493731, 0.00306012, 0.00263865],\n",
    "                [0.00306012, 0.00655305, 0.00341754],\n",
    "                [0.00263865, 0.00341754, 0.0040089 ]])\n",
    "\n",
    "#Start your code here:\n"
   ]
  },
  {
   "cell_type": "markdown",
   "id": "7e932be5",
   "metadata": {},
   "source": [
    "Exercise 5. Generate 1000 random portfolios with 3 holdings and find, which portfolio results in highest Sharpe ratio."
   ]
  },
  {
   "cell_type": "code",
   "execution_count": null,
   "id": "ab59174b",
   "metadata": {},
   "outputs": [],
   "source": []
  },
  {
   "cell_type": "markdown",
   "id": "ffc9797b",
   "metadata": {},
   "source": [
    "At the end of chapter 4. Python_pandas_DataFrame you did this exercise: given the expected return vector and variance-covariance matrix, generate 5 years of return data for 3 stocks, starting September 2015. Create a **DataFrame** with proper column and row labels. Here is the code:"
   ]
  },
  {
   "cell_type": "code",
   "execution_count": null,
   "id": "eaa2ce91",
   "metadata": {},
   "outputs": [],
   "source": [
    "import numpy as np\n",
    "import pandas as pd\n",
    "\n",
    "ret = np.array([0.02518719, 0.02427579, 0.02552088])\n",
    "cov = np.array([[0.00493731, 0.00306012, 0.00263865],\n",
    "                [0.00306012, 0.00655305, 0.00341754],\n",
    "                [0.00263865, 0.00341754, 0.0040089 ]])\n",
    "\n",
    "np.random.seed(99)\n",
    "data = np.random.multivariate_normal(ret, cov, 60)\n",
    "stocks = pd.DataFrame(data)\n",
    "\n",
    "stocks.columns = ['Stock1', 'Stock2', 'Stock3']\n",
    "dates = pd.date_range('2015-9', periods=60, freq='M')\n",
    "stocks.index = dates"
   ]
  },
  {
   "cell_type": "markdown",
   "id": "ed1bc18a",
   "metadata": {},
   "source": [
    "Exercise 6. Using the **DataFrame** generated in the above cell, plot a graph of the value of investments if invested $1 in each stock."
   ]
  },
  {
   "cell_type": "code",
   "execution_count": null,
   "id": "89104a86",
   "metadata": {},
   "outputs": [],
   "source": []
  }
 ],
 "metadata": {
  "kernelspec": {
   "display_name": "Python 3",
   "language": "python",
   "name": "python3"
  },
  "language_info": {
   "codemirror_mode": {
    "name": "ipython",
    "version": 3
   },
   "file_extension": ".py",
   "mimetype": "text/x-python",
   "name": "python",
   "nbconvert_exporter": "python",
   "pygments_lexer": "ipython3",
   "version": "3.8.8"
  }
 },
 "nbformat": 4,
 "nbformat_minor": 5
}
