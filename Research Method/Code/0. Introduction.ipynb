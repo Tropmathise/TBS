{
 "cells": [
  {
   "cell_type": "markdown",
   "metadata": {},
   "source": [
    "### Coding with R Language & Python (UE 8 - Master Dissertation) - 15 hours\n",
    "\n",
    "**_Course instructor:_**\n",
    "\n",
    "SKRIPNIK Roman, r.skripnik@tbs-education.fr\n",
    "\n",
    "**_Course schedule:_**\n",
    "* 20 October, 14:30 - 17:30;\n",
    "* 21 October, 10:00 - 13:00;\n",
    "* 21 October, 14:00 - 17:00;\n",
    "* 22 October, 10:00 - 13:00;\n",
    "* 22 October, 14:00 - 17:00.\n",
    "\n",
    "**_Course syllabus  (preliminary):_**\n",
    "1. Data types and structures;\n",
    "2. Functions;\n",
    "3. NumPy array vs vector & matrix;\n",
    "4. pandas DataFrame vs data frame;\n",
    "5. Data visualizations.\n",
    "\n",
    "**_Course objective:_** to become familiar with and learn to apply the main packages and functions in Python and R programming languages and prepare for individual work with these languages.\n",
    "\n",
    "**_Course grading:_** final project."
   ]
  },
  {
   "cell_type": "markdown",
   "metadata": {},
   "source": [
    "#### Jupyter Notebook\n",
    "\n",
    "For this class I am going to be using **Jupyter Notebook**, however, you are free to choose any other Python or R IDE (Integrated Development Environment). I prefer **Jupyter**, because it gives you a way to combine code, plots, images, notes etc. A fundamental concept of the **Notebook** is that you work with different kinds of cells, which include:\n",
    "\n",
    "* **Code** – contains executable Python code;\n",
    "* **Markdown** – contains text written in Markdown language and/or HTML;\n",
    "* **Raw text** – contains text without formatting;\n",
    "* **Heading** – heading for text structuring.\n",
    "\n",
    "The different cell types already indicate that the **Notebook** is more than an enhanced Python or R shell only. It is intended to fulfill the requirements of a multitude of documentation and presentation scenarios. In a finance context this also makes **Jupyter Notebook** a valuable tool, since, for example, the mathematical description of an algorithm and the executable version can live in the same document. Moreover, a major advantage of **Jupyter Notebook** is that you can easily publish and share your complete **Notebook** with others.\n",
    "\n",
    "The basic usage of the **Notebook** is quite intuitive. You mainly navigate it with the arrow keys or a mouse (touchpad) and \"execute\" cells by using either Shift-Return or Ctrl-Return (Windows users). The difference is that the first option moves you automatically to the next cell after execution, while the second option lets you remain at the same cell. The effect of \"executing\" cells depends on the type of the cell. If it is a code cell, then the **code** is executed and the output (if any) is shown. If it is a **markdown** cell, the content is rendered to show the result. Text in the **markdown** cells can be formatted like we are used to seeing in MS Word:\n",
    "\n",
    "* **bold;**\n",
    "* _italic;_\n",
    "* **_bold and italic._**"
   ]
  },
  {
   "cell_type": "code",
   "execution_count": null,
   "metadata": {},
   "outputs": [],
   "source": [
    "print('This is the output!')"
   ]
  }
 ],
 "metadata": {
  "kernelspec": {
   "display_name": "Python 3 (ipykernel)",
   "language": "python",
   "name": "python3"
  },
  "language_info": {
   "codemirror_mode": {
    "name": "ipython",
    "version": 3
   },
   "file_extension": ".py",
   "mimetype": "text/x-python",
   "name": "python",
   "nbconvert_exporter": "python",
   "pygments_lexer": "ipython3",
   "version": "3.7.1"
  }
 },
 "nbformat": 4,
 "nbformat_minor": 4
}
