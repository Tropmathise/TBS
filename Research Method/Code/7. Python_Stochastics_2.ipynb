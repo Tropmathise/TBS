{
 "cells": [
  {
   "cell_type": "markdown",
   "metadata": {},
   "source": [
    "### 7. Stochastics\n",
    "\n",
    "Nowadays, stochastics is one of the most important mathematical and numerical disciplines in finance. In the beginning of the modern era of finance, mainly in the 1970s and 1980s, the major goal of financial research was to come up with closed-form solutions for financial models. The requirements have drastically changed in recent years, and many tasks can only be tackled by flexible and efficient numerical methods. Therefore, stochastics in general and Monte Carlo simulation in particular have risen to prominence in the financial field. Roughly speaking, a _stochastic process_ is a sequence of random variables. In that sense, one should expect something similar to a sequence of repeated simulations of a random variable when simulating a process. This part introduces the following topics from a Python perspective:\n",
    "\n",
    "* **Random numbers**. It all starts with pseudo-random numbers, which build the basis for all simulation efforts;\n",
    "\n",
    "\n",
    "* **Simulation**. In finance, two simulation tasks are of particular importance: simulation of random variables and of stochastic processes;\n",
    "\n",
    "\n",
    "* **Valuation**. The two main disciplines when it comes to valuation are the valuation of derivatives with European exercise (at a specific date) and American exercise (over a specific time interval); there are also instruments with Bermudan exercise, or exercise at a finite set of specific dates;\n",
    "\n",
    "\n",
    "* **Risk measures**. Simulation lends itself pretty well to the calculation of risk measures like value-at-risk, conditional value-at-risk, and credit value adjustments.\n",
    "\n",
    "#### 7.1. Random numbers\n",
    "\n",
    "Throughout this part, to generate random numbers, the **numpy.random** (https://numpy.org/doc/stable/reference/random/legacy.html#functions-in-numpy-random) sub-package is used. For convenience, let's import **numpy** and **numpy.random** separately:"
   ]
  },
  {
   "cell_type": "code",
   "execution_count": 1,
   "metadata": {},
   "outputs": [],
   "source": [
    "import matplotlib.pyplot as plt\n",
    "\n",
    "import numpy as np\n",
    "import numpy.random as npr"
   ]
  },
  {
   "cell_type": "markdown",
   "metadata": {},
   "source": [
    "We can generate random integers using **.randint()**(https://numpy.org/doc/stable/reference/random/generated/numpy.random.randint.html#numpy.random.randint) function:"
   ]
  },
  {
   "cell_type": "code",
   "execution_count": 2,
   "metadata": {
    "scrolled": true
   },
   "outputs": [
    {
     "data": {
      "text/plain": [
       "array([5, 8, 9, 5, 0, 0, 1, 7, 6, 9, 2, 4, 5, 2, 4, 2, 4, 7, 7, 9, 1, 7,\n",
       "       0, 6, 9, 9, 7, 6, 9, 1, 0, 1, 8, 8, 3, 9, 8, 7, 3, 6, 5, 1, 9, 3,\n",
       "       4, 8, 1, 4, 0, 3, 9, 2, 0, 4, 9, 2, 7, 7, 9, 8, 6, 9, 3, 7, 7, 4,\n",
       "       5, 9, 3, 6, 8, 0, 2, 7, 7, 9, 7, 3, 0, 8, 7, 7, 1, 1, 3, 0, 8, 6,\n",
       "       4, 5, 6, 2, 5, 7, 8, 4, 4, 7, 7, 4])"
      ]
     },
     "execution_count": 2,
     "metadata": {},
     "output_type": "execute_result"
    }
   ],
   "source": [
    "lower_bound = 0\n",
    "upper_bound = 10\n",
    "sample_size = 100\n",
    "\n",
    "npr.seed(1)\n",
    "npr.randint(lower_bound, upper_bound, sample_size)"
   ]
  },
  {
   "cell_type": "markdown",
   "metadata": {},
   "source": [
    "Next, the **.rand()** (https://numpy.org/doc/stable/reference/random/generated/numpy.random.rand.html#numpy.random.rand) function returns random numbers from the open interval $[0, 1)$ with uniform distribution, in the shape provided as a parameter to the function. The returned object is an **ndarray** object."
   ]
  },
  {
   "cell_type": "code",
   "execution_count": 3,
   "metadata": {},
   "outputs": [
    {
     "data": {
      "text/plain": [
       "array([0.4359949 , 0.02592623, 0.54966248, 0.43532239, 0.4203678 ,\n",
       "       0.33033482, 0.20464863, 0.61927097, 0.29965467, 0.26682728])"
      ]
     },
     "execution_count": 3,
     "metadata": {},
     "output_type": "execute_result"
    }
   ],
   "source": [
    "sample_size = 10\n",
    "\n",
    "npr.seed(2)\n",
    "npr.rand(sample_size)"
   ]
  },
  {
   "cell_type": "code",
   "execution_count": 4,
   "metadata": {},
   "outputs": [
    {
     "data": {
      "text/plain": [
       "array([[0.5507979 , 0.70814782, 0.29090474, 0.51082761, 0.89294695],\n",
       "       [0.89629309, 0.12558531, 0.20724288, 0.0514672 , 0.44080984],\n",
       "       [0.02987621, 0.45683322, 0.64914405, 0.27848728, 0.6762549 ],\n",
       "       [0.59086282, 0.02398188, 0.55885409, 0.25925245, 0.4151012 ]])"
      ]
     },
     "execution_count": 4,
     "metadata": {},
     "output_type": "execute_result"
    }
   ],
   "source": [
    "rows = 4\n",
    "columns = 5\n",
    "\n",
    "npr.seed(3)\n",
    "npr.rand(rows, columns)"
   ]
  },
  {
   "cell_type": "markdown",
   "metadata": {},
   "source": [
    "Such numbers can be easily transformed to cover other intervals of the real line. For instance, if one wants to generate random numbers from the interval $[a, b) = [5, 10)$, one can transform the returned numbers from **.rand()** as shown below - this also works in multiple dimensions due to **NumPy** broadcasting:"
   ]
  },
  {
   "cell_type": "code",
   "execution_count": 5,
   "metadata": {},
   "outputs": [
    {
     "data": {
      "text/plain": [
       "array([9.8351492 , 7.73616125, 9.8634218 , 8.57407997, 8.48864412,\n",
       "       6.08044748, 9.88137227, 5.03115128, 6.26491181, 7.17395766])"
      ]
     },
     "execution_count": 5,
     "metadata": {},
     "output_type": "execute_result"
    }
   ],
   "source": [
    "a = 5\n",
    "b = 10\n",
    "sample_size = 10\n",
    "\n",
    "npr.seed(4)\n",
    "npr.rand(sample_size) * (b - a) + a"
   ]
  },
  {
   "cell_type": "markdown",
   "metadata": {},
   "source": [
    "Also, a random sample can be generated from a given list of numbers, using **.choice()** (https://numpy.org/doc/stable/reference/random/generated/numpy.random.choice.html#numpy.random.choice) function:"
   ]
  },
  {
   "cell_type": "code",
   "execution_count": 6,
   "metadata": {},
   "outputs": [
    {
     "data": {
      "text/plain": [
       "array([1, 3, 5, 7, 9])"
      ]
     },
     "execution_count": 6,
     "metadata": {},
     "output_type": "execute_result"
    }
   ],
   "source": [
    "odd = np.arange(1, 10, 2)\n",
    "odd"
   ]
  },
  {
   "cell_type": "code",
   "execution_count": 7,
   "metadata": {},
   "outputs": [
    {
     "data": {
      "text/plain": [
       "array([5, 9, 5, 9, 9, 9, 9, 9, 5, 3, 1, 9, 9, 3, 9, 5, 9, 5, 9, 9, 9, 5,\n",
       "       5, 5, 7, 3, 3, 9, 9, 3, 1, 5, 9, 9, 1, 9, 1, 9, 9, 9, 5, 9, 9, 9,\n",
       "       1, 9, 9, 7, 9, 9, 9, 9, 1, 1, 3, 5, 9, 9, 9, 9, 9, 9, 9, 9, 9, 1,\n",
       "       7, 1, 9, 9, 1, 3, 7, 5, 9, 7, 9, 9, 9, 9, 9, 3, 9, 7, 3, 7, 9, 9,\n",
       "       7, 1, 9, 3, 9, 9, 9, 9, 9, 1, 9, 9])"
      ]
     },
     "execution_count": 7,
     "metadata": {},
     "output_type": "execute_result"
    }
   ],
   "source": [
    "probs = np.array([0.1, 0.1, 0.1, 0.1, 0.6])\n",
    "sample_size = 100\n",
    "\n",
    "npr.seed(5)\n",
    "npr.choice(odd, sample_size, replace=True, p=probs)"
   ]
  },
  {
   "cell_type": "markdown",
   "metadata": {},
   "source": [
    "Data sample from standard normal distribution can be generated using **.standard_normal()** (https://numpy.org/doc/stable/reference/random/generated/numpy.random.standard_normal.html#numpy.random.standard_normal) function:"
   ]
  },
  {
   "cell_type": "code",
   "execution_count": 8,
   "metadata": {},
   "outputs": [
    {
     "data": {
      "text/plain": [
       "array([-0.31178367,  0.72900392,  0.21782079, -0.8990918 , -2.48678065,\n",
       "        0.91325152,  1.12706373, -1.51409323,  1.63929108, -0.4298936 ,\n",
       "        2.63128056,  0.60182225, -0.33588161,  1.23773784,  0.11112817,\n",
       "        0.12915125,  0.07612761, -0.15512816,  0.63422534,  0.810655  ,\n",
       "        0.35480861,  1.81259031, -1.3564758 , -0.46363197,  0.82465384,\n",
       "       -1.17643148,  1.56448966,  0.71270509, -0.1810066 ,  0.53419953,\n",
       "       -0.58661296, -1.48185327,  0.85724762,  0.94309899,  0.11444143,\n",
       "       -0.02195668, -2.12714455, -0.83440747, -0.46550831,  0.23371059,\n",
       "        1.38503523, -0.51962709, -0.78015214,  0.95560959, -0.12673638,\n",
       "       -1.36861282,  1.21848065, -0.85750144, -0.56147088, -1.0335199 ,\n",
       "        0.35877096,  1.07368134, -0.37550472,  0.39636757, -0.47144628,\n",
       "        2.33660781,  1.50278553, -0.59545972,  0.52834106,  0.9398248 ,\n",
       "        0.42628539, -0.75815703, -0.16236698,  0.72680996,  0.44408297,\n",
       "       -0.85682264,  0.44692842, -1.01464799, -2.1323234 ,  0.17386307,\n",
       "        0.95120126,  0.44189739,  1.46901739,  1.74951635,  0.35353062,\n",
       "       -0.64333729, -0.04723705, -1.44903979, -0.03618977, -0.09084699,\n",
       "        0.17629034,  1.09462041, -2.12647459,  0.75144883, -0.54060704,\n",
       "        0.79322236,  0.17365335, -1.03543429,  0.87426839, -0.73957208,\n",
       "        0.52294535, -0.59187648, -0.47748711,  0.11252968,  1.90474232,\n",
       "        0.69415315, -0.01958134,  1.66284285,  0.03060843, -0.29749921])"
      ]
     },
     "execution_count": 8,
     "metadata": {},
     "output_type": "execute_result"
    }
   ],
   "source": [
    "sample_size = 1000\n",
    "\n",
    "npr.seed(6)\n",
    "sample_1 = npr.standard_normal(sample_size)\n",
    "sample_1[:100]"
   ]
  },
  {
   "cell_type": "code",
   "execution_count": 9,
   "metadata": {},
   "outputs": [
    {
     "data": {
      "text/plain": [
       "-0.008856649433395123"
      ]
     },
     "execution_count": 9,
     "metadata": {},
     "output_type": "execute_result"
    }
   ],
   "source": [
    "sample_1.mean()"
   ]
  },
  {
   "cell_type": "code",
   "execution_count": 10,
   "metadata": {},
   "outputs": [
    {
     "data": {
      "text/plain": [
       "0.9646502152637405"
      ]
     },
     "execution_count": 10,
     "metadata": {},
     "output_type": "execute_result"
    }
   ],
   "source": [
    "sample_1.std()"
   ]
  },
  {
   "cell_type": "markdown",
   "metadata": {},
   "source": [
    "Finally, **.normal()** (https://numpy.org/doc/stable/reference/random/generated/numpy.random.normal.html#numpy.random.normal)\n",
    "function generates numbers from a normal distribution with specified parameters:"
   ]
  },
  {
   "cell_type": "code",
   "execution_count": 11,
   "metadata": {
    "scrolled": true
   },
   "outputs": [
    {
     "data": {
      "text/plain": [
       "array([18.45262852,  7.67031315, 10.16410082, 12.03758141,  6.05538486,\n",
       "       10.01032786,  9.99554807,  1.22637847, 15.08829003, 13.00249258,\n",
       "        6.87285513,  9.14225869, 12.52649687,  8.69321792,  8.78625461,\n",
       "        2.73379294, 12.77290156, 10.61940453, 11.37229962,  2.36737734,\n",
       "       18.25349846, 10.77167768,  8.06430028, 20.1453611 ,  9.77306985,\n",
       "        2.7466065 ,  7.97386072, -1.44157551, 15.24698275,  7.91762841,\n",
       "        6.28723237, 15.36235066,  1.74462205, 12.67714678, -0.32207402,\n",
       "        6.6892033 ,  3.97890077, 17.30987814, 18.83080439,  8.35293124,\n",
       "       14.20366621,  9.10006799, 12.84030944,  6.23581402,  1.45830398,\n",
       "        0.98450671, 11.91560926, 21.23797526, 11.34705815,  7.3769769 ,\n",
       "       19.56009431, 11.18650923, 10.50716993, 11.26288868,  9.33811401,\n",
       "        8.4526183 ,  2.82518267, 12.50812062,  9.52612275, 15.96542961,\n",
       "        8.15590766,  0.46815061,  9.50194684, 18.49768648,  8.08288439,\n",
       "        5.55071569,  4.03204039,  4.74991594,  8.49903132,  4.10008953,\n",
       "       17.48819558,  8.58682382, 10.54324186, 17.1911976 , 17.5165926 ,\n",
       "        8.93633516, 11.65987108, 13.67513292,  9.0357227 ,  1.10993574,\n",
       "       13.27352852, 14.47176152, 12.07751307,  5.38227672,  9.01986344,\n",
       "        7.04615091,  8.50144381, 16.48442596, 17.64789817, 13.34709097,\n",
       "       12.7437256 , 13.38314495,  9.93878907,  9.62168269,  6.63177406,\n",
       "        9.72066275, 21.29973493, 14.34519665,  8.28941488,  7.64036674])"
      ]
     },
     "execution_count": 11,
     "metadata": {},
     "output_type": "execute_result"
    }
   ],
   "source": [
    "mean = 10\n",
    "std = 5\n",
    "sample_size = 1000\n",
    "\n",
    "npr.seed(7)\n",
    "sample_2 = npr.normal(mean, std, sample_size)\n",
    "sample_2[:100]"
   ]
  },
  {
   "cell_type": "code",
   "execution_count": 12,
   "metadata": {},
   "outputs": [
    {
     "data": {
      "text/plain": [
       "9.857624867144143"
      ]
     },
     "execution_count": 12,
     "metadata": {},
     "output_type": "execute_result"
    }
   ],
   "source": [
    "sample_2.mean()"
   ]
  },
  {
   "cell_type": "code",
   "execution_count": 13,
   "metadata": {},
   "outputs": [
    {
     "data": {
      "text/plain": [
       "4.812298348465906"
      ]
     },
     "execution_count": 13,
     "metadata": {},
     "output_type": "execute_result"
    }
   ],
   "source": [
    "sample_2.std()"
   ]
  },
  {
   "cell_type": "markdown",
   "metadata": {},
   "source": [
    "Let's use these functions to graphically illustrate two continuous distributions and two discrete ones:"
   ]
  },
  {
   "cell_type": "code",
   "execution_count": 14,
   "metadata": {
    "scrolled": false
   },
   "outputs": [
    {
     "data": {
      "text/plain": [
       "Text(0.5, 1.0, 'Choice')"
      ]
     },
     "execution_count": 14,
     "metadata": {},
     "output_type": "execute_result"
    },
    {
     "data": {
      "image/png": "[encoded data removed]",
      "text/plain": [
       "<Figure size 720x576 with 4 Axes>"
      ]
     },
     "metadata": {
      "needs_background": "light"
     },
     "output_type": "display_data"
    }
   ],
   "source": [
    "sample_size = 1000\n",
    "\n",
    "npr.seed(7)\n",
    "rs_1 = npr.standard_normal(sample_size)\n",
    "rs_2 = npr.rand(sample_size, 3)\n",
    "rs_3 = npr.randint(0, 10, sample_size)\n",
    "\n",
    "\n",
    "numbers = [0, 25, 50, 75, 100]\n",
    "rs_4 = npr.choice(numbers, sample_size)\n",
    "\n",
    "fig, ((ax1, ax2), (ax3, ax4)) = plt.subplots(nrows=2,\n",
    "                                             ncols=2,\n",
    "                                             figsize=(10, 8))\n",
    "ax1.hist(rs_1,\n",
    "         bins=25)\n",
    "ax1.set_title('Standard_normal')\n",
    "ax1.set_ylabel('Frequency')\n",
    "\n",
    "ax2.hist(rs_2,\n",
    "         bins=25,\n",
    "         stacked=True)\n",
    "ax2.set_title('Rand')\n",
    "\n",
    "ax3.hist(rs_3,\n",
    "         bins=19)\n",
    "ax3.set_title('Randint')\n",
    "ax3.set_ylabel('Frequency')\n",
    "\n",
    "ax4.hist(rs_4,\n",
    "         bins=9)\n",
    "ax4.set_title('Choice')"
   ]
  },
  {
   "cell_type": "markdown",
   "metadata": {},
   "source": [
    "Although there is much criticism around the use of normal distributions in finance, they are an indispensable tool and still the most widely used type of distribution in analytical as well as numerical applications. A reason for this is that many financial models directly rest in one way or another on a normal distribution or a log-normal distribution. Moreover, many financial models that do not rest directly on a normal assumption can be discretized, and therewith approximated for simulation purposes, by the use of the normal distribution.\n",
    "\n",
    "However, **numpy.random** sub-package is also very useful for generating data from other distributions:\n",
    "\n",
    "* **Binomial** (https://numpy.org/doc/stable/reference/random/generated/numpy.random.binomial.html) with 10 trials with 50% probability of success, repeated 1000 times;\n",
    "\n",
    "\n",
    "* **Triangular** (https://numpy.org/doc/stable/reference/random/generated/numpy.random.triangular.html) over the interval -5 to 5 and a peak at 2;\n",
    "\n",
    "\n",
    "* **Chi-square** (https://numpy.org/doc/stable/reference/random/generated/numpy.random.chisquare.html) with 0.5 degrees of freedom;\n",
    "\n",
    "\n",
    "* **Log-normal** (https://numpy.org/doc/stable/reference/random/generated/numpy.random.lognormal.html) of an underlying standard normal."
   ]
  },
  {
   "cell_type": "code",
   "execution_count": 15,
   "metadata": {},
   "outputs": [
    {
     "data": {
      "text/plain": [
       "Text(0.5, 1.0, 'Log-normal')"
      ]
     },
     "execution_count": 15,
     "metadata": {},
     "output_type": "execute_result"
    },
    {
     "data": {
      "image/png": "[encoded data removed]",
      "text/plain": [
       "<Figure size 720x576 with 4 Axes>"
      ]
     },
     "metadata": {
      "needs_background": "light"
     },
     "output_type": "display_data"
    }
   ],
   "source": [
    "sample_size = 1000\n",
    "\n",
    "npr.seed(8)\n",
    "rs_1 = npr.binomial(10, 0.5, sample_size)\n",
    "rs_2 = npr.triangular(-5, 2, 5, sample_size)\n",
    "rs_3 = npr.chisquare(df=0.5, size=sample_size)\n",
    "rs_4 = npr.lognormal(0, 1, sample_size)\n",
    "\n",
    "fig, ((ax1, ax2), (ax3, ax4)) = plt.subplots(nrows=2,\n",
    "                                             ncols=2,\n",
    "                                             figsize=(10, 8))\n",
    "ax1.hist(rs_1, bins=19)\n",
    "ax1.set_title('Binomial')\n",
    "ax1.set_ylabel('Frequency')\n",
    "\n",
    "ax2.hist(rs_2, bins=11)\n",
    "ax2.set_title('Triangular')\n",
    "\n",
    "ax3.hist(rs_3, bins=20)\n",
    "ax3.set_title('Chi-square')\n",
    "ax3.set_ylabel('Frequency')\n",
    "\n",
    "ax4.hist(rs_4, bins=20)\n",
    "ax4.set_title('Log-normal')"
   ]
  },
  {
   "cell_type": "markdown",
   "metadata": {},
   "source": [
    "Now that we know how to generate random numbers in Python, let's see how we can use them in finance:\n",
    "\n",
    "#### 7.2. Geometric Brownian motion and the future stock price\n",
    "\n",
    "A stochastic process $S_t$ is said to follow a GBM if it satisfies the following stochastic differential equation (SDE):\n",
    "\n",
    "$dS_t = \\mu S_tdt + \\sigma S_tdZ_t$\n",
    "\n",
    "Here $Z_t$ is a Wiener process or Brownian motion ($Z\\sim N(0,1)$), and $\\mu$  (the percentage drift) and $\\sigma$  (the percentage volatility) are constants. Given the value of $S_0$, the above SDE has an analytic solution. The solution is the **geometric Brownian motion model of the future stock price**:\n",
    "\n",
    "$S_t = S_0 exp((\\mu−\\frac{\\sigma^2}{2})t+\\sigma\\sqrt{t}Z_t)$\n",
    "\n",
    "#### 7.3. Monte-Carlo simulation\n",
    "\n",
    "Monte Carlo simulation (MCS) is among the most important numerical techniques in finance, if not the most important and widely used. This mainly stems from the fact that it is the most flexible numerical method when it comes to the evaluation of mathematical expressions, and specifically the valuation of financial derivatives. The flexibility comes at the cost of a relatively high computational burden, since often hundreds of thousands or even millions of complex computations have to be carried out to come up with a single value estimate. We can perfrom static (simulate only final price), as well as dynamic (simulate entire price path) simulations.\n",
    "\n",
    "##### 7.3.1. Static simulation\n",
    "\n",
    "Consider **geometric Brownian motion model of the future stock price** from above:\n",
    "\n",
    "$S_t = S_0 exp((\\mu−\\frac{\\sigma^2}{2})t+\\sigma\\sqrt{t}Z_t)$\n",
    "\n",
    "This financial model is parameterized and simulated as follows:"
   ]
  },
  {
   "cell_type": "code",
   "execution_count": 16,
   "metadata": {},
   "outputs": [
    {
     "data": {
      "text/plain": [
       "array([103.86189867,  93.71899579,  69.97102029, ..., 100.40985188,\n",
       "       206.09387133, 113.92186323])"
      ]
     },
     "execution_count": 16,
     "metadata": {},
     "output_type": "execute_result"
    }
   ],
   "source": [
    "S0 = 100\n",
    "mu = 0.05\n",
    "sigma = 0.25\n",
    "T = 2.0\n",
    "size = 10000\n",
    "\n",
    "npr.seed(9)\n",
    "ST1 = S0 * np.exp((mu - 0.5 * sigma ** 2) * T + sigma * np.sqrt(T) * npr.standard_normal(size))  \n",
    "ST1"
   ]
  },
  {
   "cell_type": "code",
   "execution_count": 17,
   "metadata": {},
   "outputs": [
    {
     "data": {
      "text/plain": [
       "Text(0, 0.5, 'Frequency')"
      ]
     },
     "execution_count": 17,
     "metadata": {},
     "output_type": "execute_result"
    },
    {
     "data": {
      "image/png": "[encoded data removed]",
      "text/plain": [
       "<Figure size 720x432 with 1 Axes>"
      ]
     },
     "metadata": {
      "needs_background": "light"
     },
     "output_type": "display_data"
    }
   ],
   "source": [
    "plt.figure(figsize=(10, 6))\n",
    "plt.hist(ST1, bins=50)\n",
    "plt.xlabel('Stock price')\n",
    "plt.ylabel('Frequency')"
   ]
  },
  {
   "cell_type": "markdown",
   "metadata": {},
   "source": [
    "The histogram suggests that the distribution of the random variable is log-normal. One could therefore also try to use the **npr.lognormal()** (https://numpy.org/doc/stable/reference/random/generated/numpy.random.lognormal.html#numpy.random.lognormal) function to directly derive the values for the random variable. In that case, one has to provide the mean and the standard deviation (of the underlying normal distribution) as arguments to the function:"
   ]
  },
  {
   "cell_type": "code",
   "execution_count": 18,
   "metadata": {},
   "outputs": [
    {
     "data": {
      "text/plain": [
       "array([103.86189867,  93.71899579,  69.97102029, ..., 100.40985188,\n",
       "       206.09387133, 113.92186323])"
      ]
     },
     "execution_count": 18,
     "metadata": {},
     "output_type": "execute_result"
    }
   ],
   "source": [
    "npr.seed(9)\n",
    "ST2 = S0 * npr.lognormal((mu - 0.5 * sigma ** 2) * T,\n",
    "                         sigma * np.sqrt(T),\n",
    "                         size=size)  \n",
    "ST2"
   ]
  },
  {
   "cell_type": "code",
   "execution_count": 19,
   "metadata": {},
   "outputs": [
    {
     "data": {
      "text/plain": [
       "Text(0, 0.5, 'Frequency')"
      ]
     },
     "execution_count": 19,
     "metadata": {},
     "output_type": "execute_result"
    },
    {
     "data": {
      "image/png": "[encoded data removed]",
      "text/plain": [
       "<Figure size 720x432 with 1 Axes>"
      ]
     },
     "metadata": {
      "needs_background": "light"
     },
     "output_type": "display_data"
    }
   ],
   "source": [
    "plt.figure(figsize=(10, 6))\n",
    "plt.hist(ST2, bins=50)\n",
    "plt.xlabel('Stock price')\n",
    "plt.ylabel('Frequency')"
   ]
  },
  {
   "cell_type": "markdown",
   "metadata": {},
   "source": [
    "By visual inspection, both histograms indeed look pretty similar. This can be verified a bit more rigorously by comparing statistical moments of the resulting distributions. To compare the distributional characteristics of simulation results, the **scipy.stats** (https://docs.scipy.org/doc/scipy/reference/stats.html) sub-package and the helper function **print_statistics()**, as defined below, prove useful. The **print_statistics()** function takes two data samples as arguments and prints out their statistics for comparison."
   ]
  },
  {
   "cell_type": "code",
   "execution_count": 20,
   "metadata": {},
   "outputs": [
    {
     "data": {
      "text/plain": [
       "DescribeResult(nobs=10000, minmax=(28.763407616478382, 413.7361758643125), mean=110.1500452125797, variance=1613.2197032215406, skewness=1.173482212584358, kurtosis=2.5169654675002047)"
      ]
     },
     "execution_count": 20,
     "metadata": {},
     "output_type": "execute_result"
    }
   ],
   "source": [
    "import scipy.stats as scs\n",
    "\n",
    "scs.describe(ST1)"
   ]
  },
  {
   "cell_type": "code",
   "execution_count": 21,
   "metadata": {},
   "outputs": [
    {
     "name": "stdout",
     "output_type": "stream",
     "text": [
      "Statistic    Data set 1   Data set 2  \n",
      "------------------------------------\n",
      "size          10000.000    10000.000\n",
      "min              28.763       28.763\n",
      "max             413.736      413.736\n",
      "mean            110.150      110.150\n",
      "std              40.165       40.165\n",
      "skew              1.173        1.173\n",
      "kurtosis          2.517        2.517\n"
     ]
    }
   ],
   "source": [
    "def print_statistics(sim_1, sim_2):\n",
    "    stats_1 = scs.describe(sim_1)\n",
    "    stats_2 = scs.describe(sim_2)\n",
    "    print('{:12s} {:12s} {:12s}'.format('Statistic', 'Data set 1', 'Data set 2'))\n",
    "    print(36 * \"-\")\n",
    "    print('{:10s} {:12.3f} {:12.3f}'.format('size', stats_1[0], stats_2[0]))\n",
    "    print('{:10s} {:12.3f} {:12.3f}'.format('min', stats_1[1][0], stats_2[1][0]))\n",
    "    print('{:10s} {:12.3f} {:12.3f}'.format('max', stats_1[1][1], stats_2[1][1]))\n",
    "    print('{:10s} {:12.3f} {:12.3f}'.format('mean', stats_1[2], stats_2[2]))\n",
    "    print('{:10s} {:12.3f} {:12.3f}'.format('std', np.sqrt(stats_1[3]), np.sqrt(stats_2[3])))\n",
    "    print('{:10s} {:12.3f} {:12.3f}'.format('skew', stats_1[4], stats_2[4]))\n",
    "    print('{:10s} {:12.3f} {:12.3f}'.format('kurtosis', stats_1[5], stats_2[5]))\n",
    "\n",
    "print_statistics(ST1, ST2)"
   ]
  },
  {
   "cell_type": "markdown",
   "metadata": {},
   "source": [
    "Obviously, the statistics of both simulation results are quite similar (when rounded to three decimals, are exatly alike). The differences are mainly due to what is called the _sampling error_ in simulation.\n",
    "\n",
    "##### 7.3.2. Dynamic simulation\n",
    "\n",
    "The **geometric Brownian motion model of the future stock price** can be discretized, with $\\Delta t$ being the fixed discretization interval and $Z_t$ being a standard normally distributed random variable:\n",
    "\n",
    "$S_t = S_{t−\\Delta t}exp((\\mu−\\frac{\\sigma^2}{2})\\Delta t+\\sigma \\sqrt{\\Delta t}Z_t)$\n",
    "\n",
    "As before, translation into Python and **NumPy** code is straightforward. The resulting end values for the stock price are log-normally distributed again, as Dynamically simulated geometric Brownian motion at maturity illustrates. The first four moments are also quite close to those resulting from the static simulation approach:"
   ]
  },
  {
   "cell_type": "code",
   "execution_count": 22,
   "metadata": {},
   "outputs": [
    {
     "data": {
      "text/plain": [
       "array([[100.        , 100.        , 100.        , 100.        ],\n",
       "       [106.96476821, 103.71887714,  92.63343739, 100.03308622],\n",
       "       [ 95.95716673,  99.84720104,  92.27505856,  98.06836937],\n",
       "       [ 97.64183326,  97.37283604,  91.5490212 ,  97.52886175],\n",
       "       [ 94.53470022,  98.1230045 ,  99.88554365, 103.39875555],\n",
       "       [ 92.70378771,  95.7477019 ,  98.36328823, 103.38254315],\n",
       "       [ 96.58231908, 101.36131029,  98.80578919, 102.21742662],\n",
       "       [101.11160431,  94.9819936 , 100.33413324, 100.90795422],\n",
       "       [101.53999687,  93.70825419, 104.7561675 ,  98.18257857],\n",
       "       [ 96.37947098,  93.01314963,  97.19824353,  95.52433171],\n",
       "       [ 96.86570028,  93.73453113, 102.95196198,  94.27406256],\n",
       "       [100.28347545,  91.38860695, 101.15891721, 102.0117565 ],\n",
       "       [100.47434331, 100.62778876, 104.13407091,  98.44835188],\n",
       "       [100.39396401, 101.81647908,  99.94015446,  96.02468542],\n",
       "       [ 97.68266905, 100.96268156,  95.57794143, 101.15525765],\n",
       "       [ 96.5209916 ,  99.55378746,  88.49357485,  95.56822063],\n",
       "       [100.49004614,  99.92592635,  83.87553577,  97.10812795],\n",
       "       [106.80897747,  97.05429118,  82.74256944, 108.27482022],\n",
       "       [111.69065592,  95.83235532,  77.74979525, 105.81242795],\n",
       "       [ 99.98283551,  90.21182645,  73.52840297,  97.18354311]])"
      ]
     },
     "execution_count": 22,
     "metadata": {},
     "output_type": "execute_result"
    }
   ],
   "source": [
    "S0 = 100\n",
    "mu = 0.05\n",
    "sigma = 0.25\n",
    "T = 2.0\n",
    "size = 10000\n",
    "\n",
    "intervals = 50\n",
    "dt = T / intervals\n",
    "S = np.zeros((intervals + 1, size))\n",
    "S[0] = S0\n",
    "\n",
    "npr.seed(10)\n",
    "for t in range(1, intervals + 1):\n",
    "    S[t] = S[t - 1] * np.exp((mu - 0.5 * sigma ** 2) * dt + sigma * np.sqrt(dt) * npr.standard_normal(size))  \n",
    "\n",
    "S[:20,:4]"
   ]
  },
  {
   "cell_type": "code",
   "execution_count": 23,
   "metadata": {},
   "outputs": [
    {
     "data": {
      "text/plain": [
       "array([100.        , 106.96476821,  95.95716673,  97.64183326,\n",
       "        94.53470022,  92.70378771,  96.58231908, 101.11160431,\n",
       "       101.53999687,  96.37947098,  96.86570028, 100.28347545,\n",
       "       100.47434331, 100.39396401,  97.68266905,  96.5209916 ,\n",
       "       100.49004614, 106.80897747, 111.69065592,  99.98283551,\n",
       "       106.73345661, 105.58922066, 111.25742775, 106.9924115 ,\n",
       "       115.53242134, 124.05202276, 118.53689363, 115.03723865,\n",
       "       114.86842846, 121.54312687, 129.49207073, 132.67417315,\n",
       "       127.4870588 , 122.57288954, 131.16140811, 132.00389913,\n",
       "       129.61641814, 128.94805145, 136.34876685, 146.41221967,\n",
       "       147.80984445, 149.37782759, 156.30895508, 162.49468047,\n",
       "       186.76657756, 178.25900746, 161.46378898, 163.42891093,\n",
       "       156.57378878, 161.31135406, 161.80993687])"
      ]
     },
     "execution_count": 23,
     "metadata": {},
     "output_type": "execute_result"
    }
   ],
   "source": [
    "S[:, 0]"
   ]
  },
  {
   "cell_type": "code",
   "execution_count": 24,
   "metadata": {},
   "outputs": [
    {
     "data": {
      "text/plain": [
       "array([161.80993687, 128.05731149,  53.9786258 , ..., 167.69560163,\n",
       "        85.9137077 ,  75.42265967])"
      ]
     },
     "execution_count": 24,
     "metadata": {},
     "output_type": "execute_result"
    }
   ],
   "source": [
    "S[-1]"
   ]
  },
  {
   "cell_type": "code",
   "execution_count": 25,
   "metadata": {},
   "outputs": [
    {
     "data": {
      "text/plain": [
       "Text(0, 0.5, 'Frequency')"
      ]
     },
     "execution_count": 25,
     "metadata": {},
     "output_type": "execute_result"
    },
    {
     "data": {
      "image/png": "[encoded data removed]",
      "text/plain": [
       "<Figure size 720x432 with 1 Axes>"
      ]
     },
     "metadata": {
      "needs_background": "light"
     },
     "output_type": "display_data"
    }
   ],
   "source": [
    "plt.figure(figsize=(10, 6))\n",
    "plt.hist(S[-1], bins=50)\n",
    "plt.xlabel('Stock price')\n",
    "plt.ylabel('Frequency')"
   ]
  },
  {
   "cell_type": "markdown",
   "metadata": {},
   "source": [
    "Below is a comparison of the statistics resulting from the dynamic simulation as well as from the static one:"
   ]
  },
  {
   "cell_type": "code",
   "execution_count": 26,
   "metadata": {},
   "outputs": [
    {
     "name": "stdout",
     "output_type": "stream",
     "text": [
      "Statistic    Data set 1   Data set 2  \n",
      "------------------------------------\n",
      "size          10000.000    10000.000\n",
      "min              26.664       28.763\n",
      "max             430.959      413.736\n",
      "mean            110.632      110.150\n",
      "std              40.307       40.165\n",
      "skew              1.168        1.173\n",
      "kurtosis          2.771        2.517\n"
     ]
    }
   ],
   "source": [
    "print_statistics(S[-1], ST2)"
   ]
  },
  {
   "cell_type": "code",
   "execution_count": 27,
   "metadata": {},
   "outputs": [
    {
     "data": {
      "text/plain": [
       "Text(0, 0.5, 'Stock price')"
      ]
     },
     "execution_count": 27,
     "metadata": {},
     "output_type": "execute_result"
    },
    {
     "data": {
      "image/png": "[encoded data removed]",
      "text/plain": [
       "<Figure size 720x432 with 1 Axes>"
      ]
     },
     "metadata": {
      "needs_background": "light"
     },
     "output_type": "display_data"
    }
   ],
   "source": [
    "plt.figure(figsize=(10, 6))\n",
    "plt.plot(S[:, :10], lw=1.5)\n",
    "plt.xlabel('Time')\n",
    "plt.ylabel('Stock price')"
   ]
  },
  {
   "cell_type": "markdown",
   "metadata": {},
   "source": [
    "Using the dynamic simulation approach not only allows us to visualize paths, but also to value options with American exercise or options whose payoff is path-dependent. One gets the full dynamic picture over time.\n",
    "\n",
    "#### 7.4. Distribution adjustments\n",
    "\n",
    "Not only because of the fact that the Python functions used so far generate _pseudo-random_ numbers, but also due to the varying sizes of the samples drawn, resulting sets of numbers might not exhibit statistics close enough to the expected or desired ones. For example, one would expect a set of standard normally distributed random numbers to show a mean of 0 and a standard deviation of 1. Let us check what statistics different sets of random numbers exhibit. To achieve a realistic comparison, the seed value for the random number generator is fixed:"
   ]
  },
  {
   "cell_type": "code",
   "execution_count": 28,
   "metadata": {},
   "outputs": [
    {
     "name": "stdout",
     "output_type": "stream",
     "text": [
      " 0.00539982  0.99576331\n",
      " 0.00984089  1.00038158\n",
      " 0.00672665  0.99964965\n",
      " 0.00576721  0.99890943\n",
      " 0.00357873  0.99959158\n",
      " 0.00152626  1.00048116\n",
      " 0.00137039  0.99984375\n",
      " 0.00031112  0.99896849\n",
      " 0.00044685  0.99905609\n",
      " 0.00014174  0.99933036\n"
     ]
    }
   ],
   "source": [
    "for i in range(1, 11):\n",
    "    npr.seed(11)\n",
    "    sn = npr.standard_normal(i ** 2 * 10000)\n",
    "    print('{:11.8f} {:11.8f}'.format(sn.mean(), sn.std()))"
   ]
  },
  {
   "cell_type": "markdown",
   "metadata": {},
   "source": [
    "The results show that the statistics somehow get better the larger the number of draws becomes. But they still do not match the desired ones, even in our largest sample. Fortunately, there are easy-to-implement, generic variance reduction techniques available to improve the matching of the first two moments of the (standard) normal distribution. The first technique is to use _antithetic variates_. This approach simply draws only half the desired number of random draws, and adds the same set of random numbers with the opposite sign afterward. For example, if the random number generator draws 0.5, then another number with value –0.5 is added to the set. By construction, the mean value of such a data set must equal zero.\n",
    "\n",
    "With **NumPy** this is concisely implemented by using the **np.concatenate()** (https://numpy.org/doc/stable/reference/generated/numpy.concatenate.html) function. The following repeats the exercise from before, this time using antithetic variates:"
   ]
  },
  {
   "cell_type": "code",
   "execution_count": 29,
   "metadata": {},
   "outputs": [
    {
     "data": {
      "text/plain": [
       "array([ 0.47298583, -0.68142588,  0.2424395 , ..., -1.09606134,\n",
       "       -0.21218019,  1.88203038])"
      ]
     },
     "execution_count": 29,
     "metadata": {},
     "output_type": "execute_result"
    }
   ],
   "source": [
    "npr.seed(12)\n",
    "rs_1 = npr.standard_normal(int(10000 / 2))\n",
    "rs_1 = np.concatenate((rs_1, -rs_1))\n",
    "rs_1"
   ]
  },
  {
   "cell_type": "code",
   "execution_count": 30,
   "metadata": {},
   "outputs": [
    {
     "data": {
      "text/plain": [
       "(10000,)"
      ]
     },
     "execution_count": 30,
     "metadata": {},
     "output_type": "execute_result"
    }
   ],
   "source": [
    "np.shape(rs_1)"
   ]
  },
  {
   "cell_type": "code",
   "execution_count": 31,
   "metadata": {},
   "outputs": [
    {
     "data": {
      "text/plain": [
       "1.0658141036401502e-18"
      ]
     },
     "execution_count": 31,
     "metadata": {},
     "output_type": "execute_result"
    }
   ],
   "source": [
    "rs_1.mean()"
   ]
  },
  {
   "cell_type": "code",
   "execution_count": 32,
   "metadata": {},
   "outputs": [
    {
     "name": "stdout",
     "output_type": "stream",
     "text": [
      "-0.00000000  0.99574078\n",
      " 0.00000000  0.99880029\n",
      "-0.00000000  0.99667283\n",
      " 0.00000000  1.00094209\n",
      " 0.00000000  1.00287045\n",
      " 0.00000000  1.00213543\n",
      " 0.00000000  1.00128528\n",
      " 0.00000000  1.00144966\n",
      " 0.00000000  1.00040686\n",
      " 0.00000000  1.00016474\n"
     ]
    }
   ],
   "source": [
    "for i in range(1, 11):\n",
    "    npr.seed(13)\n",
    "    rs_2 = npr.standard_normal(i ** 2 * int(10000 / 2))\n",
    "    rs_2 = np.concatenate((rs_2, -rs_2))\n",
    "    print('{:11.8f} {:11.8f}'.format(rs_2.mean(), rs_2.std()))"
   ]
  },
  {
   "cell_type": "markdown",
   "metadata": {},
   "source": [
    "As immediately noticed, this approach corrects the first moment perfectly — which should not come as a surprise due to the very construction of the data set. However, this approach does not have any influence on the second moment, the standard deviation. Using another variance reduction technique, called _moment matching_ or *normalization*, helps correct in one step both the first and second moments:"
   ]
  },
  {
   "cell_type": "code",
   "execution_count": 33,
   "metadata": {},
   "outputs": [
    {
     "data": {
      "text/plain": [
       "array([1.55133911, 0.07918602, 0.17397653, ..., 0.60236022, 0.78097214,\n",
       "       0.83192452])"
      ]
     },
     "execution_count": 33,
     "metadata": {},
     "output_type": "execute_result"
    }
   ],
   "source": [
    "npr.seed(14)\n",
    "rs_3 = npr.standard_normal(10000)\n",
    "rs_3"
   ]
  },
  {
   "cell_type": "code",
   "execution_count": 34,
   "metadata": {},
   "outputs": [
    {
     "data": {
      "text/plain": [
       "-0.005060364724256151"
      ]
     },
     "execution_count": 34,
     "metadata": {},
     "output_type": "execute_result"
    }
   ],
   "source": [
    "rs_3.mean()"
   ]
  },
  {
   "cell_type": "code",
   "execution_count": 35,
   "metadata": {},
   "outputs": [
    {
     "data": {
      "text/plain": [
       "1.0149663863911171"
      ]
     },
     "execution_count": 35,
     "metadata": {},
     "output_type": "execute_result"
    }
   ],
   "source": [
    "rs_3.std()"
   ]
  },
  {
   "cell_type": "code",
   "execution_count": 36,
   "metadata": {},
   "outputs": [
    {
     "data": {
      "text/plain": [
       "array([1.53344928, 0.08300412, 0.17639687, ..., 0.59846375, 0.77444191,\n",
       "       0.82464296])"
      ]
     },
     "execution_count": 36,
     "metadata": {},
     "output_type": "execute_result"
    }
   ],
   "source": [
    "rs_new = (rs_3 - rs_3.mean()) / rs_3.std()\n",
    "rs_new"
   ]
  },
  {
   "cell_type": "code",
   "execution_count": 37,
   "metadata": {},
   "outputs": [
    {
     "data": {
      "text/plain": [
       "1.4210854715202004e-17"
      ]
     },
     "execution_count": 37,
     "metadata": {},
     "output_type": "execute_result"
    }
   ],
   "source": [
    "rs_new.mean()"
   ]
  },
  {
   "cell_type": "code",
   "execution_count": 38,
   "metadata": {},
   "outputs": [
    {
     "data": {
      "text/plain": [
       "1.0"
      ]
     },
     "execution_count": 38,
     "metadata": {},
     "output_type": "execute_result"
    }
   ],
   "source": [
    "rs_new.std()"
   ]
  },
  {
   "cell_type": "markdown",
   "metadata": {},
   "source": [
    "By subtracting the mean from every single random number and dividing every single number by the standard deviation, the set of random numbers matches the desired first and second moments of the standard normal distribution (almost) perfectly."
   ]
  },
  {
   "cell_type": "markdown",
   "metadata": {},
   "source": [
    "#### 7.5. Option valuation\n",
    "\n",
    "One of the most important applications of Monte Carlo simulation is the valuation of _contingent claims_ (options and other derivatives). A financial option embodies the right to buy (call option) or sell (put option) a specified financial instrument at a given maturity date (European option), or over a specified period of time (American option), at a given price (strike price). Let us first consider the simpler case of European options in terms of valuation.\n",
    "\n",
    "##### 7.5.1. European options\n",
    "\n",
    "The payoff of a European call option on a stock at maturity is given by:\n",
    "\n",
    "$h(S_T) = max(S_T–K,0)$\n",
    "\n",
    "where $S_T$ is the stock price at maturity date $T$ and $K$ is the strike price. Given a, or in complete markets the, risk-neutral measure, the price of such an option is given by the formula in Pricing by risk-neutral expectation:\n",
    "\n",
    "$C_0 = e^{−rT}\\textbf{E}^Q_0(h(S_T)) = e^{−rT}\\int_{0}^{\\infty}h(s)q(s)ds$\n",
    "\n",
    "Risk-neutral Monte Carlo estimator for the European option, where $S^i_T$ is the i-th simulated stock price at maturity:\n",
    "\n",
    "$C_0 = e^{−rT}\\sum_{i=1}^{I} \\frac{1}{I}h(S^i_T)$\n",
    "\n",
    "Consider **simulate()** function that generates random numbers for simulation and **euro_static()** function to evaluate european call options using Mont Carlo simulation. **euro_static()** takes only the strike price as a parameter. Also, only the stock price at maturity is simulated. As a reference, consider the case with a strike price of K=105:"
   ]
  },
  {
   "cell_type": "code",
   "execution_count": 39,
   "metadata": {},
   "outputs": [
    {
     "data": {
      "text/plain": [
       "10.02235752935713"
      ]
     },
     "execution_count": 39,
     "metadata": {},
     "output_type": "execute_result"
    }
   ],
   "source": [
    "def simulate(M, I):\n",
    "    #M: number of time intervals for discretization\n",
    "    #I: number of paths to be simulated\n",
    "    \n",
    "    npr.seed(15)\n",
    "    simulated = npr.standard_normal((M + 1, int(I / 2)))\n",
    "    simulated = np.concatenate((simulated, -simulated), axis=1)\n",
    "    simulated = (simulated - simulated.mean()) / simulated.std()\n",
    "    return simulated\n",
    "\n",
    "def euro_static(K):\n",
    "    #K: strike price of the option\n",
    "\n",
    "    sim = simulate(0, I)\n",
    "    ST = S0 * np.exp((r - 0.5 * sigma ** 2) * T + sigma * np.sqrt(T) * sim)\n",
    "    hT = np.maximum(ST - K, 0)\n",
    "    C0 = np.exp(-r * T) * np.mean(hT)\n",
    "    return C0\n",
    "\n",
    "S0 = 100\n",
    "r = 0.05\n",
    "sigma = 0.25\n",
    "T = 1.0\n",
    "I = 50000\n",
    "\n",
    "euro_static(K=105)"
   ]
  },
  {
   "cell_type": "markdown",
   "metadata": {},
   "source": [
    "Next, consider the dynamic simulation approach and allow for European put options in addition to the call options. The function **euro_dynamic()** implements the algorithm. The code also compares option price estimates for a call and a put at the same level of strike price:"
   ]
  },
  {
   "cell_type": "code",
   "execution_count": 40,
   "metadata": {},
   "outputs": [
    {
     "data": {
      "text/plain": [
       "8.003529691341285"
      ]
     },
     "execution_count": 40,
     "metadata": {},
     "output_type": "execute_result"
    }
   ],
   "source": [
    "def euro_dynamic(K, option='call'):\n",
    "    #K: strike price of the option\n",
    "    #option: 'call' or 'put'\n",
    "    \n",
    "    dt = T / M\n",
    "    S = np.zeros((M + 1, I))\n",
    "    S[0] = S0\n",
    "    sim = simulate(M, I)\n",
    "    for t in range(1, M + 1):\n",
    "        S[t] = S[t - 1] * np.exp((r - 0.5 * sigma ** 2) * dt + sigma * np.sqrt(dt) * sim[t])\n",
    "    if option == 'call':\n",
    "        hT = np.maximum(S[-1] - K, 0)\n",
    "    else:\n",
    "        hT = np.maximum(K - S[-1], 0)\n",
    "    C0 = np.exp(-r * T) * np.mean(hT)\n",
    "    return C0\n",
    "\n",
    "S0 = 100\n",
    "r = 0.05\n",
    "sigma = 0.25\n",
    "T = 1.0\n",
    "I = 50000\n",
    "M = 50\n",
    "\n",
    "euro_dynamic(K=110, option='call')"
   ]
  },
  {
   "cell_type": "code",
   "execution_count": 41,
   "metadata": {},
   "outputs": [
    {
     "data": {
      "text/plain": [
       "12.650294896118258"
      ]
     },
     "execution_count": 41,
     "metadata": {},
     "output_type": "execute_result"
    }
   ],
   "source": [
    "euro_dynamic(K=110, option='put')"
   ]
  },
  {
   "cell_type": "markdown",
   "metadata": {},
   "source": [
    "##### 7.5.2. American options\n",
    "\n",
    "The valuation of American options is more involved compared to European options. In this case, an _optimal stopping_ problem has to be solved to come up with a fair value of the option. The algorithm described in the following is called _Least-Squares Monte Carlo_ (LSM) and is from the paper by Longstaff and Schwartz (2001) (https://people.math.ethz.ch/~hjfurrer/teaching/LongstaffSchwartzAmericanOptionsLeastSquareMonteCarlo.pdf). It can be shown that the value of an American option at any date $t$ is given as: \n",
    "\n",
    "$V_t(s) = max(h_t(s),C_t(s))$\n",
    "\n",
    "where $C_t(s) = \\textbf{E}^Q_t(e^{−r\\Delta t}V_{t+\\Delta t}(S_{t+\\Delta t})|S_t=s)$ is the so-called continuation value of the option given an index level of $S_t = s$.\n",
    "\n",
    "Consider now that we have simulated $I$ paths of the stock price over $M$ time intervals of equal size $\\Delta t$. Define $Y_{t,i} = e^{−r\\Delta t}V_{t+\\Delta t,i}$ to be the simulated continuation value for path $i$ at time $t$. We cannot use this number directly because it would imply perfect foresight. However, we can use the cross section of all such simulated continuation values to estimate the (expected) continuation value by least-squares regression.\n",
    "\n",
    "Given a set of basis functions $b_d$, where $d = 1,…,D$, the continuation value is then given by the regression estimate $C_{t,i} = \\sum_{d=1}^{D} \\alpha_{d,t}^*\\cdot b_{d}(S_{t,i})$, where the optimal regression parameters $\\alpha^*$ are the solution of the least-squares problem (stated in Least-squares regression for American option valuation):\n",
    "\n",
    "$\\min\\limits_{α_{1,t},...,α_{D,t}}\\frac{1}{I}\\sum_{i=1}^{I}(Y_{t,i}−\\sum_{d=1}^{D} \\alpha_{d,t}\\cdot b_{d}(S_{t,i}))^2$\n",
    "\n",
    "The function **amer_dynamic()** implements the LSM algorithm for both American call and put options: "
   ]
  },
  {
   "cell_type": "code",
   "execution_count": 42,
   "metadata": {},
   "outputs": [
    {
     "data": {
      "text/plain": [
       "7.737256087655123"
      ]
     },
     "execution_count": 42,
     "metadata": {},
     "output_type": "execute_result"
    }
   ],
   "source": [
    "def amer_dynamic(K, option='call'):\n",
    "    #K: strike price of the option\n",
    "    #option: 'call' or 'put'\n",
    "    \n",
    "    dt = T / M\n",
    "    df = np.exp(-r * dt)\n",
    "    S = np.zeros((M + 1, I))\n",
    "    S[0] = S0\n",
    "    sim = simulate(M, I)\n",
    "    for t in range(1, M + 1):\n",
    "        S[t] = S[t - 1] * np.exp((r - 0.5 * sigma ** 2) * dt + sigma * np.sqrt(dt) * sim[t])\n",
    "    if option == 'call':\n",
    "        h = np.maximum(S - K, 0)\n",
    "    else:\n",
    "        h = np.maximum(K - S, 0)\n",
    "    #LSM algorithm\n",
    "    V = np.copy(h)\n",
    "    for t in range(M - 1 , 0, -1):\n",
    "        reg = np.polyfit(S[t], V[t + 1] * df, 7)\n",
    "        C = np.polyval(reg, S[t])\n",
    "        V[t] = np.where(C > h[t], V[t + 1] * df, h[t])\n",
    "    C0 = df * np.mean(V[1])\n",
    "    return C0\n",
    "\n",
    "S0 = 100\n",
    "r = 0.05\n",
    "sigma = 0.25\n",
    "T = 1.0\n",
    "I = 50000\n",
    "M = 50\n",
    "\n",
    "amer_dynamic(110, option='call')"
   ]
  },
  {
   "cell_type": "code",
   "execution_count": 43,
   "metadata": {},
   "outputs": [
    {
     "data": {
      "text/plain": [
       "13.651137992492556"
      ]
     },
     "execution_count": 43,
     "metadata": {},
     "output_type": "execute_result"
    }
   ],
   "source": [
    "amer_dynamic(110, option='put')"
   ]
  },
  {
   "cell_type": "markdown",
   "metadata": {},
   "source": [
    "The European value of an option represents a lower bound to the American option’s value. The difference is generally called the _early exercise premium_. What follows, compares European and American option values for the same range of strikes as before, to estimate the early exercise premium. This time with puts:"
   ]
  },
  {
   "cell_type": "code",
   "execution_count": 44,
   "metadata": {},
   "outputs": [
    {
     "data": {
      "text/plain": [
       "array([ 1.50829997,  2.45626764,  3.74470946,  5.40145307,  7.44436038,\n",
       "        9.86652625, 12.6502949 , 15.76492805, 19.17045545])"
      ]
     },
     "execution_count": 44,
     "metadata": {},
     "output_type": "execute_result"
    }
   ],
   "source": [
    "euro_result = []\n",
    "amer_result = []\n",
    "k_list = np.arange(80, 121, 5)\n",
    "\n",
    "for K in k_list:\n",
    "    euro_result.append(euro_dynamic(K, 'put'))\n",
    "    amer_result.append(amer_dynamic(K, 'put'))\n",
    "\n",
    "euro_result = np.array(euro_result)\n",
    "amer_result = np.array(amer_result)\n",
    "\n",
    "euro_result"
   ]
  },
  {
   "cell_type": "code",
   "execution_count": 45,
   "metadata": {},
   "outputs": [
    {
     "data": {
      "text/plain": [
       "array([ 1.52035018,  2.5133943 ,  3.88350475,  5.68660156,  7.88121871,\n",
       "       10.54865374, 13.65113799, 17.19640288, 21.06022314])"
      ]
     },
     "execution_count": 45,
     "metadata": {},
     "output_type": "execute_result"
    }
   ],
   "source": [
    "amer_result"
   ]
  },
  {
   "cell_type": "markdown",
   "metadata": {},
   "source": [
    "The following shows that for the range of strikes chosen, the early exercise premium can rise to up to 8% for put options in this case:"
   ]
  },
  {
   "cell_type": "code",
   "execution_count": 46,
   "metadata": {},
   "outputs": [
    {
     "data": {
      "text/plain": [
       "(75.0, 125.0)"
      ]
     },
     "execution_count": 46,
     "metadata": {},
     "output_type": "execute_result"
    },
    {
     "data": {
      "image/png": "[encoded data removed]",
      "text/plain": [
       "<Figure size 720x432 with 2 Axes>"
      ]
     },
     "metadata": {
      "needs_background": "light"
     },
     "output_type": "display_data"
    }
   ],
   "source": [
    "fig, (ax1, ax2) = plt.subplots(2, 1,\n",
    "                               sharex=True,\n",
    "                               figsize=(10, 6))\n",
    "ax1.plot(k_list, euro_result,\n",
    "         'b',\n",
    "         label='European put')\n",
    "ax1.plot(k_list, amer_result,\n",
    "         'ro',\n",
    "         label='American put')\n",
    "ax1.set_ylabel('Put option value')\n",
    "ax1.legend(loc=0)\n",
    "wi = 1.0\n",
    "ax2.bar(k_list - wi / 2, (amer_result - euro_result) / euro_result * 100, wi)\n",
    "ax2.set_xlabel('Strike')\n",
    "ax2.set_ylabel('Early exercise premium in %')\n",
    "ax2.set_xlim(left=75, right=125)"
   ]
  },
  {
   "cell_type": "markdown",
   "metadata": {},
   "source": [
    "And for American call option:"
   ]
  },
  {
   "cell_type": "code",
   "execution_count": 47,
   "metadata": {
    "scrolled": false
   },
   "outputs": [
    {
     "data": {
      "text/plain": [
       "(75.0, 125.0)"
      ]
     },
     "execution_count": 47,
     "metadata": {},
     "output_type": "execute_result"
    },
    {
     "data": {
      "image/png": "[encoded data removed]",
      "text/plain": [
       "<Figure size 720x432 with 2 Axes>"
      ]
     },
     "metadata": {
      "needs_background": "light"
     },
     "output_type": "display_data"
    }
   ],
   "source": [
    "euro_result = []\n",
    "amer_result = []\n",
    "k_list = np.arange(80, 121, 5)\n",
    "\n",
    "for K in k_list:\n",
    "    euro_result.append(euro_dynamic(K, 'call'))\n",
    "    amer_result.append(amer_dynamic(K, 'call'))\n",
    "\n",
    "euro_result = np.array(euro_result)\n",
    "amer_result = np.array(amer_result)\n",
    "\n",
    "fig, (ax1, ax2) = plt.subplots(2, 1,\n",
    "                               sharex=True,\n",
    "                               figsize=(10, 6))\n",
    "ax1.plot(k_list, euro_result,\n",
    "         'b',\n",
    "         label='European call')\n",
    "ax1.plot(k_list, amer_result,\n",
    "         'ro',\n",
    "         label='American call')\n",
    "ax1.set_ylabel('Call option value')\n",
    "ax1.legend(loc=0)\n",
    "wi = 1.0\n",
    "ax2.bar(k_list - wi / 2, (amer_result - euro_result) / euro_result * 100, wi)\n",
    "ax2.set_xlabel('Strike')\n",
    "ax2.set_ylabel('Early exercise premium in %')\n",
    "ax2.set_xlim(left=75, right=125)"
   ]
  },
  {
   "cell_type": "markdown",
   "metadata": {},
   "source": [
    "The above result of negative early exercise premium for American call option (on a non-dividend paying stock) makes sense, because we know that it is never optimal to exercise an American call option (on a non-dividend paying stock) early."
   ]
  },
  {
   "cell_type": "markdown",
   "metadata": {},
   "source": [
    "**_Exercises._**"
   ]
  },
  {
   "cell_type": "markdown",
   "metadata": {},
   "source": [
    "**Bootstrapping** is any test or metric that uses random sampling with replacement, and falls under the broader class of resampling methods. This technique allows estimation of the sampling distribution of almost any statistic using random sampling methods.\n",
    "\n",
    "As an example, assume we are interested in the average (or mean) height of people worldwide. We cannot measure all the people in the global population, so instead we sample only a tiny part of it, and measure that. Assume the sample is of size N; that is, we measure the heights of N individuals. From that single sample, only one estimate of the mean can be obtained. In order to reason about the population, we need some sense of the variability of the mean that we have computed. The simplest bootstrap method involves taking the original data set of heights, and, using a computer, sampling from it to form a new sample (called a 'resample' or bootstrap sample) that is also of size N. The bootstrap sample is taken from the original by using sampling with replacement (e.g. we might 'resample' 5 times from [1,2,3,4,5] and get [2,5,4,4,1]), so, assuming N is sufficiently large, for all practical purposes there is virtually zero probability that it will be identical to the original 'real' sample. This process is repeated a large number of times (typically 1,000 or 10,000 times), and for each of these bootstrap samples we compute its mean (each of these are called bootstrap estimates). We now can create a histogram of bootstrap means. This histogram provides an estimate of the shape of the distribution of the sample mean from which we can answer questions about how much the mean varies across samples."
   ]
  },
  {
   "cell_type": "markdown",
   "metadata": {},
   "source": [
    "Exercise 1. Plot a histogram of bootstrap means of the following data (test scores)."
   ]
  },
  {
   "cell_type": "code",
   "execution_count": 48,
   "metadata": {},
   "outputs": [
    {
     "data": {
      "text/plain": [
       "Text(0, 0.5, 'Frequency')"
      ]
     },
     "execution_count": 48,
     "metadata": {},
     "output_type": "execute_result"
    },
    {
     "data": {
      "image/png": "[encoded data removed]",
      "text/plain": [
       "<Figure size 720x432 with 1 Axes>"
      ]
     },
     "metadata": {
      "needs_background": "light"
     },
     "output_type": "display_data"
    }
   ],
   "source": [
    "import numpy.random as npr\n",
    "import matplotlib.pyplot as plt\n",
    "\n",
    "npr.seed(5)\n",
    "scores = npr.rand(20).round(2) * 100\n",
    "\n",
    "means = []\n",
    "for i in range(10000):\n",
    "    npr.seed(i)\n",
    "    mean = npr.choice(scores, len(scores), replace=True).mean()\n",
    "    means.append(mean)\n",
    "    \n",
    "plt.figure(figsize=(10, 6))\n",
    "plt.hist(means, bins=50)\n",
    "plt.xlabel('Bootstrapped means')\n",
    "plt.ylabel('Frequency')"
   ]
  },
  {
   "cell_type": "markdown",
   "metadata": {},
   "source": [
    "Exercise 2. Create a function that would calculate the value of an option (both European and American) using binomial model."
   ]
  },
  {
   "cell_type": "code",
   "execution_count": 49,
   "metadata": {},
   "outputs": [
    {
     "data": {
      "text/plain": [
       "22.667358955929913"
      ]
     },
     "execution_count": 49,
     "metadata": {},
     "output_type": "execute_result"
    }
   ],
   "source": [
    "import numpy as np\n",
    "\n",
    "def binomial(K, option_1='call', option_2='euro'): \n",
    "    dt = T / M\n",
    "    u = np.exp(sigma * np.sqrt(dt))\n",
    "    d = 1 / u\n",
    "    bt = [[0 for j in range(i + 1)] for i in range(M + 1)]\n",
    "    R = np.exp(r * dt)\n",
    "    q = (R - d) / (u - d)\n",
    "    \n",
    "    for i in range(M, -1, -1):\n",
    "        for j in range(i + 1):\n",
    "            if option_1 =='call':\n",
    "                bt[i][j] = max(S0 * u**j * d**(i - j) - K, 0)\n",
    "            else:\n",
    "                bt[i][j] = max(-S0 * u**j * d**(i - j) + K, 0)\n",
    "\n",
    "    for i in range(M-1, -1, -1):\n",
    "        for j in range(i + 1):\n",
    "            if option_2 =='euro':\n",
    "                bt[i][j] = np.exp(-r * dt) * (q * bt[i + 1][j + 1] + (1 - q) * bt[i + 1][j])\n",
    "            else:\n",
    "                bt[i][j] = max(np.exp(-r * dt) * (q * bt[i + 1][j + 1] + (1 - q) * bt[i + 1][j]), bt[i][j])\n",
    "                \n",
    "    return bt[0][0]\n",
    "\n",
    "S0 = 100\n",
    "r = 0.05\n",
    "sigma = 0.5\n",
    "T = 1.0\n",
    "M = 50\n",
    "\n",
    "binomial(110, 'put', 'euro')"
   ]
  },
  {
   "cell_type": "markdown",
   "metadata": {},
   "source": [
    "Exercise 3. Using the above **binomial()** function, generate 'Early exercise premium' charts for both call and put options."
   ]
  },
  {
   "cell_type": "code",
   "execution_count": 50,
   "metadata": {},
   "outputs": [
    {
     "data": {
      "text/plain": [
       "(75.0, 125.0)"
      ]
     },
     "execution_count": 50,
     "metadata": {},
     "output_type": "execute_result"
    },
    {
     "data": {
      "image/png": "[encoded data removed]",
      "text/plain": [
       "<Figure size 720x432 with 2 Axes>"
      ]
     },
     "metadata": {
      "needs_background": "light"
     },
     "output_type": "display_data"
    }
   ],
   "source": [
    "import matplotlib.pyplot as plt\n",
    "\n",
    "euro_result = []\n",
    "amer_result = []\n",
    "k_list = np.arange(80, 121, 5)\n",
    "\n",
    "S0 = 100\n",
    "r = 0.05\n",
    "sigma = 0.5\n",
    "T = 1.0\n",
    "M = 50\n",
    "\n",
    "for K in k_list:\n",
    "    euro_result.append(binomial(K, 'call', 'euro'))\n",
    "    amer_result.append(binomial(K, 'call', 'amer'))\n",
    "\n",
    "euro_result = np.array(euro_result)\n",
    "amer_result = np.array(amer_result)\n",
    "\n",
    "fig, (ax1, ax2) = plt.subplots(2, 1,\n",
    "                               sharex=True,\n",
    "                               figsize=(10, 6))\n",
    "ax1.plot(k_list, euro_result,\n",
    "         'b',\n",
    "         label='European call')\n",
    "ax1.plot(k_list, amer_result,\n",
    "         'ro',\n",
    "         label='American call')\n",
    "ax1.set_ylabel('Call option value')\n",
    "ax1.legend(loc=0)\n",
    "wi = 1.0\n",
    "ax2.bar(k_list - wi / 2, (amer_result - euro_result) / euro_result * 100, wi)\n",
    "ax2.set_xlabel('Strike')\n",
    "ax2.set_ylabel('Early exercise premium in %')\n",
    "ax2.set_xlim(left=75, right=125)"
   ]
  },
  {
   "cell_type": "code",
   "execution_count": 51,
   "metadata": {},
   "outputs": [
    {
     "data": {
      "text/plain": [
       "(75.0, 125.0)"
      ]
     },
     "execution_count": 51,
     "metadata": {},
     "output_type": "execute_result"
    },
    {
     "data": {
      "image/png": "[encoded data removed]",
      "text/plain": [
       "<Figure size 720x432 with 2 Axes>"
      ]
     },
     "metadata": {
      "needs_background": "light"
     },
     "output_type": "display_data"
    }
   ],
   "source": [
    "import matplotlib.pyplot as plt\n",
    "\n",
    "euro_result = []\n",
    "amer_result = []\n",
    "k_list = np.arange(80, 121, 5)\n",
    "\n",
    "S0 = 100\n",
    "r = 0.05\n",
    "sigma = 0.5\n",
    "T = 1.0\n",
    "M = 50\n",
    "\n",
    "for K in k_list:\n",
    "    euro_result.append(binomial(K, 'put', 'euro'))\n",
    "    amer_result.append(binomial(K, 'put', 'amer'))\n",
    "\n",
    "euro_result = np.array(euro_result)\n",
    "amer_result = np.array(amer_result)\n",
    "\n",
    "fig, (ax1, ax2) = plt.subplots(2, 1,\n",
    "                               sharex=True,\n",
    "                               figsize=(10, 6))\n",
    "ax1.plot(k_list, euro_result,\n",
    "         'b',\n",
    "         label='European put')\n",
    "ax1.plot(k_list, amer_result,\n",
    "         'ro',\n",
    "         label='American put')\n",
    "ax1.set_ylabel('Call option value')\n",
    "ax1.legend(loc=0)\n",
    "wi = 1.0\n",
    "ax2.bar(k_list - wi / 2, (amer_result - euro_result) / euro_result * 100, wi)\n",
    "ax2.set_xlabel('Strike')\n",
    "ax2.set_ylabel('Early exercise premium in %')\n",
    "ax2.set_xlim(left=75, right=125)"
   ]
  }
 ],
 "metadata": {
  "kernelspec": {
   "display_name": "Python 3",
   "language": "python",
   "name": "python3"
  },
  "language_info": {
   "codemirror_mode": {
    "name": "ipython",
    "version": 3
   },
   "file_extension": ".py",
   "mimetype": "text/x-python",
   "name": "python",
   "nbconvert_exporter": "python",
   "pygments_lexer": "ipython3",
   "version": "3.8.8"
  }
 },
 "nbformat": 4,
 "nbformat_minor": 4
}
