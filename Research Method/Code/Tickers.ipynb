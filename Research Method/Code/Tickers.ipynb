{
 "cells": [
  {
   "cell_type": "code",
   "execution_count": 4,
   "metadata": {
    "scrolled": false
   },
   "outputs": [
    {
     "name": "stdout",
     "output_type": "stream",
     "text": [
      "Yassine ALLALI\n",
      "['MCHP', 'HBAN', 'DTE', 'GS', 'YUM', 'OMC', 'TRV', 'CSX', 'MHFI', 'NSC', 'BSX', 'QEP', 'AMAT', 'PAYX', 'TWC', 'APH', 'COST', 'IRM', 'EMR', 'GD']\n",
      "\n",
      "Pauline AURIOL\n",
      "['FRX', 'CVH', 'FCX', 'COST', 'HSY', 'OMC', 'SHW', 'MON', 'RAI', 'PBI', 'WMB', 'SNDK', 'ANF', 'IR', 'HIG', 'DTE', 'CHRW', 'PFG', 'LM', 'LUK']\n",
      "\n",
      "Xian DONG\n",
      "['AEE', 'SAI', 'DFS', 'XRX', 'EFX', 'URBN', 'XOM', 'HES', 'INTC', 'KO', 'MPC', 'SRE', 'PXD', 'PWR', 'F', 'MDT', 'TGT', 'SPLS', 'MUR', 'ETN']\n",
      "\n",
      "Abderrahman BELHADJ\n",
      "['ICE', 'GPC', 'FLIR', 'BAX', 'MUR', 'BEN', 'SAI', 'HBAN', 'CVS', 'MNST', 'WAT', 'DHI', 'PPL', 'APOL', 'BMS', 'F', 'PX', 'FDO', 'AA', 'WHR']\n",
      "\n",
      "Andrew FAILE\n",
      "['PGR', 'PBI', 'HRB', 'BMY', 'WFM', 'SYK', 'UNM', 'CLF', 'R', 'ACT', 'IVZ', 'FRX', 'PRU', 'DIS', 'SJM', 'DOV', 'APOL', 'HUM', 'DG', 'PXD']\n",
      "\n",
      "Simran SINGH\n",
      "['ADBE', 'TWC', 'CTXS', 'SAI', 'CERN', 'HCP', 'KLAC', 'HPQ', 'ROST', 'LNC', 'PFG', 'CINF', 'WHR', 'WAT', 'WU', 'SEE', 'LSI', 'DO', 'BEAM', 'PXD']\n",
      "\n",
      "Ernest TIMKIN\n",
      "['FTR', 'FAST', 'NE', 'NEM', 'GOOG', 'ADP', 'FISV', 'TMO', 'BIIB', 'SRE', 'GPS', 'URBN', 'DO', 'CAT', 'PNR', 'KSS', 'MAT', 'LOW', 'WFM', 'NOC']\n",
      "\n",
      "Seif SHEHATA\n",
      "['ITW', 'IPG', 'SAI', 'ADBE', 'FE', 'NEM', 'GS', 'K', 'HIG', 'LUK', 'PFE', 'TSN', 'AA', 'AVY', 'STI', 'AIV', 'AIZ', 'XEL', 'NDAQ', 'BAX']\n",
      "\n",
      "Thomas SADURNI\n",
      "['ROP', 'WFC', 'PETM', 'M', 'SJM', 'WFM', 'DD', 'CINF', 'DVA', 'MMC', 'MON', 'CMG', 'TXT', 'PRGO', 'TXN', 'MAS', 'GWW', 'CCI', 'IP', 'YHOO']\n",
      "\n",
      "Victor LE PENDU\n",
      "['PH', 'D', 'USB', 'BK', 'MUR', 'NVDA', 'COF', 'ATI', 'AN', 'V', 'K', 'BBY', 'WM', 'MOLX', 'PSA', 'BMY', 'SCG', 'FITB', 'INTU', 'DFS']\n",
      "\n",
      "Paulien TORREKENS\n",
      "['DELL', 'MCK', 'PCLN', 'PBI', 'GCI', 'PXD', 'JCI', 'MCHP', 'FLIR', 'CLF', 'TRV', 'KMX', 'PGR', 'EMR', 'MOLX', 'CNX', 'CTSH', 'BHI', 'CAT', 'AXP']\n",
      "\n",
      "Karthic SENGOUT\n",
      "['FOSL', 'PCL', 'JWN', 'NTAP', 'UNH', 'MO', 'STT', 'HSY', 'BMS', 'KRFT', 'DTV', 'CLX', 'ZION', 'JNJ', 'FCX', 'XRAY', 'DELL', 'IP', 'GIS', 'HCP']\n",
      "\n",
      "Pham THI THUY\n",
      "['AAPL', 'LRCX', 'IBM', 'DNB', 'PGR', 'WLP', 'ICE', 'LTD', 'ROP', 'CVH', 'ATI', 'EOG', 'NOV', 'LMT', 'THC', 'URBN', 'PEG', 'PCL', 'CELG', 'FOSL']\n",
      "\n",
      "Ryad SASSI\n",
      "['DISCA', 'JNJ', 'DUK', 'MON', 'SCG', 'XRAY', 'MRK', 'LUV', 'LH', 'TAP', 'NE', 'SYMC', 'FTR', 'LEG', 'OI', 'EA', 'FITB', 'RHI', 'YUM', 'OKE']\n",
      "\n",
      "Marion TERRASSON\n",
      "['GRMN', 'JEC', 'CBG', 'D', 'FLIR', 'DOV', 'LUK', 'NEM', 'UNP', 'CME', 'TE', 'MMM', 'ALTR', 'TER', 'DFS', 'XYL', 'STJ', 'DUK', 'ESRX', 'GNW']\n",
      "\n",
      "Arthur LEVOIR\n",
      "['WM', 'HRS', 'FRX', 'AXP', 'WEC', 'XLNX', 'NFX', 'LOW', 'TER', 'WAG', 'DG', 'ADBE', 'RAI', 'TGT', 'ADSK', 'CBS', 'PRGO', 'QEP', 'TDC', 'MWV']\n",
      "\n",
      "Dylan LEDANOIS\n",
      "['MSI', 'CLF', 'CHRW', 'F', 'T', 'NOC', 'NTRS', 'COL', 'ABC', 'NSC', 'WFM', 'NI', 'LM', 'SRE', 'LIFE', 'HIG', 'PAYX', 'PCLN', 'VFC', 'ZMH']\n",
      "\n",
      "Nicolas PERTEL\n",
      "['KMB', 'PLL', 'PG', 'HCN', 'AXP', 'VNO', 'HP', 'HAL', 'ALTR', 'LLY', 'PSA', 'LRCX', 'MCD', 'CHRW', 'ETFC', 'VAR', 'LIFE', 'FDO', 'TJX', 'VMC']\n",
      "\n",
      "Sylvia ZHANG\n",
      "['EMN', 'KSS', 'YUM', 'R', 'NEM', 'BXP', 'CCE', 'DF', 'TSS', 'CVS', 'BRCM', 'RSG', 'WMB', 'AEE', 'FLIR', 'BTU', 'NVDA', 'LNC', 'MON', 'JWN']\n",
      "\n",
      "Grégory FAVARD\n",
      "['DHI', 'CAH', 'STT', 'IGT', 'NE', 'TWC', 'NRG', 'AAPL', 'TE', 'HBAN', 'ETR', 'XL', 'KO', 'PFE', 'BAX', 'COV', 'NVDA', 'RRC', 'WIN', 'RHT']\n",
      "\n",
      "Nicolas FRAYSSE\n",
      "['LLL', 'FTR', 'BBT', 'VZ', 'MCO', 'DVA', 'NEM', 'AIZ', 'SNDK', 'DELL', 'GOOG', 'MU', 'CI', 'AKAM', 'AON', 'CTAS', 'SO', 'EMR', 'AN', 'COG']\n",
      "\n",
      "Benjamin LALLOUZ\n",
      "['FRX', 'SLM', 'V', 'LYB', 'DVN', 'BHI', 'FTR', 'DHR', 'APA', 'SIAL', 'CVS', 'WIN', 'NEM', 'MAS', 'LMT', 'CMG', 'CNX', 'DLTR', 'OI', 'KMI']\n",
      "\n",
      "Amine MASSANOU\n",
      "['CMG', 'OXY', 'GS', 'CTSH', 'DHI', 'NOC', 'FLS', 'GRMN', 'V', 'AEP', 'LMT', 'TJX', 'MYL', 'ROST', 'KMX', 'ETR', 'LLL', 'BLL', 'VLO', 'AGN']\n",
      "\n",
      "Andrew SALIB\n",
      "['CF', 'TRIP', 'SJM', 'PH', 'SBUX', 'NFLX', 'NTRS', 'KMB', 'ETFC', 'PSA', 'KRFT', 'SLM', 'WYNN', 'BXP', 'EFX', 'DFS', 'JEC', 'DLTR', 'BIIB', 'CTXS']\n",
      "\n",
      "Marie-Efe BOIZET\n",
      "['PPL', 'MMC', 'CFN', 'JOY', 'HAL', 'LSI', 'CSC', 'IPG', 'ALXN', 'FISV', 'DELL', 'PXD', 'IGT', 'DGX', 'ADI', 'HD', 'DHI', 'DTV', 'INTU', 'CAT']\n",
      "\n",
      "Fabian DOWY\n",
      "['SO', 'HD', 'RHI', 'AMZN', 'FLIR', 'LIFE', 'DRI', 'BF', 'VZ', 'HST', 'COP', 'GLW', 'NOV', 'WDC', 'FE', 'PPG', 'ZMH', 'GS', 'BTU', 'RTN']\n",
      "\n"
     ]
    }
   ],
   "source": [
    "#Your tickers"
   ]
  }
 ],
 "metadata": {
  "kernelspec": {
   "display_name": "Python 3",
   "language": "python",
   "name": "python3"
  },
  "language_info": {
   "codemirror_mode": {
    "name": "ipython",
    "version": 3
   },
   "file_extension": ".py",
   "mimetype": "text/x-python",
   "name": "python",
   "nbconvert_exporter": "python",
   "pygments_lexer": "ipython3",
   "version": "3.8.8"
  }
 },
 "nbformat": 4,
 "nbformat_minor": 2
}
