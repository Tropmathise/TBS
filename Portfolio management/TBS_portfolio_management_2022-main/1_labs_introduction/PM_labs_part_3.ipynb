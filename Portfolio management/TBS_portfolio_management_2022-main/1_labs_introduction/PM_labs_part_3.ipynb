{
  "nbformat": 4,
  "nbformat_minor": 0,
  "metadata": {
    "colab": {
      "name": "PM_labs_part_3.ipynb",
      "provenance": [],
      "collapsed_sections": [
        "9ArHp0mt2i8R",
        "rRPuFHF1Qftl"
      ],
      "toc_visible": true,
      "authorship_tag": "ABX9TyPy892cqi6OCbagBhdHeLkx",
      "include_colab_link": true
    },
    "kernelspec": {
      "name": "python3",
      "display_name": "Python 3"
    }
  },
  "cells": [
    {
      "cell_type": "markdown",
      "metadata": {
        "id": "view-in-github",
        "colab_type": "text"
      },
      "source": [
        "<a href=\"https://colab.research.google.com/github/mscouse/TBS_investment_management/blob/main/PM_labs_part_3.ipynb\" target=\"_parent\"><img src=\"https://colab.research.google.com/assets/colab-badge.svg\" alt=\"Open In Colab\"/></a>"
      ]
    },
    {
      "cell_type": "markdown",
      "metadata": {
        "id": "xx1Urdo9Oi1F"
      },
      "source": [
        "[![Open In Colab](https://colab.research.google.com/assets/colab-badge.svg)](https://colab.research.google.com/drive/1p1Uu3gneOWUBm0do9s_VBygcwImmqSP7?usp=sharing)\n",
        "# <strong> Investment Management 1</strong>\n",
        "---\n",
        "#<strong> Part 3: Data visualisation libraries.</strong>\n",
        "\n",
        "In the course repository on GitHub, you will find several introductory Colab notebooks covering the following topics:\n",
        "\n",
        "**Part 1: Introduction to Python and Google Colab notebooks.**\n",
        "\n",
        "**Part 2: Getting started with Colab notebooks & basic features.**\n",
        "\n",
        "**Part 3: Data visualisation libraries (CURRENT NOTEBOOK).**\n",
        "\n",
        "**Part 4: Data sources & data collection in Python.**\n",
        "\n",
        "**Part 5: Basic financial calculations in python.**\n",
        "\n",
        "\n",
        "The notebooks have been designed to help you get started with Python and Google Colab. See the **“1_labs_introduction”** folder for more information. Each notebook contains all necessary libraries and references to the required subsets of data."
      ]
    },
    {
      "cell_type": "markdown",
      "metadata": {
        "id": "xOM1yL3GdeBR"
      },
      "source": [
        "# <strong>Data visualisation libraries</strong>\n",
        "\n",
        "When going through the <a href=\"https://pypi.org/\">Python Package Index </a>, you will come across tens of data visualisation libraries for almost any discipline — from `pastalog` for realtime visualisations neural network training to `GazeParser` for eye movement research. Inevitably, Some of these libraries are more focused than others.\n",
        "\n",
        "This section provides an overview of the most widely used Python data visualisation library, <a href=\"https://matplotlib.org/\">`Matplotlib`</a>. Other popular interdisciplinary Python  visualisation libraries are <a href=\"https://seaborn.pydata.org/\">`Seaborn`</a> and <a href=\"https://plotly.com/python/\">`Plotly`</a>."
      ]
    },
    {
      "cell_type": "markdown",
      "metadata": {
        "id": "9ArHp0mt2i8R"
      },
      "source": [
        "## 1. Matplotlib setup\n",
        "\n",
        "Matplotlib is one of the most popular, and certainly the most widely used, multi-platform data visualisation library built on NumPy arrays in Python. It is used to generate simple yet powerful visualisations with just a few lines of code. It can be used in both interactive and non-interactive scripts. For inspiration, see <a href=\"https://matplotlib.org/gallery.html#statistics\">examples</a> of Matplotlib visualisations. For more information on advanced plotting features, see <a href=\"https://python4astronomers.github.io/plotting/advanced.htm\">this</a> guide. \n",
        "\n",
        "As Matplotlib was the first widely available Python data visualisation library, many other libraries are built on top of it or designed to work with it. For instance, the plotting functions of `pandas` and `Seaborn` are essentially wrappers around the `Matplotlib` library."
      ]
    },
    {
      "cell_type": "markdown",
      "metadata": {
        "id": "8LrPqYOD_bTD"
      },
      "source": [
        "**Step 0 (optional): plot embedding**\n",
        "\n",
        "In the notebook, you have the option of embedding visualisations directly in the notebook by running the following command (it needs to be done only once per kernel/session):\n",
        "```\n",
        "%matplotlib inline\n",
        "```\n",
        "\n",
        "After running this command, any cell within the notebook that creates a plot will embed a PNG image of the resulting visualisations.\n",
        "\n",
        "To enable the Colab extension that renders `pandas` dataframes into interactive tables, run:\n",
        "```\n",
        "%load_ext google.colab.data_table\n",
        "```\n",
        "\n",
        "This also needs to be done only once per kernel/session."
      ]
    },
    {
      "cell_type": "code",
      "metadata": {
        "id": "1zycEOf0BOz0"
      },
      "source": [
        "%matplotlib inline\n",
        "%load_ext google.colab.data_table"
      ],
      "execution_count": null,
      "outputs": []
    },
    {
      "cell_type": "markdown",
      "metadata": {
        "id": "zzJGH8-b5Sb-"
      },
      "source": [
        "**Step 1: importing libraries**\n",
        "\n",
        "To get the visualisation code working, we need to import the required libraries into the environment."
      ]
    },
    {
      "cell_type": "code",
      "metadata": {
        "id": "2EjIivFH5SB-"
      },
      "source": [
        "# importing required librarires and modifying their names \n",
        "import matplotlib as mpl\n",
        "import matplotlib.pyplot as plt\n",
        "import numpy as np\n",
        "import pandas as pd"
      ],
      "execution_count": null,
      "outputs": []
    },
    {
      "cell_type": "markdown",
      "metadata": {
        "id": "6NfGuHxu8pJt"
      },
      "source": [
        "**Step 2 (optional): setting style**\n",
        "\n",
        "The `style` package adds support for easy-to-switch plotting \"styles\" so that you can customise the look of your figures. There are a number of <a href=\"https://github.com/matplotlib/matplotlib/tree/master/lib/matplotlib/mpl-data/stylelib\">pre-defined styles</a> provided by Matplotlib. In this example, we set the `classic` style. This ensures the plots we create use the classic Matplotlib style."
      ]
    },
    {
      "cell_type": "code",
      "metadata": {
        "id": "M1gW75HV90aN"
      },
      "source": [
        "# Setting style\n",
        "plt.style.use('classic')\n",
        "\n",
        "# To list all available styles, use:\n",
        "print(plt.style.available)"
      ],
      "execution_count": null,
      "outputs": []
    },
    {
      "cell_type": "markdown",
      "metadata": {
        "id": "148aLLSrBgKP"
      },
      "source": [
        "**Step 3: selecting the inputs**\n",
        "\n",
        "Matplotlib plotting functions expect a `numpy` array as input. Classes that are ‘array-like’ such as `pandas` data objects and `np.matrix` may or may not work with Matplotlib functions as intended. It is best to convert these to `np.array` objects prior to plotting. Another widely use plotting library, `Seaborn`, expect data to be provided as `pandas` dataframes."
      ]
    },
    {
      "cell_type": "code",
      "metadata": {
        "id": "fVY3LRH2ETQg"
      },
      "source": [
        "# Here we use the \"linspace(START, STOP, NUM)\" method to generate an array (x)\n",
        "# of NUM evenly spaced numbers over a specified (START to STOP) interval.\n",
        "\n",
        "x = np.linspace(0, 2, 100)\n",
        "y = np.linspace(1, 2, 100)\n",
        "x, y"
      ],
      "execution_count": null,
      "outputs": []
    },
    {
      "cell_type": "markdown",
      "metadata": {
        "id": "ISPmsU0XFqPx"
      },
      "source": [
        "**Step 4: plotting the data and saving the figure**\n",
        "\n",
        "The `pyplot` module from matplotlib we imported earlier is the stateful interface of matplotlib. Almost all functions in that module, such as `plt.plot()`, would either apply to an existing current figure (and its axes), or create them anew if none exist. According to the matplotlib docs:\n",
        "> \"...with pyplot...simple functions are used to add plot elements (lines, images, text, etc.) to the current axes in the current figure\".\n",
        "\n",
        "For more information on creating multiple subplots using matplotlib, see <a href=\"https://matplotlib.org/devdocs/gallery/subplots_axes_and_figures/subplots_demo.html\">this</a> guide."
      ]
    },
    {
      "cell_type": "code",
      "metadata": {
        "id": "VG3Zc1e8Fk0y"
      },
      "source": [
        "# plotting y versus x using the \"matplotlib.pyplot.plot(x, x, label=\"label name\")\"\n",
        "# function. \"matplotlib.pyplot\" in our case is shortened \"plt\" - see step 1.\n",
        "plt.plot(x, x, label='linear')\n",
        "plt.plot(x, x**2, label='quadratic')\n",
        "plt.plot(x, x**3, label='cubic')\n",
        "\n",
        "# naming the chart axes\n",
        "plt.xlabel('x label')\n",
        "plt.ylabel('y label')\n",
        "\n",
        "# naming the chart\n",
        "plt.title(\"Simple Plot\")\n",
        "\n",
        "# displaying the legend\n",
        "plt.legend()\n",
        "\n",
        "'''\n",
        "Matplotlib allows saving figures in a wide range of formats. Saving a figure can\n",
        "be done using the `savefig()` command. You can also adjust the resolution (dpi)\n",
        "of your saved figure. To save the figure as a PNG file, you can use the script below.\n",
        "On the left side of colab interface, there is a \"Files/ Folder\" tab.\n",
        "You can find all the files you saved there.\n",
        "'''\n",
        "plt.savefig('sample_figure.png', dpi=300)\n",
        "\n",
        "# displaying the chart (optional - see step 0). \"plt.show()\" will display the\n",
        "# current figure that you are working on\n",
        "plt.show()"
      ],
      "execution_count": null,
      "outputs": []
    },
    {
      "cell_type": "markdown",
      "metadata": {
        "id": "rRPuFHF1Qftl"
      },
      "source": [
        "## 2. Popular matplotlib charts\n",
        "\n",
        "For inspiration, see <a href=\"https://matplotlib.org/gallery.html#statistics\">examples</a> of Matplotlib visualisations."
      ]
    },
    {
      "cell_type": "markdown",
      "metadata": {
        "id": "GOsVXtAmQ9a4"
      },
      "source": [
        "**Line graph**\n",
        "\n",
        "A line graph is commonly used to show trends over time - for example, historical stock prices. "
      ]
    },
    {
      "cell_type": "code",
      "metadata": {
        "id": "RxXoMUtpRe3-"
      },
      "source": [
        "# importing required librarires\n",
        "import matplotlib.pyplot as plt\n",
        "\n",
        "x1  = [1, 2, 3, 4, 5, 6, 7, 8, 9]\n",
        "y1 = [1, 3, 5, 3, 1, 3, 5, 3, 1]\n",
        "y2 = [2, 4, 6, 4, 2, 4, 6, 4, 2]\n",
        "plt.plot(x1, y1, label=\"line L\")\n",
        "plt.plot(x1, y2, label=\"line H\")\n",
        "\n",
        "plt.xlabel(\"x axis\")\n",
        "plt.ylabel(\"y axis\")\n",
        "plt.title(\"Line Graph\")\n",
        "\n",
        "plt.show()"
      ],
      "execution_count": null,
      "outputs": []
    },
    {
      "cell_type": "markdown",
      "metadata": {
        "id": "BoGU4qb6SHlr"
      },
      "source": [
        "**Bar chart**\n",
        "\n",
        "Bar graphs, also known as column charts, use vertical or horizontal bars to represent data along both an x-axis and a y-axis visually. Each bar represents one value."
      ]
    },
    {
      "cell_type": "code",
      "metadata": {
        "id": "Mq566mhKSTHQ"
      },
      "source": [
        "import matplotlib.pyplot as plt\n",
        "\n",
        "# Look at index 4 and 6, which demonstrate overlapping cases.\n",
        "x2 = [1, 3, 4, 5, 6, 7, 9]\n",
        "y3 = [4, 7, 2, 4, 7, 8, 3]\n",
        "\n",
        "x3 = [2, 4, 6, 8, 10]\n",
        "y4 = [5, 6, 2, 6, 2]\n",
        "\n",
        "# Colors: https://matplotlib.org/api/colors_api.html\n",
        "# try changing the value of \"alpha=\" parameter \n",
        "plt.bar(x2, y3, label=\"Blue Bar\", color='b')\n",
        "plt.bar(x3, y4, label=\"Green Bar\", color='g', alpha=0.4)\n",
        "\n",
        "plt.xlabel(\"bar number\")\n",
        "plt.ylabel(\"bar height\")\n",
        "plt.title(\"Bar Chart\")\n",
        "plt.legend()\n",
        "\n",
        "plt.show()"
      ],
      "execution_count": null,
      "outputs": []
    },
    {
      "cell_type": "markdown",
      "metadata": {
        "id": "vd4LPP43TZWQ"
      },
      "source": [
        "**Histogram**\n",
        "\n",
        "We use histograms to summarise discrete or continuous data, such as stock returns. Histograms provide a visual interpretation of numerical data by showing the number of data points that fall within a specified range of values - these are typically called \"bins\". "
      ]
    },
    {
      "cell_type": "code",
      "metadata": {
        "id": "Mvuw3RVWTvpn"
      },
      "source": [
        "import matplotlib.pyplot as plt\n",
        "import numpy as np\n",
        "\n",
        "# Use numpy to generate an array of random data points.\n",
        "# np.random.randn(A,B) - this function creates a 1D array (B=1) and\n",
        "# fills it with A (A=1000) random values as per standard normal distribution.\n",
        "data = np.random.randn(1000,1)\n",
        "\n",
        "# specify the required number of bins by changing the value of the \"bins=\" parameter\n",
        "plt.hist(data, bins=20, color='g', alpha=0.4)\n",
        "plt.title(\"Histogram\", color='r')\n",
        "plt.show()"
      ],
      "execution_count": null,
      "outputs": []
    },
    {
      "cell_type": "markdown",
      "metadata": {
        "id": "99IOQp6mU89G"
      },
      "source": [
        "**Scatter plot chart**\n",
        "\n",
        "In scatter plot charts, the values of two variables are plotted along the two axes. The pattern of the resulting points may reveal a correlation/association between the two variables (e.g. stock and market portfolio returns)."
      ]
    },
    {
      "cell_type": "code",
      "metadata": {
        "id": "rY-ismTaVlkD"
      },
      "source": [
        "import matplotlib.pyplot as plt\n",
        "\n",
        "# use numpy to generate 1D arrays of random data points (data2 and data3)\n",
        "data2 = np.random.randn(1000,1)\n",
        "data3 = np.random.randn(1000,1)\n",
        "\n",
        "# for more information on the design of markers, see https://matplotlib.org/api/markers_api.html\n",
        "plt.scatter(data2, data3, marker='*', color='r')\n",
        "\n",
        "plt.title('Scatter Plot')\n",
        "plt.show()"
      ],
      "execution_count": null,
      "outputs": []
    },
    {
      "cell_type": "markdown",
      "metadata": {
        "id": "dODVFfJ7ajmI"
      },
      "source": [
        "**Pie chart**\n",
        "\n",
        "Circular statistical graphic divided into slices to show percentage or proportional data. The percentage represented by each category is typically provided next to the corresponding slice of pie."
      ]
    },
    {
      "cell_type": "code",
      "metadata": {
        "id": "qgHWhkm-bFM2"
      },
      "source": [
        "import matplotlib.pyplot as plt\n",
        "\n",
        "# introduce category names, values, and section colours to use\n",
        "labels = 'Label_1', 'Label_2', 'Label_3'\n",
        "category_values = [56, 66, 24]\n",
        "colors = ['g', 'r', 'y']\n",
        "\n",
        "# use the \".pie\" method to plot the pie chart \n",
        "'''The default startangle is 0, which would start the \"Label_1\" slice on the\n",
        "positive x-axis. This example sets startangle = 90 such that everything is\n",
        "rotated counter-clockwise by 90 degrees, and the \"Label_1 slice starts on\n",
        "the positive y-axis.'''\n",
        "plt.pie(category_values, labels=labels, colors=colors,\n",
        "        startangle=90,\n",
        "        explode = (0, 0.1, 0), # Try commenting this out.\n",
        "        autopct = '%1.2f%%')\n",
        "\n",
        "plt.axis('equal') # Try commenting this out.\n",
        "plt.title('Pie Chart Example')\n",
        "\n",
        "plt.show()"
      ],
      "execution_count": null,
      "outputs": []
    },
    {
      "cell_type": "markdown",
      "metadata": {
        "id": "4MykHRAXdC6h"
      },
      "source": [
        "**Wireframe 3D Plot**\n",
        "\n",
        "Wireframe plots are used to graphically represent skeletal sketches of functions defined over a rectangular grid."
      ]
    },
    {
      "cell_type": "code",
      "metadata": {
        "id": "XelREKaKdMGr"
      },
      "source": [
        "# importing required librarires\n",
        "import matplotlib.pyplot as plt\n",
        "from mpl_toolkits.mplot3d import axes3d\n",
        "\n",
        "# create and instantiate the figure object \"fig\"\n",
        "fig = plt.figure()\n",
        "\n",
        "# create an axes object in the figure\n",
        "ax = fig.add_subplot(111, projection = '3d')\n",
        "\n",
        "x, y, z = axes3d.get_test_data()\n",
        "ax.plot_wireframe(x, y, z, rstride = 2, cstride = 2)\n",
        "\n",
        "plt.title(\"Wireframe Plot Example\")\n",
        "plt.tight_layout()\n",
        "plt.show()"
      ],
      "execution_count": null,
      "outputs": []
    },
    {
      "cell_type": "markdown",
      "metadata": {
        "id": "im8DKkyjfB88"
      },
      "source": [
        "**Regression line plot**\n",
        "\n",
        "Regression plot is a scatterplot graph with a  regression line fit to it. We'll use the `Seaborn` data visualisation library and its `.regplot` method to draw a regression line plot. For more information and examples, see <a href=\"https://seaborn.pydata.org/generated/seaborn.regplot.html\">here</a>."
      ]
    },
    {
      "cell_type": "code",
      "metadata": {
        "id": "1aG8zL3sforr"
      },
      "source": [
        "# importing required librarires\n",
        "import matplotlib.pyplot as plt\n",
        "import numpy as np\n",
        "import seaborn as sns\n",
        "\n",
        "# generate  random data points\n",
        "stock = np.random.randn(100,1)\n",
        "market = np.random.randn(100,1)\n",
        "\n",
        "# plot the regression line; \"ci\" stands for confidence interval and can be changed\n",
        "sns.regplot(x=market, y=stock, color=\"r\", marker=\"+\", ci=95)\n",
        "plt.show()"
      ],
      "execution_count": null,
      "outputs": []
    },
    {
      "cell_type": "markdown",
      "metadata": {
        "id": "jPSNd823iKIF"
      },
      "source": [
        "**Heatmap**\n",
        "\n",
        "Graphical representation of data where the individual values contained in a matrix are represented as colors. Useful for presenting correlations."
      ]
    },
    {
      "cell_type": "code",
      "metadata": {
        "id": "x6XSJ9vviUrX"
      },
      "source": [
        "# importing required librarires\n",
        "import matplotlib.pyplot as plt\n",
        "import numpy as np\n",
        "import seaborn as sns\n",
        "\n",
        "# create a 10 x 10 heatmap with random data\n",
        "side_length = 10\n",
        "\n",
        "# we start with a 10 x 10 matrix of random values\n",
        "data = np.random.randn(side_length, side_length)\n",
        "\n",
        "# the next two lines of code make the values larger as we get closer to (9, 9)\n",
        "# += simply adds a value and the variable and assigns the result to that variable\n",
        "data += np.arange(side_length)\n",
        "data += np.reshape(np.arange(side_length), (side_length, 1))\n",
        "\n",
        "# Generate the heatmap\n",
        "sns.heatmap(data, annot=True) # remove the \"annot=True\" parameter and rerun\n",
        "plt.show()"
      ],
      "execution_count": null,
      "outputs": []
    },
    {
      "cell_type": "markdown",
      "metadata": {
        "id": "HtXlQtY7jxRt"
      },
      "source": [
        "**Bubble chart**\n",
        "\n",
        "The simplest way to plot a bubble chart is to use the `scatterplot` method of `matplotlib`. However, we will use the ‘s‘ argument to map a third numerical variable to the size of the marker. This will allow us to change sizes of individual point on the same graphic."
      ]
    },
    {
      "cell_type": "code",
      "metadata": {
        "id": "H439iVosj78m"
      },
      "source": [
        "# import required libraries\n",
        "import matplotlib.pyplot as plt\n",
        "import numpy as np\n",
        " \n",
        "# generate random data\n",
        "x = np.random.rand(40)\n",
        "y = np.random.rand(40)\n",
        "z = np.random.rand(40)\n",
        " \n",
        "# use the scatter function\n",
        "plt.scatter(x, y, s=z*1000, alpha=0.5)\n",
        "plt.show()"
      ],
      "execution_count": null,
      "outputs": []
    }
  ]
}