{
  "nbformat": 4,
  "nbformat_minor": 0,
  "metadata": {
    "colab": {
      "name": "PM_labs_part_5.ipynb",
      "provenance": [],
      "collapsed_sections": [
        "DuD2vJYLn1zI",
        "C85asoLqGCiw",
        "TMMK-hb0Gltf",
        "wrj7mFM8RSMS",
        "1TUyDqwHIHzo"
      ],
      "toc_visible": true,
      "authorship_tag": "ABX9TyMWAIwLlYe1O6OfOF9PIPjd",
      "include_colab_link": true
    },
    "kernelspec": {
      "name": "python3",
      "display_name": "Python 3"
    }
  },
  "cells": [
    {
      "cell_type": "markdown",
      "metadata": {
        "id": "view-in-github",
        "colab_type": "text"
      },
      "source": [
        "<a href=\"https://colab.research.google.com/github/mscouse/TBS_investment_management/blob/main/PM_labs_part_5.ipynb\" target=\"_parent\"><img src=\"https://colab.research.google.com/assets/colab-badge.svg\" alt=\"Open In Colab\"/></a>"
      ]
    },
    {
      "cell_type": "markdown",
      "metadata": {
        "id": "xx1Urdo9Oi1F"
      },
      "source": [
        "[![Open In Colab](https://colab.research.google.com/assets/colab-badge.svg)](https://colab.research.google.com/drive/12TjAYgBo1nPXGce1tRS3aXwOAjel3e7J?usp=sharing)\n",
        "# <strong> Investment Management 1</strong>\n",
        "---\n",
        "#<strong> Part 5: Basic financial calculations in python.</strong>\n",
        "\n",
        "In the course repository on GitHub, you will find several introductory Colab notebooks covering the following topics:\n",
        "\n",
        "**Part 1: Introduction to Python and Google Colab notebooks.**\n",
        "\n",
        "**Part 2: Getting started with Colab notebooks & basic features.**\n",
        "\n",
        "**Part 3: Data visualisation libraries.**\n",
        "\n",
        "**Part 4: Data sources & data collection in Python.**\n",
        "\n",
        "**Part 5: Basic financial calculations in python (CURRENT NOTEBOOK).**\n",
        "\n",
        "\n",
        "The notebooks have been designed to help you get started with Python and Google Colab. See the **“1_labs_introduction”** folder for more information. Each notebook contains all necessary libraries and references to the required subsets of data."
      ]
    },
    {
      "cell_type": "markdown",
      "metadata": {
        "id": "QAEKRRk6dhhv"
      },
      "source": [
        "# <strong>Basic financial calculations in python</strong>\n",
        "\n",
        "In this section we will work with basic financial calculations and functions, such as computing and compounding investment returns, calculating  averages, and computing measures of investment risk.\n",
        "\n",
        "We use `pandas` dataframes to store all necessary data. A DataFrame is a 2-dimensional data structure that can store data of different types (including characters, integers, floating point values, categorical data, etc).\n",
        "\n",
        "Colab includes an extension that renders Pandas dataframes into interactive tables that can be filtered, sorted, and explored dynamically.\n",
        " \n",
        "The extension can be enabled by executing `%load_ext google.colab.data_table` in any code cell and disabled with `%unload_ext google.colab.data_table`."
      ]
    },
    {
      "cell_type": "markdown",
      "metadata": {
        "id": "DuD2vJYLn1zI"
      },
      "source": [
        "##1. From asset prices to returns\n",
        "\n",
        "Holding period return from time $t$ to time $t+1$ is calculated as:\n",
        "\n",
        "$$ HPR_{t,t+1} = \\frac{P_{t+1}-P_{t}+D_{t+1}}{P_{t}} $$\n",
        "\n",
        "If we assume that the stock does not pay dividends $D_{t+1}$, we can rewrite it as:\n",
        "\n",
        "$$ HPR_{t,t+1} = \\frac{P_{t+1}}{P_{t}} - 1 $$\n"
      ]
    },
    {
      "cell_type": "markdown",
      "metadata": {
        "id": "T9pDRFQFslTh"
      },
      "source": [
        "###**Manual data entry**\n",
        "\n",
        "We will now implement the return formula in Python using mannually input data. First, we will create a `pandas` dataframe containing two columns with historical asset prices for A and B. "
      ]
    },
    {
      "cell_type": "code",
      "metadata": {
        "id": "zXSTWuRipyI5"
      },
      "source": [
        "# enable extension to render pandas dataframes into interactive tables\n",
        "%load_ext google.colab.data_table\n",
        "\n",
        "# import pandas library\n",
        "import pandas as pd\n",
        "\n",
        "#step 1: create a pandas dataframe with asset prices (alternatively, we can read in\n",
        "# a file containing prices - such as an .CSV or .XLSX files)\n",
        "prices = pd.DataFrame({\"A\": [8.70, 8.91, 8.71, 8.43, 8.73],\n",
        "                       \"B\": [10.66, 11.08, 10.71, 11.59, 12.11]})\n",
        "\n",
        "#step 2: pandas' \"series\" and \"dataframe\" have a built-in \"pct_change()\" method\n",
        "# to compute the percent change from one row to another. As return, by definition,\n",
        "# is the percentage change in price, we can use this method to compute returns\n",
        "returns = prices.pct_change()\n",
        "\n",
        "#step 3: display returns\n",
        "'''\n",
        "Note that it is not possible to compute returns for the first available day in the\n",
        "dataset as there is no closing price for the previous day. Therefore, one data point\n",
        "is lost when going from prices to returns.\n",
        "'''\n",
        "returns\n",
        "\n"
      ],
      "execution_count": null,
      "outputs": []
    },
    {
      "cell_type": "markdown",
      "metadata": {
        "id": "1JRkWIsDs_dV"
      },
      "source": [
        "###**Randomly generated data**\n",
        "\n",
        "In this section, we implement the return formula in Python using randomly generated data for 4 stock - A, B, C and D. We create a `pandas` dataframe containing 4 columns and populate it with randomly generated data points. "
      ]
    },
    {
      "cell_type": "code",
      "metadata": {
        "id": "4uQbjSNQtQ1y"
      },
      "source": [
        "# import required libraries\n",
        "import numpy as np\n",
        "import pandas as pd\n",
        "\n",
        "#step 1: create a pandas dataframe (called \"prices_2\") with random asset prices\n",
        "stocks = [\"A\", \"B\", \"C\", \"D\"]\n",
        "prices_2 = pd.DataFrame(np.random.randint(0,100,size=(100, 4)), columns=stocks)\n",
        "\n",
        "#you can inspect the first 5 lines of the newly created pandas dataframe using \".head()\" method, as\n",
        "# prices_2.head()\n",
        "\n",
        "#step 2: calculate investment returns using the a built-in \"pct_change()\" method\n",
        "returns_2 = prices_2.pct_change()\n",
        "\n",
        "#step 3: display first 5 lines of the resulting \"returns\" dataframe\n",
        "returns_2.head()"
      ],
      "execution_count": null,
      "outputs": []
    },
    {
      "cell_type": "markdown",
      "metadata": {
        "id": "fwS6UJutvOMU"
      },
      "source": [
        "###**Loading return data**\n",
        "\n",
        "In this section, we implement the return formula in Python using loaded data. It is very easy to read the data into Python from a file. Pandas provides a convenient way to read in a CSV/XLSX files containing return observations (using the `.read_csv()` method).\n",
        "\n",
        "We will upload a sample CSV file from the course GitHub repository. For other methods of uploading data files, see section 5 of the **Python_workspace.pdf** document."
      ]
    },
    {
      "cell_type": "code",
      "metadata": {
        "id": "4mbZXrJ62ykB"
      },
      "source": [
        "# import required libraries\n",
        "import pandas as pd\n",
        "\n",
        "# step 1: Copy the link to your GitHub dataset and store it as a string titled \"data_url\"\n",
        "data_url=\"https://raw.githubusercontent.com/mscouse/TBS_investment_management/main/1_labs_introduction/stock_prices_1.csv\"\n",
        "\n",
        "# step 2: Load the dataset into pandas. The dataset is stored as a pandas dataframe \"prices_3\".\n",
        "# Note that the file contains dates. We parse the dates using \"parse_dates\" and \n",
        "# set the date column to be the index of the dataframe (using the parameter \"index_col\")\n",
        "prices_3 = pd.read_csv(data_url, parse_dates=['date'], index_col=['date'])\n",
        "\n",
        "# step 3: inspect the first 5 lines of the loaded data using the pandas \".head()\" method\n",
        "prices_3.head()"
      ],
      "execution_count": null,
      "outputs": []
    },
    {
      "cell_type": "code",
      "metadata": {
        "id": "-NrDVGTE-ZOQ"
      },
      "source": [
        "#step 4: calculate investment returns using the the built-in \"pct_change()\" method\n",
        "returns_3 = prices_3.pct_change()\n",
        "\n",
        "#step 3: display first 5 lines of the resulting \"returns\" dataframe\n",
        "returns_3.head()"
      ],
      "execution_count": null,
      "outputs": []
    },
    {
      "cell_type": "markdown",
      "metadata": {
        "id": "C85asoLqGCiw"
      },
      "source": [
        "##2. Descriptive statistics\n",
        "\n",
        "In this section we compute basic descriptive statistics for the previously computed returns. We continue working with the CSV file with sample stock prices from the course GitHub repository."
      ]
    },
    {
      "cell_type": "markdown",
      "metadata": {
        "id": "TMMK-hb0Gltf"
      },
      "source": [
        "###**Arithmetic average return**\n",
        "\n",
        "Once we have the monthly returns, as computed in the previous section, we can calculate the average monthly returns by using the `.mean()` method available in `pandas`."
      ]
    },
    {
      "cell_type": "code",
      "metadata": {
        "id": "QniOX_4bQn8p"
      },
      "source": [
        "# import required libraries\n",
        "import pandas as pd\n",
        "\n",
        "# step 1: Copy the link to your GitHub dataser and store it as a string titled \"data_url_2\"\n",
        "data_url_2=\"https://raw.githubusercontent.com/mscouse/TBS_investment_management/main/1_labs_introduction/stock_prices_1.csv\"\n",
        "\n",
        "# step 2: Load the dataset into pandas. The dataset is stored as a pandas dataframe \"prices_3\".\n",
        "# Note that the file contains dates. We parse the dates using \"parse_dates\" and \n",
        "# set the date column to be the index of the dataframe (using the parameter \"index_col\")\n",
        "prices_4 = pd.read_csv(data_url_2, parse_dates=['date'], index_col=['date'])\n",
        "\n",
        "#step 3: calculate investment returns using the the built-in \"pct_change()\" method\n",
        "returns_4 = prices_4.pct_change()\n",
        "\n",
        "#step 4: drop all missing values\n",
        "returns_4 = returns_4.dropna()\n",
        "\n",
        "#step 5: compute average returns\n",
        "mean_returns = returns_4.mean()\n",
        "\n",
        "#step 6: print average returns\n",
        "mean_returns"
      ],
      "execution_count": null,
      "outputs": []
    },
    {
      "cell_type": "markdown",
      "metadata": {
        "id": "wrj7mFM8RSMS"
      },
      "source": [
        "###**Standard deviation of returns**\n",
        "\n",
        "Once we have the monthly returns, as computed in the previous section, we can calculate the  monthly standard deviation of returns by using the `.std()` method available in `pandas`.\n",
        "\n",
        "Here, we use the `returns_4` dataframe from the previous sub-section."
      ]
    },
    {
      "cell_type": "code",
      "metadata": {
        "id": "FaKPn12bRcOj"
      },
      "source": [
        "#step 7: compute standard deviation of returns\n",
        "std_returns = returns_4.std()\n",
        "\n",
        "#step 8: print standard deviations\n",
        "std_returns"
      ],
      "execution_count": null,
      "outputs": []
    },
    {
      "cell_type": "markdown",
      "metadata": {
        "id": "1TUyDqwHIHzo"
      },
      "source": [
        "###**Compounding returns**\n",
        "\n",
        "Once we have the monthly returns, as computed  in the previous section, we can calculate the compounded return. One way to do so would be by multiplying the individual period returns expressed as growth rates (using \"1+HPR\" format).\n",
        "\n",
        "Therefore, the first step is to add 1 to each monthly return. The second step is to compute the product of the resulting numbers:\n",
        "\n",
        "$$ Comp.return_{t1,tn} = (1+r_{1})\\times(1+r_{2})\\times...\\times(1+r_{n}) -1 $$\n"
      ]
    },
    {
      "cell_type": "code",
      "metadata": {
        "id": "ISyxzEg4KHmM"
      },
      "source": [
        "# import required libraries\n",
        "import pandas as pd\n",
        "\n",
        "# step 1: Copy the link to your GitHub dataser and store it as a string titled \"data_url_2\"\n",
        "data_url_3=\"https://raw.githubusercontent.com/mscouse/TBS_investment_management/main/1_labs_introduction/stock_prices_1.csv\"\n",
        "\n",
        "# step 2: Load the dataset into pandas. The dataset is stored as a pandas dataframe \"prices_3\".\n",
        "# Note that the file contains dates. We parse the dates using \"parse_dates\" and \n",
        "# set the date column to be the index of the dataframe (using the parameter \"index_col\")\n",
        "prices_5 = pd.read_csv(data_url_3, parse_dates=['date'], index_col=['date'])\n",
        "\n",
        "#step 3: calculate investment returns using the the built-in \"pct_change()\" method\n",
        "returns_5 = prices_5.pct_change()\n",
        "\n",
        "#step 4: drop all missing values\n",
        "returns_5 = returns_5.dropna()\n",
        "\n",
        "#step 5: compute compounded returns\n",
        "comp_returns = (returns_5+1).prod()-1\n",
        "\n",
        "#step 6: print compounded returns\n",
        "comp_returns"
      ],
      "execution_count": null,
      "outputs": []
    },
    {
      "cell_type": "code",
      "metadata": {
        "id": "u4JFVltxM3oZ"
      },
      "source": [
        "# step 7: annualise monthly compounded returns\n",
        "months = len(returns_5)\n",
        "annual_comp_returns = (returns_5+1).prod()**(12/months)-1\n",
        "annual_comp_returns"
      ],
      "execution_count": null,
      "outputs": []
    },
    {
      "cell_type": "markdown",
      "metadata": {
        "id": "ipwqQcpbSGYz"
      },
      "source": [
        "###**Annualising returns**\n",
        "\n",
        "To annualise a return computed over a given period of length m, we compound the return for as many times as the number of m-length periods in one year.\n",
        "\n",
        "For example, to annualise a monthly return, we compund that return 12 times. The formula to annualize a monthly return $r_m$ is:\n",
        "\n",
        "$$ (1+r_m)^{12} - 1$$\n",
        "\n",
        "To annualise a quarterly return $r_q$ we have:\n",
        "\n",
        "$$ (1+r_q)^{4} - 1$$\n",
        "\n",
        "To annualise a daily return $r_d$ we get (there are approximately 252 trading days in a year):\n",
        "\n",
        "$$ (1+r_d)^{252} - 1$$\n",
        "\n",
        "For example, to annualize a 1% monthly, and 4% quarterly and a 0.01% daily return you would do."
      ]
    }
  ]
}