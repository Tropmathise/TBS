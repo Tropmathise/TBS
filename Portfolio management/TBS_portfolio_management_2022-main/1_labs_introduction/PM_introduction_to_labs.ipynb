{
  "nbformat": 4,
  "nbformat_minor": 0,
  "metadata": {
    "colab": {
      "name": "PM_introduction_to_labs.ipynb",
      "provenance": [],
      "collapsed_sections": [
        "N1uOo9_0Yy9J",
        "D3WgMgrOcHOE",
        "KejyRLLGBYpP",
        "2HPrK6vhKag2",
        "xOM1yL3GdeBR",
        "9ArHp0mt2i8R",
        "rRPuFHF1Qftl",
        "RNA1jkvTDH7g",
        "bhg19De-n284",
        "HqgaZHHQq5hC",
        "xKHLtwPTOP11",
        "QAEKRRk6dhhv",
        "DuD2vJYLn1zI",
        "C85asoLqGCiw"
      ],
      "toc_visible": true
    },
    "kernelspec": {
      "name": "python3",
      "display_name": "Python 3"
    }
  },
  "cells": [
    {
      "cell_type": "markdown",
      "metadata": {
        "id": "xx1Urdo9Oi1F"
      },
      "source": [
        "[![Open In Colab](https://colab.research.google.com/assets/colab-badge.svg)](https://colab.research.google.com/drive/16J7KBFtVL2ALT42vhlHVnN-sJtwG0Igp?usp=sharing)\n",
        "# <strong> Investment Management 1</strong>\n",
        "---\n",
        "#<strong> Introduction to labs</strong>\n",
        "\n",
        "If you are a complete beginner in Python programming, rest assured this course will provide you everything you need to get started.\n",
        "\n",
        "You are not expected to have any prior experience with Python, nor are you expected to install anything or configure your computers to run Python code. We will be using an online Jupyter notebook service hosted by Google Colaboratory (see below). It requires no setup to use and allows anybody to write and execute python code through a standard web browser, such as Chrome.\n",
        "\n",
        "Also, most Python problems and exercises covered in our lab sessions are accompanied by detailed instructions, taking you through each  task step by step. Each notebook contains the necessary code, explanatory text, and all custom modules needed to complete the exercises.\n",
        "\n",
        "This document provides an introduction to:\n",
        "\n",
        "1.  <a href=\"#section_1\">Python and Google Colab notebooks.</a>\n",
        "2. <a href=\"#section_2\">Getting started with Colab notebooks & basic features.</a>\n",
        "3. <a href=\"#section_3\">Data visualisation libraries. </a>\n",
        "4. <a href=\"#section_4\">Data sources & data collection in Python.</a>\n",
        "5. <a href=\"#section_5\">Basic financial calculations in python.</a>\n",
        "\n",
        "You may prefer to work on each section separately. In the course repository on GitHub, you can find separate Colab notebooks for each section discussed in this document - see the **“1_labs_introduction”** folder. Each separate notebook contains all necessary libraries and references to the required subsets of data. "
      ]
    },
    {
      "cell_type": "markdown",
      "metadata": {
        "id": "N1uOo9_0Yy9J"
      },
      "source": [
        "<a name=\"section_1\"></a>\n",
        "# <strong>1. Python and Google Colaboratory</strong>"
      ]
    },
    {
      "cell_type": "markdown",
      "metadata": {
        "id": "AuXq_kylTT7i"
      },
      "source": [
        "## 1.1. Recommended python learning resources\n",
        "\n",
        "To get started with Python, consider a course from the list of recommended options below:\n",
        "\n",
        "1. <a href=\"https://www.freecodecamp.org/learn/data-analysis-with-python/data-analysis-with-python-course/\">Data Analysis with Python</a> course offered by <strong>freeCodeCamp</strong>. This free course provides a complete introduction into all of the core concepts in Python and allows you to learn basics of data analysis in Python by completing interactive coding challenges and watching videos by expert instructors.\n",
        "\n",
        "1. <strong>IBM</strong> also supports a well-designed free Python course on Edx, called <a href=\"https://www.edx.org/course/python-basics-for-data-science\">Python Basics for Data Science</a>. This course will teach you Python in Jupyter notebooks, an online browser-based coding editor for Python, which means you don't need to install Python. For most practical exercises in this course, we will be using Google Colab notebooks, which are Jupyter notebooks hosted by Google Colaboratory.\n",
        "\n",
        "1. <a href=\"https://www.edx.org/course/python-basics-for-data-science\">Learn Python 3 from Scratch</a> by <strong>Educative</strong> is another excellent introductory Python course you may want to consider. This is a free class for people with little to no programming experience. The course includes written tutorials, lecture videos, and lots of code exercises to practice Python coding.\n",
        "\n",
        "Another useful website for learning Python,  supported by <strong>DataCamp</strong>, is https://www.learnpython.org/. This resource contains several free interactive Python tutorials and is intended for everyone who wishes to learn the Python programming language."
      ]
    },
    {
      "cell_type": "markdown",
      "metadata": {
        "id": "D3WgMgrOcHOE"
      },
      "source": [
        "## 1.2. Introduction to Colaboratory?\n",
        "\n",
        "Google Colaboratory, or 'Colab' for short, is a cloud-based platform for machine learning and other data science applications, created for research and education.\n",
        "\n",
        "It comes with a GPU (graphics processing unit) which is totally free and allows you to create and run Jupyter-like Python notebooks online. Colab has numerous common Python libraries pre-installed by default and thus requires little time to setup your project. You can save notebooks created in Colab to Google Drive (or GitHub) and open Jupyter notebooks from Google Drive or upload your existing Jupyter notebooks.\n",
        "\n",
        "You can also share your notebooks saved in your Google Drive, just like Google Sheets or Docs. Your shared notebook will include its full content (code, text, etc.) except for the virtual machine and custom libraries you have used. If you need to share this as well, you include additional cells in your notebook that automatically install and load the pertinent custom files.\n",
        "\n",
        "\n",
        "> To summarise, Colab allows you to write and execute Python in your internet browser, with \n",
        "- No need for installation or configuration\n",
        "- Free access to GPUs\n",
        "- Easy sharing and collaboration </br>\n",
        "\n",
        "Colab notebooks are Jupyter notebooks that are hosted by Google. To find out more about the Jupyter project, see <a href=\"https://www.jupyter.org\">jupyter.org</a>.\n",
        "\n",
        "&nbsp;\n",
        "\n",
        "To level the playing field, in this course we use Colab for all practical assignments. Should you choose to run Python on your local machine, there are numerous tutorials detailing how to set up your computer for Python development and get started with programming.\n",
        "\n",
        "> To find out more about Google Colab, consider watching <a href=\"https://www.youtube.com/watch?v=inN8seMm7UI\">Introduction to Colab</a>. You can also watch the video by executing the code cell below.\n",
        "\n",
        "Follow these steps to execute the code cell:\n",
        "\n",
        "* make sure your notebook is connected to \"hosted runtime\" (the top-level toolbar button indicates CONNECTED);\n",
        "* if not connected, connect your notebook to \"hosted runtime\" by pressing this button ![connect.jpg](https://drive.google.com/uc?id=1Ww0AkiexB8KPWyftb-zeJbNR36D6AlJa)\n",
        "* click in the code cell to select it and execute the contents in one following ways: **(1)** Click the **Play icon** in the left gutter of the cell; **(2)**Type **Cmd/Ctrl+Enter** to run the cell in place; **(3)** Type **Shift+Enter** to run the cell and move focus to the next cell (adding one if none exists); or **(4)** Type **Alt+Enter** to run the cell and insert a new code cell immediately below it.\n",
        "\n",
        "There are additional options for running some or all cells in the **Runtime** menu."
      ]
    },
    {
      "cell_type": "code",
      "metadata": {
        "id": "50wE3wZJWnYf"
      },
      "source": [
        "from IPython.display import YouTubeVideo\n",
        "YouTubeVideo('inN8seMm7UI', width=800, height=500)"
      ],
      "execution_count": null,
      "outputs": []
    },
    {
      "cell_type": "markdown",
      "metadata": {
        "id": "KejyRLLGBYpP"
      },
      "source": [
        "<a name=\"section_2\"></a>\n",
        "# <strong>2. Getting started</strong>\n",
        "\n",
        "As you may have realised, the document you are working with is not a static web page, but an interactive environment called a <strong>Colab notebook</strong> that lets you write and execute code (in the \"code\" cells) and provide comments (in the \"text\" cells)."
      ]
    },
    {
      "cell_type": "markdown",
      "metadata": {
        "id": "GMgQKwW4fw3k"
      },
      "source": [
        "## 2.1. Text cells\n",
        "\n",
        "For example, here is a **text cell**. You can **double-click** to edit this cell. Text cells\n",
        "use markdown syntax. To learn more, see this [markdown\n",
        "guide](https://www.markdownguide.org/).\n",
        "\n",
        "You can also add math to text cells using [LaTeX](http://www.latex-project.org/)\n",
        "to be rendered by [MathJax](https://www.mathjax.org). Just place the statement\n",
        "within a pair of **\\$** signs. For example `$\\sqrt{3x-1}+(1+x)^2$` becomes\n",
        "$\\sqrt{3x-1}+(1+x)^2.$"
      ]
    },
    {
      "cell_type": "markdown",
      "metadata": {
        "id": "e4JOiKAChSpr"
      },
      "source": [
        "## 2.2. Code cells\n",
        "\n",
        "Below is a **code cell** with a short Python script that computes a value, stores it in a variable (called ```sample_variable```) and prints the result.\n",
        "\n",
        "Once the top-level toolbar button indicates CONNECTED, select the code cell with a click and then either press the play button to the left of the code, or use the keyboard shortcut 'Command/Ctrl+Enter'. This executes the code in the cell.  To edit the code, just click the cell and start editing.\n",
        "You can also:\n",
        "* Type **Shift+Enter** to run the cell and move focus to the next cell (adding one if none exists); or\n",
        "* Type **Alt+Enter** to run the cell and insert a new code cell immediately below it.\n"
      ]
    },
    {
      "cell_type": "code",
      "metadata": {
        "id": "VoZUi4Y44XBG"
      },
      "source": [
        "sample_variable = 10 * 20 * 30\n",
        "sample_variable"
      ],
      "execution_count": null,
      "outputs": []
    },
    {
      "cell_type": "markdown",
      "metadata": {
        "id": "ysil-l2UkqO0"
      },
      "source": [
        "Variables that you define in one cell (like the variable ```sample_variable``` above) can later be used in other cells - see below. This assumes you executed the previous code cell."
      ]
    },
    {
      "cell_type": "code",
      "metadata": {
        "id": "T5CabukllCMF"
      },
      "source": [
        "second_sample_variable = 5 * sample_variable\n",
        "second_sample_variable"
      ],
      "execution_count": null,
      "outputs": []
    },
    {
      "cell_type": "markdown",
      "metadata": {
        "id": "98Rl5MVplb37"
      },
      "source": [
        "Colab notebooks allow you to combine <strong>executable code</strong> and <strong>rich text</strong> in a single document, along with <strong>images</strong>, <strong>HTML</strong>, <strong>LaTeX</strong> and more.\n",
        "\n",
        "When you create your own Colab notebooks, they are stored in your Google Drive account. You can easily share your Colab notebooks with co-workers or friends, allowing them to comment on your notebooks or even edit them. To find out more, see <a href=\"/notebooks/basic_features_overview.ipynb\">Overview of Colab</a>.\n",
        "\n",
        "To create a new Colab notebook you can use the File menu above, or use the following link: <a href=\"http://colab.research.google.com#create=true\">Create a new Colab notebook</a>."
      ]
    },
    {
      "cell_type": "markdown",
      "metadata": {
        "id": "NOn3Q0vU558G"
      },
      "source": [
        "## 2.3. Basic data types\n",
        "\n",
        "Like most programming languages, Python has a number of basic data types including `integers`, `floats`, `booleans`, and `strings`. These data types behave in similar ways to other programming languages.\n",
        "\n",
        "In addition, Python includes several built-in container types. These are `lists`, `dictionaries`, `sets`, and `tuples`.\n",
        "\n",
        "A `list` is the Python equivalent of an array, but is resizeable and can contain elements of different types.\n",
        "\n",
        "A `dictionary` stores (key, value) pairs. Python Dictionaries are similar to Maps in Java or Objects in Javascript. \n",
        "\n",
        "A `set` is an unordered collection of distinct elements.\n",
        "\n",
        "A `tuple` is an immutable, ordered list of values. Tuples are similar to `lists`. The key differences is that `tuples` can be used as keys in `dictionaries` and as elements of `sets`, while `lists` cannot. \n",
        "\n",
        "To find out more about Python data types, see <a href=\"https://realpython.com/python-data-types/\"> HERE</a>. You are not expected to understand and use all of them straightaway. Feel free to skip this section for now.\n"
      ]
    },
    {
      "cell_type": "markdown",
      "metadata": {
        "id": "2HPrK6vhKag2"
      },
      "source": [
        "## 2.4. Python libraries\n",
        "\n",
        "With Colab you can harness the full power of popular Python libraries to analyse and visualise data. The code cell below uses two such popular libraries - <strong>`NumPy`</strong> to generate some random data, and <strong>`Matplotlib`</strong> to visualise it. To edit the code, just click the cell and start editing.\n",
        "\n",
        "Note that you can use triple-quoted strings ('''comment''') in your code and place your comments inside it - this part will not be executed. Single line comments start with a #, and Python will ignore them as well.\n",
        "\n",
        "`NumPy` (typically pronounced /ˈnʌmpaɪ/ (NUM-py)) is a library for the Python programming language, adding support for large, multi-dimensional arrays and matrices, along with a large collection of high-level mathematical functions to operate on these arrays. To find out more about `NumPy`, see <a href=\"https://numpy.org/learn/\"> numpy.org</a>\n",
        "\n",
        "`Matplotlib` is a comprehensive library for creating static, animated, and interactive visualizations in Python. To find out more, see <a href=\"https://matplotlib.org/\">matplotlib.org</a>. The website contains a gallery with numerous examples of what you can do with Matplotlib. \n"
      ]
    },
    {
      "cell_type": "code",
      "metadata": {
        "id": "kUzkOvMJoIlb"
      },
      "source": [
        "''' \n",
        "step 1: import necessary libraries using the \"import\" statement .\n",
        "Library is an umbrella term that loosely means “a bundle of code.”\n",
        "These can have tens or even hundreds of individual modules that can\n",
        "provide a wide range of functionality. For example, `Matplotlib` is\n",
        "a plotting library. It is possible to modify the names of libraries, modules\n",
        "and their functions within Python by using the \"as\" keyword. Thus, if\n",
        "we deal with a library named \"import a_ridiculously_long_module_name\", we can \n",
        "rename it to something like \"short_name\" when importing. This is done by writing\n",
        "the following statement:\n",
        "import a_ridiculously_long_module_name as short_name\n",
        "This allows us to append the shorter name \"short_name\" to any of the functions\n",
        "available within the module, as in short_name.function(). \n",
        "'''\n",
        "import numpy as np\n",
        "from matplotlib import pyplot as plt  #This could be written as \"import matplotlib.pyplot as plt\"\n",
        "\n",
        "\n",
        "''' \n",
        "step 2: create a simple dataset. Don't focus too much on the code. Here we \n",
        "append the shorter word \"np\" (alias for the numpy library) to the function called\n",
        "\"cumsum\" and \"random\" within that library:\n",
        "\n",
        "np.random.randn(A,B) - this function creates a 1D array (B=1) and\n",
        "fills it with A (A=1000) random values as per standard normal distribution.\n",
        "\n",
        "np.cumsum(arr, axis=None) - this function is used to compute the cumulative sum of array\n",
        "elements over a given axis. Because we do not specify the axis name, it computes\n",
        "the sum of the flattened array (values).\n",
        "'''\n",
        "values=np.random.randn(1000,1)\n",
        "cum_values=np.cumsum(values)\n",
        "\n",
        "\n",
        "# step 3: use the plot function of matplotlib as plt.plot(). To display the chart\n",
        "# we need to pass plt.show() command. We can also assign a title to the chart by using\n",
        "# plt.title(\"sample_title\") command.\n",
        "plt.plot(cum_values)\n",
        "plt.title(\"Sample Visualization\")\n",
        "plt.show()"
      ],
      "execution_count": null,
      "outputs": []
    },
    {
      "cell_type": "markdown",
      "metadata": {
        "id": "FjlwaM0yEx6M"
      },
      "source": [
        "## 2.5. Integration with Google Drive and exporting your work\n",
        "\n",
        "### Colab and Google Drive\n",
        "\n",
        "Google Colaboratory is integrated with your Google Drive. Therefore, you can share, comment, and collaborate on the same document with multiple people:\n",
        "\n",
        "* The **SHARE** button (top-right of the toolbar) allows you to share the notebook and control permissions set on it.\n",
        "\n",
        "* **File->Save a Copy in Drive** creates a copy of the notebook in you Google Drive.\n",
        "\n",
        "* **File->Save** saves the File to Google Drive. **File->Save and pin revision** pins the current version of the notebook so it doesn't get deleted from the revision history. \n",
        "\n",
        "* **File->Revision history** shows the notebook's revision history.\n",
        "\n",
        "\n",
        "### Colab and GitHub\n",
        "\n",
        "Google Colab allows you to save a copy of your notebooks to GitHub, or upload pertinent files from your GitHub repository.\n",
        "\n",
        "To share your notebook on Github:\n",
        "* click on **File -> Save a copy in Github**, you will be prompted to log in to your Github account and authorize app. Once done, you would be able to save your notebooks to a chosen repository on GitHub. Each time you save, you can add a commit message for GitHub.\n",
        "\n",
        "* Once the notebook is saved to GitHub, you will\n",
        "get a **View in Colaboratory** link. The link allows you to open the notebook directly in Colab.\n",
        "\n",
        "* Anyone opening the shared notebook would not need to do any additional setup to run the script.\n",
        "\n",
        "For more information, see the [Setting up the workspace](https://github.com/mscouse/portfolio/blob/main/Python_workspace.pdf) document and [Using Colab with GitHub](https://colab.research.google.com/github/googlecolab/colabtools/blob/master/notebooks/colab-github-demo.ipynb#:~:text=Choose%20File%E2%86%92Save%20a,the%20commit%20to%20your%20repository).  \n",
        "\n"
      ]
    },
    {
      "cell_type": "markdown",
      "metadata": {
        "id": "3ioBqZU1CLQi"
      },
      "source": [
        "## 2.6. Commenting on a cell\n",
        "\n",
        "You can record your comments on a Colaboratory notebook. All comments are attached to cells. They are displayed next to the cell they refer to.\n",
        "\n",
        "If you have **comment-only** permissions, you will see a comment button on the top right of the cell when you hover over it.\n",
        "\n",
        "If you have edit or comment permissions you can comment on a cell in one of three ways: \n",
        "\n",
        "1. Select a cell and click the comment button in the toolbar above the top-right corner of the cell.\n",
        "1. Right click a text cell and select **Add a comment** from the context menu.\n",
        "3. Use the shortcut **Ctrl+Shift+M** to add a comment to the currently selected cell. \n",
        "\n",
        "You can resolve and reply to comments, and you can target comments to specific collaborators by typing *+[email address]* (e.g., `+user@domain.com`). Addressed collaborators will be emailed. \n",
        "\n",
        "The Comment button in the top-right corner of the page shows all comments attached to the notebook."
      ]
    },
    {
      "cell_type": "markdown",
      "metadata": {
        "id": "xKQQaa2bDzJj"
      },
      "source": [
        "## 2.7. More official official Colab resources\n",
        "\n",
        "### Working with notebooks in Colab\n",
        "- [Overview of Colaboratory](/notebooks/basic_features_overview.ipynb)\n",
        "- [Guide to markdown](/notebooks/markdown_guide.ipynb)\n",
        "- [Importing libraries and installing dependencies](/notebooks/snippets/importing_libraries.ipynb)\n",
        "- [Saving and loading notebooks in GitHub](https://colab.research.google.com/github/googlecolab/colabtools/blob/master/notebooks/colab-github-demo.ipynb)\n",
        "- [Interactive forms](/notebooks/forms.ipynb)\n",
        "- [Interactive widgets](/notebooks/widgets.ipynb)\n",
        "- <img src=\"/img/new.png\" height=\"20px\" align=\"left\" hspace=\"4px\" alt=\"New\"></img>\n",
        " [TensorFlow 2 in Colab](/notebooks/tensorflow_version.ipynb)\n",
        "\n",
        "<a name=\"working-with-data\"></a>\n",
        "### Working with data\n",
        "- [Loading data: Drive, Sheets and Google Cloud Storage](/notebooks/io.ipynb) \n",
        "- [Charts: visualising data](/notebooks/charts.ipynb)\n",
        "- [Getting started with BigQuery](/notebooks/bigquery.ipynb)\n",
        "\n",
        "### Machine learning crash course\n",
        "These are a few of the notebooks from Google's online machine learning course. See the <a href=\"https://developers.google.com/machine-learning/crash-course/\">full course website</a> for more.\n",
        "- [Intro to Pandas](/notebooks/mlcc/intro_to_pandas.ipynb)\n",
        "- [TensorFlow concepts](/notebooks/mlcc/tensorflow_programming_concepts.ipynb)\n",
        "- [First steps with TensorFlow](/notebooks/mlcc/first_steps_with_tensor_flow.ipynb)\n",
        "- [Intro to neural nets](/notebooks/mlcc/intro_to_neural_nets.ipynb)\n",
        "- [Intro to sparse data and embeddings](/notebooks/mlcc/intro_to_sparse_data_and_embeddings.ipynb)\n",
        "\n",
        "<a name=\"using-accelerated-hardware\"></a>\n",
        "### Using accelerated hardware\n",
        "- [TensorFlow with GPUs](/notebooks/gpu.ipynb)\n",
        "- [TensorFlow with TPUs](/notebooks/tpu.ipynb)"
      ]
    },
    {
      "cell_type": "markdown",
      "metadata": {
        "id": "xOM1yL3GdeBR"
      },
      "source": [
        "<a name=\"section_3\"></a>\n",
        "# <strong>3. Data visualisation libraries</strong>\n",
        "\n",
        "When going through the <a href=\"https://pypi.org/\">Python Package Index </a>, you will come across tens of data visualisation libraries for almost any discipline — from `pastalog` for realtime visualisations neural network training to `GazeParser` for eye movement research. Inevitably, Some of these libraries are more focused than others.\n",
        "\n",
        "This section provides an overview of the most widely used Python data visualisation library, <a href=\"https://matplotlib.org/\">`Matplotlib`</a>. Other popular interdisciplinary Python  visualisation libraries are <a href=\"https://seaborn.pydata.org/\">`Seaborn`</a> and <a href=\"https://plotly.com/python/\">`Plotly`</a>."
      ]
    },
    {
      "cell_type": "markdown",
      "metadata": {
        "id": "9ArHp0mt2i8R"
      },
      "source": [
        "## 3.1. Matplotlib setup\n",
        "\n",
        "Matplotlib is one of the most popular, and certainly the most widely used, multi-platform data visualisation library built on NumPy arrays in Python. It is used to generate simple yet powerful visualisations with just a few lines of code. It can be used in both interactive and non-interactive scripts. For inspiration, see <a href=\"https://matplotlib.org/gallery.html#statistics\">examples</a> of Matplotlib visualisations. For more information on advanced plotting features, see <a href=\"https://python4astronomers.github.io/plotting/advanced.htm\">this</a> guide. \n",
        "\n",
        "As Matplotlib was the first widely available Python data visualisation library, many other libraries are built on top of it or designed to work with it. For instance, the plotting functions of `pandas` and `Seaborn` are essentially wrappers around the `Matplotlib` library."
      ]
    },
    {
      "cell_type": "markdown",
      "metadata": {
        "id": "8LrPqYOD_bTD"
      },
      "source": [
        "**Step 0 (optional): plot embedding**\n",
        "\n",
        "In the notebook, you have the option of embedding visualisations directly in the notebook by running the following command (it needs to be done only once per kernel/session):\n",
        "```\n",
        "%matplotlib inline\n",
        "```\n",
        "\n",
        "After running this command, any cell within the notebook that creates a plot will embed a PNG image of the resulting visualisations.\n",
        "\n",
        "To enable the Colab extension that renders `pandas` dataframes into interactive tables, run:\n",
        "```\n",
        "%load_ext google.colab.data_table\n",
        "```\n",
        "\n",
        "This also needs to be done only once per kernel/session."
      ]
    },
    {
      "cell_type": "code",
      "metadata": {
        "id": "1zycEOf0BOz0"
      },
      "source": [
        "%matplotlib inline\n",
        "%load_ext google.colab.data_table"
      ],
      "execution_count": null,
      "outputs": []
    },
    {
      "cell_type": "markdown",
      "metadata": {
        "id": "zzJGH8-b5Sb-"
      },
      "source": [
        "**Step 1: importing libraries**\n",
        "\n",
        "To get the visualisation code working, we need to import the required libraries into the environment."
      ]
    },
    {
      "cell_type": "code",
      "metadata": {
        "id": "2EjIivFH5SB-"
      },
      "source": [
        "# importing required librarires and modifying their names \n",
        "import matplotlib as mpl\n",
        "import matplotlib.pyplot as plt\n",
        "import numpy as np\n",
        "import pandas as pd"
      ],
      "execution_count": null,
      "outputs": []
    },
    {
      "cell_type": "markdown",
      "metadata": {
        "id": "6NfGuHxu8pJt"
      },
      "source": [
        "**Step 2 (optional): setting style**\n",
        "\n",
        "The `style` package adds support for easy-to-switch plotting \"styles\" so that you can customise the look of your figures. There are a number of <a href=\"https://github.com/matplotlib/matplotlib/tree/master/lib/matplotlib/mpl-data/stylelib\">pre-defined styles</a> provided by Matplotlib. In this example, we set the `classic` style. This ensures the plots we create use the classic Matplotlib style."
      ]
    },
    {
      "cell_type": "code",
      "metadata": {
        "id": "M1gW75HV90aN"
      },
      "source": [
        "# Setting style\n",
        "plt.style.use('classic')\n",
        "\n",
        "# To list all available styles, use:\n",
        "print(plt.style.available)"
      ],
      "execution_count": null,
      "outputs": []
    },
    {
      "cell_type": "markdown",
      "metadata": {
        "id": "148aLLSrBgKP"
      },
      "source": [
        "**Step 3: selecting the inputs**\n",
        "\n",
        "Matplotlib plotting functions expect a `numpy` array as input. Classes that are ‘array-like’ such as `pandas` data objects and `np.matrix` may or may not work with Matplotlib functions as intended. It is best to convert these to `np.array` objects prior to plotting. Another widely use plotting library, `Seaborn`, expect data to be provided as `pandas` dataframes."
      ]
    },
    {
      "cell_type": "code",
      "metadata": {
        "id": "fVY3LRH2ETQg"
      },
      "source": [
        "# Here we use the \"linspace(START, STOP, NUM)\" method to generate an array (x)\n",
        "# of NUM evenly spaced numbers over a specified (START to STOP) interval.\n",
        "\n",
        "x = np.linspace(0, 2, 100)\n",
        "y = np.linspace(1, 2, 100)\n",
        "x, y"
      ],
      "execution_count": null,
      "outputs": []
    },
    {
      "cell_type": "markdown",
      "metadata": {
        "id": "ISPmsU0XFqPx"
      },
      "source": [
        "**Step 4: plotting the data and saving the figure**\n",
        "\n",
        "The `pyplot` module from matplotlib we imported earlier is the stateful interface of matplotlib. Almost all functions in that module, such as `plt.plot()`, would either apply to an existing current figure (and its axes), or create them anew if none exist. According to the matplotlib docs:\n",
        "> \"...with pyplot...simple functions are used to add plot elements (lines, images, text, etc.) to the current axes in the current figure\".\n",
        "\n",
        "For more information on creating multiple subplots using matplotlib, see <a href=\"https://matplotlib.org/devdocs/gallery/subplots_axes_and_figures/subplots_demo.html\">this</a> guide."
      ]
    },
    {
      "cell_type": "code",
      "metadata": {
        "id": "VG3Zc1e8Fk0y"
      },
      "source": [
        "# plotting y versus x using the \"matplotlib.pyplot.plot(x, x, label=\"label name\")\"\n",
        "# function. \"matplotlib.pyplot\" in our case is shortened \"plt\" - see step 1.\n",
        "plt.plot(x, x, label='linear')\n",
        "plt.plot(x, x**2, label='quadratic')\n",
        "plt.plot(x, x**3, label='cubic')\n",
        "\n",
        "# naming the chart axes\n",
        "plt.xlabel('x label')\n",
        "plt.ylabel('y label')\n",
        "\n",
        "# naming the chart\n",
        "plt.title(\"Simple Plot\")\n",
        "\n",
        "# displaying the legend\n",
        "plt.legend()\n",
        "\n",
        "'''\n",
        "Matplotlib allows saving figures in a wide range of formats. Saving a figure can\n",
        "be done using the `savefig()` command. You can also adjust the resolution (dpi)\n",
        "of your saved figure. To save the figure as a PNG file, you can use the script below.\n",
        "On the left side of colab interface, there is a \"Files/ Folder\" tab.\n",
        "You can find all the files you saved there.\n",
        "'''\n",
        "plt.savefig('sample_figure.png', dpi=300)\n",
        "\n",
        "# displaying the chart (optional - see step 0). \"plt.show()\" will display the\n",
        "# current figure that you are working on\n",
        "plt.show()"
      ],
      "execution_count": null,
      "outputs": []
    },
    {
      "cell_type": "markdown",
      "metadata": {
        "id": "rRPuFHF1Qftl"
      },
      "source": [
        "## 3.2. Popular matplotlib charts\n",
        "\n",
        "For inspiration, see <a href=\"https://matplotlib.org/gallery.html#statistics\">examples</a> of Matplotlib visualisations."
      ]
    },
    {
      "cell_type": "markdown",
      "metadata": {
        "id": "GOsVXtAmQ9a4"
      },
      "source": [
        "**Line graph**\n",
        "\n",
        "A line graph is commonly used to show trends over time - for example, historical stock prices. "
      ]
    },
    {
      "cell_type": "code",
      "metadata": {
        "id": "RxXoMUtpRe3-"
      },
      "source": [
        "# importing required librarires\n",
        "import matplotlib.pyplot as plt\n",
        "\n",
        "x1  = [1, 2, 3, 4, 5, 6, 7, 8, 9]\n",
        "y1 = [1, 3, 5, 3, 1, 3, 5, 3, 1]\n",
        "y2 = [2, 4, 6, 4, 2, 4, 6, 4, 2]\n",
        "plt.plot(x1, y1, label=\"line L\")\n",
        "plt.plot(x1, y2, label=\"line H\")\n",
        "\n",
        "plt.xlabel(\"x axis\")\n",
        "plt.ylabel(\"y axis\")\n",
        "plt.title(\"Line Graph\")\n",
        "\n",
        "plt.show()"
      ],
      "execution_count": null,
      "outputs": []
    },
    {
      "cell_type": "markdown",
      "metadata": {
        "id": "BoGU4qb6SHlr"
      },
      "source": [
        "**Bar chart**\n",
        "\n",
        "Bar graphs, also known as column charts, use vertical or horizontal bars to represent data along both an x-axis and a y-axis visually. Each bar represents one value."
      ]
    },
    {
      "cell_type": "code",
      "metadata": {
        "id": "Mq566mhKSTHQ"
      },
      "source": [
        "import matplotlib.pyplot as plt\n",
        "\n",
        "# Look at index 4 and 6, which demonstrate overlapping cases.\n",
        "x2 = [1, 3, 4, 5, 6, 7, 9]\n",
        "y3 = [4, 7, 2, 4, 7, 8, 3]\n",
        "\n",
        "x3 = [2, 4, 6, 8, 10]\n",
        "y4 = [5, 6, 2, 6, 2]\n",
        "\n",
        "# Colors: https://matplotlib.org/api/colors_api.html\n",
        "# try changing the value of \"alpha=\" parameter \n",
        "plt.bar(x2, y3, label=\"Blue Bar\", color='b')\n",
        "plt.bar(x3, y4, label=\"Green Bar\", color='g', alpha=0.4)\n",
        "\n",
        "plt.xlabel(\"bar number\")\n",
        "plt.ylabel(\"bar height\")\n",
        "plt.title(\"Bar Chart\")\n",
        "plt.legend()\n",
        "\n",
        "plt.show()"
      ],
      "execution_count": null,
      "outputs": []
    },
    {
      "cell_type": "markdown",
      "metadata": {
        "id": "vd4LPP43TZWQ"
      },
      "source": [
        "**Histogram**\n",
        "\n",
        "We use histograms to summarise discrete or continuous data, such as stock returns. Histograms provide a visual interpretation of numerical data by showing the number of data points that fall within a specified range of values - these are typically called \"bins\". "
      ]
    },
    {
      "cell_type": "code",
      "metadata": {
        "id": "Mvuw3RVWTvpn"
      },
      "source": [
        "import matplotlib.pyplot as plt\n",
        "import numpy as np\n",
        "\n",
        "# Use numpy to generate an array of random data points.\n",
        "# np.random.randn(A,B) - this function creates a 1D array (B=1) and\n",
        "# fills it with A (A=1000) random values as per standard normal distribution.\n",
        "data = np.random.randn(1000,1)\n",
        "\n",
        "# specify the required number of bins by changing the value of the \"bins=\" parameter\n",
        "plt.hist(data, bins=20, color='g', alpha=0.4)\n",
        "plt.title(\"Histogram\", color='r')\n",
        "plt.show()"
      ],
      "execution_count": null,
      "outputs": []
    },
    {
      "cell_type": "markdown",
      "metadata": {
        "id": "99IOQp6mU89G"
      },
      "source": [
        "**Scatter plot chart**\n",
        "\n",
        "In scatter plot charts, the values of two variables are plotted along the two axes. The pattern of the resulting points may reveal a correlation/association between the two variables (e.g. stock and market portfolio returns)."
      ]
    },
    {
      "cell_type": "code",
      "metadata": {
        "id": "rY-ismTaVlkD"
      },
      "source": [
        "import matplotlib.pyplot as plt\n",
        "\n",
        "# use numpy to generate 1D arrays of random data points (data2 and data3)\n",
        "data2 = np.random.randn(1000,1)\n",
        "data3 = np.random.randn(1000,1)\n",
        "\n",
        "# for more information on the design of markers, see https://matplotlib.org/api/markers_api.html\n",
        "plt.scatter(data2, data3, marker='*', color='r')\n",
        "\n",
        "plt.title('Scatter Plot')\n",
        "plt.show()"
      ],
      "execution_count": null,
      "outputs": []
    },
    {
      "cell_type": "markdown",
      "metadata": {
        "id": "dODVFfJ7ajmI"
      },
      "source": [
        "**Pie chart**\n",
        "\n",
        "Circular statistical graphic divided into slices to show percentage or proportional data. The percentage represented by each category is typically provided next to the corresponding slice of pie."
      ]
    },
    {
      "cell_type": "code",
      "metadata": {
        "id": "qgHWhkm-bFM2"
      },
      "source": [
        "import matplotlib.pyplot as plt\n",
        "\n",
        "# introduce category names, values, and section colours to use\n",
        "labels = 'Label_1', 'Label_2', 'Label_3'\n",
        "category_values = [56, 66, 24]\n",
        "colors = ['g', 'r', 'y']\n",
        "\n",
        "# use the \".pie\" method to plot the pie chart \n",
        "'''The default startangle is 0, which would start the \"Label_1\" slice on the\n",
        "positive x-axis. This example sets startangle = 90 such that everything is\n",
        "rotated counter-clockwise by 90 degrees, and the \"Label_1 slice starts on\n",
        "the positive y-axis.'''\n",
        "plt.pie(category_values, labels=labels, colors=colors,\n",
        "        startangle=90,\n",
        "        explode = (0, 0.1, 0), # Try commenting this out.\n",
        "        autopct = '%1.2f%%')\n",
        "\n",
        "plt.axis('equal') # Try commenting this out.\n",
        "plt.title('Pie Chart Example')\n",
        "\n",
        "plt.show()"
      ],
      "execution_count": null,
      "outputs": []
    },
    {
      "cell_type": "markdown",
      "metadata": {
        "id": "4MykHRAXdC6h"
      },
      "source": [
        "**Wireframe 3D Plot**\n",
        "\n",
        "Wireframe plots are used to graphically represent skeletal sketches of functions defined over a rectangular grid."
      ]
    },
    {
      "cell_type": "code",
      "metadata": {
        "id": "XelREKaKdMGr"
      },
      "source": [
        "# importing required librarires\n",
        "import matplotlib.pyplot as plt\n",
        "from mpl_toolkits.mplot3d import axes3d\n",
        "\n",
        "# create and instantiate the figure object \"fig\"\n",
        "fig = plt.figure()\n",
        "\n",
        "# create an axes object in the figure\n",
        "ax = fig.add_subplot(111, projection = '3d')\n",
        "\n",
        "x, y, z = axes3d.get_test_data()\n",
        "ax.plot_wireframe(x, y, z, rstride = 2, cstride = 2)\n",
        "\n",
        "plt.title(\"Wireframe Plot Example\")\n",
        "plt.tight_layout()\n",
        "plt.show()"
      ],
      "execution_count": null,
      "outputs": []
    },
    {
      "cell_type": "markdown",
      "metadata": {
        "id": "im8DKkyjfB88"
      },
      "source": [
        "**Regression line plot**\n",
        "\n",
        "Regression plot is a scatterplot graph with a  regression line fit to it. We'll use the `Seaborn` data visualisation library and its `.regplot` method to draw a regression line plot. For more information and examples, see <a href=\"https://seaborn.pydata.org/generated/seaborn.regplot.html\">here</a>."
      ]
    },
    {
      "cell_type": "code",
      "metadata": {
        "id": "1aG8zL3sforr"
      },
      "source": [
        "# importing required librarires\n",
        "import matplotlib.pyplot as plt\n",
        "import numpy as np\n",
        "import seaborn as sns\n",
        "\n",
        "# generate  random data points\n",
        "stock = np.random.randn(100,1)\n",
        "market = np.random.randn(100,1)\n",
        "\n",
        "# plot the regression line; \"ci\" stands for confidence interval and can be changed\n",
        "sns.regplot(x=market, y=stock, color=\"r\", marker=\"+\", ci=95)\n",
        "plt.show()"
      ],
      "execution_count": null,
      "outputs": []
    },
    {
      "cell_type": "markdown",
      "metadata": {
        "id": "jPSNd823iKIF"
      },
      "source": [
        "**Heatmap**\n",
        "\n",
        "Graphical representation of data where the individual values contained in a matrix are represented as colors. Useful for presenting correlations."
      ]
    },
    {
      "cell_type": "code",
      "metadata": {
        "id": "x6XSJ9vviUrX"
      },
      "source": [
        "# importing required librarires\n",
        "import matplotlib.pyplot as plt\n",
        "import numpy as np\n",
        "import seaborn as sns\n",
        "\n",
        "# create a 10 x 10 heatmap with random data\n",
        "side_length = 10\n",
        "\n",
        "# we start with a 10 x 10 matrix of random values\n",
        "data = np.random.randn(side_length, side_length)\n",
        "\n",
        "# the next two lines of code make the values larger as we get closer to (9, 9)\n",
        "# += simply adds a value and the variable and assigns the result to that variable\n",
        "data += np.arange(side_length)\n",
        "data += np.reshape(np.arange(side_length), (side_length, 1))\n",
        "\n",
        "# Generate the heatmap\n",
        "sns.heatmap(data, annot=True) # remove the \"annot=True\" parameter and rerun\n",
        "plt.show()"
      ],
      "execution_count": null,
      "outputs": []
    },
    {
      "cell_type": "markdown",
      "metadata": {
        "id": "HtXlQtY7jxRt"
      },
      "source": [
        "**Bubble chart**\n",
        "\n",
        "The simplest way to plot a bubble chart is to use the `scatterplot` method of `matplotlib`. However, we will use the ‘s‘ argument to map a third numerical variable to the size of the marker. This will allow us to change sizes of individual point on the same graphic."
      ]
    },
    {
      "cell_type": "code",
      "metadata": {
        "id": "H439iVosj78m"
      },
      "source": [
        "# import required libraries\n",
        "import matplotlib.pyplot as plt\n",
        "import numpy as np\n",
        " \n",
        "# generate random data\n",
        "x = np.random.rand(40)\n",
        "y = np.random.rand(40)\n",
        "z = np.random.rand(40)\n",
        " \n",
        "# use the scatter function\n",
        "plt.scatter(x, y, s=z*1000, alpha=0.5)\n",
        "plt.show()"
      ],
      "execution_count": null,
      "outputs": []
    },
    {
      "cell_type": "markdown",
      "metadata": {
        "id": "RNA1jkvTDH7g"
      },
      "source": [
        "<a name=\"section_4\"></a>\n",
        "# <strong>4. Data sources and data collection</strong>\n",
        "\n",
        "To perform data analysis, the first step is to load a file containing the pertinent data – such as a CSV or Excel file - into Colab. There are several ways to do so. You can import your own data into Colab notebooks from Google Drive, GitHub and many other sources. Some of these are discussed below. \n",
        "\n",
        "To find out more about importing data, and how Colab can be used for data analysis, see the <a href=\"https://github.com/mscouse/TBS_investment_management/blob/main/Python_workspace.pdf\">Python Workspace</a> document in the course GitHub repository or a more <a href=\"https://neptune.ai/blog/google-colab-dealing-with-files\">comprehensive guide</a> prepared by Siddhant Sadangi of Reuters."
      ]
    },
    {
      "cell_type": "markdown",
      "metadata": {
        "id": "bhg19De-n284"
      },
      "source": [
        "##4.1. Uploading files from your local drive\n",
        "\n",
        "It is easy to upload your locally stored data files. To upload the data from your local drive, type in the following code in a new “Code” cell in Colab (as demonstrated below):\n",
        "\n",
        "```\n",
        "from google.colab import files\n",
        "files.upload()\n",
        "```\n",
        "Once executed, the code will prompt you to select a file containing your data. Click on **“Choose Files”** then select and upload the file. Wait for the file to be 100% uploaded. You should see the name of the file in the code cell once it is uploaded.\n",
        "\n",
        "On the left side of Colab interface, there is a **\"Files/ Folder\"** tab. You can find the uploaded file in that directory. \n",
        "\n",
        "If you want to read the uploaded data into a Pandas dataframe (named `df` in this example), use the following code in a new code cell. The **'filename.csv'** should match the name of the uploaded file, including the `.csv` extension:\n",
        "\n",
        "```\n",
        "import pandas as pd\n",
        "df = pd.read_csv('filename.csv')\n",
        "```\n"
      ]
    },
    {
      "cell_type": "code",
      "metadata": {
        "id": "T2DnoqkJ5FQ2"
      },
      "source": [
        "from google.colab import files\n",
        "files.upload()"
      ],
      "execution_count": null,
      "outputs": []
    },
    {
      "cell_type": "markdown",
      "metadata": {
        "id": "HqgaZHHQq5hC"
      },
      "source": [
        "##4.2. Upload files from GitHub  (via its RAW URL)\n",
        "\n",
        "You can either clone an entire GitHub repository to your Colab environment or access individual files from their raw link. We use the latter method throughout the course/assignments. \n",
        "\n",
        "\n",
        "**Clone a GitHub repository**\n",
        "\n",
        "You can clone a GitHub repository into your Colab environment in the same way as you would on your local machine, using `!git clone` followed by the clone URL of the repository:\n",
        "\n",
        "```\n",
        "# use the correct URL\n",
        "!git clone https://github.com/repository_name.git\n",
        "```\n",
        "Once the repository is cloned, refresh the file-explorer to browse through its contents. Then you can simply read the files as you would in your local machine (see above).\n",
        "\n",
        "&nbsp;\n",
        "\n",
        "\n",
        "**Load GitHub files using raw links**\n",
        "\n",
        "There is no neeed to clone the repository to Colab if you need to work with only a few files from that repository. You can load individual files directly from GitHub using thier raw links, as follows:\n",
        "\n",
        "1.   click on the file in the repository;\n",
        "2.   click on `View Raw`;\n",
        "3.   copy the URL of the raw file,\n",
        "4.   use this URL as the location of your file (see sample code below) \n",
        "\n",
        "```\n",
        "import pandas as pd\n",
        "\n",
        "# step 1: store the link to your dataset as a string titled \"url\"\n",
        "url=\"https://raw.githubusercontent.com/mscouse/TBS_investment_management/main/1_labs_introduction/stock_prices_1.csv\"\n",
        "\n",
        "# step 2: Load the dataset into pandas. The dataset is stored as a pandas dataframe \"df\".\n",
        "df = pd.read_csv(url)\n",
        "```\n",
        "\n",
        "Try doing it yourself using the code cells below.\n"
      ]
    },
    {
      "cell_type": "code",
      "metadata": {
        "id": "qU19agzU9rBJ"
      },
      "source": [
        "# import any required libraries\n",
        "import pandas as pd\n",
        "\n",
        "# store the URL link to your GitHub dataset as a string titled \"url\"\n",
        "url = 'https://raw.githubusercontent.com/mscouse/TBS_investment_management/main/1_labs_introduction/stock_prices_1.csv'"
      ],
      "execution_count": null,
      "outputs": []
    },
    {
      "cell_type": "code",
      "metadata": {
        "id": "SbqLyxwq9sqb"
      },
      "source": [
        "# load the dataset into Pandas. The dataset will be stored as a Pandas Dataframe \"df\".\n",
        "# Note that the file we deal with in this example contains dates in the first column.\n",
        "# Therefore, we parse the dates using \"parse_dates\" and set the date column to be\n",
        "# the index of the dataframe (using the \"index_col\" parameter)\n",
        "df = pd.read_csv(url, parse_dates=['date'], index_col=['date'])\n",
        "df.head()"
      ],
      "execution_count": null,
      "outputs": []
    },
    {
      "cell_type": "markdown",
      "metadata": {
        "id": "xKHLtwPTOP11"
      },
      "source": [
        "##4.3. Accessing financial data\n",
        "\n",
        "There are several open source Python library designed to help researchers access financial data. One example is `yfinance` (formerly known as `fix-yahoo-finance`). It is a popular library, developed as a means to access the financial data available on Yahoo Finance.\n",
        "\n",
        "Other widely used libraries are `pandas_datareader`, `yahoo_fin`, `ffn`, `PyNance`, and `alpha vantage`.\n",
        "\n",
        "In this section we focus on the former library, `yfinance`. As this library is not pre-installed in Google Colab by default, we will first execute the following code to install it:\n",
        "\n",
        "```\n",
        "!pip install yfinance\n",
        "```\n",
        "The `!pip install <package>` command looks for the latest version of the package and installs it. This only needs to be done once per session."
      ]
    },
    {
      "cell_type": "code",
      "metadata": {
        "id": "gwx_MFHvRnFs"
      },
      "source": [
        "# install the yfinance library\n",
        "!pip install yfinance"
      ],
      "execution_count": null,
      "outputs": []
    },
    {
      "cell_type": "markdown",
      "metadata": {
        "id": "QGUyB4l_Px7G"
      },
      "source": [
        "As you may know, **Yahoo Finance** offers historical market data on stocks, bonds, cryptocurrencies, and currencies. It also aggregates companies' fundamental data.\n",
        "\n",
        "We will be using several modules and functions included with the `yfinance` library to download historical market data from Yahoo Finance. For more information on the library, see <a href=\"https://pypi.org/project/yfinance/\">here</a>. \n",
        "\n",
        "**Company information**\n",
        "\n",
        "The first `module` of the `yfinance` library we consider is `Ticker`. By using the `Ticker` function we pass the stock symbol for which we need to download the data. It allows us to access ticker-specific data, such as stock info, corporate actions, company financials, etc. In the example below we are working with Apple - its ticker is”AAPL”. The first step is to call the `Ticker` function to initialize the stock we work with."
      ]
    },
    {
      "cell_type": "code",
      "metadata": {
        "id": "xkrI1iyGTx-D"
      },
      "source": [
        "# import required libraries (note that yfinance needs to be imported in addition to being installed)\n",
        "import yfinance as yf\n",
        "\n",
        "# assign ticker to Python variable\n",
        "aapl = yf.Ticker(\"AAPL\")\n",
        "\n",
        "# get stock info\n",
        "aapl.info"
      ],
      "execution_count": null,
      "outputs": []
    },
    {
      "cell_type": "markdown",
      "metadata": {
        "id": "RHyby9P9aTzg"
      },
      "source": [
        "**Downloading stock data**\n",
        "\n",
        "To download the historical stock data, we need to use the `history` function. As arguments, we can pass **start** and **end** dates to set a specific time period. Otherwise, we can set the period to **max** which will return all the stock data available on Yahoo for the chosen ticker. \n",
        "\n",
        "Available paramaters for the `history()` method are:\n",
        "\n",
        "* period: data period to download (either use `period` parameter or use `start` and `end`). Valid periods are: 1d, 5d, 1mo, 3mo, 6mo, 1y, 2y, 5y, 10y, ytd, max;\n",
        "\n",
        "* interval: data interval (intraday data cannot extend past 60 days). Valid intervals are: 1m, 2m, 5m, 15m, 30m, 60m, 90m, 1h, 1d, 5d, 1wk, 1mo, 3mo;\n",
        "\n",
        "* start: if not using `period` - download start date string (YYYY-MM-DD) or datetime;\n",
        "\n",
        "* end: if not using `period` - download end date string (YYYY-MM-DD) or datetime;"
      ]
    },
    {
      "cell_type": "code",
      "metadata": {
        "id": "2Eo9wzdcUaAz"
      },
      "source": [
        "# get historical market data\n",
        "hist = aapl.history(period=\"max\")\n",
        "hist.head()"
      ],
      "execution_count": null,
      "outputs": []
    },
    {
      "cell_type": "markdown",
      "metadata": {
        "id": "NZ1gTREkbPCH"
      },
      "source": [
        "**Displaying corporate actions and analysts recommendations**\n",
        "\n",
        "To display information about the dividends and stock splits, or the analysts recommendations use the `actions` and `recommendations` functions."
      ]
    },
    {
      "cell_type": "code",
      "metadata": {
        "id": "0i73yGB9Uoud"
      },
      "source": [
        "# show company corporate actions, such as dividends and stock splits\n",
        "aapl.actions"
      ],
      "execution_count": null,
      "outputs": []
    },
    {
      "cell_type": "code",
      "metadata": {
        "id": "b13hFcJXU3ub"
      },
      "source": [
        "# show analysts recommendations\n",
        "aapl.recommendations"
      ],
      "execution_count": null,
      "outputs": []
    },
    {
      "cell_type": "markdown",
      "metadata": {
        "id": "seuQBdd6VUDR"
      },
      "source": [
        "**Data for multiple stocks**\n",
        "\n",
        "To download data for multiple tickers, we need to use the `download()` method, as follows:\n",
        "```\n",
        "# Version 1\n",
        "\n",
        "import yfinance as yf\n",
        "stock_data = yf.download(\"AAPL MSFT BRK-A\", start=\"2015-01-01\", end=\"2021-01-20\")\n",
        "```\n",
        "\n",
        "Alternatively, we can rewrite the code above as:\n",
        "```\n",
        "# Version 2\n",
        "\n",
        "import yfinance as yf\n",
        "\n",
        "tickers = \"AAPL MSFT BRK-A\"\n",
        "date_1 = \"2015-01-01\"\n",
        "date_2 = \"2021-01-20\"\n",
        "\n",
        "stock_data = yf.download(tickers, start=date_1, end=date_2)\n",
        "```\n",
        "\n",
        "To access the closing adjusted price data for the tickers in the `stock_data` dataframe the code above creates, you should use: `stock_data['Adj Close']`. To access the closing adjusted price data for 'AAPL' only, use: `stock_data['Adj Close']['AAPL']`. \n"
      ]
    },
    {
      "cell_type": "code",
      "metadata": {
        "id": "6cteE9RbVzcp"
      },
      "source": [
        "# Version 1\n",
        "# import required libraries\n",
        "import yfinance as yf\n",
        "\n",
        "# fetch data for multiple tickers\n",
        "stock_data = yf.download(\"AAPL MSFT BRK-A\", start=\"2015-01-01\", end=\"2021-01-20\")\n",
        "\n",
        "# display the last 5 rows of the dataframe; we choose to display the \"Adj Close\" column only\n",
        "stock_data[\"Adj Close\"].tail()"
      ],
      "execution_count": null,
      "outputs": []
    },
    {
      "cell_type": "code",
      "metadata": {
        "id": "haxf2MghXWLN"
      },
      "source": [
        "# Version 2\n",
        "import yfinance as yf\n",
        "\n",
        "# assign required values to variables\n",
        "tickers = \"AAPL MSFT BRK-A\"\n",
        "date_1 = \"2015-01-01\"\n",
        "date_2 = \"2021-01-20\"\n",
        "\n",
        "# fetch data for multiple tickers\n",
        "stock_data = yf.download(tickers, start=date_1, end=date_2)\n",
        "\n",
        "# display the last 5 rows of the dataframe; we choose to display the \"Adj Close\" column only\n",
        "stock_data[\"Adj Close\"].tail()"
      ],
      "execution_count": null,
      "outputs": []
    },
    {
      "cell_type": "code",
      "metadata": {
        "id": "NbBVKVcge9Ud"
      },
      "source": [
        "# display the last 5 rows of AAPL adjusted close prices\n",
        "stock_data['Adj Close']['AAPL'].tail()"
      ],
      "execution_count": null,
      "outputs": []
    },
    {
      "cell_type": "markdown",
      "metadata": {
        "id": "KNd0IIbPfbWH"
      },
      "source": [
        "However, if you want to group stock data by ticker, use the following code:\n",
        "\n",
        "```\n",
        "# Version 3\n",
        "\n",
        "import yfinance as yf\n",
        "\n",
        "tickers = \"AAPL MSFT BRK-A\"\n",
        "date_1 = \"2015-01-01\"\n",
        "date_2 = \"2021-01-20\"\n",
        "\n",
        "stock_data = yf.download(tickers, start=date_1, end=date_2, group_by=\"ticker\")\n",
        "```\n",
        "\n",
        "To access the closing adjusted price data for 'AAPL' only, use: `stock_data['AAPL']['Adj Close']`. \n"
      ]
    },
    {
      "cell_type": "code",
      "metadata": {
        "id": "qwJDKuFVf88U"
      },
      "source": [
        "# Version 3\n",
        "import yfinance as yf\n",
        "\n",
        "# assign required values to variables\n",
        "tickers = \"AAPL MSFT BRK-A\"\n",
        "date_1 = \"2015-01-01\"\n",
        "date_2 = \"2021-01-20\"\n",
        "\n",
        "# fetch data for multiple tickers\n",
        "stock_data = yf.download(tickers, start=date_1, end=date_2, group_by=\"ticker\")\n",
        "\n",
        "# display the last 5 rows of \"Adj Close\" prices for AAPL only\n",
        "stock_data[\"AAPL\"][\"Adj Close\"].tail()"
      ],
      "execution_count": null,
      "outputs": []
    },
    {
      "cell_type": "markdown",
      "metadata": {
        "id": "QAEKRRk6dhhv"
      },
      "source": [
        "<a name=\"section_5\"></a>\n",
        "# <strong>5. Basic financial calculations in python</strong>\n",
        "\n",
        "In this section we will work with basic financial calculations and functions, such as computing and compounding investment returns, calculating  averages, and computing measures of investment risk.\n",
        "\n",
        "We use `pandas` dataframes to store all necessary data. A DataFrame is a 2-dimensional data structure that can store data of different types (including characters, integers, floating point values, categorical data, etc).\n",
        "\n",
        "Colab includes an extension that renders Pandas dataframes into interactive tables that can be filtered, sorted, and explored dynamically.\n",
        " \n",
        "The extension can be enabled by executing `%load_ext google.colab.data_table` in any code cell and disabled with `%unload_ext google.colab.data_table`."
      ]
    },
    {
      "cell_type": "markdown",
      "metadata": {
        "id": "DuD2vJYLn1zI"
      },
      "source": [
        "##5.1. From asset prices to returns\n",
        "\n",
        "Holding period return from time $t$ to time $t+1$ is calculated as:\n",
        "\n",
        "$$ HPR_{t,t+1} = \\frac{P_{t+1}-P_{t}+D_{t+1}}{P_{t}} $$\n",
        "\n",
        "If we assume that the stock does not pay dividends $D_{t+1}$, we can rewrite it as:\n",
        "\n",
        "$$ HPR_{t,t+1} = \\frac{P_{t+1}}{P_{t}} - 1 $$\n"
      ]
    },
    {
      "cell_type": "markdown",
      "metadata": {
        "id": "T9pDRFQFslTh"
      },
      "source": [
        "###**Manual data entry**\n",
        "\n",
        "We will now implement the return formula in Python using mannually input data. First, we will create a `pandas` dataframe containing two columns with historical asset prices for A and B. "
      ]
    },
    {
      "cell_type": "code",
      "metadata": {
        "id": "zXSTWuRipyI5"
      },
      "source": [
        "# enable extension to render pandas dataframes into interactive tables\n",
        "%load_ext google.colab.data_table\n",
        "\n",
        "# import pandas library\n",
        "import pandas as pd\n",
        "\n",
        "#step 1: create a pandas dataframe with asset prices (alternatively, we can read in\n",
        "# a file containing prices - such as an .CSV or .XLSX files)\n",
        "prices = pd.DataFrame({\"A\": [8.70, 8.91, 8.71, 8.43, 8.73],\n",
        "                       \"B\": [10.66, 11.08, 10.71, 11.59, 12.11]})\n",
        "\n",
        "#step 2: pandas' \"series\" and \"dataframe\" have a built-in \"pct_change()\" method\n",
        "# to compute the percent change from one row to another. As return, by definition,\n",
        "# is the percentage change in price, we can use this method to compute returns\n",
        "returns = prices.pct_change()\n",
        "\n",
        "#step 3: display returns\n",
        "'''\n",
        "Note that it is not possible to compute returns for the first available day in the\n",
        "dataset as there is no closing price for the previous day. Therefore, one data point\n",
        "is lost when going from prices to returns.\n",
        "'''\n",
        "returns\n",
        "\n"
      ],
      "execution_count": null,
      "outputs": []
    },
    {
      "cell_type": "markdown",
      "metadata": {
        "id": "1JRkWIsDs_dV"
      },
      "source": [
        "###**Randomly generated data**\n",
        "\n",
        "In this section, we implement the return formula in Python using randomly generated data for 4 stock - A, B, C and D. We create a `pandas` dataframe containing 4 columns and populate it with randomly generated data points. "
      ]
    },
    {
      "cell_type": "code",
      "metadata": {
        "id": "4uQbjSNQtQ1y"
      },
      "source": [
        "# import required libraries\n",
        "import numpy as np\n",
        "import pandas as pd\n",
        "\n",
        "#step 1: create a pandas dataframe (called \"prices_2\") with random asset prices\n",
        "stocks = [\"A\", \"B\", \"C\", \"D\"]\n",
        "prices_2 = pd.DataFrame(np.random.randint(0,100,size=(100, 4)), columns=stocks)\n",
        "\n",
        "#you can inspect the first 5 lines of the newly created pandas dataframe using \".head()\" method, as\n",
        "# prices_2.head()\n",
        "\n",
        "#step 2: calculate investment returns using the a built-in \"pct_change()\" method\n",
        "returns_2 = prices_2.pct_change()\n",
        "\n",
        "#step 3: display first 5 lines of the resulting \"returns\" dataframe\n",
        "returns_2.head()"
      ],
      "execution_count": null,
      "outputs": []
    },
    {
      "cell_type": "markdown",
      "metadata": {
        "id": "fwS6UJutvOMU"
      },
      "source": [
        "###**Loading return data**\n",
        "\n",
        "In this section, we implement the return formula in Python using loaded data. It is very easy to read the data into Python from a file. Pandas provides a convenient way to read in a CSV/XLSX files containing return observations (using the `.read_csv()` method).\n",
        "\n",
        "We will upload a sample CSV file from the course GitHub repository. For other methods of uploading data files, see section 5 of the **Python_workspace.pdf** document."
      ]
    },
    {
      "cell_type": "code",
      "metadata": {
        "id": "4mbZXrJ62ykB"
      },
      "source": [
        "# import required libraries\n",
        "import pandas as pd\n",
        "\n",
        "# step 1: Copy the link to your GitHub dataset and store it as a string titled \"data_url\"\n",
        "data_url=\"https://raw.githubusercontent.com/mscouse/TBS_investment_management/main/1_labs_introduction/stock_prices_1.csv\"\n",
        "\n",
        "# step 2: Load the dataset into pandas. The dataset is stored as a pandas dataframe \"prices_3\".\n",
        "# Note that the file contains dates. We parse the dates using \"parse_dates\" and \n",
        "# set the date column to be the index of the dataframe (using the parameter \"index_col\")\n",
        "prices_3 = pd.read_csv(data_url, parse_dates=['date'], index_col=['date'])\n",
        "\n",
        "# step 3: inspect the first 5 lines of the loaded data using the pandas \".head()\" method\n",
        "prices_3.head()"
      ],
      "execution_count": null,
      "outputs": []
    },
    {
      "cell_type": "code",
      "metadata": {
        "id": "-NrDVGTE-ZOQ"
      },
      "source": [
        "#step 4: calculate investment returns using the the built-in \"pct_change()\" method\n",
        "returns_3 = prices_3.pct_change()\n",
        "\n",
        "#step 3: display first 5 lines of the resulting \"returns\" dataframe\n",
        "returns_3.head()"
      ],
      "execution_count": null,
      "outputs": []
    },
    {
      "cell_type": "markdown",
      "metadata": {
        "id": "C85asoLqGCiw"
      },
      "source": [
        "##5.2. Descriptive statistics\n",
        "\n",
        "In this section we compute basic descriptive statistics for the previously computed returns. We continue working with the CSV file with sample stock prices from the course GitHub repository."
      ]
    },
    {
      "cell_type": "markdown",
      "metadata": {
        "id": "TMMK-hb0Gltf"
      },
      "source": [
        "###**Arithmetic average return**\n",
        "\n",
        "Once we have the monthly returns, as computed in the previous section, we can calculate the average monthly returns by using the `.mean()` method available in `pandas`."
      ]
    },
    {
      "cell_type": "code",
      "metadata": {
        "id": "QniOX_4bQn8p"
      },
      "source": [
        "# import required libraries\n",
        "import pandas as pd\n",
        "\n",
        "# step 1: Copy the link to your GitHub dataser and store it as a string titled \"data_url_2\"\n",
        "data_url_2=\"https://raw.githubusercontent.com/mscouse/TBS_investment_management/main/1_labs_introduction/stock_prices_1.csv\"\n",
        "\n",
        "# step 2: Load the dataset into pandas. The dataset is stored as a pandas dataframe \"prices_3\".\n",
        "# Note that the file contains dates. We parse the dates using \"parse_dates\" and \n",
        "# set the date column to be the index of the dataframe (using the parameter \"index_col\")\n",
        "prices_4 = pd.read_csv(data_url_2, parse_dates=['date'], index_col=['date'])\n",
        "\n",
        "#step 3: calculate investment returns using the the built-in \"pct_change()\" method\n",
        "returns_4 = prices_4.pct_change()\n",
        "\n",
        "#step 4: drop all missing values\n",
        "returns_4 = returns_4.dropna()\n",
        "\n",
        "#step 5: compute average returns\n",
        "mean_returns = returns_4.mean()\n",
        "\n",
        "#step 6: print average returns\n",
        "mean_returns"
      ],
      "execution_count": null,
      "outputs": []
    },
    {
      "cell_type": "markdown",
      "metadata": {
        "id": "wrj7mFM8RSMS"
      },
      "source": [
        "###**Standard deviation of returns**\n",
        "\n",
        "Once we have the monthly returns, as computed in the previous section, we can calculate the  monthly standard deviation of returns by using the `.std()` method available in `pandas`.\n",
        "\n",
        "Here, we use the `returns_4` dataframe from the previous sub-section."
      ]
    },
    {
      "cell_type": "code",
      "metadata": {
        "id": "FaKPn12bRcOj"
      },
      "source": [
        "#step 7: compute standard deviation of returns\n",
        "std_returns = returns_4.std()\n",
        "\n",
        "#step 8: print standard deviations\n",
        "std_returns"
      ],
      "execution_count": null,
      "outputs": []
    },
    {
      "cell_type": "markdown",
      "metadata": {
        "id": "1TUyDqwHIHzo"
      },
      "source": [
        "###**Compounding returns**\n",
        "\n",
        "Once we have the monthly returns, as computed  in the previous section, we can calculate the compounded return. One way to do so would be by multiplying the individual period returns expressed as growth rates (using \"1+HPR\" format).\n",
        "\n",
        "Therefore, the first step is to add 1 to each monthly return. The second step is to compute the product of the resulting numbers:\n",
        "\n",
        "$$ Comp.return_{t1,tn} = (1+r_{1})\\times(1+r_{2})\\times...\\times(1+r_{n}) -1 $$\n"
      ]
    },
    {
      "cell_type": "code",
      "metadata": {
        "id": "ISyxzEg4KHmM"
      },
      "source": [
        "# import required libraries\n",
        "import pandas as pd\n",
        "\n",
        "# step 1: Copy the link to your GitHub dataser and store it as a string titled \"data_url_2\"\n",
        "data_url_3=\"https://raw.githubusercontent.com/mscouse/TBS_investment_management/main/1_labs_introduction/stock_prices_1.csv\"\n",
        "\n",
        "# step 2: Load the dataset into pandas. The dataset is stored as a pandas dataframe \"prices_3\".\n",
        "# Note that the file contains dates. We parse the dates using \"parse_dates\" and \n",
        "# set the date column to be the index of the dataframe (using the parameter \"index_col\")\n",
        "prices_5 = pd.read_csv(data_url_3, parse_dates=['date'], index_col=['date'])\n",
        "\n",
        "#step 3: calculate investment returns using the the built-in \"pct_change()\" method\n",
        "returns_5 = prices_5.pct_change()\n",
        "\n",
        "#step 4: drop all missing values\n",
        "returns_5 = returns_5.dropna()\n",
        "\n",
        "#step 5: compute compounded returns\n",
        "comp_returns = (returns_5+1).prod()-1\n",
        "\n",
        "#step 6: print compounded returns\n",
        "comp_returns"
      ],
      "execution_count": null,
      "outputs": []
    },
    {
      "cell_type": "code",
      "metadata": {
        "id": "u4JFVltxM3oZ"
      },
      "source": [
        "# step 7: annualise monthly compounded returns\n",
        "months = len(returns_5)\n",
        "annual_comp_returns = (returns_5+1).prod()**(12/months)-1\n",
        "annual_comp_returns"
      ],
      "execution_count": null,
      "outputs": []
    },
    {
      "cell_type": "markdown",
      "metadata": {
        "id": "ipwqQcpbSGYz"
      },
      "source": [
        "###**Annualising returns**\n",
        "\n",
        "To annualise a return computed over a given period of length m, we compound the return for as many times as the number of m-length periods in one year.\n",
        "\n",
        "For example, to annualise a monthly return, we compund that return 12 times. The formula to annualize a monthly return $r_m$ is:\n",
        "\n",
        "$$ (1+r_m)^{12} - 1$$\n",
        "\n",
        "To annualise a quarterly return $r_q$ we have:\n",
        "\n",
        "$$ (1+r_q)^{4} - 1$$\n",
        "\n",
        "To annualise a daily return $r_d$ we get (there are approximately 252 trading days in a year):\n",
        "\n",
        "$$ (1+r_d)^{252} - 1$$\n",
        "\n",
        "For example, to annualize a 1% monthly, and 4% quarterly and a 0.01% daily return you would do."
      ]
    }
  ]
}