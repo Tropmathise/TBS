{
  "nbformat": 4,
  "nbformat_minor": 0,
  "metadata": {
    "colab": {
      "name": "PM_assignment_1.ipynb",
      "provenance": [],
      "collapsed_sections": [
        "vbx45wHhklCh",
        "FNGH0ANypbVN",
        "1JD7-chppxNJ",
        "8Dl2TMTMCAl7",
        "nsC4GbQLC-Zb",
        "i3XEjn2OD9fB",
        "nXe4ClXwHOed",
        "aUR7xKzdoSYT",
        "qiWg0PhJob99",
        "Nivc9LOHr9b6",
        "_05oVtSVuF1W",
        "AtAjsJXLu2br",
        "XfWP-A8VvsVy",
        "iQghZgwYHZmj",
        "a-u4LIvxHqot",
        "4eq9RyvGH1nY"
      ],
      "toc_visible": true
    },
    "kernelspec": {
      "name": "python3",
      "display_name": "Python 3"
    }
  },
  "cells": [
    {
      "cell_type": "markdown",
      "metadata": {
        "id": "N1uOo9_0Yy9J"
      },
      "source": [
        "[![Open In Colab](https://colab.research.google.com/assets/colab-badge.svg)](https://colab.research.google.com/drive/1-mKbU9Yz9vaaQz6cr13SrvvMy_4hXkk7?usp=sharing)\n",
        "# <strong> Investment Management 1</strong>\n",
        "---\n",
        "#<strong> Assignment 1</strong>\n",
        "**You have to use this Colab notebook to complete the assignment. To get started, create a copy of the notebook and save it on your Google drive.**\n",
        "\n",
        "&nbsp;\n",
        "\n",
        "**Deadline:** See C@mpus.\n",
        "\n",
        "&nbsp;\n",
        "\n",
        "**Total:** 100 Points\n",
        "\n",
        "&nbsp;\n",
        "\n",
        "**Late submission penalty:** there is a penalty-free grace period of two hours past the deadline. Any work that is submitted between 2 hour and 24 hours past the deadline will receive a 20% grade deduction. No other work will be accepted after that. C@mpus submission time will be used, not your local computer time. You can submit your completed assignment as many times as required before the deadline. Consider submitting your work early.\n",
        "\n",
        "&nbsp;\n",
        "\n",
        "This assignment is a warm up to get you used to the Colab/ Jupyter notebook environment used in the course, and also to help you acquaint yourself with Python and relevant Python libraries. The assignment must be completed individually. The TBS plagarism rules apply.\n",
        "\n",
        "By the end of this assignment, you should be able to:\n",
        "\n",
        "* fetch or load financial time series data into Colab \n",
        "\n",
        "* load data into `pandas` dataframe\n",
        "\n",
        "* perform basic operations with `pandas` dataframes\n",
        "\n",
        "* perform EDA (exploratory data analysis) on a given dataset\n",
        "\n",
        "&nbsp;\n",
        "\n",
        "\n",
        "You will need to use the `numpy` and `pandas` libraries for necessary data manipulation. For more information, see:\n",
        "https://numpy.org/doc/stable/reference/\n",
        "\n",
        "https://pandas.pydata.org/\n",
        "\n",
        "You can use a financial data library of your choice to access historical asset prices. One example is `yfinance`. It is used to access the financial data available on Yahoo Finance. Other widely used libraries are `pandas_datareader`, `yahoo_fin`, `ffn` (highly recommended), and `PyNance`. You are also free to use any Python data visualisation library of your choice (default is `matplotlib`). Some of the available options include: `Seaborn`, `Bokeh`, `ggplot`, `pygal`, and `Plotly`."
      ]
    },
    {
      "cell_type": "markdown",
      "metadata": {
        "id": "0zb_4141hIAU"
      },
      "source": [
        "##**What to submit**\n",
        "\n",
        "Submit a PDF file containing your code, outputs, and write-up from parts 1-4. You can produce a PDF of your Colab file by going to `File >>> Print` and selecting `save as PDF`. See the <a href=\"https://github.com/mscouse/TBS_investment_management/blob/main/Python_workspace.pdf\">Python Workspace</a> document in the course GitHub repository for more information. **Do not submit any other data files produced by your code.**\n",
        "\n",
        "&nbsp;\n",
        "\n",
        "You also need to provide a link to your completed Colab file in your submission - see the **\"Colab link\"** section below.\n",
        "\n",
        "Please note that you have to use Google Colab to complete this assignment. If you want to use Jupyter Notebook, complete the assignment and upload your Jupyter Notebook file to Google Colab for submission. "
      ]
    },
    {
      "cell_type": "markdown",
      "metadata": {
        "id": "qfxwyTdGjjbN"
      },
      "source": [
        "##**Colab link**\n",
        "Before submitting your work, make sure to include a link to your colab file below.\n",
        "\n",
        "**Colab Link:** _ _ _ _ _ _ _ _ _ _ _ _"
      ]
    },
    {
      "cell_type": "markdown",
      "metadata": {
        "id": "vbx45wHhklCh"
      },
      "source": [
        "##**Part 1: Obtaining financial data [10 pt]**\n",
        "\n",
        "The purpose of this section is to get you used to the basics of Python and the Colab notebook environment. This includes importing data and working with variables, lists, dataframes, and functions.\n",
        "\n",
        "Your code will be checked for clarity and efficiency. If you have trouble with this part of the assignment, please review the introductory Colab notebooks stored in the GitHub course repository."
      ]
    },
    {
      "cell_type": "markdown",
      "metadata": {
        "id": "FNGH0ANypbVN"
      },
      "source": [
        "###Part 1.1. Loading historical stock prices (6pt)\n",
        "\n",
        "Using any Python financial data library (e.g. `yfinance`) download daily adjusted close prices for 5 U.S. stocks of your choice for the last 5 years and store them in a `pandas` DataFrame object named `stock_prices`. Only stocks that are current constituents of the S&P 500 should be considered.\n",
        "\n",
        "&nbsp;\n",
        "\n",
        "As the financial data library you use is not pre-installed in Google Colab by default, make sure to install it first by executing the following code:\n",
        "```\n",
        "!pip install library_name\n",
        "```\n",
        "\n",
        "The !pip install <package> command looks for the latest version of the package and installs it. This only needs to be done once per session.\n",
        "\n",
        "If you are unable to install the required library to fetch the data, you can prepare a separate CSV file containing the necessary data and use the following code to read it into a `pandas` dataframe object:\n",
        "```\n",
        "from google.colab import files\n",
        "files.upload()\n",
        "```\n",
        "followed by:\n",
        "```\n",
        "import pandas as pd\n",
        "stock_prices = pd.read_csv('filename.csv')\n",
        "```\n",
        "Note that `filename.csv` should be changed to the exact name of your CSV file. "
      ]
    },
    {
      "cell_type": "code",
      "metadata": {
        "id": "NLU_CDgC_SWA"
      },
      "source": [
        "# step 1: install required libraries using \"!pip install\"\n",
        "# YOUR CODE HERE"
      ],
      "execution_count": null,
      "outputs": []
    },
    {
      "cell_type": "code",
      "metadata": {
        "id": "4GlNvrQz_fl_"
      },
      "source": [
        "# step 2: import required libraries using \"import\"\n",
        "# YOUR CODE HERE"
      ],
      "execution_count": null,
      "outputs": []
    },
    {
      "cell_type": "code",
      "metadata": {
        "id": "zkQRHW4y_qrG"
      },
      "source": [
        "# step 3: fetch historical asset prices\n",
        "# YOUR CODE HERE"
      ],
      "execution_count": null,
      "outputs": []
    },
    {
      "cell_type": "markdown",
      "metadata": {
        "id": "1JD7-chppxNJ"
      },
      "source": [
        "###Part 1.2. Obtaining data on risk-free asset (4pt)\n",
        "\n",
        "Using a financial data library (e.g. `yfinance`) of your choice, obtain daily data on the U.S. risk-free (1-month Treasury Bill) rate for the last 5 years and store them in a `pandas` DataFrame object named `rf`.\n",
        "\n",
        "If you are unable to obtain the risk-free data using your chosen data library, you can prepare a separate CSV file containing the necessary data and use the steps discussed above to read it into a `pandas` dataframe object `rf`."
      ]
    },
    {
      "cell_type": "code",
      "metadata": {
        "id": "wk1J2tIuBo20"
      },
      "source": [
        "# step 4: fetch historical risk-free rate\n",
        "# YOUR CODE HERE"
      ],
      "execution_count": null,
      "outputs": []
    },
    {
      "cell_type": "markdown",
      "metadata": {
        "id": "8Dl2TMTMCAl7"
      },
      "source": [
        "##**Part 2: Visualising historical asset prices [10pt]**\n",
        "\n",
        "In this part of the assignment, you will be manipulating dataframes containing historical asset prices using Pandas, and visualising them using a Python plotting library of your choice. The purpose of these visualisations is to help you explore the data and identify any patterns. \n",
        "\n",
        "One robust visualisation library you may want to consider is `Matplotlib`. It is one of the most popular, and certainly the most widely used, multi-platform data visualisation library built on NumPy arrays in Python. It is used to generate simple yet powerful visualisations with just a few lines of code. It can be used in both interactive and non-interactive scripts.\n",
        "\n",
        "Make sure you import the required libraries first."
      ]
    },
    {
      "cell_type": "markdown",
      "metadata": {
        "id": "nsC4GbQLC-Zb"
      },
      "source": [
        "###Part 2.1. Raw stock prices (4pt)\n",
        "\n",
        "Plot the adjusted daily close prices for your stocks on the same diagram using a Python data visualisation library of your choice (default is matplotlib). Use the historical price data stored in the `stock_prices` dataframe created earlier. "
      ]
    },
    {
      "cell_type": "code",
      "metadata": {
        "id": "fUFKwlXkDoui"
      },
      "source": [
        "# step 5: import required data visualisation library\n",
        "# YOUR CODE HERE"
      ],
      "execution_count": null,
      "outputs": []
    },
    {
      "cell_type": "markdown",
      "metadata": {
        "id": "i3XEjn2OD9fB"
      },
      "source": [
        "###Part 2.1. Rebased stock prices (6pt)\n",
        "\n",
        "To make comparing and plotting different asset price series together easier, we often \"rebase\" all prices to a given initial value - e.g. 100. \n",
        "\n",
        "In this section, you need to rebase the adjusted close prices for your stocks and plot them on the same diagram using a visualisation library of your choice (default is matplotlib). Note that some financial data libraries have handy built-in functions to perform this kind of task. Have a look at the `ffn` library <a href=\"https://pmorissette.github.io/ffn/\"> documentation </a>. "
      ]
    },
    {
      "cell_type": "code",
      "metadata": {
        "id": "7dHYgg3yEFWe"
      },
      "source": [
        "# step 6: import required data visualisation library\n",
        "# YOUR CODE HERE"
      ],
      "execution_count": null,
      "outputs": []
    },
    {
      "cell_type": "markdown",
      "metadata": {
        "id": "nXe4ClXwHOed"
      },
      "source": [
        "##**Part 3: Absolute return and risk measures [40pt]**\n",
        "\n",
        "In this part of the assignment, you will work with basic financial calculations and functions, such as computing and compounding investment returns, calculating averages, and computing measures of investment risk.\n",
        "\n",
        "I suggest you use `pandas` dataframes to store all necessary data. Colab includes an extension that renders Pandas dataframes into interactive tables that can be filtered, sorted, and explored dynamically.\n",
        "\n",
        "The extension can be enabled by executing `%load_ext google.colab.data_table` in any code cell and disabled with `%unload_ext google.colab.data_table`."
      ]
    },
    {
      "cell_type": "markdown",
      "metadata": {
        "id": "aUR7xKzdoSYT"
      },
      "source": [
        "### 3.1. Stock returns (6pt)\n",
        "\n",
        "In asset management, we are often interested in the returns of a given time series. Therefore, in this part of the assignment, you need to compute **daily**, **weekly**, and **monthly** **arithmetic and logarithmic** returns for each chosen stock and store them in separate `pandas` dataframe objects named `returns` and `log_returns`, respectively.\n",
        "\n",
        "Make sure to drop any missing values and display the first 5 lines of the resulting dataframes. "
      ]
    },
    {
      "cell_type": "code",
      "metadata": {
        "id": "fEkjIX6oobZr"
      },
      "source": [
        "# step 7: import required data visualisation library\n",
        "# YOUR CODE HERE"
      ],
      "execution_count": null,
      "outputs": []
    },
    {
      "cell_type": "markdown",
      "metadata": {
        "id": "qiWg0PhJob99"
      },
      "source": [
        "### 3.2. Distribution of returns (5pt)\n",
        "\n",
        "Check what the return distributions look like by plotting a histogram of daily returns calculated in the previous section. You can use any Python visualisation library of your choice.\n",
        "\n",
        "Plot returns distributions for both, arithmetic and logarithmic returns. Discuss whether there are significant differences between the two. Also, provide a short explanation on when and why we use log returns, rather than normal returns."
      ]
    },
    {
      "cell_type": "code",
      "metadata": {
        "id": "SFyEn2urox5-"
      },
      "source": [
        "# step 8: import required data visualisation library\n",
        "# YOUR CODE HERE"
      ],
      "execution_count": null,
      "outputs": []
    },
    {
      "cell_type": "markdown",
      "metadata": {
        "id": "Uk9IIYSSrAnW"
      },
      "source": [
        "**Your response/ short explanation:** ________HERE_________\n"
      ]
    },
    {
      "cell_type": "markdown",
      "metadata": {
        "id": "Nivc9LOHr9b6"
      },
      "source": [
        "### 3.3. Correlation matrix (5pt)\n",
        "\n",
        "Using daily arithmetic stock returns, compute pairwise correlations between your 5 assets and plot a correlation matrix. \n",
        "\n",
        "(optional) You may want to have a look at the `heatmap()` method in the `Seaborn` visualisation library. It allows you to create elegant correlation heatmaps easily. "
      ]
    },
    {
      "cell_type": "code",
      "metadata": {
        "id": "2cJf0FI4sp5y"
      },
      "source": [
        "# step 9: import required data visualisation library\n",
        "# YOUR CODE HERE"
      ],
      "execution_count": null,
      "outputs": []
    },
    {
      "cell_type": "markdown",
      "metadata": {
        "id": "_05oVtSVuF1W"
      },
      "source": [
        "### 3.4. Cumulative returns (8pt)\n",
        "\n",
        "Using the arithmetic daily returns, compute cumulative returns for each stock over the last 1–, 3-, and 5- year periods and display them as values. Once done, annualise the resulting cumulative daily returns for each stock and display them as well."
      ]
    },
    {
      "cell_type": "code",
      "metadata": {
        "id": "TMOZ5GDPu11A"
      },
      "source": [
        "# step 10: import required data visualisation library\n",
        "# YOUR CODE HERE"
      ],
      "execution_count": null,
      "outputs": []
    },
    {
      "cell_type": "markdown",
      "metadata": {
        "id": "AtAjsJXLu2br"
      },
      "source": [
        "### 3.5. Arithmetic average returns (8pt)\n",
        "\n",
        "Compute arithmetic average daily returns for each stock, annualise them, and display the resulting values. \n",
        "\n",
        "As there are typically 252 trading days in a year, to annualise a daily return $r_d$ we use:\n",
        "\n",
        "$$ (1+r_d)^{252} - 1$$"
      ]
    },
    {
      "cell_type": "code",
      "metadata": {
        "id": "xuYObzdnvrsT"
      },
      "source": [
        "# step 11: import required data visualisation library\n",
        "# YOUR CODE HERE"
      ],
      "execution_count": null,
      "outputs": []
    },
    {
      "cell_type": "markdown",
      "metadata": {
        "id": "XfWP-A8VvsVy"
      },
      "source": [
        "### 3.6. Standard deviation (8pt)\n",
        "\n",
        "Using the stock returns calculated earlier, compute standard deviations of daily returns for each stock over the last 1–, 3-, and 5- year periods and display them.\n",
        "\n",
        "Once done, repeat the calculation of standard deviations but using monthly returns instead. Display the resulting values.\n",
        "\n",
        "Explain what the best way to annualise standard deviations is."
      ]
    },
    {
      "cell_type": "code",
      "metadata": {
        "id": "9PzIzfaGwjRH"
      },
      "source": [
        "# step 12: import required data visualisation library\n",
        "# YOUR CODE HERE"
      ],
      "execution_count": null,
      "outputs": []
    },
    {
      "cell_type": "markdown",
      "metadata": {
        "id": "e4iiMa20wjoU"
      },
      "source": [
        "**Your response/ short explanation:** ________HERE_________"
      ]
    },
    {
      "cell_type": "markdown",
      "metadata": {
        "id": "iQghZgwYHZmj"
      },
      "source": [
        "##**Part 4: Risk-adjusted performance evaluation [40pt]**\n",
        "\n",
        "As part of the course we considered several risk-adjusted performance evaluation measures. In this section of the assignment you are asked to compute one of them - the Sharpe ratio:\n",
        "\n",
        "\n",
        " $$Sharpe\\ ratio = \\frac{E[{r_p}-{r_f}]}{\\sqrt{[{r_p}-{r_f}]}}$$\n"
      ]
    },
    {
      "cell_type": "markdown",
      "metadata": {
        "id": "a-u4LIvxHqot"
      },
      "source": [
        "### Part 4.1. Calculating the Sharpe measure [10pt]\n",
        "\n",
        "Using previously calculated monthly stock returns and the corresponding risk-free interest rates, compute Sharpe ratios for your selected stocks for the last 1-, 3-, and 5-years. Annualise the calculated Sharpe measures and report them as values."
      ]
    },
    {
      "cell_type": "code",
      "metadata": {
        "id": "H_qSsyPL9qVg"
      },
      "source": [
        "# step 13: import required data visualisation library\n",
        "# YOUR CODE HERE"
      ],
      "execution_count": null,
      "outputs": []
    },
    {
      "cell_type": "markdown",
      "metadata": {
        "id": "4eq9RyvGH1nY"
      },
      "source": [
        "### Part 4.2. Sharpe measure function [30pt]\n",
        "\n",
        "Define a new Python function `sharpe(ticker_1, ticker_2, ticker_3)` which:\n",
        "\n",
        "*  accepts 3 stock tickers as the only arguments;\n",
        "*  fetches historical daily prices for the 3 selected tickers over the last 3 years;\n",
        "*  fetches U.S. treasury bill (1-month T-Bill rates) rates over the corresponding 3 year period;\n",
        "* computes daily returns and excess returns for each stock;\n",
        "* computes daily average excess returns for each stock;\n",
        "* computes standard deviations of excess daily returns for each stock;\n",
        "* compute Sharpe ratios based on the daily average excess returns and standard deviations of excess retunrs;\n",
        "* annualises the resulting Sharpe ratio (by multiplying the daily Sharpe by $\\sqrt[2]{252}$);\n",
        "* returns the annualised Sharpe ratios for the 3 stocks.\n",
        "\n",
        "Assume that all libraries required by your function are already preinstalled and imported (i.e. do not include any `import` statements within your function). However, make sure to import all the required libraries in the code cell below, directly before the function. "
      ]
    },
    {
      "cell_type": "code",
      "metadata": {
        "id": "a3DaXGItyGIe"
      },
      "source": [
        "# step 14: install required libraries and import as needed\n",
        "\n",
        "def sharpe(ticker_1, ticker_2, ticker_3):\n",
        "  \"\"\"This function returns annualised Sharpe \n",
        "    ratios for the entered tickers using last 3 years\n",
        "    of stock data from Yahoo finance\"\"\"\n",
        "  # YOUR CODE HERE\n",
        "  # YOUR CODE HERE\n",
        "  return # YOUR CODE HERE\n",
        "\n",
        "# execute your functions using AAPL, MSFT, and JPM as arguments"
      ],
      "execution_count": null,
      "outputs": []
    }
  ]
}
