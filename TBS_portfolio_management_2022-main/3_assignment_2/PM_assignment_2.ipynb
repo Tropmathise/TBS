{
  "nbformat": 4,
  "nbformat_minor": 0,
  "metadata": {
    "colab": {
      "name": "PM_assignment_2.ipynb",
      "provenance": [],
      "collapsed_sections": [
        "vbx45wHhklCh",
        "FNGH0ANypbVN",
        "8Dl2TMTMCAl7",
        "nXe4ClXwHOed",
        "aUR7xKzdoSYT",
        "qiWg0PhJob99",
        "iQghZgwYHZmj",
        "a-u4LIvxHqot",
        "4eq9RyvGH1nY"
      ],
      "toc_visible": true
    },
    "kernelspec": {
      "name": "python3",
      "display_name": "Python 3"
    }
  },
  "cells": [
    {
      "cell_type": "markdown",
      "metadata": {
        "id": "N1uOo9_0Yy9J"
      },
      "source": [
        "[![Open In Colab](https://colab.research.google.com/assets/colab-badge.svg)](https://colab.research.google.com/drive/1GtpixdCynQ1uCi45Nph794qOnx7pu-8Y?usp=sharing)\n",
        "\n",
        "# <strong> Investment Management 1</strong>\n",
        "---\n",
        "#<strong> Assignment 2</strong>\n",
        "**You have to use this Colab notebook to complete the assignment. To get started, create a copy of the notebook and save it on your Google drive.**\n",
        "\n",
        "&nbsp;\n",
        "\n",
        "**Deadline:** See C@mpus. \n",
        "The assignment must be completed individually. The TBS plagarism rules apply.\n",
        "\n",
        "&nbsp;\n",
        "\n",
        "**Total:** 100 Points\n",
        "\n",
        "&nbsp;\n",
        "\n",
        "**Late submission penalty:** there is a penalty-free grace period of two hours past the deadline. Any work that is submitted between 2 hour and 24 hours past the deadline will receive a 20% grade deduction. No other work will be accepted after that. C@mpus submission time will be used, not your local computer time. You can submit your completed assignment as many times as required before the deadline. Consider submitting your work early.\n",
        "\n",
        "&nbsp;\n",
        "\n",
        "**Learning outcomes**\n",
        "\n",
        "In this assignment, you will consider and implement different approaches to comparing and evaluating performance of actively managed investment funds.\n",
        "\n",
        "You will be provided with a dataset containing historical returns on a sample of actively managed U.S. mutual funds. You are expected to\n",
        "evaluate the performance of these funds over the analysed sample period using the key absolute and risk-adjusted performance measures discussed in class. You will also use regression analysis to estimate the alpha potential and the factor exposures of the analysed mutual funds. \n",
        "\n",
        "&nbsp;\n",
        "\n",
        "By the end of this assignment, you should be able to:\n",
        "\n",
        "* upload financial time series data into Python and perform basic operations with `pandas` dataframes\n",
        "\n",
        "* perform EDA (exploratory data analysis) on a given financial dataset\n",
        "\n",
        "* estimate single- and multi-factor models for return samples (e.g., CAPM, Fama-French, Carhart, etc)\n",
        "\n",
        "* test for market timing ability using regression models\n",
        "\n",
        "&nbsp;\n",
        "\n",
        "\n",
        "**Data to use**\n",
        "\n",
        "The data necessary to complete this assignment are in the course GitHub repository - see the \"assignment_2\" folder. \n",
        "\n",
        "The “active_fund_returns” document contains historical monthly returns on 55 actively managed US mutual funds over the 1990 - 2018 period. You can find more information on each fund in the “fund_id” document. Monthly returns on the corresponding benchmark portfolio - the S&P 500 index - are in the “benchmark_returns” document. Note that all sample funds reported the S&P 500 index as their prospectus benchmark.\n",
        "\n",
        "In addition to the fund and benchmark data available in the course repository, you should use the risk-free rate from the <a href=\"http://mba.tuck.dartmouth.edu/pages/faculty/ken.french/data_library.html\"> Kenneth French data library</a>. To simplify and automate the process of importing the necessary data from the Kenneth French data library, you may want to consider <a href=\"https://pandas-datareader.readthedocs.io/en/latest/readers/famafrench.html\"> this</a> Python library.\n",
        "\n",
        "If you require any other data to complete the assignment, you can use a Python financial data library of your choice. There are several libraries to consider, such as `yfinance`, `pandas_datareader`, `yahoo_fin`, `ffn` (highly recommended), and `PyNance`.\n",
        "\n",
        "You are also free to use any Python data visualisation library of your choice (default is `matplotlib`). Some of the available options include: `Seaborn`, `Bokeh`, `ggplot`, `pygal`, and `Plotly`."
      ]
    },
    {
      "cell_type": "markdown",
      "metadata": {
        "id": "0zb_4141hIAU"
      },
      "source": [
        "##**What to submit**\n",
        "\n",
        "Submit a PDF file containing your code, outputs, and write-up from parts 1-4. You can produce a PDF of your Colab file by going to `File >>> Print` and selecting `save as PDF`. See the <a href=\"https://github.com/mscouse/TBS_investment_management/blob/main/Python_workspace.pdf\">Python Workspace</a> document in the course GitHub repository for more information. **Do not submit any other data files produced by your code.**\n",
        "\n",
        "&nbsp;\n",
        "\n",
        "You also need to provide a link to your completed Colab file in your submission - see the **\"Colab link\"** section below.\n",
        "\n",
        "Please note that you have to use Google Colab to complete this assignment. If you want to use Jupyter Notebook, complete the assignment and upload your Jupyter Notebook file to Google Colab for submission. "
      ]
    },
    {
      "cell_type": "markdown",
      "metadata": {
        "id": "qfxwyTdGjjbN"
      },
      "source": [
        "##**Colab link**\n",
        "Before submitting your work, make sure to include a link to your colab file below.\n",
        "\n",
        "**Colab Link:** _ _ _ _ _ _ _ _ _ _ _ _"
      ]
    },
    {
      "cell_type": "markdown",
      "metadata": {
        "id": "vbx45wHhklCh"
      },
      "source": [
        "##**Part 1: Loading, visualising and summarising historical data [10 pt]**\n",
        "\n",
        "The data necessary to complete this assignment are in the course GitHub repository - see the \"assignment_2\" folder.\n",
        "\n",
        "The “active_fund_returns” document contains historical monthly returns on 55 actively managed US mutual funds over the 1990 - 2018 period. You can find more information on each fund in the “fund_id” document. Monthly returns on the corresponding benchmark portfolio - the S&P 500 index - are in the “benchmark_returns” document. Note that all sample funds reported the S&P 500 index as their prospectus benchmark."
      ]
    },
    {
      "cell_type": "markdown",
      "metadata": {
        "id": "FNGH0ANypbVN"
      },
      "source": [
        "###Part 1.1. Loading and summarising historical fund returns (6pt)\n",
        "\n",
        "Import the available fund and benchmark data from the course GitHub repository and store them in `pandas` DataFrame objects named `fund_returns` and `benchmark_return`. Remember to import any required Python libraries before you start working with the data.\n",
        "\n",
        "&nbsp;\n",
        "\n",
        "Compute and display the descriptive statistics for all sample funds. These should include: count, mean, standard deviation, min, and max return values. Repeat the same for the benchmark portfolio.\n",
        "What can you conclude from the computed absolute performance measures? [DISCUSS]"
      ]
    },
    {
      "cell_type": "code",
      "metadata": {
        "id": "4GlNvrQz_fl_"
      },
      "source": [
        "# step 1: import required libraries using \"import\"\n",
        "# YOUR CODE HERE"
      ],
      "execution_count": null,
      "outputs": []
    },
    {
      "cell_type": "code",
      "metadata": {
        "id": "zkQRHW4y_qrG"
      },
      "source": [
        "# step 2: import historical fund and benchmark data\n",
        "# YOUR CODE HERE"
      ],
      "execution_count": null,
      "outputs": []
    },
    {
      "cell_type": "code",
      "metadata": {
        "id": "Z4N3P3i1InlJ"
      },
      "source": [
        "# step 3: compute and display the descriptive statistics\n",
        "# YOUR CODE HERE"
      ],
      "execution_count": null,
      "outputs": []
    },
    {
      "cell_type": "markdown",
      "metadata": {
        "id": "1JD7-chppxNJ"
      },
      "source": [
        "###Part 1.2. Visualising and benchmarking performance (4pt)\n",
        "\n",
        "Using the resulting descriptive statistics from Part 1.1. above, identify 3 funds with the highest and 3 funds with the lowest average monthly returns over the sample period. Visualise their compounded performance over the entire period on the same diagramme using a Python data visualisation library of your choice (default is matplotlib).\n",
        "\n",
        "Plot the compounded performance of the benchmark portfolio on the same diagramme."
      ]
    },
    {
      "cell_type": "code",
      "metadata": {
        "id": "eYKOJj7OIuZz"
      },
      "source": [
        "# step 4: visualise compounded fund performance & benchmark \n",
        "# YOUR CODE HERE"
      ],
      "execution_count": null,
      "outputs": []
    },
    {
      "cell_type": "markdown",
      "metadata": {
        "id": "8Dl2TMTMCAl7"
      },
      "source": [
        "##**Part 2: Computing and analysing risk-adjusted performance measures [30pt]**\n",
        "\n",
        "In this part of the assignment, you need to calculate and compare several risk-adjusted performance measures for the sample mutual funds. You should report all performance measures in one table to make the comparison easier. Furthermore, all reported measures should be annualised.\n",
        "\n",
        "Make sure you import the required libraries first."
      ]
    },
    {
      "cell_type": "markdown",
      "metadata": {
        "id": "nsC4GbQLC-Zb"
      },
      "source": [
        "###Part 2.1. Computing Sharpe, M-squared and Treynor (25pt)\n",
        "\n",
        "\n",
        "Compute and compare the risk-adjusted performance measures listed below for any 5 sample funds of your choice. You can compute these measures for all 55 funds, if desired. You should report all performance measures (annualised^) in one table (i.e., dataframe) to make the comparison easier:\n",
        "\n",
        "1. Sharpe ratio (you can use the Sharpe function from Assignment 1) [5pt]\n",
        "2. M-squared measure [10pt]\n",
        "3. Treynor measure [10pt]\n",
        "\n",
        "To compute the Treynor ratios, you will first need to estimate funds' betas, as follows:\n",
        "\n",
        "$$\n",
        "\\beta_{i,M} = \\frac{cov(r_{i}, r_M)}{var(r_M)}=\\rho_{i,M} \\times \\frac{\\sigma_{r_i}}{\\sigma_{r_M}}\n",
        "$$\n",
        "\n",
        "\n",
        "\n",
        "^Hint:\n",
        "\n",
        "**To annualise returns:** if the average monthly return is $0.01$, or $1\\%$, the annualised average monthly return could be proxied as $0.01 × 12$. This approach ignores compounding. To account for compounding, you would instead use: $(1+0.01)^{12} – 1$. For this project, it is acceptable to ignore compounding and annualise by simply multiplying the monthly returns by 12. \n",
        "\n",
        "**To annualise standard deviation:** if the standard deviation of monthly stock returns is $0.04$, or $4.0\\%$, the annualised standard deviation is $0.04 \\times \\sqrt{12}$, or $13.86\\%$."
      ]
    },
    {
      "cell_type": "code",
      "metadata": {
        "id": "wk1J2tIuBo20"
      },
      "source": [
        "# step 5: upload historical risk-free rate\n",
        "# YOUR CODE HERE"
      ],
      "execution_count": null,
      "outputs": []
    },
    {
      "cell_type": "code",
      "metadata": {
        "id": "fUFKwlXkDoui"
      },
      "source": [
        "# step 6: compute fund excess returns\n",
        "# YOUR CODE HERE"
      ],
      "execution_count": null,
      "outputs": []
    },
    {
      "cell_type": "code",
      "metadata": {
        "id": "gzptizlD5gQa"
      },
      "source": [
        "# step 7: compute and report the required risk-adjusted measures\n",
        "# YOUR CODE HERE"
      ],
      "execution_count": null,
      "outputs": []
    },
    {
      "cell_type": "markdown",
      "metadata": {
        "id": "i3XEjn2OD9fB"
      },
      "source": [
        "###Part 2.2. Results and conclusions (5pt)\n",
        "\n",
        "Discuss the results presented in Part 2.1. What can you conclude from the computed risk-adjusted performance measures?\n"
      ]
    },
    {
      "cell_type": "markdown",
      "metadata": {
        "id": "5nL_xE-B2gcj"
      },
      "source": [
        "#### **Results and conclusions**\n",
        "\n",
        "YOUR COMMENTS HERE \n"
      ]
    },
    {
      "cell_type": "markdown",
      "metadata": {
        "id": "nXe4ClXwHOed"
      },
      "source": [
        "##**Part 3: Multi-factor models [40pt]**\n",
        "\n",
        "In this part of the assignment, you will be implementing the CAPM, Fama-French, and Carhart models in Python. In addition, you will compute and analyse 2 further risk adjusted performance measures - Jensen's alpha and Information Ratio. \n",
        "\n",
        "The \"factors\" document in the course GitHub repository provides data on several time-series of returns you need to use in this section. In particular, it reports the return on the Fama-French SMB (small-minus-big), HML (value-minus-growth), RMW (robust-minus-weak), and CMA (conservative-minus-aggressive) factors. It also presents the return on the Carhart MOM (winners-minus-losers) factor, and the risk-free rate of return (RF). The SMB, HML, RMW, CMA and MOM factors are already expressed as differences in returns between two portfolios so you do not need to calculate excess returns on them. All factor returns are in decimals."
      ]
    },
    {
      "cell_type": "markdown",
      "metadata": {
        "id": "aUR7xKzdoSYT"
      },
      "source": [
        "### 3.1. Implementing the CAPM & computing diversifiable and non-diversifiable risk of a portolio (10pt)\n",
        "\n",
        "Use the excess fund and benchmark returns computed in the previous sections to estimate the CAPM model as a linear regression. The model should be estimated for any 5 sample funds of your choice. You can estimate the CAPM for all 55 funds, if desired. You should report the coefficient estimates (i.e., alphas and betas) for all funds in one table to make the comparison easier. The table should also include the p-values for each estimated coefficient. \n",
        "\n",
        "You may want to use the <a href=\"https://www.statsmodels.org/stable/index.html\">`statsmodels`</a> Python module to estimate the CAPM model. The `statsmodels` module provides classes and functions for the estimation of many different statistical models, as well as for conducting numerous statistical tests, and statistical data exploration. You can import and use the module as follows:\n",
        "\n",
        "```\n",
        "# Import statsmodels.formula.api\n",
        "import statsmodels.formula.api as smf \n",
        "\n",
        "# Define the regression formula\n",
        "capm_model = smf.ols(formula='portfolio_excess ~ market_excess', data=data)\n",
        "\n",
        "# Fit the regression\n",
        "capm_model = capm_model.fit()\n",
        "\n",
        "# print results \n",
        "print(capm_model.summary())\n",
        "```\n",
        "Note that, in line with our discussion in class, the estimated **beta is a proxy for systematic, non-diversifiable risk**. The **diversifiable, fund-specific, risk is captured by the residual standard error** (or residual standard deviation) of the regression."
      ]
    },
    {
      "cell_type": "code",
      "metadata": {
        "id": "fEkjIX6oobZr"
      },
      "source": [
        "# step 8: import required modules and libraries\n",
        "# YOUR CODE HERE"
      ],
      "execution_count": null,
      "outputs": []
    },
    {
      "cell_type": "code",
      "metadata": {
        "id": "sTvULmgNDs-_"
      },
      "source": [
        "# step 9: estimate the CAPM model for the sample funds and report the results\n",
        "# YOUR CODE HERE"
      ],
      "execution_count": null,
      "outputs": []
    },
    {
      "cell_type": "markdown",
      "metadata": {
        "id": "qiWg0PhJob99"
      },
      "source": [
        "### 3.2. Implementing the Fama-French 3-factor model (8pt)\n",
        "\n",
        "Use the excess fund and benchmark returns computed in the previous sections to \n",
        "estimate the Fama-French model as a linear regression. The remaining factors are in the \"factors\" document (see the course GitHub page).\n",
        "\n",
        "The model should be estimated for any 5 sample funds of your choice. You can estimate the Fama-French for all 55 funds, if desired. You should report the coefficient estimates (i.e., alphas and all betas) for all funds in one table to make the comparison easier. The table should also include the p-values for each estimated coefficient. \n",
        "\n",
        "You may want to use the <a href=\"https://www.statsmodels.org/stable/index.html\">`statsmodels`</a> Python module to estimate the Fama-French model:\n",
        "\n",
        "```\n",
        "# Import statsmodels.formula.api\n",
        "import statsmodels.formula.api as smf \n",
        "\n",
        "# Define the regression formula\n",
        "capm_model = smf.ols(formula='portfolio_excess ~ market_excess + SMB + HML', data=data)\n",
        "\n",
        "# Fit the regression\n",
        "FamaFrench_fit = FamaFrench_model.fit()\n",
        "\n",
        "# print results \n",
        "print(capm_model.summary())\n",
        "```\n",
        "\n",
        "&nbsp;\n",
        "\n",
        "\n",
        "**Optional (not part of the assignment):**\n",
        "\n",
        "You can try constructing the [Fama-French](https://en.wikipedia.org/wiki/Fama%E2%80%93French_three-factor_model) factors - SMB and HML - from scratch, if desired, as follows: \n",
        "\n",
        "1. Divide stocks into Big (B) and Small (S) according to their market capitalisation; and divide into Low (L), Middle (M), High (H) according to their Book/Price ratio. This leads to six groups or portfolios: B/L, B/M, B/H, S/L, S/M, S/H.\n",
        "2. Calculate historical value-weighted returns of these six portfolios.\n",
        "3. Define factor returns using a long-short approach:\n",
        "\n",
        "$$\n",
        "\\begin{aligned}\n",
        "SMB&=\\frac{S/L+S/M+S/H}{3}-\\frac{B/L+B/M+B/H}{3} \\\\\\\\\n",
        "HML&=\\frac{S/H+B/H}{2}-\\frac{S/L+B/L}{2}\n",
        "\\end{aligned}\n",
        "$$\n",
        "\n",
        "The SMB and HML factors are published on the [Kenneth R. French website](https://mba.tuck.dartmouth.edu/pages/faculty/ken.french/data_library.html)."
      ]
    },
    {
      "cell_type": "code",
      "metadata": {
        "id": "SFyEn2urox5-"
      },
      "source": [
        "# step 10: import required modules and libraries\n",
        "# YOUR CODE HERE"
      ],
      "execution_count": null,
      "outputs": []
    },
    {
      "cell_type": "code",
      "metadata": {
        "id": "uXDh0y4rG6H0"
      },
      "source": [
        "# step 11: estimate and report the 3-factor Fama-French model for the sample funds\n",
        "# YOUR CODE HERE"
      ],
      "execution_count": null,
      "outputs": []
    },
    {
      "cell_type": "markdown",
      "metadata": {
        "id": "Nivc9LOHr9b6"
      },
      "source": [
        "### 3.3. Implementing the Fama-French 5-factor model (5pt)\n",
        "\n",
        "Follow the steps discussed in Part 3.2. and estimate the 5-factor Fama-French model. Use the excess fund and benchmark returns computed in the previous sections to estimate the model as a linear regression. The remaining factors are in the \"factors\" document (see the course GitHub page).\n",
        "\n",
        "As before, the model should be estimated for any 5 sample funds of your choice. You can estimate the Fama-French for all 55 funds, if desired. You should report the coefficient estimates (i.e., alphas and all betas) for all funds in one table to make the comparison easier. The table should also include the p-values for each estimated coefficient. \n"
      ]
    },
    {
      "cell_type": "code",
      "metadata": {
        "id": "2cJf0FI4sp5y"
      },
      "source": [
        "# step 12: import required modules and libraries\n",
        "# YOUR CODE HERE"
      ],
      "execution_count": null,
      "outputs": []
    },
    {
      "cell_type": "code",
      "metadata": {
        "id": "fkVV33g0HdsN"
      },
      "source": [
        "# step 13: estimate and report the 5-factor Fama-French model for the sample funds\n",
        "# YOUR CODE HERE"
      ],
      "execution_count": null,
      "outputs": []
    },
    {
      "cell_type": "markdown",
      "metadata": {
        "id": "_05oVtSVuF1W"
      },
      "source": [
        "### 3.4. Implementing the Fama-French-Carhart 4-factor model (5pt)\n",
        "\n",
        "Follow the steps discussed in Part 3.2. and estimate the 4-factor Fama-French-Carhart model. Use the excess fund and benchmark returns computed in the previous sections to estimate the model as a linear regression. The remaining factors are in the \"factors\" document (see the course GitHub page). \n",
        "\n",
        "As before, the model should be estimated for any 5 sample funds of your choice. You can estimate the Fama-French for all 55 funds, if desired. You should report the coefficient estimates (i.e., alphas and all betas) for all funds in one table to make the comparison easier. The table should also include the p-values for each estimated coefficient.\n"
      ]
    },
    {
      "cell_type": "code",
      "metadata": {
        "id": "TMOZ5GDPu11A"
      },
      "source": [
        "# step 14: import required modules and libraries\n",
        "# YOUR CODE HERE"
      ],
      "execution_count": null,
      "outputs": []
    },
    {
      "cell_type": "code",
      "metadata": {
        "id": "pAnD5tsFIS_p"
      },
      "source": [
        "# step 15: estimate and report the 4-factor Fama-French-Carhart model for the sample funds\n",
        "# YOUR CODE HERE"
      ],
      "execution_count": null,
      "outputs": []
    },
    {
      "cell_type": "markdown",
      "metadata": {
        "id": "AtAjsJXLu2br"
      },
      "source": [
        "### 3.5. Computing and analysing the Information Ratio (5pt)\n",
        "\n",
        "Compute Information Ratios using alphas from the CAPM model and the estimated non-diversifiable risk for each fund - see Part 3.1. Note that you do not need to annualise the computed Information ratios.\n",
        "\n",
        "The Information ratios should be computed for any 5 sample funds of your choice. You can compute the ratios for all 55 funds, if desired. You should report all ratios in one table to make the comparison easier.\n",
        "\n"
      ]
    },
    {
      "cell_type": "code",
      "metadata": {
        "id": "xuYObzdnvrsT"
      },
      "source": [
        "# step 16: compute the required Information ratios\n",
        "# YOUR CODE HERE"
      ],
      "execution_count": null,
      "outputs": []
    },
    {
      "cell_type": "markdown",
      "metadata": {
        "id": "XfWP-A8VvsVy"
      },
      "source": [
        "### 3.6. Results and conclusions (7pt)\n",
        "\n",
        "Discuss the results reported in Parts 3.1-3.5. What can you conclude from the regression estimations?\n",
        "\n",
        "Report whether the estimated alphas and betas vary by model and discuss possible reasons for this."
      ]
    },
    {
      "cell_type": "markdown",
      "metadata": {
        "id": "e4iiMa20wjoU"
      },
      "source": [
        "**Your response/ short explanation:** ________HERE_________"
      ]
    },
    {
      "cell_type": "markdown",
      "metadata": {
        "id": "iQghZgwYHZmj"
      },
      "source": [
        "##**Part 4: Market timing evaluation [20pt]**\n",
        "\n",
        "Portfolio managers often claim to be able to generate abnormal returns through either superior security selection or market timing. There are several approaches to capture and assess managers' market timing skills. The Treynor and Mazuy (TM) and Henriksson-Merton (HM) models are the most used return-based approaches to isolate market timing skills. As part of this section, you will estimate both models for 5 sample funds of your choice and analyse the results. \n",
        "\n"
      ]
    },
    {
      "cell_type": "markdown",
      "metadata": {
        "id": "a-u4LIvxHqot"
      },
      "source": [
        "### Part 4.1. Estimating and analysing the Treynor and Mazuy model [10pt]\n",
        "\n",
        "Treynor and Mazuy (1966) suggested that a security characteristic line should be estimated by adding a squared term to the usual linear index model, as follows:\n",
        "\n",
        "\n",
        "$$(r_{it}-r_{ft}) = \\alpha_i + \\beta_i(r_{mt}-r_{ft}) + \\gamma_i(r_{mt}-r_{ft})^2 + \\epsilon_{it}$$\n",
        "\n",
        "\n",
        "where the coefficient estimate $γ_i$ indicates superior market timing ability if it is positive and significant.\n",
        "\n",
        "Using previously computed fund and benchmark excess returns, estimate the TM model for any 5 sample funds of your choice and comment on the results. Is there statistically significant evidence of market timing ability?"
      ]
    },
    {
      "cell_type": "code",
      "metadata": {
        "id": "H_qSsyPL9qVg"
      },
      "source": [
        "# step 17: import required libraries\n",
        "# YOUR CODE HERE"
      ],
      "execution_count": null,
      "outputs": []
    },
    {
      "cell_type": "code",
      "metadata": {
        "id": "qZvCnoBX0LnZ"
      },
      "source": [
        "# step 18: estimate the models\n",
        "# YOUR CODE HERE"
      ],
      "execution_count": null,
      "outputs": []
    },
    {
      "cell_type": "markdown",
      "metadata": {
        "id": "cKfKqGZY0S_i"
      },
      "source": [
        "**Your response/ short explanation of results:** ________HERE_________"
      ]
    },
    {
      "cell_type": "markdown",
      "metadata": {
        "id": "4eq9RyvGH1nY"
      },
      "source": [
        "### Part 4.2. Estimating and analysing the Merton and Henriksson model [10pt]\n",
        "\n",
        "Merton and Henriksson (1981) show that the portfolio beta fluctuates between two values depending on whether the market return is larger or lower. Hence the characteristic line has a higher slope in months in which the market goes up than in months in which the market goes down:\n",
        "\n",
        "$$(r_{it}-r_{ft}) = \\alpha_i + \\beta_i(r_{mt}-r_{ft}) + \\gamma_i(r_{mt}-r_{ft})\\times D + \\epsilon_{it}$$\n",
        "\n",
        "where $D = 1$, if $r_{mt} \\geq r_{ft}$ & $D = 0$, if $r_{mt} < r_{ft}$\n",
        "\n",
        "\n",
        "Therefore, the beta of the portfolio is $\\beta_i$ in bear markets and $\\beta_i + \\gamma_i$ in bull markets. A positive value of $γ_i$ denotes superior market timing ability, assuming it is positive and statistically significant.\n",
        "\n",
        "Using previously computed fund and benchmark excess returns, estimate the MH model for any 5 sample funds of your choice and comment on the results. Is there statistically significant evidence of market timing ability?\n"
      ]
    },
    {
      "cell_type": "code",
      "metadata": {
        "id": "a3DaXGItyGIe"
      },
      "source": [
        "# step 19: import required libraries\n",
        "# YOUR CODE HERE"
      ],
      "execution_count": null,
      "outputs": []
    },
    {
      "cell_type": "code",
      "metadata": {
        "id": "mYYcRGXY2yLe"
      },
      "source": [
        "# step 20: estimate the models\n",
        "# YOUR CODE HERE"
      ],
      "execution_count": null,
      "outputs": []
    },
    {
      "cell_type": "markdown",
      "metadata": {
        "id": "hoYB4_pv25aU"
      },
      "source": [
        "**Your response/ short explanation of results:** ________HERE_________"
      ]
    }
  ]
}
