{
  "nbformat": 4,
  "nbformat_minor": 0,
  "metadata": {
    "colab": {
      "name": "PM_labs_part_2.ipynb",
      "provenance": [],
      "collapsed_sections": [
        "2HPrK6vhKag2"
      ],
      "toc_visible": true,
      "authorship_tag": "ABX9TyPnbo9X4eaMVbofR3HfkN+K",
      "include_colab_link": true
    },
    "kernelspec": {
      "name": "python3",
      "display_name": "Python 3"
    }
  },
  "cells": [
    {
      "cell_type": "markdown",
      "metadata": {
        "id": "view-in-github",
        "colab_type": "text"
      },
      "source": [
        "<a href=\"https://colab.research.google.com/github/mscouse/TBS_investment_management/blob/main/PM_labs_part_2.ipynb\" target=\"_parent\"><img src=\"https://colab.research.google.com/assets/colab-badge.svg\" alt=\"Open In Colab\"/></a>"
      ]
    },
    {
      "cell_type": "markdown",
      "metadata": {
        "id": "xx1Urdo9Oi1F"
      },
      "source": [
        "[![Open In Colab](https://colab.research.google.com/assets/colab-badge.svg)](https://colab.research.google.com/drive/17sFrpeAjU594B4S_ZuqiXKQjTVcd2Ctw?usp=sharing)\n",
        "# <strong> Investment Management 1</strong>\n",
        "---\n",
        "#<strong> Part 2: Getting started with Colab notebooks & basic features.</strong>\n",
        "\n",
        "In the course repository on GitHub, you will find several introductory Colab notebooks covering the following topics:\n",
        "\n",
        "**Part 1: Introduction to Python and Google Colab notebooks.**\n",
        "\n",
        "**Part 2: Getting started with Colab notebooks & basic features (CURRENT NOTEBOOK).**\n",
        "\n",
        "**Part 3: Data visualisation libraries.**\n",
        "\n",
        "**Part 4: Data sources & data collection in Python.**\n",
        "\n",
        "**Part 5: Basic financial calculations in python.**\n",
        "\n",
        "\n",
        "The notebooks have been designed to help you get started with Python and Google Colab. See the **“1_labs_introduction”** folder for more information. Each notebook contains all necessary libraries and references to the required subsets of data."
      ]
    },
    {
      "cell_type": "markdown",
      "metadata": {
        "id": "KejyRLLGBYpP"
      },
      "source": [
        "<a name=\"section_2\"></a>\n",
        "# <strong>Getting started</strong>\n",
        "\n",
        "As you may have realised, the document you are working with is not a static web page, but an interactive environment called a <strong>Colab notebook</strong> that lets you write and execute code (in the \"code\" cells) and provide comments (in the \"text\" cells)."
      ]
    },
    {
      "cell_type": "markdown",
      "metadata": {
        "id": "GMgQKwW4fw3k"
      },
      "source": [
        "## 1. Text cells\n",
        "\n",
        "For example, here is a **text cell**. You can **double-click** to edit this cell. Text cells\n",
        "use markdown syntax. To learn more, see this [markdown\n",
        "guide](https://www.markdownguide.org/).\n",
        "\n",
        "You can also add math to text cells using [LaTeX](http://www.latex-project.org/)\n",
        "to be rendered by [MathJax](https://www.mathjax.org). Just place the statement\n",
        "within a pair of **\\$** signs. For example `$\\sqrt{3x-1}+(1+x)^2$` becomes\n",
        "$\\sqrt{3x-1}+(1+x)^2.$"
      ]
    },
    {
      "cell_type": "markdown",
      "metadata": {
        "id": "e4JOiKAChSpr"
      },
      "source": [
        "## 2. Code cells\n",
        "\n",
        "Below is a **code cell** with a short Python script that computes a value, stores it in a variable (called ```sample_variable```) and prints the result.\n",
        "\n",
        "Once the top-level toolbar button indicates CONNECTED, select the code cell with a click and then either press the play button to the left of the code, or use the keyboard shortcut 'Command/Ctrl+Enter'. This executes the code in the cell.  To edit the code, just click the cell and start editing.\n",
        "You can also:\n",
        "* Type **Shift+Enter** to run the cell and move focus to the next cell (adding one if none exists); or\n",
        "* Type **Alt+Enter** to run the cell and insert a new code cell immediately below it.\n"
      ]
    },
    {
      "cell_type": "code",
      "metadata": {
        "id": "VoZUi4Y44XBG"
      },
      "source": [
        "sample_variable = 10 * 20 * 30\n",
        "sample_variable"
      ],
      "execution_count": null,
      "outputs": []
    },
    {
      "cell_type": "markdown",
      "metadata": {
        "id": "ysil-l2UkqO0"
      },
      "source": [
        "Variables that you define in one cell (like the variable ```sample_variable``` above) can later be used in other cells - see below. This assumes you executed the previous code cell."
      ]
    },
    {
      "cell_type": "code",
      "metadata": {
        "id": "T5CabukllCMF"
      },
      "source": [
        "second_sample_variable = 5 * sample_variable\n",
        "second_sample_variable"
      ],
      "execution_count": null,
      "outputs": []
    },
    {
      "cell_type": "markdown",
      "metadata": {
        "id": "98Rl5MVplb37"
      },
      "source": [
        "Colab notebooks allow you to combine <strong>executable code</strong> and <strong>rich text</strong> in a single document, along with <strong>images</strong>, <strong>HTML</strong>, <strong>LaTeX</strong> and more.\n",
        "\n",
        "When you create your own Colab notebooks, they are stored in your Google Drive account. You can easily share your Colab notebooks with co-workers or friends, allowing them to comment on your notebooks or even edit them. To find out more, see <a href=\"/notebooks/basic_features_overview.ipynb\">Overview of Colab</a>.\n",
        "\n",
        "To create a new Colab notebook you can use the File menu above, or use the following link: <a href=\"http://colab.research.google.com#create=true\">Create a new Colab notebook</a>."
      ]
    },
    {
      "cell_type": "markdown",
      "metadata": {
        "id": "NOn3Q0vU558G"
      },
      "source": [
        "## 3. Basic data types\n",
        "\n",
        "Like most programming languages, Python has a number of basic data types including `integers`, `floats`, `booleans`, and `strings`. These data types behave in similar ways to other programming languages.\n",
        "\n",
        "In addition, Python includes several built-in container types. These are `lists`, `dictionaries`, `sets`, and `tuples`.\n",
        "\n",
        "A `list` is the Python equivalent of an array, but is resizeable and can contain elements of different types.\n",
        "\n",
        "A `dictionary` stores (key, value) pairs. Python Dictionaries are similar to Maps in Java or Objects in Javascript. \n",
        "\n",
        "A `set` is an unordered collection of distinct elements.\n",
        "\n",
        "A `tuple` is an immutable, ordered list of values. Tuples are similar to `lists`. The key differences is that `tuples` can be used as keys in `dictionaries` and as elements of `sets`, while `lists` cannot. \n",
        "\n",
        "To find out more about Python data types, see <a href=\"https://realpython.com/python-data-types/\"> HERE</a>. You are not expected to understand and use all of them straightaway. Feel free to skip this section for now.\n"
      ]
    },
    {
      "cell_type": "markdown",
      "metadata": {
        "id": "2HPrK6vhKag2"
      },
      "source": [
        "## 4. Python libraries\n",
        "\n",
        "With Colab you can harness the full power of popular Python libraries to analyse and visualise data. The code cell below uses two such popular libraries - <strong>`NumPy`</strong> to generate some random data, and <strong>`Matplotlib`</strong> to visualise it. To edit the code, just click the cell and start editing.\n",
        "\n",
        "Note that you can use triple-quoted strings ('''comment''') in your code and place your comments inside it - this part will not be executed. Single line comments start with a #, and Python will ignore them as well.\n",
        "\n",
        "`NumPy` (typically pronounced /ˈnʌmpaɪ/ (NUM-py)) is a library for the Python programming language, adding support for large, multi-dimensional arrays and matrices, along with a large collection of high-level mathematical functions to operate on these arrays. To find out more about `NumPy`, see <a href=\"https://numpy.org/learn/\"> numpy.org</a>\n",
        "\n",
        "`Matplotlib` is a comprehensive library for creating static, animated, and interactive visualizations in Python. To find out more, see <a href=\"https://matplotlib.org/\">matplotlib.org</a>. The website contains a gallery with numerous examples of what you can do with Matplotlib. \n"
      ]
    },
    {
      "cell_type": "code",
      "metadata": {
        "id": "kUzkOvMJoIlb"
      },
      "source": [
        "''' \n",
        "step 1: import necessary libraries using the \"import\" statement .\n",
        "Library is an umbrella term that loosely means “a bundle of code.”\n",
        "These can have tens or even hundreds of individual modules that can\n",
        "provide a wide range of functionality. For example, `Matplotlib` is\n",
        "a plotting library. It is possible to modify the names of libraries, modules\n",
        "and their functions within Python by using the \"as\" keyword. Thus, if\n",
        "we deal with a library named \"import a_ridiculously_long_module_name\", we can \n",
        "rename it to something like \"short_name\" when importing. This is done by writing\n",
        "the following statement:\n",
        "import a_ridiculously_long_module_name as short_name\n",
        "This allows us to append the shorter name \"short_name\" to any of the functions\n",
        "available within the module, as in short_name.function(). \n",
        "'''\n",
        "import numpy as np\n",
        "from matplotlib import pyplot as plt  #This could be written as \"import matplotlib.pyplot as plt\"\n",
        "\n",
        "\n",
        "''' \n",
        "step 2: create a simple dataset. Don't focus too much on the code. Here we \n",
        "append the shorter word \"np\" (alias for the numpy library) to the function called\n",
        "\"cumsum\" and \"random\" within that library:\n",
        "\n",
        "np.random.randn(A,B) - this function creates a 1D array (B=1) and\n",
        "fills it with A (A=1000) random values as per standard normal distribution.\n",
        "\n",
        "np.cumsum(arr, axis=None) - this function is used to compute the cumulative sum of array\n",
        "elements over a given axis. Because we do not specify the axis name, it computes\n",
        "the sum of the flattened array (values).\n",
        "'''\n",
        "values=np.random.randn(1000,1)\n",
        "cum_values=np.cumsum(values)\n",
        "\n",
        "\n",
        "# step 3: use the plot function of matplotlib as plt.plot(). To display the chart\n",
        "# we need to pass plt.show() command. We can also assign a title to the chart by using\n",
        "# plt.title(\"sample_title\") command.\n",
        "plt.plot(cum_values)\n",
        "plt.title(\"Sample Visualization\")\n",
        "plt.show()"
      ],
      "execution_count": null,
      "outputs": []
    },
    {
      "cell_type": "markdown",
      "metadata": {
        "id": "FjlwaM0yEx6M"
      },
      "source": [
        "## 5. Integration with Google Drive and exporting your work\n",
        "\n",
        "### Colab and Google Drive\n",
        "\n",
        "Google Colaboratory is integrated with your Google Drive. Therefore, you can share, comment, and collaborate on the same document with multiple people:\n",
        "\n",
        "* The **SHARE** button (top-right of the toolbar) allows you to share the notebook and control permissions set on it.\n",
        "\n",
        "* **File->Save a Copy in Drive** creates a copy of the notebook in you Google Drive.\n",
        "\n",
        "* **File->Save** saves the File to Google Drive. **File->Save and pin revision** pins the current version of the notebook so it doesn't get deleted from the revision history. \n",
        "\n",
        "* **File->Revision history** shows the notebook's revision history.\n",
        "\n",
        "\n",
        "### Colab and GitHub\n",
        "\n",
        "Google Colab allows you to save a copy of your notebooks to GitHub, or upload pertinent files from your GitHub repository.\n",
        "\n",
        "To share your notebook on Github:\n",
        "* click on **File -> Save a copy in Github**, you will be prompted to log in to your Github account and authorize app. Once done, you would be able to save your notebooks to a chosen repository on GitHub. Each time you save, you can add a commit message for GitHub.\n",
        "\n",
        "* Once the notebook is saved to GitHub, you will\n",
        "get a **View in Colaboratory** link. The link allows you to open the notebook directly in Colab.\n",
        "\n",
        "* Anyone opening the shared notebook would not need to do any additional setup to run the script.\n",
        "\n",
        "For more information, see the [Setting up the workspace](https://github.com/mscouse/portfolio/blob/main/Python_workspace.pdf) document and [Using Colab with GitHub](https://colab.research.google.com/github/googlecolab/colabtools/blob/master/notebooks/colab-github-demo.ipynb#:~:text=Choose%20File%E2%86%92Save%20a,the%20commit%20to%20your%20repository).  \n",
        "\n"
      ]
    },
    {
      "cell_type": "markdown",
      "metadata": {
        "id": "3ioBqZU1CLQi"
      },
      "source": [
        "## 6. Commenting on a cell\n",
        "\n",
        "You can record your comments on a Colaboratory notebook. All comments are attached to cells. They are displayed next to the cell they refer to.\n",
        "\n",
        "If you have **comment-only** permissions, you will see a comment button on the top right of the cell when you hover over it.\n",
        "\n",
        "If you have edit or comment permissions you can comment on a cell in one of three ways: \n",
        "\n",
        "1. Select a cell and click the comment button in the toolbar above the top-right corner of the cell.\n",
        "1. Right click a text cell and select **Add a comment** from the context menu.\n",
        "3. Use the shortcut **Ctrl+Shift+M** to add a comment to the currently selected cell. \n",
        "\n",
        "You can resolve and reply to comments, and you can target comments to specific collaborators by typing *+[email address]* (e.g., `+user@domain.com`). Addressed collaborators will be emailed. \n",
        "\n",
        "The Comment button in the top-right corner of the page shows all comments attached to the notebook."
      ]
    },
    {
      "cell_type": "markdown",
      "metadata": {
        "id": "xKQQaa2bDzJj"
      },
      "source": [
        "## 7. More official official Colab resources\n",
        "\n",
        "### Working with notebooks in Colab\n",
        "- [Overview of Colaboratory](/notebooks/basic_features_overview.ipynb)\n",
        "- [Guide to markdown](/notebooks/markdown_guide.ipynb)\n",
        "- [Importing libraries and installing dependencies](/notebooks/snippets/importing_libraries.ipynb)\n",
        "- [Saving and loading notebooks in GitHub](https://colab.research.google.com/github/googlecolab/colabtools/blob/master/notebooks/colab-github-demo.ipynb)\n",
        "- [Interactive forms](/notebooks/forms.ipynb)\n",
        "- [Interactive widgets](/notebooks/widgets.ipynb)\n",
        "- <img src=\"/img/new.png\" height=\"20px\" align=\"left\" hspace=\"4px\" alt=\"New\"></img>\n",
        " [TensorFlow 2 in Colab](/notebooks/tensorflow_version.ipynb)\n",
        "\n",
        "<a name=\"working-with-data\"></a>\n",
        "### Working with data\n",
        "- [Loading data: Drive, Sheets and Google Cloud Storage](/notebooks/io.ipynb) \n",
        "- [Charts: visualising data](/notebooks/charts.ipynb)\n",
        "- [Getting started with BigQuery](/notebooks/bigquery.ipynb)\n",
        "\n",
        "### Machine learning crash course\n",
        "These are a few of the notebooks from Google's online machine learning course. See the <a href=\"https://developers.google.com/machine-learning/crash-course/\">full course website</a> for more.\n",
        "- [Intro to Pandas](/notebooks/mlcc/intro_to_pandas.ipynb)\n",
        "- [TensorFlow concepts](/notebooks/mlcc/tensorflow_programming_concepts.ipynb)\n",
        "- [First steps with TensorFlow](/notebooks/mlcc/first_steps_with_tensor_flow.ipynb)\n",
        "- [Intro to neural nets](/notebooks/mlcc/intro_to_neural_nets.ipynb)\n",
        "- [Intro to sparse data and embeddings](/notebooks/mlcc/intro_to_sparse_data_and_embeddings.ipynb)\n",
        "\n",
        "<a name=\"using-accelerated-hardware\"></a>\n",
        "### Using accelerated hardware\n",
        "- [TensorFlow with GPUs](/notebooks/gpu.ipynb)\n",
        "- [TensorFlow with TPUs](/notebooks/tpu.ipynb)"
      ]
    }
  ]
}