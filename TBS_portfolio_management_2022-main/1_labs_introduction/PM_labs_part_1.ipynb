{
  "nbformat": 4,
  "nbformat_minor": 0,
  "metadata": {
    "colab": {
      "name": "PM_labs_part_1.ipynb",
      "provenance": [],
      "collapsed_sections": [],
      "toc_visible": true,
      "authorship_tag": "ABX9TyOU1cOvX/0D9CwlhZZYDmUb",
      "include_colab_link": true
    },
    "kernelspec": {
      "name": "python3",
      "display_name": "Python 3"
    }
  },
  "cells": [
    {
      "cell_type": "markdown",
      "metadata": {
        "id": "view-in-github",
        "colab_type": "text"
      },
      "source": [
        "<a href=\"https://colab.research.google.com/github/mscouse/TBS_investment_management/blob/main/PM_labs_part_1.ipynb\" target=\"_parent\"><img src=\"https://colab.research.google.com/assets/colab-badge.svg\" alt=\"Open In Colab\"/></a>"
      ]
    },
    {
      "cell_type": "markdown",
      "metadata": {
        "id": "xx1Urdo9Oi1F"
      },
      "source": [
        "[![Open In Colab](https://colab.research.google.com/assets/colab-badge.svg)](https://colab.research.google.com/drive/1zyo6T5SIopoPNHLmXUwNyf5sTAM6Ognt?usp=sharing)\n",
        "# <strong> Investment Management 1</strong>\n",
        "---\n",
        "#<strong> Part 1: Python and Google Colab notebooks.</strong>\n",
        "\n",
        "In the course repository on GitHub, you will find several introductory Colab notebooks covering the following topics:\n",
        "\n",
        "**Part 1: Introduction to Python and Google Colab notebooks (CURRENT NOTEBOOK).**\n",
        "\n",
        "**Part 2: Getting started with Colab notebooks & basic features.**\n",
        "\n",
        "**Part 3: Data visualisation libraries.**\n",
        "\n",
        "**Part 4: Data sources & data collection in Python.**\n",
        "\n",
        "**Part 5: Basic financial calculations in python.**\n",
        "\n",
        "\n",
        "The notebooks have been designed to help you get started with Python and Google Colab. See the **“1_labs_introduction”** folder for more information. Each notebook contains all necessary libraries and references to the required subsets of data."
      ]
    },
    {
      "cell_type": "markdown",
      "metadata": {
        "id": "N1uOo9_0Yy9J"
      },
      "source": [
        "<a name=\"section_1\"></a>\n",
        "# <strong>1. Python and Google Colaboratory</strong>"
      ]
    },
    {
      "cell_type": "markdown",
      "metadata": {
        "id": "AuXq_kylTT7i"
      },
      "source": [
        "## 1.1. Recommended python learning resources\n",
        "\n",
        "To get started with Python, consider a course from the list of recommended options below:\n",
        "\n",
        "1. <a href=\"https://www.freecodecamp.org/learn/data-analysis-with-python/data-analysis-with-python-course/\">Data Analysis with Python</a> course offered by <strong>freeCodeCamp</strong>. This free course provides a complete introduction into all of the core concepts in Python and allows you to learn basics of data analysis in Python by completing interactive coding challenges and watching videos by expert instructors.\n",
        "\n",
        "1. <strong>IBM</strong> also supports a well-designed free Python course on Edx, called <a href=\"https://www.edx.org/course/python-basics-for-data-science\">Python Basics for Data Science</a>. This course will teach you Python in Jupyter notebooks, an online browser-based coding editor for Python, which means you don't need to install Python. For most practical exercises in this course, we will be using Google Colab notebooks, which are Jupyter notebooks hosted by Google Colaboratory.\n",
        "\n",
        "1. <a href=\"https://www.edx.org/course/python-basics-for-data-science\">Learn Python 3 from Scratch</a> by <strong>Educative</strong> is another excellent introductory Python course you may want to consider. This is a free class for people with little to no programming experience. The course includes written tutorials, lecture videos, and lots of code exercises to practice Python coding.\n",
        "\n",
        "Another useful website for learning Python,  supported by <strong>DataCamp</strong>, is https://www.learnpython.org/. This resource contains several free interactive Python tutorials and is intended for everyone who wishes to learn the Python programming language."
      ]
    },
    {
      "cell_type": "markdown",
      "metadata": {
        "id": "D3WgMgrOcHOE"
      },
      "source": [
        "## 1.2. Introduction to Colaboratory?\n",
        "\n",
        "Google Colaboratory, or 'Colab' for short, is a cloud-based platform for machine learning and other data science applications, created for research and education.\n",
        "\n",
        "It comes with a GPU (graphics processing unit) which is totally free and allows you to create and run Jupyter-like Python notebooks online. Colab has numerous common Python libraries pre-installed by default and thus requires little time to setup your project. You can save notebooks created in Colab to Google Drive (or GitHub) and open Jupyter notebooks from Google Drive or upload your existing Jupyter notebooks.\n",
        "\n",
        "You can also share your notebooks saved in your Google Drive, just like Google Sheets or Docs. Your shared notebook will include its full content (code, text, etc.) except for the virtual machine and custom libraries you have used. If you need to share this as well, you include additional cells in your notebook that automatically install and load the pertinent custom files.\n",
        "\n",
        "\n",
        "> To summarise, Colab allows you to write and execute Python in your internet browser, with \n",
        "- No need for installation or configuration\n",
        "- Free access to GPUs\n",
        "- Easy sharing and collaboration </br>\n",
        "\n",
        "Colab notebooks are Jupyter notebooks that are hosted by Google. To find out more about the Jupyter project, see <a href=\"https://www.jupyter.org\">jupyter.org</a>.\n",
        "\n",
        "&nbsp;\n",
        "\n",
        "To level the playing field, in this course we use Colab for all practical assignments. Should you choose to run Python on your local machine, there are numerous tutorials detailing how to set up your computer for Python development and get started with programming.\n",
        "\n",
        "> To find out more about Google Colab, consider watching <a href=\"https://www.youtube.com/watch?v=inN8seMm7UI\">Introduction to Colab</a>. You can also watch the video by executing the code cell below.\n",
        "\n",
        "Follow these steps to execute the code cell:\n",
        "\n",
        "* make sure your notebook is connected to \"hosted runtime\" (the top-level toolbar button indicates CONNECTED);\n",
        "* if not connected, connect your notebook to \"hosted runtime\" by pressing this button ![connect.jpg](https://drive.google.com/uc?id=1Ww0AkiexB8KPWyftb-zeJbNR36D6AlJa)\n",
        "* click in the code cell to select it and execute the contents in one following ways: **(1)** Click the **Play icon** in the left gutter of the cell; **(2)**Type **Cmd/Ctrl+Enter** to run the cell in place; **(3)** Type **Shift+Enter** to run the cell and move focus to the next cell (adding one if none exists); or **(4)** Type **Alt+Enter** to run the cell and insert a new code cell immediately below it.\n",
        "\n",
        "There are additional options for running some or all cells in the **Runtime** menu."
      ]
    },
    {
      "cell_type": "code",
      "metadata": {
        "id": "EsbiGctQwEtl"
      },
      "source": [
        "from IPython.display import YouTubeVideo\n",
        "YouTubeVideo('inN8seMm7UI', width=800, height=500)"
      ],
      "execution_count": null,
      "outputs": []
    }
  ]
}