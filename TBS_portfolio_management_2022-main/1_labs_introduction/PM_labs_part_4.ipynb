{
  "nbformat": 4,
  "nbformat_minor": 0,
  "metadata": {
    "colab": {
      "name": "PM_labs_part_4.ipynb",
      "provenance": [],
      "collapsed_sections": [
        "bhg19De-n284",
        "HqgaZHHQq5hC"
      ],
      "toc_visible": true,
      "authorship_tag": "ABX9TyM/u6O7K9ERzNCnrMunshq/",
      "include_colab_link": true
    },
    "kernelspec": {
      "name": "python3",
      "display_name": "Python 3"
    }
  },
  "cells": [
    {
      "cell_type": "markdown",
      "metadata": {
        "id": "view-in-github",
        "colab_type": "text"
      },
      "source": [
        "<a href=\"https://colab.research.google.com/github/mscouse/TBS_investment_management/blob/main/PM_labs_part_4.ipynb\" target=\"_parent\"><img src=\"https://colab.research.google.com/assets/colab-badge.svg\" alt=\"Open In Colab\"/></a>"
      ]
    },
    {
      "cell_type": "markdown",
      "metadata": {
        "id": "xx1Urdo9Oi1F"
      },
      "source": [
        "[![Open In Colab](https://colab.research.google.com/assets/colab-badge.svg)](https://colab.research.google.com/drive/1F1J2rObxMwR11cnRzm5m_b1cLwW1U-nL?usp=sharing)\n",
        "# <strong> Investment Management 1</strong>\n",
        "---\n",
        "#<strong> Part 4: Data sources & data collection in Python.</strong>\n",
        "\n",
        "In the course repository on GitHub, you will find several introductory Colab notebooks covering the following topics:\n",
        "\n",
        "**Part 1: Introduction to Python and Google Colab notebooks.**\n",
        "\n",
        "**Part 2: Getting started with Colab notebooks & basic features.**\n",
        "\n",
        "**Part 3: Data visualisation libraries.**\n",
        "\n",
        "**Part 4: Data sources & data collection in Python (CURRENT NOTEBOOK).**\n",
        "\n",
        "**Part 5: Basic financial calculations in python.**\n",
        "\n",
        "\n",
        "The notebooks have been designed to help you get started with Python and Google Colab. See the **“1_labs_introduction”** folder for more information. Each notebook contains all necessary libraries and references to the required subsets of data."
      ]
    },
    {
      "cell_type": "markdown",
      "metadata": {
        "id": "RNA1jkvTDH7g"
      },
      "source": [
        "# <strong>Data sources and data collection</strong>\n",
        "\n",
        "To perform data analysis, the first step is to load a file containing the pertinent data – such as a CSV or Excel file - into Colab. There are several ways to do so. You can import your own data into Colab notebooks from Google Drive, GitHub and many other sources. Some of these are discussed below. \n",
        "\n",
        "To find out more about importing data, and how Colab can be used for data analysis, see the <a href=\"https://github.com/mscouse/TBS_investment_management/blob/main/Python_workspace.pdf\">Python Workspace</a> document in the course GitHub repository or a more <a href=\"https://neptune.ai/blog/google-colab-dealing-with-files\">comprehensive guide</a> prepared by Siddhant Sadangi of Reuters."
      ]
    },
    {
      "cell_type": "markdown",
      "metadata": {
        "id": "bhg19De-n284"
      },
      "source": [
        "##1. Uploading files from your local drive\n",
        "\n",
        "It is easy to upload your locally stored data files. To upload the data from your local drive, type in the following code in a new “Code” cell in Colab (as demonstrated below):\n",
        "\n",
        "```\n",
        "from google.colab import files\n",
        "files.upload()\n",
        "```\n",
        "Once executed, the code will prompt you to select a file containing your data. Click on **“Choose Files”** then select and upload the file. Wait for the file to be 100% uploaded. You should see the name of the file in the code cell once it is uploaded.\n",
        "\n",
        "On the left side of Colab interface, there is a **\"Files/ Folder\"** tab. You can find the uploaded file in that directory. \n",
        "\n",
        "If you want to read the uploaded data into a Pandas dataframe (named `df` in this example), use the following code in a new code cell. The **'filename.csv'** should match the name of the uploaded file, including the `.csv` extension:\n",
        "\n",
        "```\n",
        "import pandas as pd\n",
        "df = pd.read_csv('filename.csv')\n",
        "```\n"
      ]
    },
    {
      "cell_type": "code",
      "metadata": {
        "id": "T2DnoqkJ5FQ2"
      },
      "source": [
        "from google.colab import files\n",
        "files.upload()"
      ],
      "execution_count": null,
      "outputs": []
    },
    {
      "cell_type": "markdown",
      "metadata": {
        "id": "HqgaZHHQq5hC"
      },
      "source": [
        "##2. Upload files from GitHub  (via its RAW URL)\n",
        "\n",
        "You can either clone an entire GitHub repository to your Colab environment or access individual files from their raw link. We use the latter method throughout the course/assignments. \n",
        "\n",
        "\n",
        "**Clone a GitHub repository**\n",
        "\n",
        "You can clone a GitHub repository into your Colab environment in the same way as you would on your local machine, using `!git clone` followed by the clone URL of the repository:\n",
        "\n",
        "```\n",
        "# use the correct URL\n",
        "!git clone https://github.com/repository_name.git\n",
        "```\n",
        "Once the repository is cloned, refresh the file-explorer to browse through its contents. Then you can simply read the files as you would in your local machine (see above).\n",
        "\n",
        "&nbsp;\n",
        "\n",
        "\n",
        "**Load GitHub files using raw links**\n",
        "\n",
        "There is no neeed to clone the repository to Colab if you need to work with only a few files from that repository. You can load individual files directly from GitHub using thier raw links, as follows:\n",
        "\n",
        "1.   click on the file in the repository;\n",
        "2.   click on `View Raw`;\n",
        "3.   copy the URL of the raw file,\n",
        "4.   use this URL as the location of your file (see sample code below) \n",
        "\n",
        "```\n",
        "import pandas as pd\n",
        "\n",
        "# step 1: store the link to your dataset as a string titled \"url\"\n",
        "url=\"https://raw.githubusercontent.com/mscouse/TBS_investment_management/main/1_labs_introduction/stock_prices_1.csv\"\n",
        "\n",
        "# step 2: Load the dataset into pandas. The dataset is stored as a pandas dataframe \"df\".\n",
        "df = pd.read_csv(url)\n",
        "```\n",
        "\n",
        "Try doing it yourself using the code cells below.\n"
      ]
    },
    {
      "cell_type": "code",
      "metadata": {
        "id": "qU19agzU9rBJ"
      },
      "source": [
        "# import any required libraries\n",
        "import pandas as pd\n",
        "\n",
        "# store the URL link to your GitHub dataset as a string titled \"url\"\n",
        "url = 'https://raw.githubusercontent.com/mscouse/TBS_investment_management/main/1_labs_introduction/stock_prices_1.csv'"
      ],
      "execution_count": null,
      "outputs": []
    },
    {
      "cell_type": "code",
      "metadata": {
        "id": "SbqLyxwq9sqb"
      },
      "source": [
        "# load the dataset into Pandas. The dataset will be stored as a Pandas Dataframe \"df\".\n",
        "# Note that the file we deal with in this example contains dates in the first column.\n",
        "# Therefore, we parse the dates using \"parse_dates\" and set the date column to be\n",
        "# the index of the dataframe (using the \"index_col\" parameter)\n",
        "df = pd.read_csv(url, parse_dates=['date'], index_col=['date'])\n",
        "df.head()"
      ],
      "execution_count": null,
      "outputs": []
    },
    {
      "cell_type": "markdown",
      "metadata": {
        "id": "xKHLtwPTOP11"
      },
      "source": [
        "##3. Accessing financial data\n",
        "\n",
        "There are several open source Python library designed to help researchers access financial data. One example is `yfinance` (formerly known as `fix-yahoo-finance`). It is a popular library, developed as a means to access the financial data available on Yahoo Finance.\n",
        "\n",
        "Other widely used libraries are `pandas_datareader`, `yahoo_fin`, `ffn`, `PyNance`, and `alpha vantage`.\n",
        "\n",
        "In this section we focus on the former library, `yfinance`. As this library is not pre-installed in Google Colab by default, we will first execute the following code to install it:\n",
        "\n",
        "```\n",
        "!pip install yfinance\n",
        "```\n",
        "The `!pip install <package>` command looks for the latest version of the package and installs it. This only needs to be done once per session."
      ]
    },
    {
      "cell_type": "code",
      "metadata": {
        "id": "gwx_MFHvRnFs"
      },
      "source": [
        "# install the yfinance library\n",
        "!pip install yfinance"
      ],
      "execution_count": null,
      "outputs": []
    },
    {
      "cell_type": "markdown",
      "metadata": {
        "id": "QGUyB4l_Px7G"
      },
      "source": [
        "As you may know, **Yahoo Finance** offers historical market data on stocks, bonds, cryptocurrencies, and currencies. It also aggregates companies' fundamental data.\n",
        "\n",
        "We will be using several modules and functions included with the `yfinance` library to download historical market data from Yahoo Finance. For more information on the library, see <a href=\"https://pypi.org/project/yfinance/\">here</a>. \n",
        "\n",
        "**Company information**\n",
        "\n",
        "The first `module` of the `yfinance` library we consider is `Ticker`. By using the `Ticker` function we pass the stock symbol for which we need to download the data. It allows us to access ticker-specific data, such as stock info, corporate actions, company financials, etc. In the example below we are working with Apple - its ticker is”AAPL”. The first step is to call the `Ticker` function to initialize the stock we work with."
      ]
    },
    {
      "cell_type": "code",
      "metadata": {
        "id": "xkrI1iyGTx-D"
      },
      "source": [
        "# import required libraries (note that yfinance needs to be imported in addition to being installed)\n",
        "import yfinance as yf\n",
        "\n",
        "# assign ticker to Python variable\n",
        "aapl = yf.Ticker(\"AAPL\")\n",
        "\n",
        "# get stock info\n",
        "aapl.info"
      ],
      "execution_count": null,
      "outputs": []
    },
    {
      "cell_type": "markdown",
      "metadata": {
        "id": "RHyby9P9aTzg"
      },
      "source": [
        "**Downloading stock data**\n",
        "\n",
        "To download the historical stock data, we need to use the `history` function. As arguments, we can pass **start** and **end** dates to set a specific time period. Otherwise, we can set the period to **max** which will return all the stock data available on Yahoo for the chosen ticker. \n",
        "\n",
        "Available paramaters for the `history()` method are:\n",
        "\n",
        "* period: data period to download (either use `period` parameter or use `start` and `end`). Valid periods are: 1d, 5d, 1mo, 3mo, 6mo, 1y, 2y, 5y, 10y, ytd, max;\n",
        "\n",
        "* interval: data interval (intraday data cannot extend past 60 days). Valid intervals are: 1m, 2m, 5m, 15m, 30m, 60m, 90m, 1h, 1d, 5d, 1wk, 1mo, 3mo;\n",
        "\n",
        "* start: if not using `period` - download start date string (YYYY-MM-DD) or datetime;\n",
        "\n",
        "* end: if not using `period` - download end date string (YYYY-MM-DD) or datetime;"
      ]
    },
    {
      "cell_type": "code",
      "metadata": {
        "id": "2Eo9wzdcUaAz"
      },
      "source": [
        "# get historical market data\n",
        "hist = aapl.history(period=\"max\")\n",
        "hist.head()"
      ],
      "execution_count": null,
      "outputs": []
    },
    {
      "cell_type": "markdown",
      "metadata": {
        "id": "NZ1gTREkbPCH"
      },
      "source": [
        "**Displaying corporate actions and analysts recommendations**\n",
        "\n",
        "To display information about the dividends and stock splits, or the analysts recommendations use the `actions` and `recommendations` functions."
      ]
    },
    {
      "cell_type": "code",
      "metadata": {
        "id": "0i73yGB9Uoud"
      },
      "source": [
        "# show company corporate actions, such as dividends and stock splits\n",
        "aapl.actions"
      ],
      "execution_count": null,
      "outputs": []
    },
    {
      "cell_type": "code",
      "metadata": {
        "id": "b13hFcJXU3ub"
      },
      "source": [
        "# show analysts recommendations\n",
        "aapl.recommendations"
      ],
      "execution_count": null,
      "outputs": []
    },
    {
      "cell_type": "markdown",
      "metadata": {
        "id": "seuQBdd6VUDR"
      },
      "source": [
        "**Data for multiple stocks**\n",
        "\n",
        "To download data for multiple tickers, we need to use the `download()` method, as follows:\n",
        "```\n",
        "# Version 1\n",
        "\n",
        "import yfinance as yf\n",
        "stock_data = yf.download(\"AAPL MSFT BRK-A\", start=\"2015-01-01\", end=\"2021-01-20\")\n",
        "```\n",
        "\n",
        "Alternatively, we can rewrite the code above as:\n",
        "```\n",
        "# Version 2\n",
        "\n",
        "import yfinance as yf\n",
        "\n",
        "tickers = \"AAPL MSFT BRK-A\"\n",
        "date_1 = \"2015-01-01\"\n",
        "date_2 = \"2021-01-20\"\n",
        "\n",
        "stock_data = yf.download(tickers, start=date_1, end=date_2)\n",
        "```\n",
        "\n",
        "To access the closing adjusted price data for the tickers in the `stock_data` dataframe the code above creates, you should use: `stock_data['Adj Close']`. To access the closing adjusted price data for 'AAPL' only, use: `stock_data['Adj Close']['AAPL']`. \n"
      ]
    },
    {
      "cell_type": "code",
      "metadata": {
        "id": "6cteE9RbVzcp"
      },
      "source": [
        "# Version 1\n",
        "# import required libraries\n",
        "import yfinance as yf\n",
        "\n",
        "# fetch data for multiple tickers\n",
        "stock_data = yf.download(\"AAPL MSFT BRK-A\", start=\"2015-01-01\", end=\"2021-01-20\")\n",
        "\n",
        "# display the last 5 rows of the dataframe; we choose to display the \"Adj Close\" column only\n",
        "stock_data[\"Adj Close\"].tail()"
      ],
      "execution_count": null,
      "outputs": []
    },
    {
      "cell_type": "code",
      "metadata": {
        "id": "haxf2MghXWLN"
      },
      "source": [
        "# Version 2\n",
        "import yfinance as yf\n",
        "\n",
        "# assign required values to variables\n",
        "tickers = \"AAPL MSFT BRK-A\"\n",
        "date_1 = \"2015-01-01\"\n",
        "date_2 = \"2021-01-20\"\n",
        "\n",
        "# fetch data for multiple tickers\n",
        "stock_data = yf.download(tickers, start=date_1, end=date_2)\n",
        "\n",
        "# display the last 5 rows of the dataframe; we choose to display the \"Adj Close\" column only\n",
        "stock_data[\"Adj Close\"].tail()"
      ],
      "execution_count": null,
      "outputs": []
    },
    {
      "cell_type": "code",
      "metadata": {
        "id": "NbBVKVcge9Ud"
      },
      "source": [
        "# display the last 5 rows of AAPL adjusted close prices\n",
        "stock_data['Adj Close']['AAPL'].tail()"
      ],
      "execution_count": null,
      "outputs": []
    },
    {
      "cell_type": "markdown",
      "metadata": {
        "id": "KNd0IIbPfbWH"
      },
      "source": [
        "However, if you want to group stock data by ticker, use the following code:\n",
        "\n",
        "```\n",
        "# Version 3\n",
        "\n",
        "import yfinance as yf\n",
        "\n",
        "tickers = \"AAPL MSFT BRK-A\"\n",
        "date_1 = \"2015-01-01\"\n",
        "date_2 = \"2021-01-20\"\n",
        "\n",
        "stock_data = yf.download(tickers, start=date_1, end=date_2, group_by=\"ticker\")\n",
        "```\n",
        "\n",
        "To access the closing adjusted price data for 'AAPL' only, use: `stock_data['AAPL']['Adj Close']`. \n"
      ]
    },
    {
      "cell_type": "code",
      "metadata": {
        "id": "qwJDKuFVf88U"
      },
      "source": [
        "# Version 3\n",
        "import yfinance as yf\n",
        "\n",
        "# assign required values to variables\n",
        "tickers = \"AAPL MSFT BRK-A\"\n",
        "date_1 = \"2015-01-01\"\n",
        "date_2 = \"2021-01-20\"\n",
        "\n",
        "# fetch data for multiple tickers\n",
        "stock_data = yf.download(tickers, start=date_1, end=date_2, group_by=\"ticker\")\n",
        "\n",
        "# display the last 5 rows of \"Adj Close\" prices for AAPL only\n",
        "stock_data[\"AAPL\"][\"Adj Close\"].tail()"
      ],
      "execution_count": null,
      "outputs": []
    }
  ]
}