{
  "nbformat": 4,
  "nbformat_minor": 0,
  "metadata": {
    "colab": {
      "name": "PM_assignment_1_hints.ipynb",
      "provenance": [],
      "collapsed_sections": [
        "FNGH0ANypbVN",
        "1JD7-chppxNJ",
        "8Dl2TMTMCAl7",
        "i3XEjn2OD9fB",
        "aUR7xKzdoSYT",
        "qiWg0PhJob99",
        "Nivc9LOHr9b6",
        "_05oVtSVuF1W",
        "AtAjsJXLu2br",
        "XfWP-A8VvsVy",
        "a-u4LIvxHqot"
      ]
    },
    "kernelspec": {
      "name": "python3",
      "display_name": "Python 3"
    }
  },
  "cells": [
    {
      "cell_type": "markdown",
      "metadata": {
        "id": "N1uOo9_0Yy9J"
      },
      "source": [
        "# <strong> Investment Management 1</strong>\n",
        "---\n",
        "#<strong> Assignment 1 (hints)</strong>\n",
        "**This Colab notebook contains useful tips and hints for Assignment 1. To get started, create a copy of the notebook and save it on your Google drive.**\n"
      ]
    },
    {
      "cell_type": "markdown",
      "metadata": {
        "id": "vbx45wHhklCh"
      },
      "source": [
        "##**Part 1: Obtaining financial data [10 pt]**\n",
        "\n",
        "The purpose of this section is to get you used to the basics of Python and the Colab notebook environment. This includes importing data and working with variables, lists, dataframes, and functions.\n",
        "\n",
        "Your code will be checked for clarity and efficiency. If you have trouble with this part of the assignment, please review the introductory Colab notebooks stored in the GitHub course repository."
      ]
    },
    {
      "cell_type": "markdown",
      "metadata": {
        "id": "FNGH0ANypbVN"
      },
      "source": [
        "###Part 1.1. Loading historical stock prices (6pt)\n",
        "\n",
        "Using any Python financial data library (e.g. `yfinance`) download daily adjusted close prices for 5 U.S. stocks of your choice for the last 5 years and store them in a `pandas` DataFrame object named `stock_prices`. Only stocks that are current constituents of the S&P 500 should be considered.\n",
        "\n",
        "&nbsp;\n",
        "\n",
        "As the financial data library you use is not pre-installed in Google Colab by default, make sure to install it first by executing the following code:\n",
        "```\n",
        "!pip install library_name\n",
        "```\n",
        "\n",
        "The !pip install <package> command looks for the latest version of the package and installs it. This only needs to be done once per session.\n",
        "\n",
        "If you are unable to install the required library to fetch the data, you can prepare a separate CSV file containing the necessary data and use the following code to read it into a `pandas` dataframe object:\n",
        "```\n",
        "from google.colab import files\n",
        "files.upload()\n",
        "```\n",
        "followed by:\n",
        "```\n",
        "import pandas as pd\n",
        "stock_prices = pd.read_csv('filename.csv')\n",
        "```\n",
        "Note that `filename.csv` should be changed to the exact name of your CSV file. "
      ]
    },
    {
      "cell_type": "code",
      "metadata": {
        "id": "NLU_CDgC_SWA"
      },
      "source": [
        "# step 1: install required libraries using \"!pip install\"\n",
        "!pip install --upgrade pandas-datareader\n",
        "!pip install ffn"
      ],
      "execution_count": null,
      "outputs": []
    },
    {
      "cell_type": "code",
      "metadata": {
        "id": "4GlNvrQz_fl_"
      },
      "source": [
        "# step 2: import required libraries using \"import\"\n",
        "import ffn\n",
        "import pandas as pd\n",
        "import numpy as np"
      ],
      "execution_count": null,
      "outputs": []
    },
    {
      "cell_type": "code",
      "metadata": {
        "id": "zkQRHW4y_qrG"
      },
      "source": [
        "# step 3: fetch historical asset prices\n",
        "start_date = '2016-01-01'\n",
        "end_date = '2020-12-31'\n",
        "\n",
        "stock_prices = ffn.get('MSFT, AAPL', start=start_date, end=end_date)\n",
        "stock_prices.head()"
      ],
      "execution_count": null,
      "outputs": []
    },
    {
      "cell_type": "markdown",
      "metadata": {
        "id": "1JD7-chppxNJ"
      },
      "source": [
        "###Part 1.2. Obtaining data on risk-free asset (4pt)\n",
        "\n",
        "Using a financial data library (e.g. `yfinance`) of your choice, obtain daily data on the U.S. risk-free (1-month Treasury Bill) rate for the last 5 years and store them in a `pandas` DataFrame object named `rf`.\n",
        "\n",
        "If you are unable to obtain the risk-free data using your chosen data library, you can prepare a separate CSV file containing the necessary data and use the steps discussed above to read it into a `pandas` dataframe object `rf`."
      ]
    },
    {
      "cell_type": "code",
      "metadata": {
        "id": "wk1J2tIuBo20"
      },
      "source": [
        "# step 4: fetch historical risk-free rate\n",
        "url = 'https://raw.githubusercontent.com/mscouse/TBS_portfolio_management_2022/main/1_labs_introduction/FF_factors_daily.csv'\n",
        "\n",
        "rf = pd.read_csv(url, index_col=['date'])\n",
        "rf.index = pd.to_datetime(rf.index, format='%Y%m%d')\n",
        "\n",
        "rf.drop(['MRK-RF', 'SMB', 'HML'], axis=1, inplace=True)\n",
        "\n",
        "rf.describe()"
      ],
      "execution_count": null,
      "outputs": []
    },
    {
      "cell_type": "markdown",
      "metadata": {
        "id": "8Dl2TMTMCAl7"
      },
      "source": [
        "##**Part 2: Visualising historical asset prices [10pt]**\n",
        "\n",
        "In this part of the assignment, you will be manipulating dataframes containing historical asset prices using Pandas, and visualising them using a Python plotting library of your choice. The purpose of these visualisations is to help you explore the data and identify any patterns. \n",
        "\n",
        "One robust visualisation library you may want to consider is `Matplotlib`. It is one of the most popular, and certainly the most widely used, multi-platform data visualisation library built on NumPy arrays in Python. It is used to generate simple yet powerful visualisations with just a few lines of code. It can be used in both interactive and non-interactive scripts.\n",
        "\n",
        "Make sure you import the required libraries first."
      ]
    },
    {
      "cell_type": "markdown",
      "metadata": {
        "id": "nsC4GbQLC-Zb"
      },
      "source": [
        "###Part 2.1. Raw stock prices (4pt)\n",
        "\n",
        "Plot the adjusted daily close prices for your stocks on the same diagram using a Python data visualisation library of your choice (default is matplotlib). Use the historical price data stored in the `stock_prices` dataframe created earlier. "
      ]
    },
    {
      "cell_type": "code",
      "metadata": {
        "id": "fUFKwlXkDoui"
      },
      "source": [
        "# step 5: import required data visualisation library\n",
        "%matplotlib inline\n",
        "stock_prices.plot(title='Stock Prices', ylabel='Price', figsize=(10, 8))"
      ],
      "execution_count": null,
      "outputs": []
    },
    {
      "cell_type": "markdown",
      "metadata": {
        "id": "i3XEjn2OD9fB"
      },
      "source": [
        "###Part 2.1. Rebased stock prices (6pt)\n",
        "\n",
        "To make comparing and plotting different asset price series together easier, we often \"rebase\" all prices to a given initial value - e.g. 100. \n",
        "\n",
        "In this section, you need to rebase the adjusted close prices for your stocks and plot them on the same diagram using a visualisation library of your choice (default is matplotlib). Note that some financial data libraries have handy built-in functions to perform this kind of task. Have a look at the `ffn` library <a href=\"https://pmorissette.github.io/ffn/\"> documentation </a>. "
      ]
    },
    {
      "cell_type": "code",
      "metadata": {
        "id": "7dHYgg3yEFWe"
      },
      "source": [
        "# step 6: import required data visualisation library\n",
        "stock_prices.rebase().plot(title='Stock Prices', ylabel='Price', figsize=(10, 8))"
      ],
      "execution_count": null,
      "outputs": []
    },
    {
      "cell_type": "markdown",
      "metadata": {
        "id": "nXe4ClXwHOed"
      },
      "source": [
        "##**Part 3: Absolute return and risk measures [40pt]**\n",
        "\n",
        "In this part of the assignment, you will work with basic financial calculations and functions, such as computing and compounding investment returns, calculating averages, and computing measures of investment risk.\n",
        "\n",
        "I suggest you use `pandas` dataframes to store all necessary data. Colab includes an extension that renders Pandas dataframes into interactive tables that can be filtered, sorted, and explored dynamically.\n",
        "\n",
        "The extension can be enabled by executing `%load_ext google.colab.data_table` in any code cell and disabled with `%unload_ext google.colab.data_table`."
      ]
    },
    {
      "cell_type": "markdown",
      "metadata": {
        "id": "aUR7xKzdoSYT"
      },
      "source": [
        "### 3.1. Stock returns (6pt)\n",
        "\n",
        "In asset management, we are often interested in the returns of a given time series. Therefore, in this part of the assignment, you need to compute **daily**, **weekly**, and **monthly** **arithmetic and logarithmic** returns for each chosen stock and store them in separate `pandas` dataframe objects named `returns` and `log_returns`, respectively.\n",
        "\n",
        "Make sure to drop any missing values and display the first 5 lines of the resulting dataframes. "
      ]
    },
    {
      "cell_type": "code",
      "metadata": {
        "id": "fEkjIX6oobZr"
      },
      "source": [
        "# step 7: import required data visualisation library\n",
        "# A: resample daily stock prices into weekly and monthly\n",
        "stock_prices_weekly = stock_prices.resample('W').ffill()\n",
        "stock_prices_monthly = stock_prices.resample('M').ffill()\n",
        "\n",
        "# B: compute ordinary returns\n",
        "daily_returns = stock_prices.pct_change().dropna()\n",
        "weekly_returns = stock_prices_weekly.pct_change().dropna()\n",
        "monthly_returns = stock_prices_monthly.pct_change().dropna()\n",
        "\n",
        "# C: compute log returns\n",
        "daily_log_returns = np.log(stock_prices/stock_prices.shift(1)).dropna()\n",
        "weekly_log_returns = np.log(stock_prices_weekly/stock_prices_weekly.shift(1)).dropna()\n",
        "monthly_log_returns = np.log(stock_prices_monthly/stock_prices_monthly.shift(1)).dropna()\n",
        "\n",
        "# D: report all returns\n",
        "list_of_returns = [(daily_returns, 'Daily Returns'), (weekly_returns, 'Weekly Returns'), (monthly_returns, 'Monthly Returns'), (daily_log_returns, 'Daily Logarithmic Returns'), (weekly_log_returns, 'Weekly Logarithmic Returns'), (monthly_log_returns, 'Monthly Logarithmic Returns')]\n",
        "\n",
        "for df, title in list_of_returns:\n",
        "  print(title)\n",
        "  print(df.head())\n"
      ],
      "execution_count": null,
      "outputs": []
    },
    {
      "cell_type": "markdown",
      "metadata": {
        "id": "qiWg0PhJob99"
      },
      "source": [
        "### 3.2. Distribution of returns (5pt)\n",
        "\n",
        "Check what the return distributions look like by plotting a histogram of daily returns calculated in the previous section. You can use any Python visualisation library of your choice.\n",
        "\n",
        "Plot returns distributions for both, arithmetic and logarithmic returns. Discuss whether there are significant differences between the two. Also, provide a short explanation on when and why we use log returns, rather than normal returns."
      ]
    },
    {
      "cell_type": "code",
      "metadata": {
        "id": "SFyEn2urox5-"
      },
      "source": [
        "# step 8: import required data visualisation library\n",
        "for df, title in list_of_returns:\n",
        "  df.plot(kind='hist', title=title, subplots = True, figsize=(10, 8), legend=True, bins=30, alpha=0.5)"
      ],
      "execution_count": null,
      "outputs": []
    },
    {
      "cell_type": "markdown",
      "metadata": {
        "id": "Uk9IIYSSrAnW"
      },
      "source": [
        "**Your response/ short explanation:** ________HERE_________\n"
      ]
    },
    {
      "cell_type": "markdown",
      "metadata": {
        "id": "Nivc9LOHr9b6"
      },
      "source": [
        "### 3.3. Correlation matrix (5pt)\n",
        "\n",
        "Using daily arithmetic stock returns, compute pairwise correlations between your 5 assets and plot a correlation matrix. \n",
        "\n",
        "(optional) You may want to have a look at the `heatmap()` method in the `Seaborn` visualisation library. It allows you to create elegant correlation heatmaps easily. "
      ]
    },
    {
      "cell_type": "code",
      "metadata": {
        "id": "2cJf0FI4sp5y"
      },
      "source": [
        "# step 9: import required data visualisation library\n",
        "daily_returns.corr()"
      ],
      "execution_count": null,
      "outputs": []
    },
    {
      "cell_type": "markdown",
      "metadata": {
        "id": "_05oVtSVuF1W"
      },
      "source": [
        "### 3.4. Cumulative returns (8pt)\n",
        "\n",
        "Using the arithmetic daily returns, compute cumulative returns for each stock over the last 1–, 3-, and 5- year periods and display them as values. Once done, annualise the resulting cumulative daily returns for each stock and display them as well."
      ]
    },
    {
      "cell_type": "code",
      "metadata": {
        "id": "TMOZ5GDPu11A"
      },
      "source": [
        "# step 10: import required data library (returns are not annualised in this example)\n",
        "start_date = [('2016-01-01', '5-year cumulative'), ('2018-01-01', '3-year cumulative'), ('2020-01-01', '1-year cumulative')]\n",
        "\n",
        "for date, period in start_date:\n",
        "  comp_returns = (daily_returns[(daily_returns.index>=date)]+1).prod()-1\n",
        "  print(period)\n",
        "  print(comp_returns)\n"
      ],
      "execution_count": null,
      "outputs": []
    },
    {
      "cell_type": "markdown",
      "metadata": {
        "id": "AtAjsJXLu2br"
      },
      "source": [
        "### 3.5. Arithmetic average returns (8pt)\n",
        "\n",
        "Compute arithmetic average daily returns for each stock, annualise them, and display the resulting values. \n",
        "\n",
        "As there are typically 252 trading days in a year, to annualise a daily return $r_d$ we use:\n",
        "\n",
        "$$ (1+r_d)^{252} - 1$$"
      ]
    },
    {
      "cell_type": "code",
      "metadata": {
        "id": "xuYObzdnvrsT"
      },
      "source": [
        "# step 11: import required data visualisation library\n",
        "(1+daily_returns.mean())**252-1"
      ],
      "execution_count": null,
      "outputs": []
    },
    {
      "cell_type": "markdown",
      "metadata": {
        "id": "XfWP-A8VvsVy"
      },
      "source": [
        "### 3.6. Standard deviation (8pt)\n",
        "\n",
        "Using the stock returns calculated earlier, compute standard deviations of daily returns for each stock over the last 1–, 3-, and 5- year periods and display them.\n",
        "\n",
        "Once done, repeat the calculation of standard deviations but using monthly returns instead. Display the resulting values.\n",
        "\n",
        "Explain what the best way to annualise standard deviations is."
      ]
    },
    {
      "cell_type": "code",
      "metadata": {
        "id": "9PzIzfaGwjRH"
      },
      "source": [
        "# step 12: import required data visualisation library\n",
        "start_date = [('2016-01-01', '5-year std'), ('2018-01-01', '3-year std'), ('2020-01-01', '1-year std')]\n",
        "\n",
        "for date, period in start_date:\n",
        "  print(period)\n",
        "  print('daily', daily_returns[(daily_returns.index>=date)].std(), sep=\"\\n\")\n",
        "  print('monthly', monthly_returns[(monthly_returns.index>=date)].std(), sep=\"\\n\")"
      ],
      "execution_count": null,
      "outputs": []
    },
    {
      "cell_type": "markdown",
      "metadata": {
        "id": "e4iiMa20wjoU"
      },
      "source": [
        "**Your response/ short explanation:** ________HERE_________"
      ]
    },
    {
      "cell_type": "markdown",
      "metadata": {
        "id": "iQghZgwYHZmj"
      },
      "source": [
        "##**Part 4: Risk-adjusted performance evaluation [40pt]**\n",
        "\n",
        "As part of the course we considered several risk-adjusted performance evaluation measures. In this section of the assignment you are asked to compute one of them - the Sharpe ratio:\n",
        "\n",
        "\n",
        " $$Sharpe\\ ratio = \\frac{E[{r_p}-{r_f}]}{\\sqrt{[{r_p}-{r_f}]}}$$\n"
      ]
    },
    {
      "cell_type": "markdown",
      "metadata": {
        "id": "a-u4LIvxHqot"
      },
      "source": [
        "### Part 4.1. Calculating the Sharpe measure [10pt]\n",
        "\n",
        "Using previously calculated monthly stock returns and the corresponding risk-free interest rates, compute Sharpe ratios for your selected stocks for the last 1-, 3-, and 5-years. Annualise the calculated Sharpe measures and report them as values."
      ]
    },
    {
      "cell_type": "code",
      "metadata": {
        "id": "H_qSsyPL9qVg"
      },
      "source": [
        "# step 13: import required libraries\n",
        "# See the Sharpe_example.ipynb notebook in the course GitHub repository:\n",
        "# https://github.com/mscouse/TBS_investment_management/blob/main/1_labs_introduction/Sharpe_example.ipynb"
      ],
      "execution_count": null,
      "outputs": []
    },
    {
      "cell_type": "markdown",
      "metadata": {
        "id": "4eq9RyvGH1nY"
      },
      "source": [
        "### Part 4.2. Sharpe measure function [30pt]\n",
        "\n",
        "Define a new Python function `sharpe(ticker_1, ticker_2, ticker_3)` which:\n",
        "\n",
        "*  accepts 3 stock tickers as the only arguments;\n",
        "*  fetches historical daily prices for the 3 selected tickers over the last 3 years;\n",
        "*  fetches U.S. treasury bill (1-month T-Bill rates) rates over the corresponding 3 year period;\n",
        "* computes daily returns and excess returns for each stock;\n",
        "* computes daily average excess returns for each stock;\n",
        "* computes standard deviations of excess daily returns for each stock;\n",
        "* compute Sharpe ratios based on the daily average excess returns and standard deviations of excess retunrs;\n",
        "* annualises the resulting Sharpe ratio (by multiplying the daily Sharpe by $\\sqrt[2]{252}$);\n",
        "* returns the annualised Sharpe ratios for the 3 stocks.\n",
        "\n",
        "Assume that all libraries required by your function are already preinstalled and imported (i.e. do not include any `import` statements within your function). However, make sure to import all the required libraries in the code cell below, directly before the function. "
      ]
    },
    {
      "cell_type": "code",
      "metadata": {
        "id": "a3DaXGItyGIe"
      },
      "source": [
        "# step 14: install required libraries and import as needed\n",
        "\n",
        "def sharpe(ticker_1, ticker_2, ticker_3):\n",
        "  \"\"\" Provide description of what this function does.\n",
        "\n",
        "  Args:\n",
        "    ticker_1 (str): ticker for stock 1\n",
        "    ticker_2 (str): ticker for stock 2\n",
        "    ticker_3 (str): ticker for stock 3 \n",
        "  \n",
        "  Returns:\n",
        "    This function returns annualised Sharpe \n",
        "    ratios for arg tickers using last 3 years\n",
        "    of data from Yahoo finance\n",
        "\n",
        "  Notes: provide any required notes/comments here\n",
        "  \"\"\"\n",
        "\n",
        "  # YOUR CODE HERE\n",
        "  # YOUR CODE HERE\n",
        "  return # YOUR CODE HERE\n",
        "\n",
        "# execute your functions using AAPL, MSFT, and JPM as arguments"
      ],
      "execution_count": null,
      "outputs": []
    },
    {
      "cell_type": "code",
      "metadata": {
        "id": "NABBQHZzOctq"
      },
      "source": [
        "import datetime as dt\n",
        "import ffn\n",
        "\n",
        "def simple_sharpe(num_of_years, ticker='AAPL', *args):\n",
        "  \"\"\" \n",
        "  Args:\n",
        "    num_of_years (int): period to consider relative today \n",
        "    ticker (str): ticker for stock 1; default value = 'AAPL'\n",
        "    *args (str, optional): tickers for further stocks\n",
        "  \n",
        "  Returns:\n",
        "    This function returns annualised Sharpe \n",
        "    ratios for arg tickers and specified period.\n",
        "    All data are from Yahoo finance.\n",
        "  \"\"\"\n",
        "  end_date = dt.datetime.now()\n",
        "  start_date = dt.datetime(end_date.year-num_of_years, month=end_date.month, day=end_date.day)\n",
        "  tickers = [ticker, *args]\n",
        "\n",
        "  df = ffn.get(tickers, start=start_date, end=end_date)\n",
        "  ret = df.pct_change().dropna()\n",
        "  sharpe = ret.mean()/ret.std()\n",
        "  annual_sharpe = sharpe*np.sqrt(252)\n",
        "  return annual_sharpe"
      ],
      "execution_count": null,
      "outputs": []
    },
    {
      "cell_type": "code",
      "metadata": {
        "id": "dzse54VpPr3u"
      },
      "source": [
        "simple_sharpe(5, 'msft', 'jpm', 'gs', 'ko', 'aal')"
      ],
      "execution_count": null,
      "outputs": []
    },
    {
      "cell_type": "code",
      "metadata": {
        "id": "KdCXD43cVMCG"
      },
      "source": [
        "# Alternative relative date\n",
        "\n",
        "end_date = dt.datetime.now()\n",
        "num_of_years = 3\n",
        "tds = pd.Timedelta(weeks=num_of_years*52)\n",
        "\n",
        "start_date = end_date-tds\n",
        "start_date"
      ],
      "execution_count": null,
      "outputs": []
    }
  ]
}
